{
 "cells": [
  {
   "cell_type": "code",
   "execution_count": null,
   "metadata": {
    "vscode": {
     "languageId": "plaintext"
    }
   },
   "outputs": [],
   "source": [
    "!wget --no-cache -O init.py -q https://raw.githubusercontent.com/rramosp/2020.deeplearning/master/init.py\n",
    "from init import init; init(force_download=False)"
   ]
  },
  {
   "cell_type": "markdown",
   "id": "cabd8344",
   "metadata": {},
   "source": [
    "## Data frame Nuevo\n",
    "\n",
    "### Pendiente\n",
    "\n",
    "1. Generar DF completo\n",
    "2. Drop a las features no usadas. Si vamos usar RMS, drop a MAV; ZC, SSC\n",
    "3. * df_RMS Subject: rms_channel1, rms_channel2, ..., rms_channel3, grasp_label\n",
    "     * Boxplots por canal\n",
    "4. train-test split (80 - 20)\n",
    "5. model fit:\n",
    "   * SVM\n",
    "   * KNN\n",
    "   * CNN (Ultima a emplear)\n",
    "   * RF \n",
    "6. Compare metrics:\n",
    "   * Accuracy\n",
    "   * ROC\n",
    "   * F1 score\n",
    "   * F2 score \n",
    "\n",
    "**Objetivo**: \n",
    "1. Hacer esto con MAV y RMS\n",
    "2. Todas menos CNN\n",
    "\n",
    "\n"
   ]
  }
 ],
 "metadata": {
  "language_info": {
   "name": "python"
  }
 },
 "nbformat": 4,
 "nbformat_minor": 5
}
