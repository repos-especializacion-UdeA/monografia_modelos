{
 "cells": [
  {
   "cell_type": "markdown",
   "id": "ba874dd2",
   "metadata": {},
   "source": [
    "[![Open in Colab](https://colab.research.google.com/assets/colab-badge.svg)](https://colab.research.google.com/github/repos-especializacion-UdeA/monografia_modelos/blob/main/new_notebook.ipynb)"
   ]
  },
  {
   "cell_type": "code",
   "execution_count": 1,
   "id": "9b5fa07f",
   "metadata": {},
   "outputs": [
    {
     "name": "stdout",
     "output_type": "stream",
     "text": [
      "Ejecucion del notebook en entorno local\n"
     ]
    }
   ],
   "source": [
    "try:\n",
    "    import google.colab \n",
    "    !wget --no-cache -O init.py -q https://raw.githubusercontent.com/repos-especializacion-UdeA/monografia_modelos/refs/heads/main/init.py\n",
    "    from init import init; init(force_download=False)\n",
    "except ImportError:\n",
    "    print(\"Ejecucion del notebook en entorno local\")"
   ]
  },
  {
   "cell_type": "markdown",
   "id": "cb068b48",
   "metadata": {},
   "source": [
    "## 1. Librerias y configuraciones previas"
   ]
  },
  {
   "cell_type": "code",
   "execution_count": null,
   "id": "3b383ccd",
   "metadata": {},
   "outputs": [],
   "source": [
    "# Verificacion de librerias necesarias antes de empezar\n",
    "try:\n",
    "    import scipy.io\n",
    "    print(\"La librería 'scipy' está instalada y se ha importado correctamente.\")\n",
    "except ImportError:\n",
    "    print(\"La librería 'scipy' no está instalada.\")\n",
    "    print(\"Instalando 'scipy'...\")\n",
    "    !pip install scipy\n",
    "\n",
    "try:\n",
    "    import libemg\n",
    "    print(\"La librería 'libEMG' está instalada y se ha importado correctamente.\")\n",
    "except ImportError:\n",
    "    print(\"La librería 'libEMG' no está instalada.\")\n",
    "    print(\"Instalando 'libEMG'...\")\n",
    "    !pip install libemg\n",
    "\n",
    "try:\n",
    "    import imblearn\n",
    "    print(\"La librería 'imblearn' está instalada y se ha importado correctamente.\")\n",
    "except ImportError:\n",
    "    print(\"La librería 'imblearn' no está instalada.\")\n",
    "    print(\"Instalando 'imblearn'...\")\n",
    "    !pip install imblearn\n",
    "\n",
    "try:\n",
    "    import mlflow\n",
    "    print(\"La librería 'mlflow' está instalada y se ha importado correctamente.\")\n",
    "except ImportError:\n",
    "    print(\"La librería 'mlflow' no está instalada.\")\n",
    "    print(\"Instalando 'mlflow'...\")\n",
    "    !pip install mlflow"
   ]
  },
  {
   "cell_type": "markdown",
   "id": "cabd8344",
   "metadata": {},
   "source": [
    "## Data frame Nuevo\n",
    "\n",
    "### Pendiente\n",
    "\n",
    "1. Generar DF completo\n",
    "2. Drop a las features no usadas. Si vamos usar RMS, drop a MAV; ZC, SSC\n",
    "3. * df_RMS Subject: rms_channel1, rms_channel2, ..., rms_channel3, grasp_label\n",
    "     * Boxplots por canal\n",
    "4. train-test split (80 - 20)\n",
    "5. model fit:\n",
    "   * SVM\n",
    "   * KNN\n",
    "   * CNN (Ultima a emplear)\n",
    "   * RF \n",
    "6. Compare metrics:\n",
    "   * Accuracy\n",
    "   * ROC\n",
    "   * F1 score\n",
    "   * F2 score \n",
    "\n",
    "**Objetivo**: \n",
    "1. Hacer esto con MAV y RMS\n",
    "2. Todas menos CNN\n",
    "\n",
    "\n"
   ]
  }
 ],
 "metadata": {
  "kernelspec": {
   "display_name": "base",
   "language": "python",
   "name": "python3"
  },
  "language_info": {
   "codemirror_mode": {
    "name": "ipython",
    "version": 3
   },
   "file_extension": ".py",
   "mimetype": "text/x-python",
   "name": "python",
   "nbconvert_exporter": "python",
   "pygments_lexer": "ipython3",
   "version": "3.12.7"
  }
 },
 "nbformat": 4,
 "nbformat_minor": 5
}
