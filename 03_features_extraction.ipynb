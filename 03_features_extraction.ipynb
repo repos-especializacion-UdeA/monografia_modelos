{
 "cells": [
  {
   "cell_type": "markdown",
   "metadata": {},
   "source": [
    "[![Open in Colab](https://colab.research.google.com/assets/colab-badge.svg)](https://colab.research.google.com/github/repos-especializacion-UdeA/monografia_modelos/blob/main/03_features_extraction.ipynb)"
   ]
  },
  {
   "cell_type": "markdown",
   "metadata": {
    "id": "HKl7gocmd_p6"
   },
   "source": [
    "# Extracción de caracteristicas"
   ]
  },
  {
   "cell_type": "code",
   "execution_count": 2,
   "metadata": {},
   "outputs": [
    {
     "name": "stdout",
     "output_type": "stream",
     "text": [
      "Ejecucion del notebook en entorno local\n"
     ]
    }
   ],
   "source": [
    "try:\n",
    "    import google.colab \n",
    "    !wget --no-cache -O init.py -q https://raw.githubusercontent.com/repos-especializacion-UdeA/monografia_modelos/refs/heads/main/init.py\n",
    "    from init import init; init(force_download=False)\n",
    "except ImportError:\n",
    "    print(\"Ejecucion del notebook en entorno local\")"
   ]
  },
  {
   "cell_type": "markdown",
   "metadata": {},
   "source": [
    "## Objetivo a desarrollar\n",
    "\n",
    "To do..."
   ]
  },
  {
   "cell_type": "markdown",
   "metadata": {},
   "source": [
    "## Actividades\n",
    "\n",
    "To Do..."
   ]
  },
  {
   "cell_type": "markdown",
   "metadata": {
    "id": "5F5BCgCvd_p_"
   },
   "source": [
    "## 1. Librerias y configuraciones previas\n"
   ]
  },
  {
   "cell_type": "code",
   "execution_count": 1,
   "metadata": {},
   "outputs": [
    {
     "name": "stdout",
     "output_type": "stream",
     "text": [
      "La librería 'scipy' está instalada y se ha importado correctamente.\n",
      "La librería 'libEMG' está instalada y se ha importado correctamente.\n",
      "La librería 'imblearn' está instalada y se ha importado correctamente.\n"
     ]
    }
   ],
   "source": [
    "# Verificacion de librerias necesarias antes de empezar\n",
    "try:\n",
    "    import scipy.io\n",
    "    print(\"La librería 'scipy' está instalada y se ha importado correctamente.\")\n",
    "except ImportError:\n",
    "    print(\"La librería 'scipy' no está instalada.\")\n",
    "    print(\"Instalando 'scipy'...\")\n",
    "    !pip install scipy\n",
    "\n",
    "try:\n",
    "    import libemg\n",
    "    print(\"La librería 'libEMG' está instalada y se ha importado correctamente.\")\n",
    "except ImportError:\n",
    "    print(\"La librería 'libEMG' no está instalada.\")\n",
    "    print(\"Instalando 'libEMG'...\")\n",
    "    !pip install libemg\n",
    "\n",
    "try:\n",
    "    import imblearn\n",
    "    print(\"La librería 'imblearn' está instalada y se ha importado correctamente.\")\n",
    "except ImportError:\n",
    "    print(\"La librería 'imblearn' no está instalada.\")\n",
    "    print(\"Instalando 'imblearn'...\")\n",
    "    !pip install imblearn"
   ]
  },
  {
   "cell_type": "code",
   "execution_count": null,
   "metadata": {
    "colab": {
     "base_uri": "https://localhost:8080/"
    },
    "executionInfo": {
     "elapsed": 3412,
     "status": "ok",
     "timestamp": 1612389346965,
     "user": {
      "displayName": "JORGE ALONSO BEDOYA PUERTA",
      "photoUrl": "",
      "userId": "14875356627137784897"
     },
     "user_tz": 300
    },
    "id": "QFQi_2Xad_qA",
    "outputId": "7e960c7c-2e57-4de3-b021-4f0df2887a4f"
   },
   "outputs": [],
   "source": [
    "# Tratamiento de datos\n",
    "# ==============================================================================\n",
    "import pandas as pd\n",
    "import numpy as np\n",
    "\n",
    "# Almacenar en caché los resultados de funciones en el disco\n",
    "# ==============================================================================\n",
    "import joblib\n",
    "\n",
    "\n",
    "# Gestion de librerias\n",
    "# ==============================================================================\n",
    "from importlib import reload\n",
    "\n",
    "# Matemáticas y estadísticas\n",
    "# ==============================================================================\n",
    "import math\n",
    "\n",
    "# Preparación de datos\n",
    "# ==============================================================================\n",
    "from imblearn.over_sampling import RandomOverSampler\n",
    "from sklearn.neighbors import LocalOutlierFactor\n",
    "\n",
    "# Gráficos\n",
    "# ==============================================================================\n",
    "import matplotlib.pyplot as plt\n",
    "from matplotlib import style\n",
    "import seaborn as sns\n",
    "\n",
    "\n",
    "# Configuración warnings\n",
    "# ==============================================================================\n",
    "import warnings\n",
    "warnings.filterwarnings('ignore')\n",
    "\n",
    "# Formateo y estilo\n",
    "# ==============================================================================\n",
    "from IPython.display import Markdown, display\n",
    "\n",
    "# Biblioteca scipy y componentes\n",
    "# ==============================================================================\n",
    "import scipy.io\n",
    "from scipy import signal\n",
    "\n",
    "# Bliblioteca de archivos\n",
    "# ==============================================================================\n",
    "import requests\n",
    "from tqdm import tqdm\n",
    "import os\n",
    "import zipfile\n",
    "import sys\n",
    "import copy\n",
    "\n",
    "# Biblioteca libemg\n",
    "# ==============================================================================\n",
    "from libemg.data_handler import OfflineDataHandler, RegexFilter\n",
    "from libemg.utils import get_windows\n",
    "from libemg.feature_extractor import FeatureExtractor\n",
    "from libemg import filtering"
   ]
  },
  {
   "cell_type": "markdown",
   "metadata": {
    "id": "6K3wwPyUd_qB"
   },
   "source": [
    "## 2. Funciones"
   ]
  },
  {
   "cell_type": "code",
   "execution_count": 5,
   "metadata": {},
   "outputs": [],
   "source": [
    "def find_value_ranges(arr, value):\n",
    "    \"\"\"\n",
    "    Encuentra los rangos contiguos donde un valor específico aparece en un arreglo.\n",
    "\n",
    "    Este método recorre el arreglo de entrada y detecta bloques consecutivos \n",
    "    donde el valor coincide con el especificado, retornando las posiciones \n",
    "    de inicio y fin de cada uno de esos bloques.\n",
    "\n",
    "    Parameters\n",
    "    ----------\n",
    "    arr : array-like\n",
    "        Arreglo de entrada, puede ser una lista o un `numpy.ndarray`.\n",
    "    value : int or float\n",
    "        Valor que se desea buscar de forma contigua en el arreglo.\n",
    "\n",
    "    Returns\n",
    "    -------\n",
    "    list of tuple of int\n",
    "        Lista de tuplas (inicio, fin) indicando los índices de cada bloque contiguo \n",
    "        donde `value` aparece. Los índices son inclusivos.\n",
    "\n",
    "    Examples\n",
    "    --------\n",
    "    >>> find_value_ranges([1, 2, 2, 3, 2, 2, 2, 4], 2)\n",
    "    [(1, 2), (4, 6)]\n",
    "\n",
    "    >>> find_value_ranges([5, 5, 5, 1, 2, 3], 5)\n",
    "    [(0, 2)]\n",
    "    \"\"\"\n",
    "    arr = np.asarray(arr)\n",
    "    ranges = []\n",
    "    in_range = False\n",
    "\n",
    "    for i, val in enumerate(arr):\n",
    "        if val == value and not in_range:\n",
    "            start = i\n",
    "            in_range = True\n",
    "        elif val != value and in_range:\n",
    "            end = i - 1\n",
    "            ranges.append((start, end))\n",
    "            in_range = False\n",
    "\n",
    "    # Si termina en un bloque del valor\n",
    "    if in_range:\n",
    "        ranges.append((start, len(arr) - 1))\n",
    "\n",
    "    return ranges"
   ]
  },
  {
   "cell_type": "code",
   "execution_count": 12,
   "metadata": {},
   "outputs": [],
   "source": [
    "def concatenar_matrices_con_clave(diccionario_matrices):\n",
    "    \"\"\"\n",
    "    Concatena verticalmente matrices almacenadas en un diccionario,\n",
    "    agregando una columna con el valor de la clave como etiqueta.\n",
    "\n",
    "    Para cada par (clave, matriz) en el diccionario, se antepone una columna que contiene \n",
    "    el valor entero de la clave repetido en cada fila. Las matrices resultantes se concatenan \n",
    "    verticalmente en una sola matriz final.\n",
    "\n",
    "    Parameters\n",
    "    ----------\n",
    "    diccionario_matrices : dict of str to numpy.ndarray\n",
    "        Diccionario cuyas claves son cadenas de dígitos (por ejemplo: '1', '2', '3') y cuyos\n",
    "        valores son matrices NumPy de igual número de columnas. Cada matriz representa un bloque \n",
    "        de datos asociado a una clase o grupo distinto.\n",
    "\n",
    "    Returns\n",
    "    -------\n",
    "    numpy.ndarray\n",
    "        Matriz resultante de concatenar todas las matrices, con una columna adicional al principio\n",
    "        que contiene la etiqueta de clase correspondiente a cada fila (según la clave del diccionario).\n",
    "\n",
    "    Raises\n",
    "    ------\n",
    "    ValueError\n",
    "        Si alguna matriz no tiene el mismo número de columnas que las demás.\n",
    "\n",
    "    Examples\n",
    "    --------\n",
    "    >>> d = {\n",
    "    ...     '1': np.array([[1, 2], [3, 4]]),\n",
    "    ...     '2': np.array([[5, 6]])\n",
    "    ... }\n",
    "    >>> concatenar_matrices_con_clave(d)\n",
    "    array([[1, 1, 2],\n",
    "           [1, 3, 4],\n",
    "           [2, 5, 6]])\n",
    "    \"\"\"\n",
    "    matrices_modificadas = []\n",
    "    n_columnas = None\n",
    "\n",
    "    for k, matriz in diccionario_matrices.items():\n",
    "        # Validar que todas las matrices tengan el mismo número de columnas\n",
    "        if n_columnas is None:\n",
    "            n_columnas = matriz.shape[1]\n",
    "        elif matriz.shape[1] != n_columnas:\n",
    "            raise ValueError(\"Todas las matrices deben tener el mismo número de columnas.\")\n",
    "\n",
    "        clave_int = int(k)\n",
    "        n_filas = matriz.shape[0]\n",
    "\n",
    "        # Crear una columna con el valor de la clave\n",
    "        columna_clave = np.full((n_filas, 1), clave_int)\n",
    "\n",
    "        # Añadir la etiqueta como primera columna\n",
    "        matriz_modificada = np.hstack((columna_clave, matriz))\n",
    "        matrices_modificadas.append(matriz_modificada)\n",
    "\n",
    "    # Concatenar todas las matrices resultantes\n",
    "    return np.concatenate(matrices_modificadas, axis=0)"
   ]
  },
  {
   "cell_type": "code",
   "execution_count": 63,
   "metadata": {},
   "outputs": [],
   "source": [
    "def segmentate_data_base(data, window_size, window_increment):\n",
    "    \"\"\"\n",
    "    Segmenta múltiples conjuntos de datos en ventanas de tamaño fijo con un desplazamiento especificado.\n",
    "\n",
    "    Para cada conjunto de datos contenido en el diccionario `data`, esta función aplica una segmentación\n",
    "    basada en ventanas deslizantes. Cada ventana tiene tamaño `window_size` y se desplaza `window_increment`\n",
    "    muestras entre cada segmento consecutivo.\n",
    "\n",
    "    Parameters\n",
    "    ----------\n",
    "    data : dict of str to numpy.ndarray\n",
    "        Diccionario donde las claves identifican subconjuntos de datos (por ejemplo, sujetos o ejercicios),\n",
    "        y los valores son matrices NumPy 2D a segmentar. Cada matriz debe tener forma (n_muestras, n_características).\n",
    "    window_size : int\n",
    "        Tamaño (en número de muestras) de cada ventana.\n",
    "    window_increment : int\n",
    "        Número de muestras que avanza la ventana en cada iteración (desplazamiento).\n",
    "\n",
    "    Returns\n",
    "    -------\n",
    "    dict of str to numpy.ndarray\n",
    "        Diccionario con la misma estructura de claves que el original, pero donde cada valor es una matriz\n",
    "        que contiene las ventanas generadas a partir del conjunto original.\n",
    "\n",
    "    Examples\n",
    "    --------\n",
    "    >>> data = {\n",
    "    ...     \"1\": np.random.rand(1000, 10),\n",
    "    ...     \"2\": np.random.rand(1200, 10)\n",
    "    ... }\n",
    "    >>> segmentate_data_base(data, window_size=200, window_increment=100).keys()\n",
    "    dict_keys(['1', '2'])\n",
    "    \"\"\"\n",
    "    # Aplicar segmentación por ventanas para cada subconjunto de datos en el diccionario\n",
    "    windows_data = {\n",
    "        key: get_windows(subset_data, window_size, window_increment)\n",
    "        for key, subset_data in data.items()\n",
    "    }\n",
    "\n",
    "    return windows_data\n"
   ]
  },
  {
   "cell_type": "code",
   "execution_count": 71,
   "metadata": {},
   "outputs": [],
   "source": [
    "def get_features(data, feature_list, window_size=30, window_increment=20):\n",
    "    \"\"\"\n",
    "    Extrae características de señales EMG segmentadas en ventanas y asigna etiquetas por ventana.\n",
    "\n",
    "    Esta función realiza los siguientes pasos:\n",
    "    1. Segmenta los datos por ventana.\n",
    "    2. Separa los canales EMG (primeros 10) y el canal de estímulo (índice 10).\n",
    "    3. Extrae las características especificadas mediante FeatureExtractor.\n",
    "    4. Asigna etiquetas a cada ventana si todos los valores del estímulo son iguales.\n",
    "    5. Concatena las características extraídas con sus respectivas etiquetas.\n",
    "\n",
    "    Parameters\n",
    "    ----------\n",
    "    data : dict of str to numpy.ndarray\n",
    "        Diccionario donde cada clave representa un grupo o sujeto, y cada valor es una matriz de datos \n",
    "        EMG con forma (n_muestras, n_canales), incluyendo el canal de estímulo en la posición 10.\n",
    "    feature_list : list of str\n",
    "        Lista de nombres de características a extraer, compatibles con FeatureExtractor.\n",
    "    window_size : int, optional\n",
    "        Tamaño de cada ventana deslizante en número de muestras (por defecto 30).\n",
    "    window_increment : int, optional\n",
    "        Número de muestras que avanza cada ventana (por defecto 20).\n",
    "\n",
    "    Returns\n",
    "    -------\n",
    "    dict of str to numpy.ndarray\n",
    "        Diccionario con los datos procesados. Cada valor es una matriz donde:\n",
    "        - Las columnas corresponden a las características extraídas.\n",
    "        - La última columna contiene la etiqueta (`restimulus`) por ventana.\n",
    "          Si los valores de estímulo dentro de una ventana no son constantes, se marca como -1.\n",
    "\n",
    "    Notes\n",
    "    -----\n",
    "    - Se asume que los primeros 10 canales corresponden a señales EMG y el canal 10 (índice 10) es el estímulo.\n",
    "    - Las etiquetas por ventana solo se asignan si todos los valores del canal de estímulo son iguales.\n",
    "\n",
    "    Examples\n",
    "    --------\n",
    "    >>> data = {'1': np.random.rand(1000, 11)}\n",
    "    >>> features = get_features(data, ['mean', 'std'])\n",
    "    >>> features['1'].shape\n",
    "    (num_ventanas, num_features + 1)\n",
    "    \"\"\"\n",
    "    # Paso 1: Segmentar los datos por ventana\n",
    "    windows_data = segmentate_data_base(data, window_size, window_increment)\n",
    "\n",
    "    emg_data = {}\n",
    "    restimulus_data = {}\n",
    "\n",
    "    # Paso 2: Separar canales EMG y canal de estímulo (canal 10)\n",
    "    for key, windows in windows_data.items():\n",
    "        emg_data[key] = windows[:, :10, :]      # Primeros 10 canales: señales EMG\n",
    "        restimulus_data[key] = windows[:, 10, :]  # Canal 10: etiquetas de estímulo\n",
    "\n",
    "    # Paso 3: Inicializar extractor de características\n",
    "    fe = FeatureExtractor()\n",
    "    features_data = {}\n",
    "\n",
    "    # Extraer características para cada sujeto\n",
    "    for key, emg in emg_data.items():\n",
    "        features_data[key] = fe.extract_features(feature_list, emg)\n",
    "\n",
    "    # Paso 4: Procesar etiquetas de estímulo por ventana\n",
    "    processed_restimulus_data = {}\n",
    "    for key, stim in restimulus_data.items():\n",
    "        # Etiqueta válida solo si todos los valores dentro de la ventana son iguales\n",
    "        processed_restimulus_data[key] = np.where(\n",
    "            np.all(stim == stim[:, [0]], axis=1),\n",
    "            stim[:, 0],\n",
    "            -1\n",
    "        )\n",
    "\n",
    "    # Paso 5: Concatenar características y etiquetas en una sola matriz por sujeto\n",
    "    concatenated_data = {}\n",
    "    for key in features_data:\n",
    "        feature_arrays = []\n",
    "        for feature in feature_list:\n",
    "            if feature in features_data[key]:\n",
    "                feature_arrays.append(features_data[key][feature])\n",
    "        \n",
    "        labels = processed_restimulus_data[key].reshape(-1, 1)\n",
    "        concatenated_data[key] = np.hstack(feature_arrays + [labels])\n",
    "\n",
    "    return concatenated_data\n"
   ]
  },
  {
   "cell_type": "code",
   "execution_count": null,
   "metadata": {},
   "outputs": [],
   "source": [
    "def save_features_to_csv(features_dict, feature_list, output_dir, label_column_name=\"label\"):\n",
    "    \"\"\"\n",
    "    Guarda los datos de características y etiquetas en archivos CSV, uno por sujeto.\n",
    "\n",
    "    Cada archivo generado contiene una tabla con columnas nombradas automáticamente a partir \n",
    "    de los nombres de características proporcionados, y una columna final que contiene la etiqueta \n",
    "    por ventana (por ejemplo, clase o tipo de estímulo).\n",
    "\n",
    "    Parameters\n",
    "    ----------\n",
    "    features_dict : dict of str to numpy.ndarray\n",
    "        Diccionario generado por `get_features`, donde cada valor es una matriz de forma\n",
    "        (n_ventanas, n_features + 1). La última columna debe ser la etiqueta por ventana.\n",
    "    feature_list : list of str\n",
    "        Lista de nombres de características utilizadas. Se asume que las características están\n",
    "        organizadas en bloques por tipo dentro de cada ventana.\n",
    "    output_dir : str\n",
    "        Ruta del directorio donde se guardarán los archivos CSV.\n",
    "    label_column_name : str, optional\n",
    "        Nombre que se asignará a la última columna (etiqueta de clase). Por defecto: \"label\".\n",
    "\n",
    "    Returns\n",
    "    -------\n",
    "    None\n",
    "        Esta función no retorna nada. Genera archivos CSV en el directorio especificado.\n",
    "\n",
    "    Raises\n",
    "    ------\n",
    "    ValueError\n",
    "        Si alguna entrada del diccionario no es un arreglo NumPy válido.\n",
    "\n",
    "    Examples\n",
    "    --------\n",
    "    >>> save_features_to_csv(features_dict, ['mean', 'std'], './output')\n",
    "    # Crea archivos como: ./output/sujeto_1_features.csv\n",
    "    \"\"\"\n",
    "    # Crear el directorio de salida si no existe\n",
    "    os.makedirs(output_dir, exist_ok=True)\n",
    "\n",
    "    for subject_id, data_array in features_dict.items():\n",
    "        # Validar que el contenido sea una matriz NumPy\n",
    "        if not isinstance(data_array, np.ndarray):\n",
    "            raise ValueError(f\"El valor para el sujeto {subject_id} no es un array NumPy válido.\")\n",
    "\n",
    "        # Determinar el número total de características (excluyendo la etiqueta)\n",
    "        n_total_features = data_array.shape[1] - 1\n",
    "        n_feats_per_type = n_total_features // len(feature_list)\n",
    "\n",
    "        # Generar nombres de columnas para cada tipo de característica\n",
    "        column_names = []\n",
    "        for feat in feature_list:\n",
    "            for i in range(n_feats_per_type):\n",
    "                column_names.append(f\"{feat}_f{i}\")\n",
    "\n",
    "        # Agregar la columna de etiqueta\n",
    "        column_names.append(label_column_name)\n",
    "\n",
    "        # Crear un DataFrame y exportarlo\n",
    "        df = pd.DataFrame(data_array, columns=column_names)\n",
    "        filename = os.path.join(output_dir, f\"sujeto_{subject_id}_features.csv\")\n",
    "        df.to_csv(filename, index=False)\n",
    "        print(f\"Guardado: {filename}\")\n"
   ]
  },
  {
   "cell_type": "markdown",
   "metadata": {},
   "source": [
    "## 3. Variables de entorno "
   ]
  },
  {
   "cell_type": "code",
   "execution_count": 7,
   "metadata": {},
   "outputs": [
    {
     "name": "stdout",
     "output_type": "stream",
     "text": [
      "Directorio de trabajo: ./\n",
      "Directorio de datos: ./local/data/\n",
      "Directorio de datos crudos: ./local/data/raw\n",
      "Directorio de datos crudos (numpy): ./local/data/raw_numpy\n",
      "Directorio de datos crudos (subconjunto): ./local/data/raw_subset\n",
      "Directorio de datos filtrados (subconjunto): ./local/data/filtered_subset\n",
      "Directorio de datos de características (subconjunto): ./local/data/features_subset\n"
     ]
    }
   ],
   "source": [
    "ROOT_DIR =  './'\n",
    "DATA_DIR =  ROOT_DIR + 'local/data/'\n",
    "if not os.path.exists(ROOT_DIR):\n",
    "    os.makedirs(ROOT_DIR)    \n",
    "RAW_DATA_DIR = DATA_DIR + 'raw'\n",
    "if not os.path.exists(RAW_DATA_DIR):\n",
    "    os.makedirs(RAW_DATA_DIR)\n",
    "RAW_DATA_DIR_NPY = DATA_DIR + 'raw_numpy'\n",
    "if not os.path.exists(RAW_DATA_DIR_NPY):\n",
    "    os.makedirs(RAW_DATA_DIR_NPY)\n",
    "RAW_SUBSET_DATA_DIR = DATA_DIR + 'raw_subset'\n",
    "if not os.path.exists(RAW_SUBSET_DATA_DIR):\n",
    "    os.makedirs(RAW_SUBSET_DATA_DIR)\n",
    "FILTERED_SUBSET_DATA_DIR = DATA_DIR + 'filtered_subset'\n",
    "if not os.path.exists(FILTERED_SUBSET_DATA_DIR):\n",
    "    os.makedirs(FILTERED_SUBSET_DATA_DIR)\n",
    "FEATURES_SUBSET_DATA_DIR = DATA_DIR + 'features_subset'\n",
    "if not os.path.exists(FEATURES_SUBSET_DATA_DIR):\n",
    "    os.makedirs(FEATURES_SUBSET_DATA_DIR)\n",
    "\n",
    "print(\"Directorio de trabajo:\", ROOT_DIR)\n",
    "print(\"Directorio de datos:\", DATA_DIR)\n",
    "print(\"Directorio de datos crudos:\", RAW_DATA_DIR)\n",
    "print(\"Directorio de datos crudos (numpy):\", RAW_DATA_DIR_NPY)\n",
    "print(\"Directorio de datos crudos (subconjunto):\", RAW_SUBSET_DATA_DIR)\n",
    "print(\"Directorio de datos filtrados (subconjunto):\", FILTERED_SUBSET_DATA_DIR)\n",
    "print(\"Directorio de datos de características (subconjunto):\", FEATURES_SUBSET_DATA_DIR)"
   ]
  },
  {
   "cell_type": "markdown",
   "metadata": {
    "id": "ZEYdiUrpd_qC"
   },
   "source": [
    "## 4. Carga del dataset con los datos filtrados"
   ]
  },
  {
   "cell_type": "markdown",
   "metadata": {},
   "source": [
    "En nuestro analisis, solo nos va a interesar los datos de las columnas:\n",
    "* **`emg`**: Señales EMG superficiales tomadas de los 10 electronos.\n",
    "* **`rerepetition`**: Repetición de la postura de la mano (ejercicio) realizado. Cada postura se repetira 10 veces.\n",
    "* **`restimulus`**: Postura manual (ejercicio) realizada.\n",
    "\n",
    "Es importante anotar que los datos cargados son matrices cuyas columnas se relacionan con la información de la siguiente forma:\n",
    "\n",
    "```\n",
    "[ emg | restimulus | rerepetition ] = [ 0:9 | 10 | 11 ]\n",
    "```"
   ]
  },
  {
   "cell_type": "markdown",
   "metadata": {},
   "source": [
    "### 4.1. Carga y combinacion de los datos filtrados"
   ]
  },
  {
   "cell_type": "markdown",
   "metadata": {},
   "source": [
    "Los datos de cada sujeto se cargan y combianan en el diccionario `raw_data`"
   ]
  },
  {
   "cell_type": "code",
   "execution_count": 8,
   "metadata": {},
   "outputs": [
    {
     "name": "stdout",
     "output_type": "stream",
     "text": [
      "Archivo cargado: filtered_subset_s10_p1_23_E3.npy\n",
      "Archivo cargado: filtered_subset_s11_p1_23_E3.npy\n",
      "Archivo cargado: filtered_subset_s12_p1_23_E3.npy\n",
      "Archivo cargado: filtered_subset_s13_p1_23_E3.npy\n",
      "Archivo cargado: filtered_subset_s14_p1_23_E3.npy\n",
      "Archivo cargado: filtered_subset_s15_p1_23_E3.npy\n",
      "Archivo cargado: filtered_subset_s16_p1_23_E3.npy\n",
      "Archivo cargado: filtered_subset_s17_p1_23_E3.npy\n",
      "Archivo cargado: filtered_subset_s18_p1_23_E3.npy\n",
      "Archivo cargado: filtered_subset_s19_p1_23_E3.npy\n",
      "Archivo cargado: filtered_subset_s1_p1_23_E3.npy\n",
      "Archivo cargado: filtered_subset_s20_p1_23_E3.npy\n",
      "Archivo cargado: filtered_subset_s21_p1_23_E3.npy\n",
      "Archivo cargado: filtered_subset_s22_p1_23_E3.npy\n",
      "Archivo cargado: filtered_subset_s23_p1_23_E3.npy\n",
      "Archivo cargado: filtered_subset_s24_p1_23_E3.npy\n",
      "Archivo cargado: filtered_subset_s25_p1_23_E3.npy\n",
      "Archivo cargado: filtered_subset_s26_p1_23_E3.npy\n",
      "Archivo cargado: filtered_subset_s27_p1_23_E3.npy\n",
      "Archivo cargado: filtered_subset_s2_p1_23_E3.npy\n",
      "Archivo cargado: filtered_subset_s3_p1_23_E3.npy\n",
      "Archivo cargado: filtered_subset_s4_p1_23_E3.npy\n",
      "Archivo cargado: filtered_subset_s5_p1_23_E3.npy\n",
      "Archivo cargado: filtered_subset_s6_p1_23_E3.npy\n",
      "Archivo cargado: filtered_subset_s7_p1_23_E3.npy\n",
      "Archivo cargado: filtered_subset_s8_p1_23_E3.npy\n",
      "Archivo cargado: filtered_subset_s9_p1_23_E3.npy\n"
     ]
    }
   ],
   "source": [
    "# Listar y cargar los archivos .npy del directorio PROCESSED_DATA_DIR\n",
    "npy_files = [f for f in os.listdir(FILTERED_SUBSET_DATA_DIR) if f.endswith('.npy')]\n",
    "\n",
    "data = {}\n",
    "for file in npy_files:\n",
    "    file_path = os.path.join(FILTERED_SUBSET_DATA_DIR, file)\n",
    "    sub_i = file.split('_s')[-1].split('.')[0]\n",
    "    sub_i = sub_i.split('_')[0]\n",
    "    data[sub_i] = np.load(file_path)\n",
    "    print(f\"Archivo cargado: {file}\")"
   ]
  },
  {
   "cell_type": "markdown",
   "metadata": {},
   "source": [
    "Se inspecciona la carga de los datos"
   ]
  },
  {
   "cell_type": "code",
   "execution_count": 9,
   "metadata": {},
   "outputs": [
    {
     "data": {
      "text/plain": [
       "27"
      ]
     },
     "execution_count": 9,
     "metadata": {},
     "output_type": "execute_result"
    }
   ],
   "source": [
    "len(data)  # Mostrar la cantidad de archivos cargados"
   ]
  },
  {
   "cell_type": "markdown",
   "metadata": {},
   "source": [
    "## 5. Extracción de caracteristicas"
   ]
  },
  {
   "cell_type": "markdown",
   "metadata": {},
   "source": [
    "### 5.1. Concatenación de todos los datos en un unico dataframe\n",
    "\n",
    "Se pasan todos los datos del diccionario en el que se cargaron los datos  (`raw_data`) a un unica matriz para facilitar la analitica de estos. Esta matriz tendra como primera columna el numero del sujeto, las columnas de esta matriz seran:\n",
    "\n",
    "\n",
    "```\n",
    "[ subject | emg | restimulus | rerepetition ] = [ 0 | 1:10 | 11 | 12 ]\n",
    "```"
   ]
  },
  {
   "cell_type": "markdown",
   "metadata": {},
   "source": [
    "Invocación de la función"
   ]
  },
  {
   "cell_type": "code",
   "execution_count": 13,
   "metadata": {},
   "outputs": [
    {
     "data": {
      "text/plain": [
       "(432383, 13)"
      ]
     },
     "execution_count": 13,
     "metadata": {},
     "output_type": "execute_result"
    }
   ],
   "source": [
    "all_users_data = concatenar_matrices_con_clave(data)\n",
    "all_users_data.shape  # Mostrar la forma de los datos concatenados"
   ]
  },
  {
   "cell_type": "markdown",
   "metadata": {},
   "source": [
    "Se seleccinan de manera aleatoria 5 muestras para verificar consistencia de la matrix:"
   ]
  },
  {
   "cell_type": "code",
   "execution_count": 15,
   "metadata": {},
   "outputs": [
    {
     "name": "stdout",
     "output_type": "stream",
     "text": [
      "[[1.50000000e+01 2.47206765e-01 1.84232274e-02 2.56200664e-03\n",
      "  2.42554418e-03 2.40346181e-03 2.41145237e-03 2.36958153e-03\n",
      "  2.36452485e-01 2.40442829e-03 7.71330627e-02 0.00000000e+00\n",
      "  0.00000000e+00]\n",
      " [1.40000000e+01 6.80642527e-02 2.43229788e-03 2.42544982e-03\n",
      "  2.33120610e-03 2.50350455e-02 1.17995347e-01 2.96463241e-02\n",
      "  7.82610172e-02 7.09972797e-02 4.56073390e-03 0.00000000e+00\n",
      "  0.00000000e+00]\n",
      " [6.00000000e+00 4.35673413e-01 1.12566527e-01 2.56489143e-01\n",
      "  8.18206842e-02 1.87314992e-02 6.53236696e-02 8.28631178e-01\n",
      "  6.25170503e-01 2.71146532e-01 7.14972621e-01 1.00000000e+00\n",
      "  2.00000000e+00]\n",
      " [2.50000000e+01 3.60193876e-03 9.94904726e-01 5.13089598e-01\n",
      "  1.90411301e-01 3.34401486e-01 2.36605412e+00 4.11782138e+00\n",
      "  1.56906757e+00 2.49840907e-01 6.50947659e-01 2.30000000e+01\n",
      "  9.00000000e+00]\n",
      " [3.00000000e+00 4.42247557e-01 6.42964899e-01 9.10987993e-01\n",
      "  2.24553436e-02 2.84582707e-03 3.83436322e-03 9.28606750e-02\n",
      "  5.63098221e-01 5.09699640e-02 1.13787911e-01 2.30000000e+01\n",
      "  6.00000000e+00]]\n"
     ]
    }
   ],
   "source": [
    "# Seleccionar una muestra aleatoria de 20 filas\n",
    "SAMPLES = 5\n",
    "sample_data = all_users_data[np.random.choice(all_users_data.shape[0], SAMPLES, replace=False)]\n",
    "\n",
    "# Mostrar la muestra seleccionada\n",
    "print(sample_data)"
   ]
  },
  {
   "cell_type": "code",
   "execution_count": 18,
   "metadata": {},
   "outputs": [
    {
     "data": {
      "text/html": [
       "<div>\n",
       "<style scoped>\n",
       "    .dataframe tbody tr th:only-of-type {\n",
       "        vertical-align: middle;\n",
       "    }\n",
       "\n",
       "    .dataframe tbody tr th {\n",
       "        vertical-align: top;\n",
       "    }\n",
       "\n",
       "    .dataframe thead th {\n",
       "        text-align: right;\n",
       "    }\n",
       "</style>\n",
       "<table border=\"1\" class=\"dataframe\">\n",
       "  <thead>\n",
       "    <tr style=\"text-align: right;\">\n",
       "      <th></th>\n",
       "      <th>subject</th>\n",
       "      <th>emg_1</th>\n",
       "      <th>emg_2</th>\n",
       "      <th>emg_3</th>\n",
       "      <th>emg_4</th>\n",
       "      <th>emg_5</th>\n",
       "      <th>emg_6</th>\n",
       "      <th>emg_7</th>\n",
       "      <th>emg_8</th>\n",
       "      <th>emg_9</th>\n",
       "      <th>emg_10</th>\n",
       "      <th>restimulus</th>\n",
       "      <th>rerepetition</th>\n",
       "    </tr>\n",
       "  </thead>\n",
       "  <tbody>\n",
       "    <tr>\n",
       "      <th>0</th>\n",
       "      <td>10.0</td>\n",
       "      <td>0.247590</td>\n",
       "      <td>0.101654</td>\n",
       "      <td>-0.004054</td>\n",
       "      <td>0.002397</td>\n",
       "      <td>0.002365</td>\n",
       "      <td>0.002183</td>\n",
       "      <td>-0.005319</td>\n",
       "      <td>-0.027150</td>\n",
       "      <td>0.002326</td>\n",
       "      <td>-0.021768</td>\n",
       "      <td>0.0</td>\n",
       "      <td>0.0</td>\n",
       "    </tr>\n",
       "    <tr>\n",
       "      <th>1</th>\n",
       "      <td>10.0</td>\n",
       "      <td>0.242329</td>\n",
       "      <td>0.098765</td>\n",
       "      <td>-0.004391</td>\n",
       "      <td>0.002396</td>\n",
       "      <td>0.002362</td>\n",
       "      <td>0.002181</td>\n",
       "      <td>-0.005193</td>\n",
       "      <td>-0.027887</td>\n",
       "      <td>0.002318</td>\n",
       "      <td>-0.022504</td>\n",
       "      <td>0.0</td>\n",
       "      <td>0.0</td>\n",
       "    </tr>\n",
       "    <tr>\n",
       "      <th>2</th>\n",
       "      <td>10.0</td>\n",
       "      <td>0.237068</td>\n",
       "      <td>0.095835</td>\n",
       "      <td>-0.004730</td>\n",
       "      <td>0.002395</td>\n",
       "      <td>0.002359</td>\n",
       "      <td>0.002180</td>\n",
       "      <td>-0.005026</td>\n",
       "      <td>-0.028523</td>\n",
       "      <td>0.002309</td>\n",
       "      <td>-0.023206</td>\n",
       "      <td>0.0</td>\n",
       "      <td>0.0</td>\n",
       "    </tr>\n",
       "    <tr>\n",
       "      <th>3</th>\n",
       "      <td>10.0</td>\n",
       "      <td>0.231825</td>\n",
       "      <td>0.092875</td>\n",
       "      <td>-0.005072</td>\n",
       "      <td>0.002394</td>\n",
       "      <td>0.002356</td>\n",
       "      <td>0.002179</td>\n",
       "      <td>-0.004812</td>\n",
       "      <td>-0.029049</td>\n",
       "      <td>0.002300</td>\n",
       "      <td>-0.023867</td>\n",
       "      <td>0.0</td>\n",
       "      <td>0.0</td>\n",
       "    </tr>\n",
       "    <tr>\n",
       "      <th>4</th>\n",
       "      <td>10.0</td>\n",
       "      <td>0.226615</td>\n",
       "      <td>0.089892</td>\n",
       "      <td>-0.005416</td>\n",
       "      <td>0.002392</td>\n",
       "      <td>0.002353</td>\n",
       "      <td>0.002180</td>\n",
       "      <td>-0.004550</td>\n",
       "      <td>-0.029451</td>\n",
       "      <td>0.002291</td>\n",
       "      <td>-0.024482</td>\n",
       "      <td>0.0</td>\n",
       "      <td>0.0</td>\n",
       "    </tr>\n",
       "  </tbody>\n",
       "</table>\n",
       "</div>"
      ],
      "text/plain": [
       "   subject     emg_1     emg_2     emg_3     emg_4     emg_5     emg_6  \\\n",
       "0     10.0  0.247590  0.101654 -0.004054  0.002397  0.002365  0.002183   \n",
       "1     10.0  0.242329  0.098765 -0.004391  0.002396  0.002362  0.002181   \n",
       "2     10.0  0.237068  0.095835 -0.004730  0.002395  0.002359  0.002180   \n",
       "3     10.0  0.231825  0.092875 -0.005072  0.002394  0.002356  0.002179   \n",
       "4     10.0  0.226615  0.089892 -0.005416  0.002392  0.002353  0.002180   \n",
       "\n",
       "      emg_7     emg_8     emg_9    emg_10  restimulus  rerepetition  \n",
       "0 -0.005319 -0.027150  0.002326 -0.021768         0.0           0.0  \n",
       "1 -0.005193 -0.027887  0.002318 -0.022504         0.0           0.0  \n",
       "2 -0.005026 -0.028523  0.002309 -0.023206         0.0           0.0  \n",
       "3 -0.004812 -0.029049  0.002300 -0.023867         0.0           0.0  \n",
       "4 -0.004550 -0.029451  0.002291 -0.024482         0.0           0.0  "
      ]
     },
     "execution_count": 18,
     "metadata": {},
     "output_type": "execute_result"
    }
   ],
   "source": [
    "# Crear un DataFrame a partir de all_users_raw_data\n",
    "columns = ['subject'] + [f'emg_{i}' for i in range(1, 11)] + ['restimulus', 'rerepetition']\n",
    "df_all_users = pd.DataFrame(all_users_data, columns=columns)\n",
    "\n",
    "# Mostrar las primeras filas del DataFrame\n",
    "df_all_users.head()"
   ]
  },
  {
   "cell_type": "markdown",
   "metadata": {},
   "source": [
    "### 5.2. Descripción general del dataframe"
   ]
  },
  {
   "cell_type": "code",
   "execution_count": 19,
   "metadata": {},
   "outputs": [
    {
     "data": {
      "text/plain": [
       "(432383, 13)"
      ]
     },
     "execution_count": 19,
     "metadata": {},
     "output_type": "execute_result"
    }
   ],
   "source": [
    "df_all_users.shape  # Mostrar la forma de los datos concatenados"
   ]
  },
  {
   "cell_type": "code",
   "execution_count": 20,
   "metadata": {},
   "outputs": [
    {
     "name": "stdout",
     "output_type": "stream",
     "text": [
      "<class 'pandas.core.frame.DataFrame'>\n",
      "RangeIndex: 432383 entries, 0 to 432382\n",
      "Data columns (total 13 columns):\n",
      " #   Column        Non-Null Count   Dtype  \n",
      "---  ------        --------------   -----  \n",
      " 0   subject       432383 non-null  float64\n",
      " 1   emg_1         432383 non-null  float64\n",
      " 2   emg_2         432383 non-null  float64\n",
      " 3   emg_3         432383 non-null  float64\n",
      " 4   emg_4         432383 non-null  float64\n",
      " 5   emg_5         432383 non-null  float64\n",
      " 6   emg_6         432383 non-null  float64\n",
      " 7   emg_7         432383 non-null  float64\n",
      " 8   emg_8         432383 non-null  float64\n",
      " 9   emg_9         432383 non-null  float64\n",
      " 10  emg_10        432383 non-null  float64\n",
      " 11  restimulus    432383 non-null  float64\n",
      " 12  rerepetition  432383 non-null  float64\n",
      "dtypes: float64(13)\n",
      "memory usage: 42.9 MB\n"
     ]
    }
   ],
   "source": [
    "df_all_users.info()"
   ]
  },
  {
   "cell_type": "markdown",
   "metadata": {},
   "source": [
    "Como hay columnas que tienen que ver con datos categoricos y el dataframe original tiene todos los datos numericos, se hace la conversión de las columnas categoricas cargadas como numericas a datos categoricos."
   ]
  },
  {
   "cell_type": "code",
   "execution_count": 21,
   "metadata": {
    "vscode": {
     "languageId": "ruby"
    }
   },
   "outputs": [
    {
     "name": "stdout",
     "output_type": "stream",
     "text": [
      "<class 'pandas.core.frame.DataFrame'>\n",
      "RangeIndex: 432383 entries, 0 to 432382\n",
      "Data columns (total 13 columns):\n",
      " #   Column        Non-Null Count   Dtype   \n",
      "---  ------        --------------   -----   \n",
      " 0   subject       432383 non-null  category\n",
      " 1   emg_1         432383 non-null  float64 \n",
      " 2   emg_2         432383 non-null  float64 \n",
      " 3   emg_3         432383 non-null  float64 \n",
      " 4   emg_4         432383 non-null  float64 \n",
      " 5   emg_5         432383 non-null  float64 \n",
      " 6   emg_6         432383 non-null  float64 \n",
      " 7   emg_7         432383 non-null  float64 \n",
      " 8   emg_8         432383 non-null  float64 \n",
      " 9   emg_9         432383 non-null  float64 \n",
      " 10  emg_10        432383 non-null  float64 \n",
      " 11  restimulus    432383 non-null  category\n",
      " 12  rerepetition  432383 non-null  category\n",
      "dtypes: category(3), float64(10)\n",
      "memory usage: 34.2 MB\n"
     ]
    }
   ],
   "source": [
    "# Convertir las columnas en categóricas\n",
    "df_all_users['subject'] = df_all_users['subject'].astype('category')\n",
    "df_all_users['restimulus'] = df_all_users['restimulus'].astype('category')\n",
    "df_all_users['rerepetition'] = df_all_users['rerepetition'].astype('category')\n",
    "\n",
    "# Verificar los cambios\n",
    "df_all_users.info()"
   ]
  },
  {
   "cell_type": "markdown",
   "metadata": {},
   "source": [
    "### 5.3. Segmentación\n",
    "\n",
    "La segmentación consiste en extraer porciones de la señal mediante ventanas de tiempo (que pueden ir sobrelapadas o no) para realizar una analisis local mas focalizado. La siguiente figura resume el procedimiento:\n",
    "\n",
    "![overlap_win](overlap_window.png)"
   ]
  },
  {
   "cell_type": "markdown",
   "metadata": {},
   "source": [
    "La segmentación se realiza tomando ventanas de 30 muestras de tamaño con un sobrelapamiento de 10 muestras. Antes de intentar generalizar el procedimiento, vamos a realizar la prueba con los datos asociados al primer sujeto:\n",
    "\n",
    "```py\n",
    "INDEX_SUB = '1'\n",
    "emg_s1 = filtered_data[INDEX_SUB][:,0:10]\n",
    "restimulus_s1 = filtered_data[INDEX_SUB][:,10]\n",
    "rerepetition_s1 = filtered_data[INDEX_SUB][:,11]\n",
    "```"
   ]
  },
  {
   "cell_type": "code",
   "execution_count": 23,
   "metadata": {
    "vscode": {
     "languageId": "ruby"
    }
   },
   "outputs": [
    {
     "data": {
      "text/plain": [
       "(16036, 12)"
      ]
     },
     "execution_count": 23,
     "metadata": {},
     "output_type": "execute_result"
    }
   ],
   "source": [
    "INDEX_SUB = '1'\n",
    "data[INDEX_SUB].shape"
   ]
  },
  {
   "cell_type": "code",
   "execution_count": 24,
   "metadata": {},
   "outputs": [
    {
     "data": {
      "text/plain": [
       "array([[-1.10901571e-03,  3.35777718e-04,  2.29754608e-03,\n",
       "         2.41791565e-03,  2.46656592e-03,  1.17058176e-02,\n",
       "         1.57929216e-01,  1.22639163e-02,  1.38498726e-03,\n",
       "         4.04043369e-02,  0.00000000e+00,  0.00000000e+00],\n",
       "       [-1.04112299e-03,  2.49932580e-04,  2.28240912e-03,\n",
       "         2.42312377e-03,  2.49875419e-03,  1.23512526e-02,\n",
       "         1.60794013e-01,  1.24751146e-02,  1.31715902e-03,\n",
       "         4.16480950e-02,  0.00000000e+00,  0.00000000e+00],\n",
       "       [-9.61654668e-04,  1.64989863e-04,  2.26635120e-03,\n",
       "         2.42849756e-03,  2.53352570e-03,  1.30167117e-02,\n",
       "         1.63716897e-01,  1.26969245e-02,  1.24749988e-03,\n",
       "         4.29711090e-02,  0.00000000e+00,  0.00000000e+00],\n",
       "       [-8.69611219e-04,  8.13842298e-05,  2.24935306e-03,\n",
       "         2.43401448e-03,  2.57097691e-03,  1.37016696e-02,\n",
       "         1.66695644e-01,  1.29299952e-02,  1.17612738e-03,\n",
       "         4.43763017e-02,  0.00000000e+00,  0.00000000e+00],\n",
       "       [-7.63940749e-04, -4.14786429e-07,  2.23139751e-03,\n",
       "         2.43965151e-03,  2.61120215e-03,  1.44055363e-02,\n",
       "         1.69727846e-01,  1.31750440e-02,  1.10317707e-03,\n",
       "         4.58666009e-02,  0.00000000e+00,  0.00000000e+00],\n",
       "       [-6.43540446e-04, -7.99014837e-05,  2.21246977e-03,\n",
       "         2.44538513e-03,  2.65429308e-03,  1.51276460e-02,\n",
       "         1.72810794e-01,  1.34328673e-02,  1.02880361e-03,\n",
       "         4.74448510e-02,  0.00000000e+00,  0.00000000e+00],\n",
       "       [-5.07258238e-04, -1.56532717e-04,  2.19255764e-03,\n",
       "         2.45119118e-03,  2.70033803e-03,  1.58672365e-02,\n",
       "         1.75941303e-01,  1.37043461e-02,  9.53181917e-04,\n",
       "         4.91137275e-02,  0.00000000e+00,  0.00000000e+00],\n",
       "       [-3.53894677e-04, -2.29726661e-04,  2.17165189e-03,\n",
       "         2.45704724e-03,  2.74942134e-03,  1.66234426e-02,\n",
       "         1.79115629e-01,  1.39904610e-02,  8.76508299e-04,\n",
       "         5.08757239e-02,  0.00000000e+00,  0.00000000e+00],\n",
       "       [-1.82205080e-04, -2.98861623e-04,  2.14974654e-03,\n",
       "         2.46293983e-03,  2.80162264e-03,  1.73953133e-02,\n",
       "         1.82329580e-01,  1.42923193e-02,  7.99001664e-04,\n",
       "         5.27332142e-02,  0.00000000e+00,  0.00000000e+00],\n",
       "       [ 9.10051117e-06, -3.63274900e-04,  2.12683915e-03,\n",
       "         2.46886922e-03,  2.85701608e-03,  1.81818282e-02,\n",
       "         1.85578694e-01,  1.46111764e-02,  7.20904700e-04,\n",
       "         5.46885210e-02,  0.00000000e+00,  0.00000000e+00]])"
      ]
     },
     "execution_count": 24,
     "metadata": {},
     "output_type": "execute_result"
    }
   ],
   "source": [
    "# Mostrar las primeras 10 filas de los datos filtrados para el sujeto especificado en INDEX_SUB\n",
    "data[INDEX_SUB][:10]"
   ]
  },
  {
   "cell_type": "code",
   "execution_count": 25,
   "metadata": {},
   "outputs": [
    {
     "data": {
      "text/plain": [
       "(801, 12, 30)"
      ]
     },
     "execution_count": 25,
     "metadata": {},
     "output_type": "execute_result"
    }
   ],
   "source": [
    "# Split the raw EMG into windows\n",
    "WINDOW_SIZE = 30  # Tamaño de la ventana\n",
    "WINDOW_STEP = 20  # Paso de la ventana\n",
    "windows_s1 = get_windows(data[INDEX_SUB], WINDOW_SIZE, WINDOW_STEP)\n",
    "windows_s1.shape  # Mostrar la forma de las ventanas de datos"
   ]
  },
  {
   "cell_type": "markdown",
   "metadata": {},
   "source": [
    "Segun el resultado anterior, se generaron 801 segmentos de 30 muestras para cada una de las 12 señales (`emg`, `restimulus` y `rerepetition`). Cada una de estas ventanas presentaban un solapamiento de 10 entre ellas:"
   ]
  },
  {
   "cell_type": "code",
   "execution_count": 26,
   "metadata": {},
   "outputs": [
    {
     "data": {
      "text/plain": [
       "(12, 30)"
      ]
     },
     "execution_count": 26,
     "metadata": {},
     "output_type": "execute_result"
    }
   ],
   "source": [
    "windows_s1[0].shape"
   ]
  },
  {
   "cell_type": "markdown",
   "metadata": {},
   "source": [
    "Ahora se muestran los datos asociados a las primeras `3` muestras de la ventana `0`:"
   ]
  },
  {
   "cell_type": "code",
   "execution_count": 27,
   "metadata": {},
   "outputs": [
    {
     "data": {
      "text/plain": [
       "array([[-0.00110902, -0.00104112, -0.00096165],\n",
       "       [ 0.00033578,  0.00024993,  0.00016499],\n",
       "       [ 0.00229755,  0.00228241,  0.00226635],\n",
       "       [ 0.00241792,  0.00242312,  0.0024285 ],\n",
       "       [ 0.00246657,  0.00249875,  0.00253353],\n",
       "       [ 0.01170582,  0.01235125,  0.01301671],\n",
       "       [ 0.15792922,  0.16079401,  0.1637169 ],\n",
       "       [ 0.01226392,  0.01247511,  0.01269692],\n",
       "       [ 0.00138499,  0.00131716,  0.0012475 ],\n",
       "       [ 0.04040434,  0.04164809,  0.04297111],\n",
       "       [ 0.        ,  0.        ,  0.        ],\n",
       "       [ 0.        ,  0.        ,  0.        ]])"
      ]
     },
     "execution_count": 27,
     "metadata": {},
     "output_type": "execute_result"
    }
   ],
   "source": [
    "windows_s1[0,:,:3]  # "
   ]
  },
  {
   "cell_type": "markdown",
   "metadata": {},
   "source": [
    "Como se puede ver, las dos últimas filas tienen que ver las señales asociadas al tag del ejercicio. Miremos la transpuesta para tener una idea mas clara."
   ]
  },
  {
   "cell_type": "code",
   "execution_count": 28,
   "metadata": {},
   "outputs": [
    {
     "data": {
      "text/plain": [
       "array([[-0.00110902,  0.00033578,  0.00229755,  0.00241792,  0.00246657,\n",
       "         0.01170582,  0.15792922,  0.01226392,  0.00138499,  0.04040434,\n",
       "         0.        ,  0.        ],\n",
       "       [-0.00104112,  0.00024993,  0.00228241,  0.00242312,  0.00249875,\n",
       "         0.01235125,  0.16079401,  0.01247511,  0.00131716,  0.04164809,\n",
       "         0.        ,  0.        ],\n",
       "       [-0.00096165,  0.00016499,  0.00226635,  0.0024285 ,  0.00253353,\n",
       "         0.01301671,  0.1637169 ,  0.01269692,  0.0012475 ,  0.04297111,\n",
       "         0.        ,  0.        ]])"
      ]
     },
     "execution_count": 28,
     "metadata": {},
     "output_type": "execute_result"
    }
   ],
   "source": [
    "windows_s1_T = windows_s1[0].T\n",
    "windows_s1_T[0:3,:]  # Mostrar las primeras filas y columnas de la primera ventana transpuesta"
   ]
  },
  {
   "cell_type": "markdown",
   "metadata": {},
   "source": [
    "Según lo anterior, a lo que se le debe sacar la feature es a las primeras 10 filas de la ventana. A continuación se muestran las 10 señales emg para las tres primeras muestras de la ventana:"
   ]
  },
  {
   "cell_type": "code",
   "execution_count": 29,
   "metadata": {},
   "outputs": [
    {
     "data": {
      "text/plain": [
       "array([[-0.00110902, -0.00104112, -0.00096165],\n",
       "       [ 0.00033578,  0.00024993,  0.00016499],\n",
       "       [ 0.00229755,  0.00228241,  0.00226635],\n",
       "       [ 0.00241792,  0.00242312,  0.0024285 ],\n",
       "       [ 0.00246657,  0.00249875,  0.00253353],\n",
       "       [ 0.01170582,  0.01235125,  0.01301671],\n",
       "       [ 0.15792922,  0.16079401,  0.1637169 ],\n",
       "       [ 0.01226392,  0.01247511,  0.01269692],\n",
       "       [ 0.00138499,  0.00131716,  0.0012475 ],\n",
       "       [ 0.04040434,  0.04164809,  0.04297111]])"
      ]
     },
     "execution_count": 29,
     "metadata": {},
     "output_type": "execute_result"
    }
   ],
   "source": [
    "windows_s1[0,:10,:3]"
   ]
  },
  {
   "cell_type": "code",
   "execution_count": 30,
   "metadata": {},
   "outputs": [
    {
     "data": {
      "text/plain": [
       "(801, 10, 30)"
      ]
     },
     "execution_count": 30,
     "metadata": {},
     "output_type": "execute_result"
    }
   ],
   "source": [
    "# Extraer las primeras 10 filas de todos los segmentos\n",
    "emg_s1 = windows_s1[:, :10, :]\n",
    "emg_s1.shape  # Mostrar la forma de los datos EMG extraídos"
   ]
  },
  {
   "cell_type": "markdown",
   "metadata": {},
   "source": [
    "Veamos esto para el segmento 0:"
   ]
  },
  {
   "cell_type": "code",
   "execution_count": 31,
   "metadata": {},
   "outputs": [
    {
     "data": {
      "text/plain": [
       "array([[-0.00110902, -0.00104112, -0.00096165],\n",
       "       [ 0.00033578,  0.00024993,  0.00016499],\n",
       "       [ 0.00229755,  0.00228241,  0.00226635],\n",
       "       [ 0.00241792,  0.00242312,  0.0024285 ],\n",
       "       [ 0.00246657,  0.00249875,  0.00253353],\n",
       "       [ 0.01170582,  0.01235125,  0.01301671],\n",
       "       [ 0.15792922,  0.16079401,  0.1637169 ],\n",
       "       [ 0.01226392,  0.01247511,  0.01269692],\n",
       "       [ 0.00138499,  0.00131716,  0.0012475 ],\n",
       "       [ 0.04040434,  0.04164809,  0.04297111]])"
      ]
     },
     "execution_count": 31,
     "metadata": {},
     "output_type": "execute_result"
    }
   ],
   "source": [
    "emg_s1[0,:,:3]"
   ]
  },
  {
   "cell_type": "markdown",
   "metadata": {},
   "source": [
    "### 5.4. Extracción de caracteristicas"
   ]
  },
  {
   "cell_type": "markdown",
   "metadata": {},
   "source": [
    "##### 5.4.1. Prueba con la señal RMS"
   ]
  },
  {
   "cell_type": "code",
   "execution_count": 35,
   "metadata": {},
   "outputs": [],
   "source": [
    "fe = FeatureExtractor() # Inicializar el extractor de características"
   ]
  },
  {
   "cell_type": "markdown",
   "metadata": {},
   "source": [
    "Como prueba vamos a seleccionar como caracteristica a extraer el valor RMS para los datos correspondientes al sujeto 1"
   ]
  },
  {
   "cell_type": "code",
   "execution_count": 36,
   "metadata": {},
   "outputs": [],
   "source": [
    "feature_list_test = ['RMS']"
   ]
  },
  {
   "cell_type": "code",
   "execution_count": 37,
   "metadata": {},
   "outputs": [
    {
     "data": {
      "text/plain": [
       "dict_keys(['RMS'])"
      ]
     },
     "execution_count": 37,
     "metadata": {},
     "output_type": "execute_result"
    }
   ],
   "source": [
    "features_s1 = fe.extract_features(feature_list_test, emg_s1)\n",
    "features_s1.keys()"
   ]
  },
  {
   "cell_type": "code",
   "execution_count": 38,
   "metadata": {},
   "outputs": [
    {
     "data": {
      "text/plain": [
       "(801, 10)"
      ]
     },
     "execution_count": 38,
     "metadata": {},
     "output_type": "execute_result"
    }
   ],
   "source": [
    "features_s1['RMS'].shape  # Mostrar la forma de las características extraídas"
   ]
  },
  {
   "cell_type": "markdown",
   "metadata": {},
   "source": [
    "Vemos que se tiene le valor RMS para cada uno de los canales, esto relacionado con las 801 ventanas. A continuación vamos a mostrar los valores RMS para de todas las señales sEMG para los 3 primeros segmentos:"
   ]
  },
  {
   "cell_type": "code",
   "execution_count": 39,
   "metadata": {},
   "outputs": [
    {
     "data": {
      "text/plain": [
       "array([[0.00440766, 0.00042322, 0.0019679 , 0.00250594, 0.00341307,\n",
       "        0.02393885, 0.20610223, 0.01844022, 0.00067767, 0.07467822],\n",
       "       [0.02349061, 0.00587794, 0.00146186, 0.00262896, 0.00549564,\n",
       "        0.03718825, 0.26740832, 0.04344034, 0.00141234, 0.14213795],\n",
       "       [0.06138584, 0.02611376, 0.00260215, 0.00267404, 0.00702446,\n",
       "        0.04432762, 0.32245441, 0.12288303, 0.01137533, 0.21592697]])"
      ]
     },
     "execution_count": 39,
     "metadata": {},
     "output_type": "execute_result"
    }
   ],
   "source": [
    "features_s1['RMS'][0:3]  # Mostrar las primeras filas y columnas de las características extraídas"
   ]
  },
  {
   "cell_type": "markdown",
   "metadata": {},
   "source": [
    "Vamos ahora con los tags"
   ]
  },
  {
   "cell_type": "code",
   "execution_count": 40,
   "metadata": {},
   "outputs": [
    {
     "data": {
      "text/plain": [
       "(801, 30)"
      ]
     },
     "execution_count": 40,
     "metadata": {},
     "output_type": "execute_result"
    }
   ],
   "source": [
    "# Extraer las primeras 2 ultimas filas de todos los segmentos\n",
    "restimulus_s1 = windows_s1[:, 10, :]\n",
    "restimulus_s1.shape  # Mostrar la forma de las etiquetas extraídas"
   ]
  },
  {
   "cell_type": "markdown",
   "metadata": {},
   "source": [
    "A continuación, visualizamos los tags para los tres primeros segmentos (`restimulus` y `rerepetition`)"
   ]
  },
  {
   "cell_type": "code",
   "execution_count": 41,
   "metadata": {},
   "outputs": [
    {
     "data": {
      "text/plain": [
       "array([[0., 0., 0., 0., 0., 0., 0., 0., 0., 0., 0., 0., 0., 0., 0., 0.,\n",
       "        0., 0., 0., 0., 0., 0., 0., 0., 0., 0., 0., 0., 0., 0.],\n",
       "       [0., 0., 0., 0., 0., 0., 0., 0., 0., 0., 0., 0., 0., 0., 0., 0.,\n",
       "        0., 0., 0., 0., 0., 0., 0., 0., 0., 0., 0., 0., 0., 0.]])"
      ]
     },
     "execution_count": 41,
     "metadata": {},
     "output_type": "execute_result"
    }
   ],
   "source": [
    "restimulus_s1[:2,:]  # Mostrar las primeras filas y columnas de las etiquetas extraídas"
   ]
  },
  {
   "cell_type": "markdown",
   "metadata": {},
   "source": [
    "Con el fin de colocar aquellos segmentos donde hay un cambio de nivel en el estimulo se va a crear un array donde cada fila tiene el valor del estimulo si todas las columnas son iguales, de lo contrario -1 para indicar que en ese segmento hubo un cambio de nivel"
   ]
  },
  {
   "cell_type": "code",
   "execution_count": 42,
   "metadata": {},
   "outputs": [
    {
     "data": {
      "text/plain": [
       "array([ 0.,  0., -1.,  1.,  1.,  1.,  1.,  1.,  1.,  1.,  1.,  1.,  1.,\n",
       "        1.,  1.,  1.,  1.,  1.,  1.,  1.,  1., -1., -1.,  0.,  0.,  0.,\n",
       "        0.,  0.,  0.,  0.,  0.,  0.,  0.,  0.,  0.,  0.,  0.,  0.,  0.,\n",
       "        0.,  0.,  0., -1.,  1.,  1.,  1.,  1.,  1.,  1.,  1.,  1.,  1.,\n",
       "        1.,  1.,  1.,  1.,  1.,  1.,  1.,  1.,  1.,  1.,  1.,  1.,  1.,\n",
       "        1., -1.,  0.,  0.,  0.,  0.,  0.,  0.,  0.,  0.,  0.,  0.,  0.,\n",
       "        0.,  0.,  0.,  0.,  0., -1.,  1.,  1.,  1.,  1.,  1.,  1.,  1.,\n",
       "        1.,  1.,  1.,  1.,  1.,  1.,  1., -1., -1.,  0.,  0.,  0.,  0.,\n",
       "        0.,  0.,  0.,  0.,  0.,  0.,  0.,  0.,  0.,  0.,  0.,  0.,  0.,\n",
       "        0.,  0.,  0.,  0.,  0.,  0.,  0., -1., -1.,  1.,  1.,  1.,  1.,\n",
       "        1.,  1.,  1.,  1.,  1.,  1.,  1.,  1.,  1.,  1.,  1.,  1.,  1.,\n",
       "        1.,  1., -1.,  0.,  0.,  0.,  0.,  0.,  0.,  0.,  0.,  0.,  0.,\n",
       "        0.,  0.,  0.,  0.,  0.,  0.,  0.,  0.,  0.,  0., -1.,  1.,  1.,\n",
       "        1.,  1.,  1.,  1.,  1.,  1.,  1.,  1.,  1.,  1.,  1.,  1.,  1.,\n",
       "        1.,  1.,  1.,  1.,  1., -1., -1.,  0.,  0.,  0.,  0.,  0.,  0.,\n",
       "        0.,  0.,  0.,  0.,  0.,  0.,  0.,  0.,  0.,  0.,  0.,  0., -1.,\n",
       "        1.,  1.,  1.,  1.,  1.,  1.,  1.,  1.,  1.,  1.,  1.,  1.,  1.,\n",
       "        1.,  1.,  1.,  1.,  1.,  1.,  1., -1., -1.,  0.,  0.,  0.,  0.,\n",
       "        0.,  0.,  0.,  0.,  0.,  0.,  0.,  0.,  0.,  0.,  0.,  0.,  0.,\n",
       "        0.,  0.,  0., -1.,  1.,  1.,  1.,  1.,  1.,  1.,  1.,  1.,  1.,\n",
       "        1.,  1.,  1.,  1.,  1.,  1.,  1.,  1.,  1.,  1.,  1.,  1., -1.,\n",
       "        0.,  0.,  0.,  0.,  0.,  0.,  0.,  0.,  0.,  0.,  0.,  0.,  0.,\n",
       "        0.,  0.,  0.,  0.,  0., -1.,  1.,  1.,  1.,  1.,  1.,  1.,  1.,\n",
       "        1.,  1.,  1.,  1.,  1.,  1.,  1.,  1.,  1.,  1., -1.,  0.,  0.,\n",
       "        0.,  0.,  0.,  0.,  0.,  0.,  0.,  0.,  0.,  0.,  0.,  0.,  0.,\n",
       "        0.,  0.,  0.,  0.,  0.,  0.,  0.,  0., -1., -1.,  1.,  1.,  1.,\n",
       "        1.,  1.,  1.,  1.,  1.,  1.,  1.,  1.,  1.,  1.,  1.,  1.,  1.,\n",
       "        1.,  1., -1.,  0.,  0.,  0.,  0.,  0.,  0.,  0.,  0.,  0.,  0.,\n",
       "        0.,  0.,  0.,  0.,  0.,  0.,  0.,  0.,  0.,  0., -1., -1.,  1.,\n",
       "        1.,  1.,  1.,  1.,  1.,  1.,  1.,  1.,  1.,  1.,  1.,  1.,  1.,\n",
       "        1.,  1.,  1., -1., -1.,  0.,  0.,  0., -1., -1., 23., 23., 23.,\n",
       "       23., 23., 23., 23., 23., 23., 23., 23., 23., 23., 23., 23., 23.,\n",
       "       23., 23., 23., 23., 23., 23., 23., -1., -1.,  0.,  0.,  0.,  0.,\n",
       "        0.,  0.,  0.,  0.,  0.,  0.,  0.,  0., -1., 23., 23., 23., 23.,\n",
       "       23., 23., 23., 23., 23., 23., 23., 23., 23., 23., 23., 23., 23.,\n",
       "       23., 23., 23., 23., 23., 23., 23., 23., 23., -1.,  0.,  0.,  0.,\n",
       "        0.,  0.,  0.,  0.,  0.,  0.,  0.,  0.,  0.,  0.,  0.,  0.,  0.,\n",
       "       -1., 23., 23., 23., 23., 23., 23., 23., 23., 23., 23., 23., 23.,\n",
       "       23., 23., 23., 23., 23., 23., 23., 23., 23., 23., 23., 23., 23.,\n",
       "       -1., -1.,  0.,  0.,  0.,  0.,  0.,  0.,  0.,  0.,  0.,  0.,  0.,\n",
       "        0.,  0., -1., -1., 23., 23., 23., 23., 23., 23., 23., 23., 23.,\n",
       "       23., 23., 23., 23., 23., 23., 23., 23., 23., 23., 23., 23., 23.,\n",
       "       23., -1., -1.,  0.,  0.,  0.,  0.,  0.,  0.,  0.,  0.,  0.,  0.,\n",
       "        0.,  0.,  0., -1., -1., 23., 23., 23., 23., 23., 23., 23., 23.,\n",
       "       23., 23., 23., 23., 23., 23., 23., 23., 23., 23., 23., 23., 23.,\n",
       "       23., 23., 23., -1.,  0.,  0.,  0.,  0.,  0.,  0.,  0.,  0.,  0.,\n",
       "        0.,  0.,  0.,  0.,  0.,  0., -1., 23., 23., 23., 23., 23., 23.,\n",
       "       23., 23., 23., 23., 23., 23., 23., 23., 23., 23., 23., 23., 23.,\n",
       "       23., 23., 23., 23., 23., -1., -1.,  0.,  0.,  0.,  0.,  0.,  0.,\n",
       "        0.,  0.,  0.,  0.,  0.,  0.,  0., -1., -1., 23., 23., 23., 23.,\n",
       "       23., 23., 23., 23., 23., 23., 23., 23., 23., 23., 23., 23., 23.,\n",
       "       23., 23., 23., 23., 23., 23., -1., -1.,  0.,  0.,  0.,  0.,  0.,\n",
       "        0.,  0.,  0.,  0.,  0.,  0.,  0.,  0.,  0.,  0., -1., -1., 23.,\n",
       "       23., 23., 23., 23., 23., 23., 23., 23., 23., 23., 23., 23., 23.,\n",
       "       23., 23., 23., 23., 23., 23., 23., 23., 23., 23., -1.,  0.,  0.,\n",
       "        0.,  0.,  0.,  0.,  0.,  0.,  0.,  0.,  0.,  0.,  0.,  0.,  0.,\n",
       "        0., -1., -1., 23., 23., 23., 23., 23., 23., 23., 23., 23., 23.,\n",
       "       23., 23., 23., 23., 23., 23., 23., 23., 23., 23., 23., 23., 23.,\n",
       "       23., -1.,  0.,  0.,  0.,  0.,  0.,  0.,  0.,  0.,  0.,  0.,  0.,\n",
       "        0.,  0.,  0.,  0., -1., 23., 23., 23., 23., 23., 23., 23., 23.,\n",
       "       23., 23., 23., 23., 23., 23., 23., 23., 23., 23., 23., 23., 23.,\n",
       "       23., 23., 23., 23., 23., -1., -1.,  0.])"
      ]
     },
     "execution_count": 42,
     "metadata": {},
     "output_type": "execute_result"
    }
   ],
   "source": [
    "processed_restimulus_s1 = np.where(np.all(restimulus_s1 == restimulus_s1[:, [0]], axis=1), restimulus_s1[:, 0], -1)\n",
    "\n",
    "# Mostrar el resultado\n",
    "processed_restimulus_s1"
   ]
  },
  {
   "cell_type": "code",
   "execution_count": 43,
   "metadata": {},
   "outputs": [
    {
     "data": {
      "text/plain": [
       "(801,)"
      ]
     },
     "execution_count": 43,
     "metadata": {},
     "output_type": "execute_result"
    }
   ],
   "source": [
    "processed_restimulus_s1.shape"
   ]
  },
  {
   "cell_type": "code",
   "execution_count": 44,
   "metadata": {},
   "outputs": [
    {
     "data": {
      "text/plain": [
       "(801, 10, 30)"
      ]
     },
     "execution_count": 44,
     "metadata": {},
     "output_type": "execute_result"
    }
   ],
   "source": [
    "emg_s1.shape"
   ]
  },
  {
   "cell_type": "code",
   "execution_count": 45,
   "metadata": {},
   "outputs": [
    {
     "name": "stdout",
     "output_type": "stream",
     "text": [
      "(801, 11)\n"
     ]
    }
   ],
   "source": [
    "# Concatenar features_s1['RMS'] y processed_restimulus_s1 como una nueva columna\n",
    "concatenated_features = np.hstack((features_s1['RMS'], processed_restimulus_s1.reshape(-1, 1)))\n",
    "\n",
    "# Mostrar la forma del resultado\n",
    "print(concatenated_features.shape)"
   ]
  },
  {
   "cell_type": "code",
   "execution_count": 46,
   "metadata": {},
   "outputs": [
    {
     "data": {
      "text/html": [
       "<div>\n",
       "<style scoped>\n",
       "    .dataframe tbody tr th:only-of-type {\n",
       "        vertical-align: middle;\n",
       "    }\n",
       "\n",
       "    .dataframe tbody tr th {\n",
       "        vertical-align: top;\n",
       "    }\n",
       "\n",
       "    .dataframe thead th {\n",
       "        text-align: right;\n",
       "    }\n",
       "</style>\n",
       "<table border=\"1\" class=\"dataframe\">\n",
       "  <thead>\n",
       "    <tr style=\"text-align: right;\">\n",
       "      <th></th>\n",
       "      <th>RMS_1</th>\n",
       "      <th>RMS_2</th>\n",
       "      <th>RMS_3</th>\n",
       "      <th>RMS_4</th>\n",
       "      <th>RMS_5</th>\n",
       "      <th>RMS_6</th>\n",
       "      <th>RMS_7</th>\n",
       "      <th>RMS_8</th>\n",
       "      <th>RMS_9</th>\n",
       "      <th>RMS_10</th>\n",
       "      <th>restimulus</th>\n",
       "    </tr>\n",
       "  </thead>\n",
       "  <tbody>\n",
       "    <tr>\n",
       "      <th>0</th>\n",
       "      <td>0.004408</td>\n",
       "      <td>0.000423</td>\n",
       "      <td>0.001968</td>\n",
       "      <td>0.002506</td>\n",
       "      <td>0.003413</td>\n",
       "      <td>0.023939</td>\n",
       "      <td>0.206102</td>\n",
       "      <td>0.018440</td>\n",
       "      <td>0.000678</td>\n",
       "      <td>0.074678</td>\n",
       "      <td>0.0</td>\n",
       "    </tr>\n",
       "    <tr>\n",
       "      <th>1</th>\n",
       "      <td>0.023491</td>\n",
       "      <td>0.005878</td>\n",
       "      <td>0.001462</td>\n",
       "      <td>0.002629</td>\n",
       "      <td>0.005496</td>\n",
       "      <td>0.037188</td>\n",
       "      <td>0.267408</td>\n",
       "      <td>0.043440</td>\n",
       "      <td>0.001412</td>\n",
       "      <td>0.142138</td>\n",
       "      <td>0.0</td>\n",
       "    </tr>\n",
       "    <tr>\n",
       "      <th>2</th>\n",
       "      <td>0.061386</td>\n",
       "      <td>0.026114</td>\n",
       "      <td>0.002602</td>\n",
       "      <td>0.002674</td>\n",
       "      <td>0.007024</td>\n",
       "      <td>0.044328</td>\n",
       "      <td>0.322454</td>\n",
       "      <td>0.122883</td>\n",
       "      <td>0.011375</td>\n",
       "      <td>0.215927</td>\n",
       "      <td>-1.0</td>\n",
       "    </tr>\n",
       "    <tr>\n",
       "      <th>3</th>\n",
       "      <td>0.084903</td>\n",
       "      <td>0.062461</td>\n",
       "      <td>0.009608</td>\n",
       "      <td>0.002956</td>\n",
       "      <td>0.006360</td>\n",
       "      <td>0.053774</td>\n",
       "      <td>0.387859</td>\n",
       "      <td>0.289713</td>\n",
       "      <td>0.037026</td>\n",
       "      <td>0.282858</td>\n",
       "      <td>1.0</td>\n",
       "    </tr>\n",
       "    <tr>\n",
       "      <th>4</th>\n",
       "      <td>0.061730</td>\n",
       "      <td>0.104530</td>\n",
       "      <td>0.028248</td>\n",
       "      <td>0.005728</td>\n",
       "      <td>0.007340</td>\n",
       "      <td>0.071548</td>\n",
       "      <td>0.467802</td>\n",
       "      <td>0.534735</td>\n",
       "      <td>0.086235</td>\n",
       "      <td>0.336115</td>\n",
       "      <td>1.0</td>\n",
       "    </tr>\n",
       "  </tbody>\n",
       "</table>\n",
       "</div>"
      ],
      "text/plain": [
       "      RMS_1     RMS_2     RMS_3     RMS_4     RMS_5     RMS_6     RMS_7  \\\n",
       "0  0.004408  0.000423  0.001968  0.002506  0.003413  0.023939  0.206102   \n",
       "1  0.023491  0.005878  0.001462  0.002629  0.005496  0.037188  0.267408   \n",
       "2  0.061386  0.026114  0.002602  0.002674  0.007024  0.044328  0.322454   \n",
       "3  0.084903  0.062461  0.009608  0.002956  0.006360  0.053774  0.387859   \n",
       "4  0.061730  0.104530  0.028248  0.005728  0.007340  0.071548  0.467802   \n",
       "\n",
       "      RMS_8     RMS_9    RMS_10  restimulus  \n",
       "0  0.018440  0.000678  0.074678         0.0  \n",
       "1  0.043440  0.001412  0.142138         0.0  \n",
       "2  0.122883  0.011375  0.215927        -1.0  \n",
       "3  0.289713  0.037026  0.282858         1.0  \n",
       "4  0.534735  0.086235  0.336115         1.0  "
      ]
     },
     "execution_count": 46,
     "metadata": {},
     "output_type": "execute_result"
    }
   ],
   "source": [
    "# Crear un DataFrame a partir de concatenated_features\n",
    "columns = [f'RMS_{i+1}' for i in range(features_s1['RMS'].shape[1])] + ['restimulus']\n",
    "df_features = pd.DataFrame(concatenated_features, columns=columns)\n",
    "\n",
    "# Mostrar las primeras filas del DataFrame\n",
    "df_features.head()"
   ]
  },
  {
   "cell_type": "markdown",
   "metadata": {},
   "source": [
    "Hasta aqui, hemos logrado obtener la caracteristica asociada al valor RMS de los segmentos resaltan aquellos pertenecientes a una transición con el valor de -1. Es importante aclarar que esto solo se realizo para un solo sujeto de modo que el objetivo es obtener los resultados para todos los 27 sujetos. \n",
    "\n",
    "A continuación, se resume el procedimiento realizado con el fin de generalizarlo para todos los sujetos:"
   ]
  },
  {
   "cell_type": "markdown",
   "metadata": {},
   "source": [
    "1. Se realiza la segmentación de los datos para cada sujeto:"
   ]
  },
  {
   "cell_type": "code",
   "execution_count": 47,
   "metadata": {},
   "outputs": [
    {
     "name": "stdout",
     "output_type": "stream",
     "text": [
      "Sujeto 10: (798, 12, 30)\n",
      "Sujeto 11: (804, 12, 30)\n",
      "Sujeto 12: (796, 12, 30)\n",
      "Sujeto 13: (799, 12, 30)\n",
      "Sujeto 14: (792, 12, 30)\n",
      "Sujeto 15: (796, 12, 30)\n",
      "Sujeto 16: (799, 12, 30)\n",
      "Sujeto 17: (801, 12, 30)\n",
      "Sujeto 18: (798, 12, 30)\n",
      "Sujeto 19: (805, 12, 30)\n",
      "Sujeto 1: (801, 12, 30)\n",
      "Sujeto 20: (798, 12, 30)\n",
      "Sujeto 21: (804, 12, 30)\n",
      "Sujeto 22: (799, 12, 30)\n",
      "Sujeto 23: (794, 12, 30)\n",
      "Sujeto 24: (802, 12, 30)\n",
      "Sujeto 25: (800, 12, 30)\n",
      "Sujeto 26: (807, 12, 30)\n",
      "Sujeto 27: (794, 12, 30)\n",
      "Sujeto 2: (798, 12, 30)\n",
      "Sujeto 3: (797, 12, 30)\n",
      "Sujeto 4: (799, 12, 30)\n",
      "Sujeto 5: (807, 12, 30)\n",
      "Sujeto 6: (802, 12, 30)\n",
      "Sujeto 7: (797, 12, 30)\n",
      "Sujeto 8: (802, 12, 30)\n",
      "Sujeto 9: (805, 12, 30)\n"
     ]
    }
   ],
   "source": [
    "# Aplicar get_windows a todos los sujetos en data\n",
    "windows_data = {key: get_windows(data, 30, 20) for key, data in data.items()}\n",
    "\n",
    "# Mostrar las formas de las ventanas generadas para cada sujeto\n",
    "for key, windows in windows_data.items():\n",
    "    print(f\"Sujeto {key}: {windows.shape}\")"
   ]
  },
  {
   "cell_type": "markdown",
   "metadata": {},
   "source": [
    "2. Separar para cada sujeto las señales del sEMG y del gesto realizado como ejercicio"
   ]
  },
  {
   "cell_type": "code",
   "execution_count": 48,
   "metadata": {},
   "outputs": [
    {
     "name": "stdout",
     "output_type": "stream",
     "text": [
      "Clave: 10, EMG Shape: (798, 10, 30), Restimulus Shape: (798, 30)\n",
      "Clave: 11, EMG Shape: (804, 10, 30), Restimulus Shape: (804, 30)\n",
      "Clave: 12, EMG Shape: (796, 10, 30), Restimulus Shape: (796, 30)\n",
      "Clave: 13, EMG Shape: (799, 10, 30), Restimulus Shape: (799, 30)\n",
      "Clave: 14, EMG Shape: (792, 10, 30), Restimulus Shape: (792, 30)\n",
      "Clave: 15, EMG Shape: (796, 10, 30), Restimulus Shape: (796, 30)\n",
      "Clave: 16, EMG Shape: (799, 10, 30), Restimulus Shape: (799, 30)\n",
      "Clave: 17, EMG Shape: (801, 10, 30), Restimulus Shape: (801, 30)\n",
      "Clave: 18, EMG Shape: (798, 10, 30), Restimulus Shape: (798, 30)\n",
      "Clave: 19, EMG Shape: (805, 10, 30), Restimulus Shape: (805, 30)\n",
      "Clave: 1, EMG Shape: (801, 10, 30), Restimulus Shape: (801, 30)\n",
      "Clave: 20, EMG Shape: (798, 10, 30), Restimulus Shape: (798, 30)\n",
      "Clave: 21, EMG Shape: (804, 10, 30), Restimulus Shape: (804, 30)\n",
      "Clave: 22, EMG Shape: (799, 10, 30), Restimulus Shape: (799, 30)\n",
      "Clave: 23, EMG Shape: (794, 10, 30), Restimulus Shape: (794, 30)\n",
      "Clave: 24, EMG Shape: (802, 10, 30), Restimulus Shape: (802, 30)\n",
      "Clave: 25, EMG Shape: (800, 10, 30), Restimulus Shape: (800, 30)\n",
      "Clave: 26, EMG Shape: (807, 10, 30), Restimulus Shape: (807, 30)\n",
      "Clave: 27, EMG Shape: (794, 10, 30), Restimulus Shape: (794, 30)\n",
      "Clave: 2, EMG Shape: (798, 10, 30), Restimulus Shape: (798, 30)\n",
      "Clave: 3, EMG Shape: (797, 10, 30), Restimulus Shape: (797, 30)\n",
      "Clave: 4, EMG Shape: (799, 10, 30), Restimulus Shape: (799, 30)\n",
      "Clave: 5, EMG Shape: (807, 10, 30), Restimulus Shape: (807, 30)\n",
      "Clave: 6, EMG Shape: (802, 10, 30), Restimulus Shape: (802, 30)\n",
      "Clave: 7, EMG Shape: (797, 10, 30), Restimulus Shape: (797, 30)\n",
      "Clave: 8, EMG Shape: (802, 10, 30), Restimulus Shape: (802, 30)\n",
      "Clave: 9, EMG Shape: (805, 10, 30), Restimulus Shape: (805, 30)\n"
     ]
    }
   ],
   "source": [
    "# Crear diccionarios separados para emg y restimulus\n",
    "emg_data = {}\n",
    "restimulus_data = {}\n",
    "\n",
    "for key, windows in windows_data.items():\n",
    "    emg_data[key] = windows[:, :10, :]  # Extraer las primeras 10 filas\n",
    "    restimulus_data[key] = windows[:, 10, :]  # Extraer la fila 11\n",
    "\n",
    "# Mostrar las claves y formas de los datos extraídos\n",
    "for key in emg_data:\n",
    "    print(f\"Clave: {key}, EMG Shape: {emg_data[key].shape}, Restimulus Shape: {restimulus_data[key].shape}\")"
   ]
  },
  {
   "cell_type": "markdown",
   "metadata": {},
   "source": [
    "3. Obtener las caracteristicas asociadas a para cada uno de los segmentos de las señales sEMG"
   ]
  },
  {
   "cell_type": "code",
   "execution_count": 49,
   "metadata": {},
   "outputs": [],
   "source": [
    "fe = FeatureExtractor()\n",
    "feature_list = ['RMS', 'MAV']"
   ]
  },
  {
   "cell_type": "code",
   "execution_count": 50,
   "metadata": {},
   "outputs": [
    {
     "data": {
      "text/plain": [
       "dict_keys(['10', '11', '12', '13', '14', '15', '16', '17', '18', '19', '1', '20', '21', '22', '23', '24', '25', '26', '27', '2', '3', '4', '5', '6', '7', '8', '9'])"
      ]
     },
     "execution_count": 50,
     "metadata": {},
     "output_type": "execute_result"
    }
   ],
   "source": [
    "# Crear un diccionario para almacenar las características extraídas\n",
    "features_data = {}\n",
    "\n",
    "# Iterar sobre cada sujeto en el diccionario emg_data\n",
    "for key, emg in emg_data.items():\n",
    "    features_data[key] = fe.extract_features(feature_list, emg)\n",
    "\n",
    "# Mostrar las claves del diccionario de características extraídas\n",
    "features_data.keys()"
   ]
  },
  {
   "cell_type": "markdown",
   "metadata": {},
   "source": [
    "Verifiquemos esto para el usuario `1`"
   ]
  },
  {
   "cell_type": "code",
   "execution_count": 51,
   "metadata": {},
   "outputs": [
    {
     "data": {
      "text/plain": [
       "dict_keys(['RMS', 'MAV'])"
      ]
     },
     "execution_count": 51,
     "metadata": {},
     "output_type": "execute_result"
    }
   ],
   "source": [
    "features_data['1'].keys()  # Mostrar las claves de las características extraídas para el sujeto 1"
   ]
  },
  {
   "cell_type": "markdown",
   "metadata": {},
   "source": [
    "Por ahora solo se va a realizar el analisis para el RMS:"
   ]
  },
  {
   "cell_type": "code",
   "execution_count": 52,
   "metadata": {},
   "outputs": [
    {
     "data": {
      "text/plain": [
       "(801, 10)"
      ]
     },
     "execution_count": 52,
     "metadata": {},
     "output_type": "execute_result"
    }
   ],
   "source": [
    "features_data['1']['RMS'].shape"
   ]
  },
  {
   "cell_type": "markdown",
   "metadata": {},
   "source": [
    "4. Obtener los restimulos asociados a cada segmento teniendo en cuenta lo siguiente:\n",
    "   * Si todos los valores de las muestras tienen el mismo valor de `restimulus`, se coloca para ese segmento dicho valor.\n",
    "   * Si el segmento tiene diferentes valores de `restimulus`, es por que hay un cambio de nivel en el segmento, por lo tanto, este se marca con -1."
   ]
  },
  {
   "cell_type": "code",
   "execution_count": 53,
   "metadata": {},
   "outputs": [
    {
     "name": "stdout",
     "output_type": "stream",
     "text": [
      "[ 0.  0. -1.  1.  1.  1.  1.  1.  1.  1.  1.  1.  1.  1.  1.  1.  1.  1.\n",
      "  1.  1.  1. -1. -1.  0.  0.  0.  0.  0.  0.  0.  0.  0.  0.  0.  0.  0.\n",
      "  0.  0.  0.  0.  0.  0. -1.  1.  1.  1.  1.  1.  1.  1.  1.  1.  1.  1.\n",
      "  1.  1.  1.  1.  1.  1.  1.  1.  1.  1.  1.  1. -1.  0.  0.  0.  0.  0.\n",
      "  0.  0.  0.  0.  0.  0.  0.  0.  0.  0.  0. -1.  1.  1.  1.  1.  1.  1.\n",
      "  1.  1.  1.  1.  1.  1.  1.  1. -1. -1.  0.  0.  0.  0.  0.  0.  0.  0.\n",
      "  0.  0.  0.  0.  0.  0.  0.  0.  0.  0.  0.  0.  0.  0.  0.  0. -1. -1.\n",
      "  1.  1.  1.  1.  1.  1.  1.  1.  1.  1.  1.  1.  1.  1.  1.  1.  1.  1.\n",
      "  1. -1.  0.  0.  0.  0.  0.  0.  0.  0.  0.  0.  0.  0.  0.  0.  0.  0.\n",
      "  0.  0.  0.  0. -1.  1.  1.  1.  1.  1.  1.  1.  1.  1.  1.  1.  1.  1.\n",
      "  1.  1.  1.  1.  1.  1.  1. -1. -1.  0.  0.  0.  0.  0.  0.  0.  0.  0.\n",
      "  0.  0.  0.  0.  0.  0.  0.  0.  0. -1.  1.  1.  1.  1.  1.  1.  1.  1.\n",
      "  1.  1.  1.  1.  1.  1.  1.  1.  1.  1.  1.  1. -1. -1.  0.  0.  0.  0.\n",
      "  0.  0.  0.  0.  0.  0.  0.  0.  0.  0.  0.  0.  0.  0.  0.  0. -1.  1.\n",
      "  1.  1.  1.  1.  1.  1.  1.  1.  1.  1.  1.  1.  1.  1.  1.  1.  1.  1.\n",
      "  1.  1. -1.  0.  0.  0.  0.  0.  0.  0.  0.  0.  0.  0.  0.  0.  0.  0.\n",
      "  0.  0.  0. -1.  1.  1.  1.  1.  1.  1.  1.  1.  1.  1.  1.  1.  1.  1.\n",
      "  1.  1.  1. -1.  0.  0.  0.  0.  0.  0.  0.  0.  0.  0.  0.  0.  0.  0.\n",
      "  0.  0.  0.  0.  0.  0.  0.  0.  0. -1. -1.  1.  1.  1.  1.  1.  1.  1.\n",
      "  1.  1.  1.  1.  1.  1.  1.  1.  1.  1.  1. -1.  0.  0.  0.  0.  0.  0.\n",
      "  0.  0.  0.  0.  0.  0.  0.  0.  0.  0.  0.  0.  0.  0. -1. -1.  1.  1.\n",
      "  1.  1.  1.  1.  1.  1.  1.  1.  1.  1.  1.  1.  1.  1.  1. -1. -1.  0.\n",
      "  0.  0. -1. -1. 23. 23. 23. 23. 23. 23. 23. 23. 23. 23. 23. 23. 23. 23.\n",
      " 23. 23. 23. 23. 23. 23. 23. 23. 23. -1. -1.  0.  0.  0.  0.  0.  0.  0.\n",
      "  0.  0.  0.  0.  0. -1. 23. 23. 23. 23. 23. 23. 23. 23. 23. 23. 23. 23.\n",
      " 23. 23. 23. 23. 23. 23. 23. 23. 23. 23. 23. 23. 23. 23. -1.  0.  0.  0.\n",
      "  0.  0.  0.  0.  0.  0.  0.  0.  0.  0.  0.  0.  0. -1. 23. 23. 23. 23.\n",
      " 23. 23. 23. 23. 23. 23. 23. 23. 23. 23. 23. 23. 23. 23. 23. 23. 23. 23.\n",
      " 23. 23. 23. -1. -1.  0.  0.  0.  0.  0.  0.  0.  0.  0.  0.  0.  0.  0.\n",
      " -1. -1. 23. 23. 23. 23. 23. 23. 23. 23. 23. 23. 23. 23. 23. 23. 23. 23.\n",
      " 23. 23. 23. 23. 23. 23. 23. -1. -1.  0.  0.  0.  0.  0.  0.  0.  0.  0.\n",
      "  0.  0.  0.  0. -1. -1. 23. 23. 23. 23. 23. 23. 23. 23. 23. 23. 23. 23.\n",
      " 23. 23. 23. 23. 23. 23. 23. 23. 23. 23. 23. 23. -1.  0.  0.  0.  0.  0.\n",
      "  0.  0.  0.  0.  0.  0.  0.  0.  0.  0. -1. 23. 23. 23. 23. 23. 23. 23.\n",
      " 23. 23. 23. 23. 23. 23. 23. 23. 23. 23. 23. 23. 23. 23. 23. 23. 23. -1.\n",
      " -1.  0.  0.  0.  0.  0.  0.  0.  0.  0.  0.  0.  0.  0. -1. -1. 23. 23.\n",
      " 23. 23. 23. 23. 23. 23. 23. 23. 23. 23. 23. 23. 23. 23. 23. 23. 23. 23.\n",
      " 23. 23. 23. -1. -1.  0.  0.  0.  0.  0.  0.  0.  0.  0.  0.  0.  0.  0.\n",
      "  0.  0. -1. -1. 23. 23. 23. 23. 23. 23. 23. 23. 23. 23. 23. 23. 23. 23.\n",
      " 23. 23. 23. 23. 23. 23. 23. 23. 23. 23. -1.  0.  0.  0.  0.  0.  0.  0.\n",
      "  0.  0.  0.  0.  0.  0.  0.  0.  0. -1. -1. 23. 23. 23. 23. 23. 23. 23.\n",
      " 23. 23. 23. 23. 23. 23. 23. 23. 23. 23. 23. 23. 23. 23. 23. 23. 23. -1.\n",
      "  0.  0.  0.  0.  0.  0.  0.  0.  0.  0.  0.  0.  0.  0.  0. -1. 23. 23.\n",
      " 23. 23. 23. 23. 23. 23. 23. 23. 23. 23. 23. 23. 23. 23. 23. 23. 23. 23.\n",
      " 23. 23. 23. 23. 23. 23. -1. -1.  0.]\n"
     ]
    }
   ],
   "source": [
    "# Crear un nuevo diccionario para almacenar los resultados procesados\n",
    "processed_restimulus_data = {}\n",
    "\n",
    "# Iterar sobre cada clave y array en restimulus_data\n",
    "for key, data in restimulus_data.items():\n",
    "    # Crear un array donde cada fila tiene el valor repetido si todos los valores son iguales, o -1 si no lo son\n",
    "    processed_restimulus_data[key] = np.where(np.all(data == data[:, [0]], axis=1), data[:, 0], -1)\n",
    "\n",
    "# Mostrar un ejemplo del resultado procesado para una clave\n",
    "print(processed_restimulus_data['1'])"
   ]
  },
  {
   "cell_type": "code",
   "execution_count": 54,
   "metadata": {},
   "outputs": [
    {
     "data": {
      "text/plain": [
       "(801,)"
      ]
     },
     "execution_count": 54,
     "metadata": {},
     "output_type": "execute_result"
    }
   ],
   "source": [
    "processed_restimulus_data['1'].shape"
   ]
  },
  {
   "cell_type": "markdown",
   "metadata": {},
   "source": [
    "5. Concatenar los valore de las caracteristicas con los `restimulos` asociados a cada segmento:"
   ]
  },
  {
   "cell_type": "code",
   "execution_count": 55,
   "metadata": {},
   "outputs": [
    {
     "name": "stdout",
     "output_type": "stream",
     "text": [
      "Sujeto 10: (798, 11)\n",
      "Sujeto 11: (804, 11)\n",
      "Sujeto 12: (796, 11)\n",
      "Sujeto 13: (799, 11)\n",
      "Sujeto 14: (792, 11)\n",
      "Sujeto 15: (796, 11)\n",
      "Sujeto 16: (799, 11)\n",
      "Sujeto 17: (801, 11)\n",
      "Sujeto 18: (798, 11)\n",
      "Sujeto 19: (805, 11)\n",
      "Sujeto 1: (801, 11)\n",
      "Sujeto 20: (798, 11)\n",
      "Sujeto 21: (804, 11)\n",
      "Sujeto 22: (799, 11)\n",
      "Sujeto 23: (794, 11)\n",
      "Sujeto 24: (802, 11)\n",
      "Sujeto 25: (800, 11)\n",
      "Sujeto 26: (807, 11)\n",
      "Sujeto 27: (794, 11)\n",
      "Sujeto 2: (798, 11)\n",
      "Sujeto 3: (797, 11)\n",
      "Sujeto 4: (799, 11)\n",
      "Sujeto 5: (807, 11)\n",
      "Sujeto 6: (802, 11)\n",
      "Sujeto 7: (797, 11)\n",
      "Sujeto 8: (802, 11)\n",
      "Sujeto 9: (805, 11)\n"
     ]
    }
   ],
   "source": [
    "# Crear un diccionario para almacenar los datos concatenados\n",
    "concatenated_data = {}\n",
    "\n",
    "# Iterar sobre cada sujeto\n",
    "for key in features_data.keys():\n",
    "    # Concatenar las características RMS con los datos procesados de restimulus\n",
    "    concatenated_data[key] = np.hstack((features_data[key]['RMS'], processed_restimulus_data[key].reshape(-1, 1)))\n",
    "\n",
    "# Mostrar la forma de los datos concatenados para cada sujeto\n",
    "for key, data in concatenated_data.items():\n",
    "    print(f\"Sujeto {key}: {data.shape}\")"
   ]
  },
  {
   "cell_type": "markdown",
   "metadata": {},
   "source": [
    "Finalmente, vamos a verificar que los resultados tengan sentido."
   ]
  },
  {
   "cell_type": "code",
   "execution_count": 56,
   "metadata": {},
   "outputs": [
    {
     "data": {
      "text/html": [
       "<div>\n",
       "<style scoped>\n",
       "    .dataframe tbody tr th:only-of-type {\n",
       "        vertical-align: middle;\n",
       "    }\n",
       "\n",
       "    .dataframe tbody tr th {\n",
       "        vertical-align: top;\n",
       "    }\n",
       "\n",
       "    .dataframe thead th {\n",
       "        text-align: right;\n",
       "    }\n",
       "</style>\n",
       "<table border=\"1\" class=\"dataframe\">\n",
       "  <thead>\n",
       "    <tr style=\"text-align: right;\">\n",
       "      <th></th>\n",
       "      <th>RMS_1</th>\n",
       "      <th>RMS_2</th>\n",
       "      <th>RMS_3</th>\n",
       "      <th>RMS_4</th>\n",
       "      <th>RMS_5</th>\n",
       "      <th>RMS_6</th>\n",
       "      <th>RMS_7</th>\n",
       "      <th>RMS_8</th>\n",
       "      <th>RMS_9</th>\n",
       "      <th>RMS_10</th>\n",
       "      <th>restimulus</th>\n",
       "    </tr>\n",
       "  </thead>\n",
       "  <tbody>\n",
       "    <tr>\n",
       "      <th>0</th>\n",
       "      <td>0.004408</td>\n",
       "      <td>0.000423</td>\n",
       "      <td>0.001968</td>\n",
       "      <td>0.002506</td>\n",
       "      <td>0.003413</td>\n",
       "      <td>0.023939</td>\n",
       "      <td>0.206102</td>\n",
       "      <td>0.018440</td>\n",
       "      <td>0.000678</td>\n",
       "      <td>0.074678</td>\n",
       "      <td>0.0</td>\n",
       "    </tr>\n",
       "    <tr>\n",
       "      <th>1</th>\n",
       "      <td>0.023491</td>\n",
       "      <td>0.005878</td>\n",
       "      <td>0.001462</td>\n",
       "      <td>0.002629</td>\n",
       "      <td>0.005496</td>\n",
       "      <td>0.037188</td>\n",
       "      <td>0.267408</td>\n",
       "      <td>0.043440</td>\n",
       "      <td>0.001412</td>\n",
       "      <td>0.142138</td>\n",
       "      <td>0.0</td>\n",
       "    </tr>\n",
       "    <tr>\n",
       "      <th>2</th>\n",
       "      <td>0.061386</td>\n",
       "      <td>0.026114</td>\n",
       "      <td>0.002602</td>\n",
       "      <td>0.002674</td>\n",
       "      <td>0.007024</td>\n",
       "      <td>0.044328</td>\n",
       "      <td>0.322454</td>\n",
       "      <td>0.122883</td>\n",
       "      <td>0.011375</td>\n",
       "      <td>0.215927</td>\n",
       "      <td>-1.0</td>\n",
       "    </tr>\n",
       "    <tr>\n",
       "      <th>3</th>\n",
       "      <td>0.084903</td>\n",
       "      <td>0.062461</td>\n",
       "      <td>0.009608</td>\n",
       "      <td>0.002956</td>\n",
       "      <td>0.006360</td>\n",
       "      <td>0.053774</td>\n",
       "      <td>0.387859</td>\n",
       "      <td>0.289713</td>\n",
       "      <td>0.037026</td>\n",
       "      <td>0.282858</td>\n",
       "      <td>1.0</td>\n",
       "    </tr>\n",
       "    <tr>\n",
       "      <th>4</th>\n",
       "      <td>0.061730</td>\n",
       "      <td>0.104530</td>\n",
       "      <td>0.028248</td>\n",
       "      <td>0.005728</td>\n",
       "      <td>0.007340</td>\n",
       "      <td>0.071548</td>\n",
       "      <td>0.467802</td>\n",
       "      <td>0.534735</td>\n",
       "      <td>0.086235</td>\n",
       "      <td>0.336115</td>\n",
       "      <td>1.0</td>\n",
       "    </tr>\n",
       "  </tbody>\n",
       "</table>\n",
       "</div>"
      ],
      "text/plain": [
       "      RMS_1     RMS_2     RMS_3     RMS_4     RMS_5     RMS_6     RMS_7  \\\n",
       "0  0.004408  0.000423  0.001968  0.002506  0.003413  0.023939  0.206102   \n",
       "1  0.023491  0.005878  0.001462  0.002629  0.005496  0.037188  0.267408   \n",
       "2  0.061386  0.026114  0.002602  0.002674  0.007024  0.044328  0.322454   \n",
       "3  0.084903  0.062461  0.009608  0.002956  0.006360  0.053774  0.387859   \n",
       "4  0.061730  0.104530  0.028248  0.005728  0.007340  0.071548  0.467802   \n",
       "\n",
       "      RMS_8     RMS_9    RMS_10  restimulus  \n",
       "0  0.018440  0.000678  0.074678         0.0  \n",
       "1  0.043440  0.001412  0.142138         0.0  \n",
       "2  0.122883  0.011375  0.215927        -1.0  \n",
       "3  0.289713  0.037026  0.282858         1.0  \n",
       "4  0.534735  0.086235  0.336115         1.0  "
      ]
     },
     "execution_count": 56,
     "metadata": {},
     "output_type": "execute_result"
    }
   ],
   "source": [
    "# Obtener los datos concatenados del sujeto 1\n",
    "data_subject_1 = concatenated_data['1']\n",
    "\n",
    "# Crear un DataFrame a partir de los datos concatenados\n",
    "columns = [f'RMS_{i+1}' for i in range(data_subject_1.shape[1] - 1)] + ['restimulus']\n",
    "df_subject_1 = pd.DataFrame(data_subject_1, columns=columns)\n",
    "\n",
    "# Mostrar las primeras filas del DataFrame\n",
    "df_subject_1.head()"
   ]
  },
  {
   "cell_type": "markdown",
   "metadata": {},
   "source": [
    "Con esto se ve que el resultado tiene sentido."
   ]
  },
  {
   "cell_type": "markdown",
   "metadata": {},
   "source": [
    "##### 5.4.2. Generalización del procedimiendo de extracción de caracteristicas"
   ]
  },
  {
   "cell_type": "markdown",
   "metadata": {},
   "source": [
    "Antes de empezar retomemos los datos que se tienen como punto de partida:"
   ]
  },
  {
   "cell_type": "code",
   "execution_count": 58,
   "metadata": {},
   "outputs": [
    {
     "name": "stdout",
     "output_type": "stream",
     "text": [
      "Archivo cargado: filtered_subset_s10_p1_23_E3.npy\n",
      "Archivo cargado: filtered_subset_s11_p1_23_E3.npy\n",
      "Archivo cargado: filtered_subset_s12_p1_23_E3.npy\n",
      "Archivo cargado: filtered_subset_s13_p1_23_E3.npy\n",
      "Archivo cargado: filtered_subset_s14_p1_23_E3.npy\n",
      "Archivo cargado: filtered_subset_s15_p1_23_E3.npy\n",
      "Archivo cargado: filtered_subset_s16_p1_23_E3.npy\n",
      "Archivo cargado: filtered_subset_s17_p1_23_E3.npy\n",
      "Archivo cargado: filtered_subset_s18_p1_23_E3.npy\n",
      "Archivo cargado: filtered_subset_s19_p1_23_E3.npy\n",
      "Archivo cargado: filtered_subset_s1_p1_23_E3.npy\n",
      "Archivo cargado: filtered_subset_s20_p1_23_E3.npy\n",
      "Archivo cargado: filtered_subset_s21_p1_23_E3.npy\n",
      "Archivo cargado: filtered_subset_s22_p1_23_E3.npy\n",
      "Archivo cargado: filtered_subset_s23_p1_23_E3.npy\n",
      "Archivo cargado: filtered_subset_s24_p1_23_E3.npy\n",
      "Archivo cargado: filtered_subset_s25_p1_23_E3.npy\n",
      "Archivo cargado: filtered_subset_s26_p1_23_E3.npy\n",
      "Archivo cargado: filtered_subset_s27_p1_23_E3.npy\n",
      "Archivo cargado: filtered_subset_s2_p1_23_E3.npy\n",
      "Archivo cargado: filtered_subset_s3_p1_23_E3.npy\n",
      "Archivo cargado: filtered_subset_s4_p1_23_E3.npy\n",
      "Archivo cargado: filtered_subset_s5_p1_23_E3.npy\n",
      "Archivo cargado: filtered_subset_s6_p1_23_E3.npy\n",
      "Archivo cargado: filtered_subset_s7_p1_23_E3.npy\n",
      "Archivo cargado: filtered_subset_s8_p1_23_E3.npy\n",
      "Archivo cargado: filtered_subset_s9_p1_23_E3.npy\n"
     ]
    }
   ],
   "source": [
    "# Listar y cargar los archivos .npy del directorio PROCESSED_DATA_DIR\n",
    "npy_files = [f for f in os.listdir(FILTERED_SUBSET_DATA_DIR) if f.endswith('.npy')]\n",
    "\n",
    "data = {}\n",
    "for file in npy_files:\n",
    "    file_path = os.path.join(FILTERED_SUBSET_DATA_DIR, file)\n",
    "    sub_i = file.split('_s')[-1].split('.')[0]\n",
    "    sub_i = sub_i.split('_')[0]\n",
    "    data[sub_i] = np.load(file_path)\n",
    "    print(f\"Archivo cargado: {file}\")"
   ]
  },
  {
   "cell_type": "markdown",
   "metadata": {},
   "source": [
    "**Diccionario con los datos**"
   ]
  },
  {
   "cell_type": "code",
   "execution_count": 59,
   "metadata": {},
   "outputs": [
    {
     "name": "stdout",
     "output_type": "stream",
     "text": [
      "<class 'dict'>\n",
      "27\n",
      "dict_keys(['10', '11', '12', '13', '14', '15', '16', '17', '18', '19', '1', '20', '21', '22', '23', '24', '25', '26', '27', '2', '3', '4', '5', '6', '7', '8', '9'])\n"
     ]
    }
   ],
   "source": [
    "print(type(data))\n",
    "print(len(data))\n",
    "print(data.keys())"
   ]
  },
  {
   "cell_type": "markdown",
   "metadata": {},
   "source": [
    "**Dataframe donde se concatenan todos los datos de **`data`**"
   ]
  },
  {
   "cell_type": "code",
   "execution_count": 60,
   "metadata": {},
   "outputs": [
    {
     "name": "stdout",
     "output_type": "stream",
     "text": [
      "<class 'numpy.ndarray'>\n",
      "(432383, 13)\n"
     ]
    }
   ],
   "source": [
    "print(type(all_users_data))\n",
    "print(all_users_data.shape)\n"
   ]
  },
  {
   "cell_type": "code",
   "execution_count": 61,
   "metadata": {},
   "outputs": [
    {
     "data": {
      "text/html": [
       "<div>\n",
       "<style scoped>\n",
       "    .dataframe tbody tr th:only-of-type {\n",
       "        vertical-align: middle;\n",
       "    }\n",
       "\n",
       "    .dataframe tbody tr th {\n",
       "        vertical-align: top;\n",
       "    }\n",
       "\n",
       "    .dataframe thead th {\n",
       "        text-align: right;\n",
       "    }\n",
       "</style>\n",
       "<table border=\"1\" class=\"dataframe\">\n",
       "  <thead>\n",
       "    <tr style=\"text-align: right;\">\n",
       "      <th></th>\n",
       "      <th>subject</th>\n",
       "      <th>emg_1</th>\n",
       "      <th>emg_2</th>\n",
       "      <th>emg_3</th>\n",
       "      <th>emg_4</th>\n",
       "      <th>emg_5</th>\n",
       "      <th>emg_6</th>\n",
       "      <th>emg_7</th>\n",
       "      <th>emg_8</th>\n",
       "      <th>emg_9</th>\n",
       "      <th>emg_10</th>\n",
       "      <th>restimulus</th>\n",
       "      <th>rerepetition</th>\n",
       "    </tr>\n",
       "  </thead>\n",
       "  <tbody>\n",
       "    <tr>\n",
       "      <th>168972</th>\n",
       "      <td>1.0</td>\n",
       "      <td>0.003127</td>\n",
       "      <td>0.349143</td>\n",
       "      <td>0.133193</td>\n",
       "      <td>0.084101</td>\n",
       "      <td>0.126605</td>\n",
       "      <td>0.412473</td>\n",
       "      <td>1.017275</td>\n",
       "      <td>2.122241</td>\n",
       "      <td>0.554147</td>\n",
       "      <td>0.520487</td>\n",
       "      <td>23.0</td>\n",
       "      <td>2.0</td>\n",
       "    </tr>\n",
       "    <tr>\n",
       "      <th>226761</th>\n",
       "      <td>23.0</td>\n",
       "      <td>0.003017</td>\n",
       "      <td>1.245100</td>\n",
       "      <td>0.508007</td>\n",
       "      <td>1.017056</td>\n",
       "      <td>0.309503</td>\n",
       "      <td>0.353393</td>\n",
       "      <td>1.720029</td>\n",
       "      <td>0.469929</td>\n",
       "      <td>0.423712</td>\n",
       "      <td>0.150973</td>\n",
       "      <td>1.0</td>\n",
       "      <td>4.0</td>\n",
       "    </tr>\n",
       "    <tr>\n",
       "      <th>366550</th>\n",
       "      <td>5.0</td>\n",
       "      <td>0.092691</td>\n",
       "      <td>0.002371</td>\n",
       "      <td>0.002638</td>\n",
       "      <td>0.002550</td>\n",
       "      <td>0.002494</td>\n",
       "      <td>0.002471</td>\n",
       "      <td>0.002118</td>\n",
       "      <td>0.051506</td>\n",
       "      <td>0.002390</td>\n",
       "      <td>0.002469</td>\n",
       "      <td>0.0</td>\n",
       "      <td>0.0</td>\n",
       "    </tr>\n",
       "    <tr>\n",
       "      <th>314893</th>\n",
       "      <td>2.0</td>\n",
       "      <td>0.002953</td>\n",
       "      <td>0.755097</td>\n",
       "      <td>0.300376</td>\n",
       "      <td>0.008140</td>\n",
       "      <td>0.002147</td>\n",
       "      <td>0.001805</td>\n",
       "      <td>0.716398</td>\n",
       "      <td>1.932608</td>\n",
       "      <td>0.220691</td>\n",
       "      <td>0.279965</td>\n",
       "      <td>23.0</td>\n",
       "      <td>4.0</td>\n",
       "    </tr>\n",
       "    <tr>\n",
       "      <th>103403</th>\n",
       "      <td>16.0</td>\n",
       "      <td>-0.014843</td>\n",
       "      <td>-0.003239</td>\n",
       "      <td>-0.001289</td>\n",
       "      <td>0.003382</td>\n",
       "      <td>0.003814</td>\n",
       "      <td>0.003955</td>\n",
       "      <td>-0.025574</td>\n",
       "      <td>-0.002685</td>\n",
       "      <td>-0.011274</td>\n",
       "      <td>-0.031537</td>\n",
       "      <td>0.0</td>\n",
       "      <td>0.0</td>\n",
       "    </tr>\n",
       "    <tr>\n",
       "      <th>350898</th>\n",
       "      <td>4.0</td>\n",
       "      <td>0.280149</td>\n",
       "      <td>0.184471</td>\n",
       "      <td>0.159485</td>\n",
       "      <td>0.002813</td>\n",
       "      <td>0.028179</td>\n",
       "      <td>0.087247</td>\n",
       "      <td>0.244545</td>\n",
       "      <td>1.042085</td>\n",
       "      <td>0.188757</td>\n",
       "      <td>0.153328</td>\n",
       "      <td>23.0</td>\n",
       "      <td>9.0</td>\n",
       "    </tr>\n",
       "    <tr>\n",
       "      <th>207808</th>\n",
       "      <td>21.0</td>\n",
       "      <td>1.302786</td>\n",
       "      <td>0.339653</td>\n",
       "      <td>0.133918</td>\n",
       "      <td>0.111109</td>\n",
       "      <td>0.050727</td>\n",
       "      <td>0.100621</td>\n",
       "      <td>0.771256</td>\n",
       "      <td>1.286402</td>\n",
       "      <td>1.780144</td>\n",
       "      <td>0.234107</td>\n",
       "      <td>23.0</td>\n",
       "      <td>10.0</td>\n",
       "    </tr>\n",
       "    <tr>\n",
       "      <th>408772</th>\n",
       "      <td>8.0</td>\n",
       "      <td>0.024356</td>\n",
       "      <td>0.002394</td>\n",
       "      <td>0.002441</td>\n",
       "      <td>0.002398</td>\n",
       "      <td>0.002420</td>\n",
       "      <td>0.002462</td>\n",
       "      <td>0.002661</td>\n",
       "      <td>0.030224</td>\n",
       "      <td>0.002388</td>\n",
       "      <td>0.002453</td>\n",
       "      <td>0.0</td>\n",
       "      <td>0.0</td>\n",
       "    </tr>\n",
       "    <tr>\n",
       "      <th>379377</th>\n",
       "      <td>6.0</td>\n",
       "      <td>0.697504</td>\n",
       "      <td>0.032310</td>\n",
       "      <td>0.018529</td>\n",
       "      <td>0.002477</td>\n",
       "      <td>0.002600</td>\n",
       "      <td>0.016698</td>\n",
       "      <td>0.125896</td>\n",
       "      <td>0.569860</td>\n",
       "      <td>0.002392</td>\n",
       "      <td>0.025430</td>\n",
       "      <td>0.0</td>\n",
       "      <td>0.0</td>\n",
       "    </tr>\n",
       "  </tbody>\n",
       "</table>\n",
       "</div>"
      ],
      "text/plain": [
       "       subject     emg_1     emg_2     emg_3     emg_4     emg_5     emg_6  \\\n",
       "168972     1.0  0.003127  0.349143  0.133193  0.084101  0.126605  0.412473   \n",
       "226761    23.0  0.003017  1.245100  0.508007  1.017056  0.309503  0.353393   \n",
       "366550     5.0  0.092691  0.002371  0.002638  0.002550  0.002494  0.002471   \n",
       "314893     2.0  0.002953  0.755097  0.300376  0.008140  0.002147  0.001805   \n",
       "103403    16.0 -0.014843 -0.003239 -0.001289  0.003382  0.003814  0.003955   \n",
       "350898     4.0  0.280149  0.184471  0.159485  0.002813  0.028179  0.087247   \n",
       "207808    21.0  1.302786  0.339653  0.133918  0.111109  0.050727  0.100621   \n",
       "408772     8.0  0.024356  0.002394  0.002441  0.002398  0.002420  0.002462   \n",
       "379377     6.0  0.697504  0.032310  0.018529  0.002477  0.002600  0.016698   \n",
       "\n",
       "           emg_7     emg_8     emg_9    emg_10 restimulus rerepetition  \n",
       "168972  1.017275  2.122241  0.554147  0.520487       23.0          2.0  \n",
       "226761  1.720029  0.469929  0.423712  0.150973        1.0          4.0  \n",
       "366550  0.002118  0.051506  0.002390  0.002469        0.0          0.0  \n",
       "314893  0.716398  1.932608  0.220691  0.279965       23.0          4.0  \n",
       "103403 -0.025574 -0.002685 -0.011274 -0.031537        0.0          0.0  \n",
       "350898  0.244545  1.042085  0.188757  0.153328       23.0          9.0  \n",
       "207808  0.771256  1.286402  1.780144  0.234107       23.0         10.0  \n",
       "408772  0.002661  0.030224  0.002388  0.002453        0.0          0.0  \n",
       "379377  0.125896  0.569860  0.002392  0.025430        0.0          0.0  "
      ]
     },
     "execution_count": 61,
     "metadata": {},
     "output_type": "execute_result"
    }
   ],
   "source": [
    "df_all_users.sample(9)  # Mostrar una muestra aleatoria de 5 filas del DataFrame"
   ]
  },
  {
   "cell_type": "markdown",
   "metadata": {},
   "source": [
    "`df_all_users` es donde se tiene toda la información de las señales unificadas para todos los usuarios unificada y `data` es el diccionario que almacena los datos de todos los usuarios."
   ]
  },
  {
   "cell_type": "code",
   "execution_count": 64,
   "metadata": {},
   "outputs": [],
   "source": [
    "windows_data = segmentate_data_base(data, 30, 20)"
   ]
  },
  {
   "cell_type": "code",
   "execution_count": 65,
   "metadata": {},
   "outputs": [
    {
     "name": "stdout",
     "output_type": "stream",
     "text": [
      "Sujeto 10: (798, 12, 30)\n",
      "Sujeto 11: (804, 12, 30)\n",
      "Sujeto 12: (796, 12, 30)\n",
      "Sujeto 13: (799, 12, 30)\n",
      "Sujeto 14: (792, 12, 30)\n",
      "Sujeto 15: (796, 12, 30)\n",
      "Sujeto 16: (799, 12, 30)\n",
      "Sujeto 17: (801, 12, 30)\n",
      "Sujeto 18: (798, 12, 30)\n",
      "Sujeto 19: (805, 12, 30)\n",
      "Sujeto 1: (801, 12, 30)\n",
      "Sujeto 20: (798, 12, 30)\n",
      "Sujeto 21: (804, 12, 30)\n",
      "Sujeto 22: (799, 12, 30)\n",
      "Sujeto 23: (794, 12, 30)\n",
      "Sujeto 24: (802, 12, 30)\n",
      "Sujeto 25: (800, 12, 30)\n",
      "Sujeto 26: (807, 12, 30)\n",
      "Sujeto 27: (794, 12, 30)\n",
      "Sujeto 2: (798, 12, 30)\n",
      "Sujeto 3: (797, 12, 30)\n",
      "Sujeto 4: (799, 12, 30)\n",
      "Sujeto 5: (807, 12, 30)\n",
      "Sujeto 6: (802, 12, 30)\n",
      "Sujeto 7: (797, 12, 30)\n",
      "Sujeto 8: (802, 12, 30)\n",
      "Sujeto 9: (805, 12, 30)\n"
     ]
    }
   ],
   "source": [
    "# Mostrar las formas de las ventanas generadas para cada sujeto\n",
    "for key, windows in windows_data.items():\n",
    "    print(f\"Sujeto {key}: {windows.shape}\")"
   ]
  },
  {
   "cell_type": "code",
   "execution_count": 78,
   "metadata": {},
   "outputs": [
    {
     "data": {
      "text/plain": [
       "dict_keys(['10', '11', '12', '13', '14', '15', '16', '17', '18', '19', '1', '20', '21', '22', '23', '24', '25', '26', '27', '2', '3', '4', '5', '6', '7', '8', '9'])"
      ]
     },
     "execution_count": 78,
     "metadata": {},
     "output_type": "execute_result"
    }
   ],
   "source": [
    "features_dict = get_features(data, ['RMS','WL','IAV'], window_size=30, window_increment=20)\n",
    "features_dict.keys()  # Mostrar las claves de las características extraídas para el sujeto 1"
   ]
  },
  {
   "cell_type": "code",
   "execution_count": 79,
   "metadata": {},
   "outputs": [
    {
     "name": "stdout",
     "output_type": "stream",
     "text": [
      "Sujeto 10: (798, 31)\n",
      "Sujeto 11: (804, 31)\n",
      "Sujeto 12: (796, 31)\n",
      "Sujeto 13: (799, 31)\n",
      "Sujeto 14: (792, 31)\n",
      "Sujeto 15: (796, 31)\n",
      "Sujeto 16: (799, 31)\n",
      "Sujeto 17: (801, 31)\n",
      "Sujeto 18: (798, 31)\n",
      "Sujeto 19: (805, 31)\n",
      "Sujeto 1: (801, 31)\n",
      "Sujeto 20: (798, 31)\n",
      "Sujeto 21: (804, 31)\n",
      "Sujeto 22: (799, 31)\n",
      "Sujeto 23: (794, 31)\n",
      "Sujeto 24: (802, 31)\n",
      "Sujeto 25: (800, 31)\n",
      "Sujeto 26: (807, 31)\n",
      "Sujeto 27: (794, 31)\n",
      "Sujeto 2: (798, 31)\n",
      "Sujeto 3: (797, 31)\n",
      "Sujeto 4: (799, 31)\n",
      "Sujeto 5: (807, 31)\n",
      "Sujeto 6: (802, 31)\n",
      "Sujeto 7: (797, 31)\n",
      "Sujeto 8: (802, 31)\n",
      "Sujeto 9: (805, 31)\n"
     ]
    }
   ],
   "source": [
    "for key in features_dict:\n",
    "    print(f\"Sujeto {key}: {features_dict[key].shape}\")\n"
   ]
  },
  {
   "cell_type": "code",
   "execution_count": 80,
   "metadata": {},
   "outputs": [
    {
     "data": {
      "text/plain": [
       "array([[1.86650220e-01, 6.49542247e-02, 7.95561316e-03, 2.36957462e-03,\n",
       "        2.31630801e-03, 2.33972524e-03, 1.18192854e-02, 2.53206954e-02,\n",
       "        2.16040939e-03, 2.18070240e-02, 1.06640524e-01, 7.62132102e-02,\n",
       "        7.21450165e-03, 6.80126042e-05, 9.43460987e-05, 5.81239942e-04,\n",
       "        3.46431812e-02, 7.96128577e-02, 3.66121578e-04, 3.52080585e-02,\n",
       "        5.51080419e+00, 1.81859813e+00, 2.32948032e-01, 7.10845451e-02,\n",
       "        6.94834564e-02, 6.99990608e-02, 2.58276771e-01, 6.94282062e-01,\n",
       "        6.47236241e-02, 6.12146668e-01, 0.00000000e+00]])"
      ]
     },
     "execution_count": 80,
     "metadata": {},
     "output_type": "execute_result"
    }
   ],
   "source": [
    "features_dict['10'][:1,:]"
   ]
  },
  {
   "cell_type": "code",
   "execution_count": 87,
   "metadata": {},
   "outputs": [
    {
     "data": {
      "text/plain": [
       "(801, 31)"
      ]
     },
     "execution_count": 87,
     "metadata": {},
     "output_type": "execute_result"
    }
   ],
   "source": [
    "features_dict.keys()\n",
    "features_dict['1'].shape  # Mostrar la forma de las características extraídas para el sujeto 1"
   ]
  },
  {
   "cell_type": "markdown",
   "metadata": {},
   "source": [
    "### Almacenamiendo de las features\n",
    "\n",
    "Las features se almacenan en un archivo csv:"
   ]
  },
  {
   "cell_type": "markdown",
   "metadata": {},
   "source": [
    "Vemos que el resultado de lo anterior es in diccionario con las caracteristicas por usuario"
   ]
  },
  {
   "cell_type": "code",
   "execution_count": 131,
   "metadata": {},
   "outputs": [
    {
     "data": {
      "text/plain": [
       "'./local/data/features_subset'"
      ]
     },
     "execution_count": 131,
     "metadata": {},
     "output_type": "execute_result"
    }
   ],
   "source": [
    "FEATURES_SUBSET_DATA_DIR"
   ]
  },
  {
   "cell_type": "code",
   "execution_count": 132,
   "metadata": {},
   "outputs": [
    {
     "name": "stdout",
     "output_type": "stream",
     "text": [
      "Guardado: ./local/data/features_subset\\sujeto_10_features.csv\n",
      "Guardado: ./local/data/features_subset\\sujeto_11_features.csv\n",
      "Guardado: ./local/data/features_subset\\sujeto_12_features.csv\n",
      "Guardado: ./local/data/features_subset\\sujeto_13_features.csv\n",
      "Guardado: ./local/data/features_subset\\sujeto_14_features.csv\n",
      "Guardado: ./local/data/features_subset\\sujeto_15_features.csv\n",
      "Guardado: ./local/data/features_subset\\sujeto_16_features.csv\n",
      "Guardado: ./local/data/features_subset\\sujeto_17_features.csv\n",
      "Guardado: ./local/data/features_subset\\sujeto_18_features.csv\n",
      "Guardado: ./local/data/features_subset\\sujeto_19_features.csv\n",
      "Guardado: ./local/data/features_subset\\sujeto_1_features.csv\n",
      "Guardado: ./local/data/features_subset\\sujeto_20_features.csv\n",
      "Guardado: ./local/data/features_subset\\sujeto_21_features.csv\n",
      "Guardado: ./local/data/features_subset\\sujeto_22_features.csv\n",
      "Guardado: ./local/data/features_subset\\sujeto_23_features.csv\n",
      "Guardado: ./local/data/features_subset\\sujeto_24_features.csv\n",
      "Guardado: ./local/data/features_subset\\sujeto_25_features.csv\n",
      "Guardado: ./local/data/features_subset\\sujeto_26_features.csv\n",
      "Guardado: ./local/data/features_subset\\sujeto_27_features.csv\n",
      "Guardado: ./local/data/features_subset\\sujeto_2_features.csv\n",
      "Guardado: ./local/data/features_subset\\sujeto_3_features.csv\n",
      "Guardado: ./local/data/features_subset\\sujeto_4_features.csv\n",
      "Guardado: ./local/data/features_subset\\sujeto_5_features.csv\n",
      "Guardado: ./local/data/features_subset\\sujeto_6_features.csv\n",
      "Guardado: ./local/data/features_subset\\sujeto_7_features.csv\n",
      "Guardado: ./local/data/features_subset\\sujeto_8_features.csv\n",
      "Guardado: ./local/data/features_subset\\sujeto_9_features.csv\n"
     ]
    }
   ],
   "source": [
    "save_features_to_csv(\n",
    "    features_dict = features_dict,\n",
    "    feature_list= ['RMS','WL','IAV'],\n",
    "    output_dir = FEATURES_SUBSET_DATA_DIR,\n",
    "    label_column_name='restimulus'\n",
    ")"
   ]
  },
  {
   "cell_type": "markdown",
   "metadata": {},
   "source": []
  },
  {
   "cell_type": "markdown",
   "metadata": {},
   "source": [
    "## Conclusiones\n",
    "\n",
    "Al finalizar este notebook se logro.\n",
    "* Se logro aplicar la segmentación y comprender el formato de lo datos arrojados en la matriz asociada a los segmentos.\n",
    "* Se obtuvo el valor RMS de todo.\n",
    "* Se mostro un dataframe con el valor RMS para el sujeto 1.\n",
    "* En teoria se pudo guardar los datos asociados al sujeto en cuestion."
   ]
  }
 ],
 "metadata": {
  "colab": {
   "collapsed_sections": [
    "FIKrkASRd_qR"
   ],
   "name": "04_2_RegresionLineal.ipynb",
   "provenance": []
  },
  "kernelspec": {
   "display_name": "base",
   "language": "python",
   "name": "python3"
  },
  "language_info": {
   "codemirror_mode": {
    "name": "ipython",
    "version": 3
   },
   "file_extension": ".py",
   "mimetype": "text/x-python",
   "name": "python",
   "nbconvert_exporter": "python",
   "pygments_lexer": "ipython3",
   "version": "3.12.7"
  }
 },
 "nbformat": 4,
 "nbformat_minor": 4
}
