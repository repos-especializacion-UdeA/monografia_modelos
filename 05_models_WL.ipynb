{
  "cells": [
    {
      "cell_type": "markdown",
      "id": "ba874dd2",
      "metadata": {
        "id": "ba874dd2"
      },
      "source": [
        "[![Open in Colab](https://colab.research.google.com/assets/colab-badge.svg)](https://colab.research.google.com/github/repos-especializacion-UdeA/monografia_modelos/blob/main/05_models_WL.ipynb)"
      ]
    },
    {
      "cell_type": "markdown",
      "id": "d751c1ff",
      "metadata": {
        "id": "d751c1ff"
      },
      "source": [
        "# Modelos a partir de las caracteristicas WL"
      ]
    },
    {
      "cell_type": "code",
      "execution_count": 1,
      "id": "9b5fa07f",
      "metadata": {
        "colab": {
          "base_uri": "https://localhost:8080/"
        },
        "id": "9b5fa07f",
        "outputId": "510dd96c-9c0b-4a7f-cd26-2a9bc5f0a9ae"
      },
      "outputs": [
        {
          "name": "stdout",
          "output_type": "stream",
          "text": [
            "Ejecucion del notebook en entorno local\n"
          ]
        }
      ],
      "source": [
        "try:\n",
        "    import google.colab\n",
        "    !wget --no-cache -O init.py -q https://raw.githubusercontent.com/repos-especializacion-UdeA/monografia_modelos/refs/heads/main/init.py\n",
        "    from init import init; init(force_download=False)\n",
        "except ImportError:\n",
        "    print(\"Ejecucion del notebook en entorno local\")"
      ]
    },
    {
      "cell_type": "markdown",
      "id": "1d5b990b",
      "metadata": {
        "id": "1d5b990b"
      },
      "source": [
        "## Objetivo a desarrollar\n",
        "\n",
        "* Obtener diferentes modelos usando la caracteristica WL"
      ]
    },
    {
      "cell_type": "markdown",
      "id": "6bef7fd3",
      "metadata": {
        "id": "6bef7fd3"
      },
      "source": [
        "## Actividades\n",
        "\n",
        "To Do..."
      ]
    },
    {
      "cell_type": "markdown",
      "id": "cb068b48",
      "metadata": {
        "id": "cb068b48"
      },
      "source": [
        "## 1. Librerias y configuraciones previas"
      ]
    },
    {
      "cell_type": "code",
      "execution_count": 2,
      "id": "3b383ccd",
      "metadata": {
        "colab": {
          "base_uri": "https://localhost:8080/",
          "height": 393
        },
        "id": "3b383ccd",
        "outputId": "db762873-bb11-463f-d372-a3b13954bff7"
      },
      "outputs": [
        {
          "name": "stdout",
          "output_type": "stream",
          "text": [
            "La librería 'scipy' está instalada y se ha importado correctamente.\n",
            "La librería 'libEMG' está instalada y se ha importado correctamente.\n"
          ]
        }
      ],
      "source": [
        "# Verificacion de librerias necesarias antes de empezar\n",
        "try:\n",
        "    import scipy.io\n",
        "    print(\"La librería 'scipy' está instalada y se ha importado correctamente.\")\n",
        "except ImportError:\n",
        "    print(\"La librería 'scipy' no está instalada.\")\n",
        "    print(\"Instalando 'scipy'...\")\n",
        "    !pip install scipy\n",
        "\n",
        "try:\n",
        "    import libemg\n",
        "    print(\"La librería 'libEMG' está instalada y se ha importado correctamente.\")\n",
        "except ImportError:\n",
        "    print(\"La librería 'libEMG' no está instalada.\")\n",
        "    print(\"Instalando 'libEMG'...\")\n",
        "    !pip install libemg\n"
      ]
    },
    {
      "cell_type": "code",
      "execution_count": 5,
      "id": "fa14c883",
      "metadata": {
        "id": "fa14c883"
      },
      "outputs": [],
      "source": [
        "# Tratamiento de datos\n",
        "# ==============================================================================\n",
        "import pandas as pd\n",
        "import numpy as np\n",
        "\n",
        "# Almacenar en caché los resultados de funciones en el disco\n",
        "# ==============================================================================\n",
        "import joblib\n",
        "\n",
        "\n",
        "# Gestion de librerias\n",
        "# ==============================================================================\n",
        "from importlib import reload\n",
        "\n",
        "# Matemáticas y estadísticas\n",
        "# ==============================================================================\n",
        "import math\n",
        "\n",
        "# Preparación de datos\n",
        "# ==============================================================================\n",
        "from imblearn.over_sampling import RandomOverSampler\n",
        "from sklearn.neighbors import LocalOutlierFactor\n",
        "from imblearn.under_sampling import RandomUnderSampler\n",
        "from sklearn.preprocessing import LabelEncoder, OneHotEncoder\n",
        "from sklearn.preprocessing import StandardScaler\n",
        "\n",
        "# Gráficos\n",
        "# ==============================================================================\n",
        "import matplotlib.pyplot as plt\n",
        "from matplotlib import style\n",
        "import seaborn as sns\n",
        "\n",
        "\n",
        "# Configuración warnings\n",
        "# ==============================================================================\n",
        "import warnings\n",
        "warnings.filterwarnings('ignore')\n",
        "\n",
        "# Formateo y estilo\n",
        "# ==============================================================================\n",
        "from IPython.display import Markdown, display\n",
        "\n",
        "# Biblioteca scipy y componentes\n",
        "# ==============================================================================\n",
        "import scipy.io\n",
        "from scipy import signal\n",
        "\n",
        "# Bliblioteca de archivos\n",
        "# ==============================================================================\n",
        "import requests\n",
        "from tqdm import tqdm\n",
        "import os\n",
        "import zipfile\n",
        "import sys\n",
        "import copy\n",
        "import re\n",
        "\n",
        "# Biblioteca libemg\n",
        "# ==============================================================================\n",
        "from libemg.data_handler import OfflineDataHandler, RegexFilter\n",
        "from libemg.utils import get_windows\n",
        "from libemg.feature_extractor import FeatureExtractor\n",
        "\n",
        "# Asumo que estas importaciones ya están en tu código:\n",
        "from sklearn.svm import SVC\n",
        "from sklearn.ensemble import RandomForestClassifier\n",
        "from sklearn.neighbors import KNeighborsClassifier\n",
        "from sklearn.model_selection import GridSearchCV\n",
        "from sklearn.metrics import accuracy_score, classification_report\n",
        "from sklearn.model_selection import train_test_split\n",
        "from sklearn.metrics import confusion_matrix\n",
        "\n",
        "from sklearn.metrics import roc_curve, auc\n",
        "from sklearn.preprocessing import label_binarize\n",
        "from sklearn.multiclass import OneVsRestClassifier\n",
        "from sklearn.svm import SVC\n",
        "from itertools import cycle"
      ]
    },
    {
      "cell_type": "markdown",
      "id": "ad08445c",
      "metadata": {
        "id": "ad08445c"
      },
      "source": [
        "# 2. Funciones"
      ]
    },
    {
      "cell_type": "code",
      "execution_count": 6,
      "id": "4b27b820",
      "metadata": {
        "id": "4b27b820"
      },
      "outputs": [],
      "source": [
        "def load_data_to_model_csv(directory_path):\n",
        "    \"\"\"\n",
        "    Carga todos los archivos CSV de un directorio, identifica si son conjuntos balanceados o desbalanceados\n",
        "    según el nombre del archivo, y agrupa los datos en dos diccionarios.\n",
        "\n",
        "    Args:\n",
        "        directory_path (str): Ruta al directorio que contiene archivos CSV.\n",
        "\n",
        "    Returns:\n",
        "        tuple: (dict_imbalanced, dict_balanced) donde cada diccionario contiene DataFrames indexados por un identificador extraído del nombre del archivo.\n",
        "    \"\"\"\n",
        "    all_files = [f for f in os.listdir(directory_path) if f.endswith('.csv')]\n",
        "    print(f\"Archivos encontrados: {all_files}\")\n",
        "\n",
        "    dict_imbalanced = {}\n",
        "    dict_balanced = {}\n",
        "\n",
        "    for file in all_files:\n",
        "        file_path = os.path.join(directory_path, file)\n",
        "        try:\n",
        "            df = pd.read_csv(file_path)\n",
        "        except Exception as e:\n",
        "            print(f\"Error leyendo el archivo {file}: {e}\")\n",
        "            continue\n",
        "\n",
        "        print(f\"Archivo: {file}\")\n",
        "\n",
        "        # Se asume que el identificador está antes del primer guion bajo\n",
        "        feature = file.split('_')[0]\n",
        "        feature = feature.split('.')[0]  # Elimina la extensión del archivo\n",
        "\n",
        "        # Clasifica en el diccionario correspondiente\n",
        "        if 'imbalanced' in file.lower():\n",
        "            dict_imbalanced[feature] = df\n",
        "        else:\n",
        "            dict_balanced[feature] = df\n",
        "\n",
        "        print(f\"Datos cargados para '{feature}': {df.shape[0]} filas, {df.shape[1]} columnas\")\n",
        "\n",
        "    return dict_imbalanced, dict_balanced"
      ]
    },
    {
      "cell_type": "code",
      "execution_count": 7,
      "id": "22dbd43b",
      "metadata": {
        "id": "22dbd43b"
      },
      "outputs": [],
      "source": [
        "def train_and_select_model(\n",
        "    X_train: pd.DataFrame,\n",
        "    y_train: pd.Series,\n",
        "    X_test: pd.DataFrame,\n",
        "    y_test: pd.Series,\n",
        "    modelo_tipo: str = 'SVM'\n",
        "):\n",
        "    \"\"\"\n",
        "    Entrena y selecciona el mejor modelo (SVM, Random Forest o KNN) usando GridSearchCV.\n",
        "\n",
        "    Args:\n",
        "        X_train (pd.DataFrame): Características del conjunto de entrenamiento.\n",
        "        y_train (pd.Series): Etiquetas del conjunto de entrenamiento.\n",
        "        X_test (pd.DataFrame): Características del conjunto de prueba.\n",
        "        y_test (pd.Series): Etiquetas del conjunto de prueba.\n",
        "        modelo_tipo (str, opcional): El tipo de modelo a entrenar.\n",
        "                                     Debe ser 'SVM', 'RF' o 'KNN'. Por defecto es 'SVM'.\n",
        "\n",
        "    Returns:\n",
        "        objeto: El mejor modelo entrenado (best_estimator_ de GridSearchCV),\n",
        "                o None si el modelo_tipo no es válido.\n",
        "    \"\"\"\n",
        "\n",
        "    # Diccionario para configurar los modelos y sus respectivos parámetros\n",
        "    modelos_config = {\n",
        "        'SVM': {\n",
        "            'estimador': SVC(random_state=42),\n",
        "            'param_grid': {\n",
        "                'C': [0.1, 1, 10, 100],\n",
        "                'gamma': [1, 0.1, 0.01, 0.001],\n",
        "                'kernel': ['rbf', 'linear']\n",
        "            }\n",
        "        },\n",
        "        'RF': {\n",
        "            'estimador': RandomForestClassifier(random_state=42),\n",
        "            'param_grid': {\n",
        "                'n_estimators': [50, 100, 200],\n",
        "                'max_depth': [None, 10, 20],\n",
        "                'min_samples_split': [2, 5, 10],\n",
        "                'min_samples_leaf': [1, 2, 4]\n",
        "            }\n",
        "        },\n",
        "        'KNN': {\n",
        "            'estimador': KNeighborsClassifier(),\n",
        "            'param_grid': {\n",
        "                'n_neighbors': [3, 5, 7, 9],\n",
        "                'weights': ['uniform', 'distance'],\n",
        "                'algorithm': ['auto', 'ball_tree', 'kd_tree'],\n",
        "                'metric': ['euclidean', 'manhattan', 'minkowski']\n",
        "            }\n",
        "        }\n",
        "    }\n",
        "\n",
        "    # Validación de la entrada del modelo\n",
        "    if modelo_tipo not in modelos_config:\n",
        "        print(f\"Error: Modelo '{modelo_tipo}' no válido. Por favor, elige entre {list(modelos_config.keys())}.\")\n",
        "        return None\n",
        "\n",
        "    # Obtener la configuración para el modelo seleccionado\n",
        "    config_actual = modelos_config[modelo_tipo]\n",
        "    estimador_actual = config_actual['estimador']\n",
        "    param_grid_actual = config_actual['param_grid']\n",
        "\n",
        "    # Configurar y ejecutar GridSearchCV\n",
        "    print(f\"Entrenando modelo {modelo_tipo}...\")\n",
        "    grid_search = GridSearchCV(\n",
        "        estimator=estimador_actual,\n",
        "        param_grid=param_grid_actual,\n",
        "        cv=5,\n",
        "        scoring='accuracy',\n",
        "        verbose=1 # Puedes cambiar a 2 para más detalle o 0 para menos\n",
        "    )\n",
        "\n",
        "    grid_search.fit(X_train, y_train)\n",
        "\n",
        "    mejor_modelo = grid_search.best_estimator_\n",
        "\n",
        "    # Imprimir los mejores hiperparámetros\n",
        "    print(f\"\\nMejores hiperparámetros para {modelo_tipo}: {grid_search.best_params_}\")\n",
        "\n",
        "    # Realizar predicciones y evaluar el modelo\n",
        "    y_pred = mejor_modelo.predict(X_test)\n",
        "    accuracy = accuracy_score(y_test, y_pred)\n",
        "\n",
        "    print(f\"Precisión del mejor modelo {modelo_tipo} en el conjunto de prueba: {accuracy:.2f}\")\n",
        "    print(f\"Reporte de Clasificación para el mejor modelo {modelo_tipo}:\\n{classification_report(y_test, y_pred)}\")\n",
        "\n",
        "    return mejor_modelo"
      ]
    },
    {
      "cell_type": "markdown",
      "id": "a7d9551b",
      "metadata": {
        "id": "a7d9551b"
      },
      "source": [
        "## 3. Variables del entorno"
      ]
    },
    {
      "cell_type": "code",
      "execution_count": 8,
      "id": "7c1bd22b",
      "metadata": {
        "colab": {
          "base_uri": "https://localhost:8080/"
        },
        "id": "7c1bd22b",
        "outputId": "ffbdea06-7644-4482-fffd-f7efa6fca4f3"
      },
      "outputs": [
        {
          "name": "stdout",
          "output_type": "stream",
          "text": [
            "Directorio de trabajo: ./\n",
            "Directorio de datos: ./local/data/\n",
            "Directorio de datos crudos: ./local/data/raw\n",
            "Directorio de datos crudos (numpy): ./local/data/raw_numpy\n",
            "Directorio de datos crudos (subconjunto): ./local/data/raw_subset\n",
            "Directorio de datos filtrados (subconjunto): ./local/data/filtered_subset\n",
            "Directorio de datos de características (subconjunto): ./local/data/features_subset\n",
            "Directorio de datos de características (subconjunto balanceado): ./local/data/features_subset_balanced\n"
          ]
        }
      ],
      "source": [
        "ROOT_DIR =  './'\n",
        "DATA_DIR =  ROOT_DIR + 'local/data/'\n",
        "if not os.path.exists(ROOT_DIR):\n",
        "    os.makedirs(ROOT_DIR)\n",
        "RAW_DATA_DIR = DATA_DIR + 'raw'\n",
        "if not os.path.exists(RAW_DATA_DIR):\n",
        "    os.makedirs(RAW_DATA_DIR)\n",
        "RAW_DATA_DIR_NPY = DATA_DIR + 'raw_numpy'\n",
        "if not os.path.exists(RAW_DATA_DIR_NPY):\n",
        "    os.makedirs(RAW_DATA_DIR_NPY)\n",
        "RAW_SUBSET_DATA_DIR = DATA_DIR + 'raw_subset'\n",
        "if not os.path.exists(RAW_SUBSET_DATA_DIR):\n",
        "    os.makedirs(RAW_SUBSET_DATA_DIR)\n",
        "FILTERED_SUBSET_DATA_DIR = DATA_DIR + 'filtered_subset'\n",
        "if not os.path.exists(FILTERED_SUBSET_DATA_DIR):\n",
        "    os.makedirs(FILTERED_SUBSET_DATA_DIR)\n",
        "FEATURES_SUBSET_DATA_DIR = DATA_DIR + 'features_subset'\n",
        "if not os.path.exists(FEATURES_SUBSET_DATA_DIR):\n",
        "    os.makedirs(FEATURES_SUBSET_DATA_DIR)\n",
        "FEATURES_SUBSET_BALANCED_DATA = DATA_DIR + 'features_subset_balanced'\n",
        "if not os.path.exists(FEATURES_SUBSET_BALANCED_DATA):\n",
        "    os.makedirs(FEATURES_SUBSET_BALANCED_DATA)\n",
        "\n",
        "print(\"Directorio de trabajo:\", ROOT_DIR)\n",
        "print(\"Directorio de datos:\", DATA_DIR)\n",
        "print(\"Directorio de datos crudos:\", RAW_DATA_DIR)\n",
        "print(\"Directorio de datos crudos (numpy):\", RAW_DATA_DIR_NPY)\n",
        "print(\"Directorio de datos crudos (subconjunto):\", RAW_SUBSET_DATA_DIR)\n",
        "print(\"Directorio de datos filtrados (subconjunto):\", FILTERED_SUBSET_DATA_DIR)\n",
        "print(\"Directorio de datos de características (subconjunto):\", FEATURES_SUBSET_DATA_DIR)\n",
        "print(\"Directorio de datos de características (subconjunto balanceado):\", FEATURES_SUBSET_BALANCED_DATA)"
      ]
    },
    {
      "cell_type": "code",
      "execution_count": 9,
      "id": "8cf552cd",
      "metadata": {
        "colab": {
          "base_uri": "https://localhost:8080/"
        },
        "id": "8cf552cd",
        "outputId": "a712a5b3-220f-4f78-934b-17b051920035"
      },
      "outputs": [
        {
          "name": "stdout",
          "output_type": "stream",
          "text": [
            "Directorio de modelos: ./local/models\n",
            "Directorio de modelos de clasificación: ./local/models/classification\n",
            "Directorio de escaladores: ./local/models/scalers\n"
          ]
        }
      ],
      "source": [
        "MODELS_DIR = ROOT_DIR + 'local/models'\n",
        "if not os.path.exists(MODELS_DIR):\n",
        "    os.makedirs(MODELS_DIR)\n",
        "\n",
        "CLASSIFICARION_MODELS_DIR = MODELS_DIR + '/classification'\n",
        "if not os.path.exists(CLASSIFICARION_MODELS_DIR):\n",
        "    os.makedirs(CLASSIFICARION_MODELS_DIR)\n",
        "\n",
        "SCALERS_DIR = MODELS_DIR + '/scalers'\n",
        "if not os.path.exists(SCALERS_DIR):\n",
        "    os.makedirs(SCALERS_DIR)\n",
        "\n",
        "print(\"Directorio de modelos:\", MODELS_DIR)\n",
        "print(\"Directorio de modelos de clasificación:\", CLASSIFICARION_MODELS_DIR)\n",
        "print(\"Directorio de escaladores:\", SCALERS_DIR)"
      ]
    },
    {
      "cell_type": "markdown",
      "id": "61b2acf7",
      "metadata": {
        "id": "61b2acf7"
      },
      "source": [
        "## 4. Carga del dataset de las caracteristicas"
      ]
    },
    {
      "cell_type": "markdown",
      "id": "e7fc3bc6",
      "metadata": {
        "id": "e7fc3bc6"
      },
      "source": [
        "Carga y combinación de los datos en un solo dataframe"
      ]
    },
    {
      "cell_type": "code",
      "execution_count": 10,
      "id": "4a11bee2",
      "metadata": {
        "colab": {
          "base_uri": "https://localhost:8080/",
          "height": 36
        },
        "id": "4a11bee2",
        "outputId": "7a5ddbb3-fa0d-40cf-8264-cd5c88f6e3e4"
      },
      "outputs": [
        {
          "data": {
            "text/plain": [
              "'./local/data/features_subset_balanced'"
            ]
          },
          "execution_count": 10,
          "metadata": {},
          "output_type": "execute_result"
        }
      ],
      "source": [
        "FEATURES_SUBSET_BALANCED_DATA"
      ]
    },
    {
      "cell_type": "markdown",
      "id": "9dfcd569",
      "metadata": {
        "id": "9dfcd569"
      },
      "source": [
        "El dataframe en el que se combinaron los datos fue: `merged_df`"
      ]
    },
    {
      "cell_type": "code",
      "execution_count": 11,
      "id": "265112c7",
      "metadata": {
        "colab": {
          "base_uri": "https://localhost:8080/"
        },
        "id": "265112c7",
        "outputId": "bc8022c6-4b57-40ae-b5c0-0dbd9e8c29ae"
      },
      "outputs": [
        {
          "name": "stdout",
          "output_type": "stream",
          "text": [
            "Archivos encontrados: ['IAV_balanced.csv', 'IAV_imbalanced.csv', 'RMS_balanced.csv', 'RMS_imbalanced.csv', 'WL_balanced.csv', 'WL_imbalanced.csv']\n",
            "Archivo: IAV_balanced.csv\n",
            "Datos cargados para 'IAV': 13272 filas, 11 columnas\n",
            "Archivo: IAV_imbalanced.csv\n",
            "Datos cargados para 'IAV': 21594 filas, 14 columnas\n",
            "Archivo: RMS_balanced.csv\n",
            "Datos cargados para 'RMS': 13272 filas, 11 columnas\n",
            "Archivo: RMS_imbalanced.csv\n",
            "Datos cargados para 'RMS': 21594 filas, 14 columnas\n",
            "Archivo: WL_balanced.csv\n",
            "Datos cargados para 'WL': 13272 filas, 11 columnas\n",
            "Archivo: WL_imbalanced.csv\n",
            "Datos cargados para 'WL': 21594 filas, 14 columnas\n"
          ]
        }
      ],
      "source": [
        "# Load and merge CSV files\n",
        "dict_imbalanced, dict_balanced = load_data_to_model_csv(FEATURES_SUBSET_BALANCED_DATA)"
      ]
    },
    {
      "cell_type": "markdown",
      "id": "966a272e",
      "metadata": {
        "id": "966a272e"
      },
      "source": [
        "En los diccionarios `dict_imbalanced`, `dict_balanced` estan las caracteristicas de las señales capturadas para cada usuario. El diccionario `dict_imbalanced` se usara luego para realizar un clustering para clasificación usando kmeans."
      ]
    },
    {
      "cell_type": "code",
      "execution_count": 15,
      "id": "16e01a09",
      "metadata": {
        "colab": {
          "base_uri": "https://localhost:8080/"
        },
        "id": "16e01a09",
        "outputId": "2f172048-3138-46e9-be9f-20a2bc257c49"
      },
      "outputs": [
        {
          "data": {
            "text/plain": [
              "dict_keys(['WL', 'IAV', 'RMS'])"
            ]
          },
          "execution_count": 15,
          "metadata": {},
          "output_type": "execute_result"
        }
      ],
      "source": [
        "dict_balanced.keys()"
      ]
    },
    {
      "cell_type": "code",
      "execution_count": 12,
      "id": "d457d3a1",
      "metadata": {
        "colab": {
          "base_uri": "https://localhost:8080/"
        },
        "id": "d457d3a1",
        "outputId": "1833802c-9ba3-445e-8f41-0f03301d142e"
      },
      "outputs": [
        {
          "name": "stdout",
          "output_type": "stream",
          "text": [
            "IAV: (13272, 11)\n",
            "RMS: (13272, 11)\n",
            "WL: (13272, 11)\n"
          ]
        }
      ],
      "source": [
        "for feature_name, df in dict_balanced.items():\n",
        "    print(f\"{feature_name}: {df.shape}\")"
      ]
    },
    {
      "cell_type": "code",
      "execution_count": 13,
      "id": "5dab912e",
      "metadata": {
        "colab": {
          "base_uri": "https://localhost:8080/",
          "height": 206
        },
        "id": "5dab912e",
        "outputId": "20adb39a-a504-48f1-e201-72ca14cd943a"
      },
      "outputs": [
        {
          "data": {
            "text/html": [
              "<div>\n",
              "<style scoped>\n",
              "    .dataframe tbody tr th:only-of-type {\n",
              "        vertical-align: middle;\n",
              "    }\n",
              "\n",
              "    .dataframe tbody tr th {\n",
              "        vertical-align: top;\n",
              "    }\n",
              "\n",
              "    .dataframe thead th {\n",
              "        text-align: right;\n",
              "    }\n",
              "</style>\n",
              "<table border=\"1\" class=\"dataframe\">\n",
              "  <thead>\n",
              "    <tr style=\"text-align: right;\">\n",
              "      <th></th>\n",
              "      <th>WL_ch1</th>\n",
              "      <th>WL_ch2</th>\n",
              "      <th>WL_ch3</th>\n",
              "      <th>WL_ch4</th>\n",
              "      <th>WL_ch5</th>\n",
              "      <th>WL_ch6</th>\n",
              "      <th>WL_ch7</th>\n",
              "      <th>WL_ch8</th>\n",
              "      <th>WL_ch9</th>\n",
              "      <th>WL_ch10</th>\n",
              "      <th>restimulus</th>\n",
              "    </tr>\n",
              "  </thead>\n",
              "  <tbody>\n",
              "    <tr>\n",
              "      <th>0</th>\n",
              "      <td>0.000475</td>\n",
              "      <td>1.626367e-03</td>\n",
              "      <td>0.001869</td>\n",
              "      <td>0.001035</td>\n",
              "      <td>0.004105</td>\n",
              "      <td>0.010771</td>\n",
              "      <td>0.037287</td>\n",
              "      <td>0.142162</td>\n",
              "      <td>0.005544</td>\n",
              "      <td>0.037949</td>\n",
              "      <td>0.0</td>\n",
              "    </tr>\n",
              "    <tr>\n",
              "      <th>1</th>\n",
              "      <td>0.000375</td>\n",
              "      <td>1.502025e-04</td>\n",
              "      <td>0.000634</td>\n",
              "      <td>0.000025</td>\n",
              "      <td>0.006091</td>\n",
              "      <td>0.013155</td>\n",
              "      <td>0.001987</td>\n",
              "      <td>0.002508</td>\n",
              "      <td>0.001761</td>\n",
              "      <td>0.032935</td>\n",
              "      <td>0.0</td>\n",
              "    </tr>\n",
              "    <tr>\n",
              "      <th>2</th>\n",
              "      <td>0.000001</td>\n",
              "      <td>1.533455e-07</td>\n",
              "      <td>0.000067</td>\n",
              "      <td>0.000003</td>\n",
              "      <td>0.000416</td>\n",
              "      <td>0.005391</td>\n",
              "      <td>0.001141</td>\n",
              "      <td>0.000001</td>\n",
              "      <td>0.002737</td>\n",
              "      <td>0.001122</td>\n",
              "      <td>0.0</td>\n",
              "    </tr>\n",
              "    <tr>\n",
              "      <th>3</th>\n",
              "      <td>0.036099</td>\n",
              "      <td>3.390028e-03</td>\n",
              "      <td>0.000168</td>\n",
              "      <td>0.000282</td>\n",
              "      <td>0.000037</td>\n",
              "      <td>0.000780</td>\n",
              "      <td>0.002508</td>\n",
              "      <td>0.038131</td>\n",
              "      <td>0.000002</td>\n",
              "      <td>0.006464</td>\n",
              "      <td>0.0</td>\n",
              "    </tr>\n",
              "    <tr>\n",
              "      <th>4</th>\n",
              "      <td>0.123687</td>\n",
              "      <td>1.827021e-03</td>\n",
              "      <td>0.000733</td>\n",
              "      <td>0.000173</td>\n",
              "      <td>0.000089</td>\n",
              "      <td>0.000077</td>\n",
              "      <td>0.007238</td>\n",
              "      <td>0.030180</td>\n",
              "      <td>0.000279</td>\n",
              "      <td>0.012079</td>\n",
              "      <td>0.0</td>\n",
              "    </tr>\n",
              "  </tbody>\n",
              "</table>\n",
              "</div>"
            ],
            "text/plain": [
              "     WL_ch1        WL_ch2    WL_ch3    WL_ch4    WL_ch5    WL_ch6    WL_ch7  \\\n",
              "0  0.000475  1.626367e-03  0.001869  0.001035  0.004105  0.010771  0.037287   \n",
              "1  0.000375  1.502025e-04  0.000634  0.000025  0.006091  0.013155  0.001987   \n",
              "2  0.000001  1.533455e-07  0.000067  0.000003  0.000416  0.005391  0.001141   \n",
              "3  0.036099  3.390028e-03  0.000168  0.000282  0.000037  0.000780  0.002508   \n",
              "4  0.123687  1.827021e-03  0.000733  0.000173  0.000089  0.000077  0.007238   \n",
              "\n",
              "     WL_ch8    WL_ch9   WL_ch10  restimulus  \n",
              "0  0.142162  0.005544  0.037949         0.0  \n",
              "1  0.002508  0.001761  0.032935         0.0  \n",
              "2  0.000001  0.002737  0.001122         0.0  \n",
              "3  0.038131  0.000002  0.006464         0.0  \n",
              "4  0.030180  0.000279  0.012079         0.0  "
            ]
          },
          "execution_count": 13,
          "metadata": {},
          "output_type": "execute_result"
        }
      ],
      "source": [
        "# Display the first few rows of the first DataFrame\n",
        "df_wl_balanced = dict_balanced['WL'].copy()\n",
        "df_wl_balanced.head()"
      ]
    },
    {
      "cell_type": "code",
      "execution_count": 14,
      "id": "a2ccf319",
      "metadata": {
        "colab": {
          "base_uri": "https://localhost:8080/"
        },
        "id": "a2ccf319",
        "outputId": "50d0756d-c57f-4734-f600-5aaf7088d775"
      },
      "outputs": [
        {
          "name": "stdout",
          "output_type": "stream",
          "text": [
            "<class 'pandas.core.frame.DataFrame'>\n",
            "RangeIndex: 13272 entries, 0 to 13271\n",
            "Data columns (total 11 columns):\n",
            " #   Column      Non-Null Count  Dtype  \n",
            "---  ------      --------------  -----  \n",
            " 0   WL_ch1      13272 non-null  float64\n",
            " 1   WL_ch2      13272 non-null  float64\n",
            " 2   WL_ch3      13272 non-null  float64\n",
            " 3   WL_ch4      13272 non-null  float64\n",
            " 4   WL_ch5      13272 non-null  float64\n",
            " 5   WL_ch6      13272 non-null  float64\n",
            " 6   WL_ch7      13272 non-null  float64\n",
            " 7   WL_ch8      13272 non-null  float64\n",
            " 8   WL_ch9      13272 non-null  float64\n",
            " 9   WL_ch10     13272 non-null  float64\n",
            " 10  restimulus  13272 non-null  float64\n",
            "dtypes: float64(11)\n",
            "memory usage: 1.1 MB\n"
          ]
        }
      ],
      "source": [
        "df_wl_balanced.info()"
      ]
    },
    {
      "cell_type": "code",
      "execution_count": 15,
      "id": "8ee7093e",
      "metadata": {
        "colab": {
          "base_uri": "https://localhost:8080/"
        },
        "id": "8ee7093e",
        "outputId": "8a43857b-6bea-4d36-fa2e-ad29fdd51adf"
      },
      "outputs": [
        {
          "name": "stdout",
          "output_type": "stream",
          "text": [
            "<class 'pandas.core.frame.DataFrame'>\n",
            "RangeIndex: 13272 entries, 0 to 13271\n",
            "Data columns (total 11 columns):\n",
            " #   Column      Non-Null Count  Dtype   \n",
            "---  ------      --------------  -----   \n",
            " 0   WL_ch1      13272 non-null  float64 \n",
            " 1   WL_ch2      13272 non-null  float64 \n",
            " 2   WL_ch3      13272 non-null  float64 \n",
            " 3   WL_ch4      13272 non-null  float64 \n",
            " 4   WL_ch5      13272 non-null  float64 \n",
            " 5   WL_ch6      13272 non-null  float64 \n",
            " 6   WL_ch7      13272 non-null  float64 \n",
            " 7   WL_ch8      13272 non-null  float64 \n",
            " 8   WL_ch9      13272 non-null  float64 \n",
            " 9   WL_ch10     13272 non-null  float64 \n",
            " 10  restimulus  13272 non-null  category\n",
            "dtypes: category(1), float64(10)\n",
            "memory usage: 1.0 MB\n"
          ]
        }
      ],
      "source": [
        "df_wl_balanced['restimulus'] = df_wl_balanced['restimulus'].astype('category')\n",
        "df_wl_balanced.info()"
      ]
    },
    {
      "cell_type": "code",
      "execution_count": 16,
      "id": "5dcdac9b",
      "metadata": {
        "colab": {
          "base_uri": "https://localhost:8080/",
          "height": 607
        },
        "id": "5dcdac9b",
        "outputId": "04425731-cca5-4cc3-8ee6-7a8b9e07195d"
      },
      "outputs": [
        {
          "data": {
            "image/png": "[encoded data removed]",
            "text/plain": [
              "<Figure size 1000x600 with 1 Axes>"
            ]
          },
          "metadata": {},
          "output_type": "display_data"
        }
      ],
      "source": [
        "import matplotlib.pyplot as plt\n",
        "\n",
        "plt.figure(figsize=(10, 6)) # Tamaño mediano\n",
        "sns.countplot(data=df_wl_balanced, x='restimulus', palette='viridis')\n",
        "plt.title('Distribución de Categorías de Estímulos', fontsize=14) # Título resaltado\n",
        "plt.xlabel('Categoría de Estímulo')\n",
        "plt.ylabel('Frecuencia')\n",
        "plt.xticks(rotation=45, ha='right')\n",
        "plt.tight_layout()\n",
        "plt.show()"
      ]
    },
    {
      "cell_type": "markdown",
      "id": "2e92addc",
      "metadata": {
        "id": "2e92addc"
      },
      "source": [
        "Vemos que los datos estan balanceados, por lo tanto se puede proceder a la siguiente fase."
      ]
    },
    {
      "cell_type": "markdown",
      "id": "97dc28e7",
      "metadata": {
        "id": "97dc28e7"
      },
      "source": [
        "Se separan las entradas (señal RMS) de la salida (estimulo)"
      ]
    },
    {
      "cell_type": "code",
      "execution_count": 17,
      "id": "988cef68",
      "metadata": {
        "colab": {
          "base_uri": "https://localhost:8080/"
        },
        "id": "988cef68",
        "outputId": "bea26ada-cc9f-4739-f8dd-3b556b1a0007"
      },
      "outputs": [
        {
          "name": "stdout",
          "output_type": "stream",
          "text": [
            "Dimensiones de X (entradas): (13272, 10)\n",
            "Dimensiones de y (salida): (13272,)\n"
          ]
        }
      ],
      "source": [
        "# Separar las entradas (features) y la salida (target)\n",
        "X = df_wl_balanced.drop(columns=['restimulus'])  # Entradas\n",
        "y = df_wl_balanced['restimulus']  # Salida\n",
        "\n",
        "# Mostrar las dimensiones de las entradas y la salida\n",
        "print(f\"Dimensiones de X (entradas): {X.shape}\")\n",
        "print(f\"Dimensiones de y (salida): {y.shape}\")"
      ]
    },
    {
      "cell_type": "markdown",
      "id": "a4f466df",
      "metadata": {
        "id": "a4f466df"
      },
      "source": [
        "Codificación de los datos"
      ]
    },
    {
      "cell_type": "code",
      "execution_count": 18,
      "id": "2dfbb105",
      "metadata": {
        "colab": {
          "base_uri": "https://localhost:8080/"
        },
        "id": "2dfbb105",
        "outputId": "cc17933f-3d0c-4a8c-cf8b-c9eb67fbd083"
      },
      "outputs": [
        {
          "name": "stdout",
          "output_type": "stream",
          "text": [
            "One-hot encoded labels (primeras 5 filas):\n",
            "[[1. 0. 0.]\n",
            " [1. 0. 0.]\n",
            " [1. 0. 0.]\n",
            " [1. 0. 0.]\n",
            " [1. 0. 0.]]\n"
          ]
        }
      ],
      "source": [
        "# Crear el codificador OneHotEncoder\n",
        "onehot_encoder = OneHotEncoder(sparse_output=False, handle_unknown='ignore')\n",
        "\n",
        "# Ajustar y transformar y (reshape necesario para 1D)\n",
        "y_onehot = onehot_encoder.fit_transform(y.values.reshape(-1, 1))\n",
        "\n",
        "# Mostrar las primeras filas codificadas\n",
        "print(\"One-hot encoded labels (primeras 5 filas):\")\n",
        "print(y_onehot[:5])"
      ]
    },
    {
      "cell_type": "markdown",
      "id": "2049e09d",
      "metadata": {
        "id": "2049e09d"
      },
      "source": [
        "## 5. Escalado"
      ]
    },
    {
      "cell_type": "code",
      "execution_count": 19,
      "id": "b3368fb2",
      "metadata": {
        "colab": {
          "base_uri": "https://localhost:8080/",
          "height": 206
        },
        "id": "b3368fb2",
        "outputId": "f684bf43-8fb2-48b9-d60d-0705d8beb5a0"
      },
      "outputs": [
        {
          "data": {
            "text/html": [
              "<div>\n",
              "<style scoped>\n",
              "    .dataframe tbody tr th:only-of-type {\n",
              "        vertical-align: middle;\n",
              "    }\n",
              "\n",
              "    .dataframe tbody tr th {\n",
              "        vertical-align: top;\n",
              "    }\n",
              "\n",
              "    .dataframe thead th {\n",
              "        text-align: right;\n",
              "    }\n",
              "</style>\n",
              "<table border=\"1\" class=\"dataframe\">\n",
              "  <thead>\n",
              "    <tr style=\"text-align: right;\">\n",
              "      <th></th>\n",
              "      <th>WL_ch1</th>\n",
              "      <th>WL_ch2</th>\n",
              "      <th>WL_ch3</th>\n",
              "      <th>WL_ch4</th>\n",
              "      <th>WL_ch5</th>\n",
              "      <th>WL_ch6</th>\n",
              "      <th>WL_ch7</th>\n",
              "      <th>WL_ch8</th>\n",
              "      <th>WL_ch9</th>\n",
              "      <th>WL_ch10</th>\n",
              "    </tr>\n",
              "  </thead>\n",
              "  <tbody>\n",
              "    <tr>\n",
              "      <th>0</th>\n",
              "      <td>-0.659150</td>\n",
              "      <td>-0.660056</td>\n",
              "      <td>-0.617155</td>\n",
              "      <td>-0.389271</td>\n",
              "      <td>-0.355962</td>\n",
              "      <td>-0.313126</td>\n",
              "      <td>-0.456730</td>\n",
              "      <td>0.125593</td>\n",
              "      <td>-0.483753</td>\n",
              "      <td>-0.300855</td>\n",
              "    </tr>\n",
              "    <tr>\n",
              "      <th>1</th>\n",
              "      <td>-0.659861</td>\n",
              "      <td>-0.673661</td>\n",
              "      <td>-0.629055</td>\n",
              "      <td>-0.399624</td>\n",
              "      <td>-0.289742</td>\n",
              "      <td>-0.290149</td>\n",
              "      <td>-0.633286</td>\n",
              "      <td>-0.724406</td>\n",
              "      <td>-0.514450</td>\n",
              "      <td>-0.334827</td>\n",
              "    </tr>\n",
              "    <tr>\n",
              "      <th>2</th>\n",
              "      <td>-0.662541</td>\n",
              "      <td>-0.675044</td>\n",
              "      <td>-0.634519</td>\n",
              "      <td>-0.399842</td>\n",
              "      <td>-0.478985</td>\n",
              "      <td>-0.364985</td>\n",
              "      <td>-0.637515</td>\n",
              "      <td>-0.739663</td>\n",
              "      <td>-0.506530</td>\n",
              "      <td>-0.550391</td>\n",
              "    </tr>\n",
              "    <tr>\n",
              "      <th>3</th>\n",
              "      <td>-0.403949</td>\n",
              "      <td>-0.643801</td>\n",
              "      <td>-0.633543</td>\n",
              "      <td>-0.396986</td>\n",
              "      <td>-0.491602</td>\n",
              "      <td>-0.409435</td>\n",
              "      <td>-0.630680</td>\n",
              "      <td>-0.507587</td>\n",
              "      <td>-0.528723</td>\n",
              "      <td>-0.514192</td>\n",
              "    </tr>\n",
              "    <tr>\n",
              "      <th>4</th>\n",
              "      <td>0.223499</td>\n",
              "      <td>-0.658207</td>\n",
              "      <td>-0.628096</td>\n",
              "      <td>-0.398100</td>\n",
              "      <td>-0.489887</td>\n",
              "      <td>-0.416210</td>\n",
              "      <td>-0.607022</td>\n",
              "      <td>-0.555980</td>\n",
              "      <td>-0.526476</td>\n",
              "      <td>-0.476146</td>\n",
              "    </tr>\n",
              "  </tbody>\n",
              "</table>\n",
              "</div>"
            ],
            "text/plain": [
              "     WL_ch1    WL_ch2    WL_ch3    WL_ch4    WL_ch5    WL_ch6    WL_ch7  \\\n",
              "0 -0.659150 -0.660056 -0.617155 -0.389271 -0.355962 -0.313126 -0.456730   \n",
              "1 -0.659861 -0.673661 -0.629055 -0.399624 -0.289742 -0.290149 -0.633286   \n",
              "2 -0.662541 -0.675044 -0.634519 -0.399842 -0.478985 -0.364985 -0.637515   \n",
              "3 -0.403949 -0.643801 -0.633543 -0.396986 -0.491602 -0.409435 -0.630680   \n",
              "4  0.223499 -0.658207 -0.628096 -0.398100 -0.489887 -0.416210 -0.607022   \n",
              "\n",
              "     WL_ch8    WL_ch9   WL_ch10  \n",
              "0  0.125593 -0.483753 -0.300855  \n",
              "1 -0.724406 -0.514450 -0.334827  \n",
              "2 -0.739663 -0.506530 -0.550391  \n",
              "3 -0.507587 -0.528723 -0.514192  \n",
              "4 -0.555980 -0.526476 -0.476146  "
            ]
          },
          "execution_count": 19,
          "metadata": {},
          "output_type": "execute_result"
        }
      ],
      "source": [
        "# Crear un objeto StandardScaler\n",
        "scaler = StandardScaler()\n",
        "\n",
        "# Ajustar y transformar X\n",
        "X_scaled = scaler.fit_transform(X)\n",
        "\n",
        "# Convertir el resultado a un DataFrame para mantener los nombres de las columnas\n",
        "X_scaled = pd.DataFrame(X_scaled, columns=X.columns)\n",
        "\n",
        "# Mostrar las primeras filas del DataFrame escalado\n",
        "X_scaled.head()"
      ]
    },
    {
      "cell_type": "markdown",
      "id": "a2f3270c",
      "metadata": {
        "id": "a2f3270c"
      },
      "source": [
        "Se guarda el scaler"
      ]
    },
    {
      "cell_type": "code",
      "execution_count": 20,
      "id": "ef51f8ff",
      "metadata": {
        "colab": {
          "base_uri": "https://localhost:8080/"
        },
        "id": "ef51f8ff",
        "outputId": "bb13ad52-ba1e-4b10-b7be-76229b6e5c3a"
      },
      "outputs": [
        {
          "name": "stdout",
          "output_type": "stream",
          "text": [
            "Scaler guardado en: ./local/models/scalers\\wl_scaler_1_23.pkl\n"
          ]
        }
      ],
      "source": [
        "# Guardar el scaler en el directorio especificado\n",
        "scaler_path = os.path.join(SCALERS_DIR, 'wl_scaler_1_23.pkl')\n",
        "joblib.dump(scaler, scaler_path)\n",
        "\n",
        "print(f\"Scaler guardado en: {scaler_path}\")"
      ]
    },
    {
      "cell_type": "markdown",
      "id": "f2d0cbdc",
      "metadata": {
        "id": "f2d0cbdc"
      },
      "source": [
        "## 6. División de los datos (train/test split)"
      ]
    },
    {
      "cell_type": "markdown",
      "id": "8de3f0ed",
      "metadata": {
        "id": "8de3f0ed"
      },
      "source": [
        "Se realiza la división de los datos en conjuntos de entrenamiento y prueba en la proporsión 80 - 20"
      ]
    },
    {
      "cell_type": "code",
      "execution_count": 21,
      "id": "ce40b6ee",
      "metadata": {
        "colab": {
          "base_uri": "https://localhost:8080/"
        },
        "id": "ce40b6ee",
        "outputId": "6beace64-f624-4a06-9234-a97215e1cc99"
      },
      "outputs": [
        {
          "name": "stdout",
          "output_type": "stream",
          "text": [
            "Dimensiones de X_train: (10617, 10)\n",
            "Dimensiones de X_test: (2655, 10)\n",
            "Dimensiones de y_train: (10617,)\n",
            "Dimensiones de y_test: (2655,)\n"
          ]
        }
      ],
      "source": [
        "# Dividir los datos en conjuntos de entrenamiento y prueba\n",
        "X_train, X_test, y_train, y_test = train_test_split(X_scaled, y, test_size=0.2, random_state=42, stratify=y)\n",
        "\n",
        "# Mostrar las dimensiones de los conjuntos resultantes\n",
        "print(f\"Dimensiones de X_train: {X_train.shape}\")\n",
        "print(f\"Dimensiones de X_test: {X_test.shape}\")\n",
        "print(f\"Dimensiones de y_train: {y_train.shape}\")\n",
        "print(f\"Dimensiones de y_test: {y_test.shape}\")"
      ]
    },
    {
      "cell_type": "markdown",
      "id": "7bd4cd44",
      "metadata": {
        "id": "7bd4cd44"
      },
      "source": [
        "## 7. Modelos"
      ]
    },
    {
      "cell_type": "markdown",
      "id": "2affeeb3",
      "metadata": {
        "id": "2affeeb3"
      },
      "source": [
        "### 7.1. Modelo SVM"
      ]
    },
    {
      "cell_type": "markdown",
      "id": "857f8c41",
      "metadata": {
        "id": "857f8c41"
      },
      "source": [
        "#### 7.1.1. Entrenamiento"
      ]
    },
    {
      "cell_type": "code",
      "execution_count": 22,
      "id": "becb7716",
      "metadata": {
        "colab": {
          "base_uri": "https://localhost:8080/"
        },
        "id": "becb7716",
        "outputId": "e2a94103-4098-4ed3-81c4-3d6880a58d47"
      },
      "outputs": [
        {
          "name": "stdout",
          "output_type": "stream",
          "text": [
            "Entrenando modelo SVM...\n",
            "Fitting 5 folds for each of 32 candidates, totalling 160 fits\n",
            "\n",
            "Mejores hiperparámetros para SVM: {'C': 100, 'gamma': 0.1, 'kernel': 'rbf'}\n",
            "Precisión del mejor modelo SVM en el conjunto de prueba: 0.83\n",
            "Reporte de Clasificación para el mejor modelo SVM:\n",
            "              precision    recall  f1-score   support\n",
            "\n",
            "         0.0       0.85      0.87      0.86       885\n",
            "         1.0       0.88      0.75      0.81       885\n",
            "        23.0       0.77      0.86      0.81       885\n",
            "\n",
            "    accuracy                           0.83      2655\n",
            "   macro avg       0.83      0.83      0.83      2655\n",
            "weighted avg       0.83      0.83      0.83      2655\n",
            "\n"
          ]
        }
      ],
      "source": [
        "# Definir el modelo SVM\n",
        "best_wl_model = train_and_select_model(\n",
        "    X_train,\n",
        "    y_train,\n",
        "    X_test,\n",
        "    y_test,\n",
        "    modelo_tipo='SVM'\n",
        ")"
      ]
    },
    {
      "cell_type": "code",
      "execution_count": 23,
      "id": "3502a8e2",
      "metadata": {
        "colab": {
          "base_uri": "https://localhost:8080/",
          "height": 80
        },
        "id": "3502a8e2",
        "outputId": "2378a29c-56c0-4497-d9ff-104ed9e8daef"
      },
      "outputs": [
        {
          "data": {
            "text/html": [
              "<style>#sk-container-id-1 {\n",
              "  /* Definition of color scheme common for light and dark mode */\n",
              "  --sklearn-color-text: black;\n",
              "  --sklearn-color-line: gray;\n",
              "  /* Definition of color scheme for unfitted estimators */\n",
              "  --sklearn-color-unfitted-level-0: #fff5e6;\n",
              "  --sklearn-color-unfitted-level-1: #f6e4d2;\n",
              "  --sklearn-color-unfitted-level-2: #ffe0b3;\n",
              "  --sklearn-color-unfitted-level-3: chocolate;\n",
              "  /* Definition of color scheme for fitted estimators */\n",
              "  --sklearn-color-fitted-level-0: #f0f8ff;\n",
              "  --sklearn-color-fitted-level-1: #d4ebff;\n",
              "  --sklearn-color-fitted-level-2: #b3dbfd;\n",
              "  --sklearn-color-fitted-level-3: cornflowerblue;\n",
              "\n",
              "  /* Specific color for light theme */\n",
              "  --sklearn-color-text-on-default-background: var(--sg-text-color, var(--theme-code-foreground, var(--jp-content-font-color1, black)));\n",
              "  --sklearn-color-background: var(--sg-background-color, var(--theme-background, var(--jp-layout-color0, white)));\n",
              "  --sklearn-color-border-box: var(--sg-text-color, var(--theme-code-foreground, var(--jp-content-font-color1, black)));\n",
              "  --sklearn-color-icon: #696969;\n",
              "\n",
              "  @media (prefers-color-scheme: dark) {\n",
              "    /* Redefinition of color scheme for dark theme */\n",
              "    --sklearn-color-text-on-default-background: var(--sg-text-color, var(--theme-code-foreground, var(--jp-content-font-color1, white)));\n",
              "    --sklearn-color-background: var(--sg-background-color, var(--theme-background, var(--jp-layout-color0, #111)));\n",
              "    --sklearn-color-border-box: var(--sg-text-color, var(--theme-code-foreground, var(--jp-content-font-color1, white)));\n",
              "    --sklearn-color-icon: #878787;\n",
              "  }\n",
              "}\n",
              "\n",
              "#sk-container-id-1 {\n",
              "  color: var(--sklearn-color-text);\n",
              "}\n",
              "\n",
              "#sk-container-id-1 pre {\n",
              "  padding: 0;\n",
              "}\n",
              "\n",
              "#sk-container-id-1 input.sk-hidden--visually {\n",
              "  border: 0;\n",
              "  clip: rect(1px 1px 1px 1px);\n",
              "  clip: rect(1px, 1px, 1px, 1px);\n",
              "  height: 1px;\n",
              "  margin: -1px;\n",
              "  overflow: hidden;\n",
              "  padding: 0;\n",
              "  position: absolute;\n",
              "  width: 1px;\n",
              "}\n",
              "\n",
              "#sk-container-id-1 div.sk-dashed-wrapped {\n",
              "  border: 1px dashed var(--sklearn-color-line);\n",
              "  margin: 0 0.4em 0.5em 0.4em;\n",
              "  box-sizing: border-box;\n",
              "  padding-bottom: 0.4em;\n",
              "  background-color: var(--sklearn-color-background);\n",
              "}\n",
              "\n",
              "#sk-container-id-1 div.sk-container {\n",
              "  /* jupyter's `normalize.less` sets `[hidden] { display: none; }`\n",
              "     but bootstrap.min.css set `[hidden] { display: none !important; }`\n",
              "     so we also need the `!important` here to be able to override the\n",
              "     default hidden behavior on the sphinx rendered scikit-learn.org.\n",
              "     See: https://github.com/scikit-learn/scikit-learn/issues/21755 */\n",
              "  display: inline-block !important;\n",
              "  position: relative;\n",
              "}\n",
              "\n",
              "#sk-container-id-1 div.sk-text-repr-fallback {\n",
              "  display: none;\n",
              "}\n",
              "\n",
              "div.sk-parallel-item,\n",
              "div.sk-serial,\n",
              "div.sk-item {\n",
              "  /* draw centered vertical line to link estimators */\n",
              "  background-image: linear-gradient(var(--sklearn-color-text-on-default-background), var(--sklearn-color-text-on-default-background));\n",
              "  background-size: 2px 100%;\n",
              "  background-repeat: no-repeat;\n",
              "  background-position: center center;\n",
              "}\n",
              "\n",
              "/* Parallel-specific style estimator block */\n",
              "\n",
              "#sk-container-id-1 div.sk-parallel-item::after {\n",
              "  content: \"\";\n",
              "  width: 100%;\n",
              "  border-bottom: 2px solid var(--sklearn-color-text-on-default-background);\n",
              "  flex-grow: 1;\n",
              "}\n",
              "\n",
              "#sk-container-id-1 div.sk-parallel {\n",
              "  display: flex;\n",
              "  align-items: stretch;\n",
              "  justify-content: center;\n",
              "  background-color: var(--sklearn-color-background);\n",
              "  position: relative;\n",
              "}\n",
              "\n",
              "#sk-container-id-1 div.sk-parallel-item {\n",
              "  display: flex;\n",
              "  flex-direction: column;\n",
              "}\n",
              "\n",
              "#sk-container-id-1 div.sk-parallel-item:first-child::after {\n",
              "  align-self: flex-end;\n",
              "  width: 50%;\n",
              "}\n",
              "\n",
              "#sk-container-id-1 div.sk-parallel-item:last-child::after {\n",
              "  align-self: flex-start;\n",
              "  width: 50%;\n",
              "}\n",
              "\n",
              "#sk-container-id-1 div.sk-parallel-item:only-child::after {\n",
              "  width: 0;\n",
              "}\n",
              "\n",
              "/* Serial-specific style estimator block */\n",
              "\n",
              "#sk-container-id-1 div.sk-serial {\n",
              "  display: flex;\n",
              "  flex-direction: column;\n",
              "  align-items: center;\n",
              "  background-color: var(--sklearn-color-background);\n",
              "  padding-right: 1em;\n",
              "  padding-left: 1em;\n",
              "}\n",
              "\n",
              "\n",
              "/* Toggleable style: style used for estimator/Pipeline/ColumnTransformer box that is\n",
              "clickable and can be expanded/collapsed.\n",
              "- Pipeline and ColumnTransformer use this feature and define the default style\n",
              "- Estimators will overwrite some part of the style using the `sk-estimator` class\n",
              "*/\n",
              "\n",
              "/* Pipeline and ColumnTransformer style (default) */\n",
              "\n",
              "#sk-container-id-1 div.sk-toggleable {\n",
              "  /* Default theme specific background. It is overwritten whether we have a\n",
              "  specific estimator or a Pipeline/ColumnTransformer */\n",
              "  background-color: var(--sklearn-color-background);\n",
              "}\n",
              "\n",
              "/* Toggleable label */\n",
              "#sk-container-id-1 label.sk-toggleable__label {\n",
              "  cursor: pointer;\n",
              "  display: block;\n",
              "  width: 100%;\n",
              "  margin-bottom: 0;\n",
              "  padding: 0.5em;\n",
              "  box-sizing: border-box;\n",
              "  text-align: center;\n",
              "}\n",
              "\n",
              "#sk-container-id-1 label.sk-toggleable__label-arrow:before {\n",
              "  /* Arrow on the left of the label */\n",
              "  content: \"▸\";\n",
              "  float: left;\n",
              "  margin-right: 0.25em;\n",
              "  color: var(--sklearn-color-icon);\n",
              "}\n",
              "\n",
              "#sk-container-id-1 label.sk-toggleable__label-arrow:hover:before {\n",
              "  color: var(--sklearn-color-text);\n",
              "}\n",
              "\n",
              "/* Toggleable content - dropdown */\n",
              "\n",
              "#sk-container-id-1 div.sk-toggleable__content {\n",
              "  max-height: 0;\n",
              "  max-width: 0;\n",
              "  overflow: hidden;\n",
              "  text-align: left;\n",
              "  /* unfitted */\n",
              "  background-color: var(--sklearn-color-unfitted-level-0);\n",
              "}\n",
              "\n",
              "#sk-container-id-1 div.sk-toggleable__content.fitted {\n",
              "  /* fitted */\n",
              "  background-color: var(--sklearn-color-fitted-level-0);\n",
              "}\n",
              "\n",
              "#sk-container-id-1 div.sk-toggleable__content pre {\n",
              "  margin: 0.2em;\n",
              "  border-radius: 0.25em;\n",
              "  color: var(--sklearn-color-text);\n",
              "  /* unfitted */\n",
              "  background-color: var(--sklearn-color-unfitted-level-0);\n",
              "}\n",
              "\n",
              "#sk-container-id-1 div.sk-toggleable__content.fitted pre {\n",
              "  /* unfitted */\n",
              "  background-color: var(--sklearn-color-fitted-level-0);\n",
              "}\n",
              "\n",
              "#sk-container-id-1 input.sk-toggleable__control:checked~div.sk-toggleable__content {\n",
              "  /* Expand drop-down */\n",
              "  max-height: 200px;\n",
              "  max-width: 100%;\n",
              "  overflow: auto;\n",
              "}\n",
              "\n",
              "#sk-container-id-1 input.sk-toggleable__control:checked~label.sk-toggleable__label-arrow:before {\n",
              "  content: \"▾\";\n",
              "}\n",
              "\n",
              "/* Pipeline/ColumnTransformer-specific style */\n",
              "\n",
              "#sk-container-id-1 div.sk-label input.sk-toggleable__control:checked~label.sk-toggleable__label {\n",
              "  color: var(--sklearn-color-text);\n",
              "  background-color: var(--sklearn-color-unfitted-level-2);\n",
              "}\n",
              "\n",
              "#sk-container-id-1 div.sk-label.fitted input.sk-toggleable__control:checked~label.sk-toggleable__label {\n",
              "  background-color: var(--sklearn-color-fitted-level-2);\n",
              "}\n",
              "\n",
              "/* Estimator-specific style */\n",
              "\n",
              "/* Colorize estimator box */\n",
              "#sk-container-id-1 div.sk-estimator input.sk-toggleable__control:checked~label.sk-toggleable__label {\n",
              "  /* unfitted */\n",
              "  background-color: var(--sklearn-color-unfitted-level-2);\n",
              "}\n",
              "\n",
              "#sk-container-id-1 div.sk-estimator.fitted input.sk-toggleable__control:checked~label.sk-toggleable__label {\n",
              "  /* fitted */\n",
              "  background-color: var(--sklearn-color-fitted-level-2);\n",
              "}\n",
              "\n",
              "#sk-container-id-1 div.sk-label label.sk-toggleable__label,\n",
              "#sk-container-id-1 div.sk-label label {\n",
              "  /* The background is the default theme color */\n",
              "  color: var(--sklearn-color-text-on-default-background);\n",
              "}\n",
              "\n",
              "/* On hover, darken the color of the background */\n",
              "#sk-container-id-1 div.sk-label:hover label.sk-toggleable__label {\n",
              "  color: var(--sklearn-color-text);\n",
              "  background-color: var(--sklearn-color-unfitted-level-2);\n",
              "}\n",
              "\n",
              "/* Label box, darken color on hover, fitted */\n",
              "#sk-container-id-1 div.sk-label.fitted:hover label.sk-toggleable__label.fitted {\n",
              "  color: var(--sklearn-color-text);\n",
              "  background-color: var(--sklearn-color-fitted-level-2);\n",
              "}\n",
              "\n",
              "/* Estimator label */\n",
              "\n",
              "#sk-container-id-1 div.sk-label label {\n",
              "  font-family: monospace;\n",
              "  font-weight: bold;\n",
              "  display: inline-block;\n",
              "  line-height: 1.2em;\n",
              "}\n",
              "\n",
              "#sk-container-id-1 div.sk-label-container {\n",
              "  text-align: center;\n",
              "}\n",
              "\n",
              "/* Estimator-specific */\n",
              "#sk-container-id-1 div.sk-estimator {\n",
              "  font-family: monospace;\n",
              "  border: 1px dotted var(--sklearn-color-border-box);\n",
              "  border-radius: 0.25em;\n",
              "  box-sizing: border-box;\n",
              "  margin-bottom: 0.5em;\n",
              "  /* unfitted */\n",
              "  background-color: var(--sklearn-color-unfitted-level-0);\n",
              "}\n",
              "\n",
              "#sk-container-id-1 div.sk-estimator.fitted {\n",
              "  /* fitted */\n",
              "  background-color: var(--sklearn-color-fitted-level-0);\n",
              "}\n",
              "\n",
              "/* on hover */\n",
              "#sk-container-id-1 div.sk-estimator:hover {\n",
              "  /* unfitted */\n",
              "  background-color: var(--sklearn-color-unfitted-level-2);\n",
              "}\n",
              "\n",
              "#sk-container-id-1 div.sk-estimator.fitted:hover {\n",
              "  /* fitted */\n",
              "  background-color: var(--sklearn-color-fitted-level-2);\n",
              "}\n",
              "\n",
              "/* Specification for estimator info (e.g. \"i\" and \"?\") */\n",
              "\n",
              "/* Common style for \"i\" and \"?\" */\n",
              "\n",
              ".sk-estimator-doc-link,\n",
              "a:link.sk-estimator-doc-link,\n",
              "a:visited.sk-estimator-doc-link {\n",
              "  float: right;\n",
              "  font-size: smaller;\n",
              "  line-height: 1em;\n",
              "  font-family: monospace;\n",
              "  background-color: var(--sklearn-color-background);\n",
              "  border-radius: 1em;\n",
              "  height: 1em;\n",
              "  width: 1em;\n",
              "  text-decoration: none !important;\n",
              "  margin-left: 1ex;\n",
              "  /* unfitted */\n",
              "  border: var(--sklearn-color-unfitted-level-1) 1pt solid;\n",
              "  color: var(--sklearn-color-unfitted-level-1);\n",
              "}\n",
              "\n",
              ".sk-estimator-doc-link.fitted,\n",
              "a:link.sk-estimator-doc-link.fitted,\n",
              "a:visited.sk-estimator-doc-link.fitted {\n",
              "  /* fitted */\n",
              "  border: var(--sklearn-color-fitted-level-1) 1pt solid;\n",
              "  color: var(--sklearn-color-fitted-level-1);\n",
              "}\n",
              "\n",
              "/* On hover */\n",
              "div.sk-estimator:hover .sk-estimator-doc-link:hover,\n",
              ".sk-estimator-doc-link:hover,\n",
              "div.sk-label-container:hover .sk-estimator-doc-link:hover,\n",
              ".sk-estimator-doc-link:hover {\n",
              "  /* unfitted */\n",
              "  background-color: var(--sklearn-color-unfitted-level-3);\n",
              "  color: var(--sklearn-color-background);\n",
              "  text-decoration: none;\n",
              "}\n",
              "\n",
              "div.sk-estimator.fitted:hover .sk-estimator-doc-link.fitted:hover,\n",
              ".sk-estimator-doc-link.fitted:hover,\n",
              "div.sk-label-container:hover .sk-estimator-doc-link.fitted:hover,\n",
              ".sk-estimator-doc-link.fitted:hover {\n",
              "  /* fitted */\n",
              "  background-color: var(--sklearn-color-fitted-level-3);\n",
              "  color: var(--sklearn-color-background);\n",
              "  text-decoration: none;\n",
              "}\n",
              "\n",
              "/* Span, style for the box shown on hovering the info icon */\n",
              ".sk-estimator-doc-link span {\n",
              "  display: none;\n",
              "  z-index: 9999;\n",
              "  position: relative;\n",
              "  font-weight: normal;\n",
              "  right: .2ex;\n",
              "  padding: .5ex;\n",
              "  margin: .5ex;\n",
              "  width: min-content;\n",
              "  min-width: 20ex;\n",
              "  max-width: 50ex;\n",
              "  color: var(--sklearn-color-text);\n",
              "  box-shadow: 2pt 2pt 4pt #999;\n",
              "  /* unfitted */\n",
              "  background: var(--sklearn-color-unfitted-level-0);\n",
              "  border: .5pt solid var(--sklearn-color-unfitted-level-3);\n",
              "}\n",
              "\n",
              ".sk-estimator-doc-link.fitted span {\n",
              "  /* fitted */\n",
              "  background: var(--sklearn-color-fitted-level-0);\n",
              "  border: var(--sklearn-color-fitted-level-3);\n",
              "}\n",
              "\n",
              ".sk-estimator-doc-link:hover span {\n",
              "  display: block;\n",
              "}\n",
              "\n",
              "/* \"?\"-specific style due to the `<a>` HTML tag */\n",
              "\n",
              "#sk-container-id-1 a.estimator_doc_link {\n",
              "  float: right;\n",
              "  font-size: 1rem;\n",
              "  line-height: 1em;\n",
              "  font-family: monospace;\n",
              "  background-color: var(--sklearn-color-background);\n",
              "  border-radius: 1rem;\n",
              "  height: 1rem;\n",
              "  width: 1rem;\n",
              "  text-decoration: none;\n",
              "  /* unfitted */\n",
              "  color: var(--sklearn-color-unfitted-level-1);\n",
              "  border: var(--sklearn-color-unfitted-level-1) 1pt solid;\n",
              "}\n",
              "\n",
              "#sk-container-id-1 a.estimator_doc_link.fitted {\n",
              "  /* fitted */\n",
              "  border: var(--sklearn-color-fitted-level-1) 1pt solid;\n",
              "  color: var(--sklearn-color-fitted-level-1);\n",
              "}\n",
              "\n",
              "/* On hover */\n",
              "#sk-container-id-1 a.estimator_doc_link:hover {\n",
              "  /* unfitted */\n",
              "  background-color: var(--sklearn-color-unfitted-level-3);\n",
              "  color: var(--sklearn-color-background);\n",
              "  text-decoration: none;\n",
              "}\n",
              "\n",
              "#sk-container-id-1 a.estimator_doc_link.fitted:hover {\n",
              "  /* fitted */\n",
              "  background-color: var(--sklearn-color-fitted-level-3);\n",
              "}\n",
              "</style><div id=\"sk-container-id-1\" class=\"sk-top-container\"><div class=\"sk-text-repr-fallback\"><pre>SVC(C=100, gamma=0.1, random_state=42)</pre><b>In a Jupyter environment, please rerun this cell to show the HTML representation or trust the notebook. <br />On GitHub, the HTML representation is unable to render, please try loading this page with nbviewer.org.</b></div><div class=\"sk-container\" hidden><div class=\"sk-item\"><div class=\"sk-estimator fitted sk-toggleable\"><input class=\"sk-toggleable__control sk-hidden--visually\" id=\"sk-estimator-id-1\" type=\"checkbox\" checked><label for=\"sk-estimator-id-1\" class=\"sk-toggleable__label fitted sk-toggleable__label-arrow fitted\">&nbsp;&nbsp;SVC<a class=\"sk-estimator-doc-link fitted\" rel=\"noreferrer\" target=\"_blank\" href=\"https://scikit-learn.org/1.5/modules/generated/sklearn.svm.SVC.html\">?<span>Documentation for SVC</span></a><span class=\"sk-estimator-doc-link fitted\">i<span>Fitted</span></span></label><div class=\"sk-toggleable__content fitted\"><pre>SVC(C=100, gamma=0.1, random_state=42)</pre></div> </div></div></div></div>"
            ],
            "text/plain": [
              "SVC(C=100, gamma=0.1, random_state=42)"
            ]
          },
          "execution_count": 23,
          "metadata": {},
          "output_type": "execute_result"
        }
      ],
      "source": [
        "best_wl_model"
      ]
    },
    {
      "cell_type": "markdown",
      "id": "73e6fe44",
      "metadata": {
        "id": "73e6fe44"
      },
      "source": [
        "#### 7.1.2. Evaluación del modelo"
      ]
    },
    {
      "cell_type": "code",
      "execution_count": 25,
      "id": "211dbec1",
      "metadata": {
        "id": "211dbec1"
      },
      "outputs": [],
      "source": [
        "# Realizar predicciones con el mejor modelo\n",
        "\n",
        "y_pred_wl = best_wl_model.predict(X_test)"
      ]
    },
    {
      "cell_type": "markdown",
      "id": "9e5d3a67",
      "metadata": {
        "id": "9e5d3a67"
      },
      "source": [
        "##### 7.1.2.1. Matriz de confución"
      ]
    },
    {
      "cell_type": "code",
      "execution_count": 35,
      "id": "30ee03c7",
      "metadata": {
        "colab": {
          "base_uri": "https://localhost:8080/",
          "height": 564
        },
        "id": "30ee03c7",
        "outputId": "3f8ac680-d115-408d-cb30-e073ea911a70"
      },
      "outputs": [
        {
          "data": {
            "image/png": "[encoded data removed]",
            "text/plain": [
              "<Figure size 800x600 with 2 Axes>"
            ]
          },
          "metadata": {},
          "output_type": "display_data"
        }
      ],
      "source": [
        "# Generar la matriz de confusión\n",
        "conf_matrix_wl = confusion_matrix(y_test, y_pred_wl)\n",
        "\n",
        "# Visualizar la matriz de confusión como un mapa de calor\n",
        "plt.figure(figsize=(8, 6))\n",
        "sns.heatmap(conf_matrix_wl, \n",
        "            annot=True, \n",
        "            fmt='d',                         \n",
        "            cmap='Blues', \n",
        "            xticklabels=onehot_encoder.categories_[0], \n",
        "            yticklabels=onehot_encoder.categories_[0])\n",
        "plt.title('Matriz de Confusión')\n",
        "plt.xlabel('Predicted')\n",
        "plt.ylabel('Actual')\n",
        "plt.show()"
      ]
    },
    {
      "cell_type": "markdown",
      "id": "ec370a76",
      "metadata": {
        "id": "ec370a76"
      },
      "source": [
        "##### 7.1.2.3. Curva ROC"
      ]
    },
    {
      "cell_type": "code",
      "execution_count": 27,
      "id": "53a032a7",
      "metadata": {
        "colab": {
          "base_uri": "https://localhost:8080/",
          "height": 718
        },
        "id": "53a032a7",
        "outputId": "8b8677e1-0754-4420-817c-6c1143e4c20b"
      },
      "outputs": [
        {
          "data": {
            "image/png": "[encoded data removed]",
            "text/plain": [
              "<Figure size 1000x800 with 1 Axes>"
            ]
          },
          "metadata": {},
          "output_type": "display_data"
        }
      ],
      "source": [
        "# Binarize the output labels\n",
        "y_test_binarized = label_binarize(y_test, classes=onehot_encoder.categories_[0])\n",
        "n_classes = y_test_binarized.shape[1]\n",
        "\n",
        "# Train a OneVsRestClassifier with the best SVM model\n",
        "classifier_wl = OneVsRestClassifier(best_wl_model)\n",
        "y_score_wl = classifier_wl.fit(X_train, label_binarize(y_train, classes=onehot_encoder.categories_[0])).decision_function(X_test)\n",
        "\n",
        "# Compute ROC curve and ROC area for each class\n",
        "fpr_wl = dict()\n",
        "tpr_wl = dict()\n",
        "roc_auc_wl = dict()\n",
        "for i in range(n_classes):\n",
        "    fpr_wl[i], tpr_wl[i], _ = roc_curve(y_test_binarized[:, i], y_score_wl[:, i])\n",
        "    roc_auc_wl[i] = auc(fpr_wl[i], tpr_wl[i])\n",
        "\n",
        "# Plot all ROC curves\n",
        "plt.figure(figsize=(10, 8))\n",
        "colors = cycle(['aqua', 'darkorange', 'cornflowerblue', 'green'])\n",
        "for i, color in zip(range(n_classes), colors):\n",
        "    plt.plot(fpr_wl[i], tpr_wl[i], color=color, lw=2,\n",
        "             label=f'ROC curve for class {onehot_encoder.categories_[0][i]} (area = {roc_auc_wl[i]:.2f})')\n",
        "\n",
        "plt.plot([0, 1], [0, 1], 'k--', lw=2)\n",
        "plt.xlim([0.0, 1.0])\n",
        "plt.ylim([0.0, 1.05])\n",
        "plt.xlabel('False Positive Rate')\n",
        "plt.ylabel('True Positive Rate')\n",
        "plt.title('Receiver Operating Characteristic (ROC) Curve')\n",
        "plt.legend(loc=\"lower right\")\n",
        "plt.show()"
      ]
    },
    {
      "cell_type": "markdown",
      "id": "3bf4ad09",
      "metadata": {
        "id": "3bf4ad09"
      },
      "source": [
        "Almacenamiento del modelo"
      ]
    },
    {
      "cell_type": "code",
      "execution_count": 31,
      "id": "540b8c0a",
      "metadata": {
        "colab": {
          "base_uri": "https://localhost:8080/"
        },
        "id": "540b8c0a",
        "outputId": "cf474934-ae16-4648-f935-653c2ff47a28"
      },
      "outputs": [
        {
          "name": "stdout",
          "output_type": "stream",
          "text": [
            "Modelo SVM guardado en: ./local/models/classification/svm_wl_model_1_23.pkl\n"
          ]
        }
      ],
      "source": [
        "# Guardar el modelo SVM\n",
        "wl_model_path = os.path.join(CLASSIFICARION_MODELS_DIR, 'svm_wl_model_1_23.pkl')\n",
        "joblib.dump(best_wl_model, wl_model_path)\n",
        "\n",
        "print(f\"Modelo SVM guardado en: {wl_model_path}\")"
      ]
    },
    {
      "cell_type": "markdown",
      "id": "48881519",
      "metadata": {
        "id": "48881519"
      },
      "source": [
        "#### 7.1.3. Conclusiones"
      ]
    },
    {
      "cell_type": "markdown",
      "id": "f7a312b5",
      "metadata": {
        "id": "f7a312b5"
      },
      "source": [
        "To Do..."
      ]
    },
    {
      "cell_type": "markdown",
      "id": "92f67b75",
      "metadata": {
        "id": "92f67b75"
      },
      "source": [
        "### 7.2. Modelo KNN"
      ]
    },
    {
      "cell_type": "markdown",
      "id": "4192f51f",
      "metadata": {
        "id": "4192f51f"
      },
      "source": [
        "#### 7.2.1. Entrenamiento"
      ]
    },
    {
      "cell_type": "code",
      "execution_count": 28,
      "id": "53f8ba77",
      "metadata": {
        "colab": {
          "base_uri": "https://localhost:8080/"
        },
        "id": "53f8ba77",
        "outputId": "7d164590-e3bb-472a-c232-a63c0241b07c"
      },
      "outputs": [
        {
          "name": "stdout",
          "output_type": "stream",
          "text": [
            "Entrenando modelo KNN...\n",
            "Fitting 5 folds for each of 72 candidates, totalling 360 fits\n"
          ]
        },
        {
          "name": "stdout",
          "output_type": "stream",
          "text": [
            "\n",
            "Mejores hiperparámetros para KNN: {'algorithm': 'auto', 'metric': 'manhattan', 'n_neighbors': 9, 'weights': 'distance'}\n",
            "Precisión del mejor modelo KNN en el conjunto de prueba: 0.84\n",
            "Reporte de Clasificación para el mejor modelo KNN:\n",
            "              precision    recall  f1-score   support\n",
            "\n",
            "         0.0       0.88      0.88      0.88       885\n",
            "         1.0       0.89      0.76      0.82       885\n",
            "        23.0       0.78      0.89      0.83       885\n",
            "\n",
            "    accuracy                           0.84      2655\n",
            "   macro avg       0.85      0.84      0.84      2655\n",
            "weighted avg       0.85      0.84      0.84      2655\n",
            "\n"
          ]
        }
      ],
      "source": [
        "best_knn_model = train_and_select_model(\n",
        "    X_train,\n",
        "    y_train,\n",
        "    X_test,\n",
        "    y_test,\n",
        "    modelo_tipo='KNN'\n",
        ")"
      ]
    },
    {
      "cell_type": "code",
      "execution_count": 29,
      "id": "5901eab7",
      "metadata": {
        "colab": {
          "base_uri": "https://localhost:8080/",
          "height": 80
        },
        "id": "5901eab7",
        "outputId": "914029e7-6c14-4b83-a04a-d9459a407e23"
      },
      "outputs": [
        {
          "data": {
            "text/html": [
              "<style>#sk-container-id-2 {\n",
              "  /* Definition of color scheme common for light and dark mode */\n",
              "  --sklearn-color-text: black;\n",
              "  --sklearn-color-line: gray;\n",
              "  /* Definition of color scheme for unfitted estimators */\n",
              "  --sklearn-color-unfitted-level-0: #fff5e6;\n",
              "  --sklearn-color-unfitted-level-1: #f6e4d2;\n",
              "  --sklearn-color-unfitted-level-2: #ffe0b3;\n",
              "  --sklearn-color-unfitted-level-3: chocolate;\n",
              "  /* Definition of color scheme for fitted estimators */\n",
              "  --sklearn-color-fitted-level-0: #f0f8ff;\n",
              "  --sklearn-color-fitted-level-1: #d4ebff;\n",
              "  --sklearn-color-fitted-level-2: #b3dbfd;\n",
              "  --sklearn-color-fitted-level-3: cornflowerblue;\n",
              "\n",
              "  /* Specific color for light theme */\n",
              "  --sklearn-color-text-on-default-background: var(--sg-text-color, var(--theme-code-foreground, var(--jp-content-font-color1, black)));\n",
              "  --sklearn-color-background: var(--sg-background-color, var(--theme-background, var(--jp-layout-color0, white)));\n",
              "  --sklearn-color-border-box: var(--sg-text-color, var(--theme-code-foreground, var(--jp-content-font-color1, black)));\n",
              "  --sklearn-color-icon: #696969;\n",
              "\n",
              "  @media (prefers-color-scheme: dark) {\n",
              "    /* Redefinition of color scheme for dark theme */\n",
              "    --sklearn-color-text-on-default-background: var(--sg-text-color, var(--theme-code-foreground, var(--jp-content-font-color1, white)));\n",
              "    --sklearn-color-background: var(--sg-background-color, var(--theme-background, var(--jp-layout-color0, #111)));\n",
              "    --sklearn-color-border-box: var(--sg-text-color, var(--theme-code-foreground, var(--jp-content-font-color1, white)));\n",
              "    --sklearn-color-icon: #878787;\n",
              "  }\n",
              "}\n",
              "\n",
              "#sk-container-id-2 {\n",
              "  color: var(--sklearn-color-text);\n",
              "}\n",
              "\n",
              "#sk-container-id-2 pre {\n",
              "  padding: 0;\n",
              "}\n",
              "\n",
              "#sk-container-id-2 input.sk-hidden--visually {\n",
              "  border: 0;\n",
              "  clip: rect(1px 1px 1px 1px);\n",
              "  clip: rect(1px, 1px, 1px, 1px);\n",
              "  height: 1px;\n",
              "  margin: -1px;\n",
              "  overflow: hidden;\n",
              "  padding: 0;\n",
              "  position: absolute;\n",
              "  width: 1px;\n",
              "}\n",
              "\n",
              "#sk-container-id-2 div.sk-dashed-wrapped {\n",
              "  border: 1px dashed var(--sklearn-color-line);\n",
              "  margin: 0 0.4em 0.5em 0.4em;\n",
              "  box-sizing: border-box;\n",
              "  padding-bottom: 0.4em;\n",
              "  background-color: var(--sklearn-color-background);\n",
              "}\n",
              "\n",
              "#sk-container-id-2 div.sk-container {\n",
              "  /* jupyter's `normalize.less` sets `[hidden] { display: none; }`\n",
              "     but bootstrap.min.css set `[hidden] { display: none !important; }`\n",
              "     so we also need the `!important` here to be able to override the\n",
              "     default hidden behavior on the sphinx rendered scikit-learn.org.\n",
              "     See: https://github.com/scikit-learn/scikit-learn/issues/21755 */\n",
              "  display: inline-block !important;\n",
              "  position: relative;\n",
              "}\n",
              "\n",
              "#sk-container-id-2 div.sk-text-repr-fallback {\n",
              "  display: none;\n",
              "}\n",
              "\n",
              "div.sk-parallel-item,\n",
              "div.sk-serial,\n",
              "div.sk-item {\n",
              "  /* draw centered vertical line to link estimators */\n",
              "  background-image: linear-gradient(var(--sklearn-color-text-on-default-background), var(--sklearn-color-text-on-default-background));\n",
              "  background-size: 2px 100%;\n",
              "  background-repeat: no-repeat;\n",
              "  background-position: center center;\n",
              "}\n",
              "\n",
              "/* Parallel-specific style estimator block */\n",
              "\n",
              "#sk-container-id-2 div.sk-parallel-item::after {\n",
              "  content: \"\";\n",
              "  width: 100%;\n",
              "  border-bottom: 2px solid var(--sklearn-color-text-on-default-background);\n",
              "  flex-grow: 1;\n",
              "}\n",
              "\n",
              "#sk-container-id-2 div.sk-parallel {\n",
              "  display: flex;\n",
              "  align-items: stretch;\n",
              "  justify-content: center;\n",
              "  background-color: var(--sklearn-color-background);\n",
              "  position: relative;\n",
              "}\n",
              "\n",
              "#sk-container-id-2 div.sk-parallel-item {\n",
              "  display: flex;\n",
              "  flex-direction: column;\n",
              "}\n",
              "\n",
              "#sk-container-id-2 div.sk-parallel-item:first-child::after {\n",
              "  align-self: flex-end;\n",
              "  width: 50%;\n",
              "}\n",
              "\n",
              "#sk-container-id-2 div.sk-parallel-item:last-child::after {\n",
              "  align-self: flex-start;\n",
              "  width: 50%;\n",
              "}\n",
              "\n",
              "#sk-container-id-2 div.sk-parallel-item:only-child::after {\n",
              "  width: 0;\n",
              "}\n",
              "\n",
              "/* Serial-specific style estimator block */\n",
              "\n",
              "#sk-container-id-2 div.sk-serial {\n",
              "  display: flex;\n",
              "  flex-direction: column;\n",
              "  align-items: center;\n",
              "  background-color: var(--sklearn-color-background);\n",
              "  padding-right: 1em;\n",
              "  padding-left: 1em;\n",
              "}\n",
              "\n",
              "\n",
              "/* Toggleable style: style used for estimator/Pipeline/ColumnTransformer box that is\n",
              "clickable and can be expanded/collapsed.\n",
              "- Pipeline and ColumnTransformer use this feature and define the default style\n",
              "- Estimators will overwrite some part of the style using the `sk-estimator` class\n",
              "*/\n",
              "\n",
              "/* Pipeline and ColumnTransformer style (default) */\n",
              "\n",
              "#sk-container-id-2 div.sk-toggleable {\n",
              "  /* Default theme specific background. It is overwritten whether we have a\n",
              "  specific estimator or a Pipeline/ColumnTransformer */\n",
              "  background-color: var(--sklearn-color-background);\n",
              "}\n",
              "\n",
              "/* Toggleable label */\n",
              "#sk-container-id-2 label.sk-toggleable__label {\n",
              "  cursor: pointer;\n",
              "  display: block;\n",
              "  width: 100%;\n",
              "  margin-bottom: 0;\n",
              "  padding: 0.5em;\n",
              "  box-sizing: border-box;\n",
              "  text-align: center;\n",
              "}\n",
              "\n",
              "#sk-container-id-2 label.sk-toggleable__label-arrow:before {\n",
              "  /* Arrow on the left of the label */\n",
              "  content: \"▸\";\n",
              "  float: left;\n",
              "  margin-right: 0.25em;\n",
              "  color: var(--sklearn-color-icon);\n",
              "}\n",
              "\n",
              "#sk-container-id-2 label.sk-toggleable__label-arrow:hover:before {\n",
              "  color: var(--sklearn-color-text);\n",
              "}\n",
              "\n",
              "/* Toggleable content - dropdown */\n",
              "\n",
              "#sk-container-id-2 div.sk-toggleable__content {\n",
              "  max-height: 0;\n",
              "  max-width: 0;\n",
              "  overflow: hidden;\n",
              "  text-align: left;\n",
              "  /* unfitted */\n",
              "  background-color: var(--sklearn-color-unfitted-level-0);\n",
              "}\n",
              "\n",
              "#sk-container-id-2 div.sk-toggleable__content.fitted {\n",
              "  /* fitted */\n",
              "  background-color: var(--sklearn-color-fitted-level-0);\n",
              "}\n",
              "\n",
              "#sk-container-id-2 div.sk-toggleable__content pre {\n",
              "  margin: 0.2em;\n",
              "  border-radius: 0.25em;\n",
              "  color: var(--sklearn-color-text);\n",
              "  /* unfitted */\n",
              "  background-color: var(--sklearn-color-unfitted-level-0);\n",
              "}\n",
              "\n",
              "#sk-container-id-2 div.sk-toggleable__content.fitted pre {\n",
              "  /* unfitted */\n",
              "  background-color: var(--sklearn-color-fitted-level-0);\n",
              "}\n",
              "\n",
              "#sk-container-id-2 input.sk-toggleable__control:checked~div.sk-toggleable__content {\n",
              "  /* Expand drop-down */\n",
              "  max-height: 200px;\n",
              "  max-width: 100%;\n",
              "  overflow: auto;\n",
              "}\n",
              "\n",
              "#sk-container-id-2 input.sk-toggleable__control:checked~label.sk-toggleable__label-arrow:before {\n",
              "  content: \"▾\";\n",
              "}\n",
              "\n",
              "/* Pipeline/ColumnTransformer-specific style */\n",
              "\n",
              "#sk-container-id-2 div.sk-label input.sk-toggleable__control:checked~label.sk-toggleable__label {\n",
              "  color: var(--sklearn-color-text);\n",
              "  background-color: var(--sklearn-color-unfitted-level-2);\n",
              "}\n",
              "\n",
              "#sk-container-id-2 div.sk-label.fitted input.sk-toggleable__control:checked~label.sk-toggleable__label {\n",
              "  background-color: var(--sklearn-color-fitted-level-2);\n",
              "}\n",
              "\n",
              "/* Estimator-specific style */\n",
              "\n",
              "/* Colorize estimator box */\n",
              "#sk-container-id-2 div.sk-estimator input.sk-toggleable__control:checked~label.sk-toggleable__label {\n",
              "  /* unfitted */\n",
              "  background-color: var(--sklearn-color-unfitted-level-2);\n",
              "}\n",
              "\n",
              "#sk-container-id-2 div.sk-estimator.fitted input.sk-toggleable__control:checked~label.sk-toggleable__label {\n",
              "  /* fitted */\n",
              "  background-color: var(--sklearn-color-fitted-level-2);\n",
              "}\n",
              "\n",
              "#sk-container-id-2 div.sk-label label.sk-toggleable__label,\n",
              "#sk-container-id-2 div.sk-label label {\n",
              "  /* The background is the default theme color */\n",
              "  color: var(--sklearn-color-text-on-default-background);\n",
              "}\n",
              "\n",
              "/* On hover, darken the color of the background */\n",
              "#sk-container-id-2 div.sk-label:hover label.sk-toggleable__label {\n",
              "  color: var(--sklearn-color-text);\n",
              "  background-color: var(--sklearn-color-unfitted-level-2);\n",
              "}\n",
              "\n",
              "/* Label box, darken color on hover, fitted */\n",
              "#sk-container-id-2 div.sk-label.fitted:hover label.sk-toggleable__label.fitted {\n",
              "  color: var(--sklearn-color-text);\n",
              "  background-color: var(--sklearn-color-fitted-level-2);\n",
              "}\n",
              "\n",
              "/* Estimator label */\n",
              "\n",
              "#sk-container-id-2 div.sk-label label {\n",
              "  font-family: monospace;\n",
              "  font-weight: bold;\n",
              "  display: inline-block;\n",
              "  line-height: 1.2em;\n",
              "}\n",
              "\n",
              "#sk-container-id-2 div.sk-label-container {\n",
              "  text-align: center;\n",
              "}\n",
              "\n",
              "/* Estimator-specific */\n",
              "#sk-container-id-2 div.sk-estimator {\n",
              "  font-family: monospace;\n",
              "  border: 1px dotted var(--sklearn-color-border-box);\n",
              "  border-radius: 0.25em;\n",
              "  box-sizing: border-box;\n",
              "  margin-bottom: 0.5em;\n",
              "  /* unfitted */\n",
              "  background-color: var(--sklearn-color-unfitted-level-0);\n",
              "}\n",
              "\n",
              "#sk-container-id-2 div.sk-estimator.fitted {\n",
              "  /* fitted */\n",
              "  background-color: var(--sklearn-color-fitted-level-0);\n",
              "}\n",
              "\n",
              "/* on hover */\n",
              "#sk-container-id-2 div.sk-estimator:hover {\n",
              "  /* unfitted */\n",
              "  background-color: var(--sklearn-color-unfitted-level-2);\n",
              "}\n",
              "\n",
              "#sk-container-id-2 div.sk-estimator.fitted:hover {\n",
              "  /* fitted */\n",
              "  background-color: var(--sklearn-color-fitted-level-2);\n",
              "}\n",
              "\n",
              "/* Specification for estimator info (e.g. \"i\" and \"?\") */\n",
              "\n",
              "/* Common style for \"i\" and \"?\" */\n",
              "\n",
              ".sk-estimator-doc-link,\n",
              "a:link.sk-estimator-doc-link,\n",
              "a:visited.sk-estimator-doc-link {\n",
              "  float: right;\n",
              "  font-size: smaller;\n",
              "  line-height: 1em;\n",
              "  font-family: monospace;\n",
              "  background-color: var(--sklearn-color-background);\n",
              "  border-radius: 1em;\n",
              "  height: 1em;\n",
              "  width: 1em;\n",
              "  text-decoration: none !important;\n",
              "  margin-left: 1ex;\n",
              "  /* unfitted */\n",
              "  border: var(--sklearn-color-unfitted-level-1) 1pt solid;\n",
              "  color: var(--sklearn-color-unfitted-level-1);\n",
              "}\n",
              "\n",
              ".sk-estimator-doc-link.fitted,\n",
              "a:link.sk-estimator-doc-link.fitted,\n",
              "a:visited.sk-estimator-doc-link.fitted {\n",
              "  /* fitted */\n",
              "  border: var(--sklearn-color-fitted-level-1) 1pt solid;\n",
              "  color: var(--sklearn-color-fitted-level-1);\n",
              "}\n",
              "\n",
              "/* On hover */\n",
              "div.sk-estimator:hover .sk-estimator-doc-link:hover,\n",
              ".sk-estimator-doc-link:hover,\n",
              "div.sk-label-container:hover .sk-estimator-doc-link:hover,\n",
              ".sk-estimator-doc-link:hover {\n",
              "  /* unfitted */\n",
              "  background-color: var(--sklearn-color-unfitted-level-3);\n",
              "  color: var(--sklearn-color-background);\n",
              "  text-decoration: none;\n",
              "}\n",
              "\n",
              "div.sk-estimator.fitted:hover .sk-estimator-doc-link.fitted:hover,\n",
              ".sk-estimator-doc-link.fitted:hover,\n",
              "div.sk-label-container:hover .sk-estimator-doc-link.fitted:hover,\n",
              ".sk-estimator-doc-link.fitted:hover {\n",
              "  /* fitted */\n",
              "  background-color: var(--sklearn-color-fitted-level-3);\n",
              "  color: var(--sklearn-color-background);\n",
              "  text-decoration: none;\n",
              "}\n",
              "\n",
              "/* Span, style for the box shown on hovering the info icon */\n",
              ".sk-estimator-doc-link span {\n",
              "  display: none;\n",
              "  z-index: 9999;\n",
              "  position: relative;\n",
              "  font-weight: normal;\n",
              "  right: .2ex;\n",
              "  padding: .5ex;\n",
              "  margin: .5ex;\n",
              "  width: min-content;\n",
              "  min-width: 20ex;\n",
              "  max-width: 50ex;\n",
              "  color: var(--sklearn-color-text);\n",
              "  box-shadow: 2pt 2pt 4pt #999;\n",
              "  /* unfitted */\n",
              "  background: var(--sklearn-color-unfitted-level-0);\n",
              "  border: .5pt solid var(--sklearn-color-unfitted-level-3);\n",
              "}\n",
              "\n",
              ".sk-estimator-doc-link.fitted span {\n",
              "  /* fitted */\n",
              "  background: var(--sklearn-color-fitted-level-0);\n",
              "  border: var(--sklearn-color-fitted-level-3);\n",
              "}\n",
              "\n",
              ".sk-estimator-doc-link:hover span {\n",
              "  display: block;\n",
              "}\n",
              "\n",
              "/* \"?\"-specific style due to the `<a>` HTML tag */\n",
              "\n",
              "#sk-container-id-2 a.estimator_doc_link {\n",
              "  float: right;\n",
              "  font-size: 1rem;\n",
              "  line-height: 1em;\n",
              "  font-family: monospace;\n",
              "  background-color: var(--sklearn-color-background);\n",
              "  border-radius: 1rem;\n",
              "  height: 1rem;\n",
              "  width: 1rem;\n",
              "  text-decoration: none;\n",
              "  /* unfitted */\n",
              "  color: var(--sklearn-color-unfitted-level-1);\n",
              "  border: var(--sklearn-color-unfitted-level-1) 1pt solid;\n",
              "}\n",
              "\n",
              "#sk-container-id-2 a.estimator_doc_link.fitted {\n",
              "  /* fitted */\n",
              "  border: var(--sklearn-color-fitted-level-1) 1pt solid;\n",
              "  color: var(--sklearn-color-fitted-level-1);\n",
              "}\n",
              "\n",
              "/* On hover */\n",
              "#sk-container-id-2 a.estimator_doc_link:hover {\n",
              "  /* unfitted */\n",
              "  background-color: var(--sklearn-color-unfitted-level-3);\n",
              "  color: var(--sklearn-color-background);\n",
              "  text-decoration: none;\n",
              "}\n",
              "\n",
              "#sk-container-id-2 a.estimator_doc_link.fitted:hover {\n",
              "  /* fitted */\n",
              "  background-color: var(--sklearn-color-fitted-level-3);\n",
              "}\n",
              "</style><div id=\"sk-container-id-2\" class=\"sk-top-container\"><div class=\"sk-text-repr-fallback\"><pre>KNeighborsClassifier(metric=&#x27;manhattan&#x27;, n_neighbors=9, weights=&#x27;distance&#x27;)</pre><b>In a Jupyter environment, please rerun this cell to show the HTML representation or trust the notebook. <br />On GitHub, the HTML representation is unable to render, please try loading this page with nbviewer.org.</b></div><div class=\"sk-container\" hidden><div class=\"sk-item\"><div class=\"sk-estimator fitted sk-toggleable\"><input class=\"sk-toggleable__control sk-hidden--visually\" id=\"sk-estimator-id-2\" type=\"checkbox\" checked><label for=\"sk-estimator-id-2\" class=\"sk-toggleable__label fitted sk-toggleable__label-arrow fitted\">&nbsp;&nbsp;KNeighborsClassifier<a class=\"sk-estimator-doc-link fitted\" rel=\"noreferrer\" target=\"_blank\" href=\"https://scikit-learn.org/1.5/modules/generated/sklearn.neighbors.KNeighborsClassifier.html\">?<span>Documentation for KNeighborsClassifier</span></a><span class=\"sk-estimator-doc-link fitted\">i<span>Fitted</span></span></label><div class=\"sk-toggleable__content fitted\"><pre>KNeighborsClassifier(metric=&#x27;manhattan&#x27;, n_neighbors=9, weights=&#x27;distance&#x27;)</pre></div> </div></div></div></div>"
            ],
            "text/plain": [
              "KNeighborsClassifier(metric='manhattan', n_neighbors=9, weights='distance')"
            ]
          },
          "execution_count": 29,
          "metadata": {},
          "output_type": "execute_result"
        }
      ],
      "source": [
        "best_knn_model"
      ]
    },
    {
      "cell_type": "markdown",
      "id": "c4f4951f",
      "metadata": {
        "id": "c4f4951f"
      },
      "source": [
        "#### 7.2.2. Evaluación del modelo"
      ]
    },
    {
      "cell_type": "code",
      "execution_count": 30,
      "id": "36286ff0",
      "metadata": {
        "id": "36286ff0"
      },
      "outputs": [],
      "source": [
        "# Realizar predicciones con el mejor modelo\n",
        "\n",
        "y_pred_knn = best_knn_model.predict(X_test)"
      ]
    },
    {
      "cell_type": "markdown",
      "id": "bf529480",
      "metadata": {
        "id": "bf529480"
      },
      "source": [
        "##### 7.2.3.1. Matriz de confución"
      ]
    },
    {
      "cell_type": "code",
      "execution_count": 32,
      "id": "b64e479a",
      "metadata": {
        "colab": {
          "base_uri": "https://localhost:8080/",
          "height": 564
        },
        "id": "b64e479a",
        "outputId": "4b5fc1c1-f63a-4b8e-aa26-590a5ef6b8a3"
      },
      "outputs": [
        {
          "data": {
            "image/png": "[encoded data removed]",
            "text/plain": [
              "<Figure size 800x600 with 2 Axes>"
            ]
          },
          "metadata": {},
          "output_type": "display_data"
        }
      ],
      "source": [
        "# Generar la matriz de confusión\n",
        "conf_matrix_knn = confusion_matrix(y_test, y_pred_knn)\n",
        "\n",
        "# Visualizar la matriz de confusión como un mapa de calor\n",
        "plt.figure(figsize=(8, 6))\n",
        "sns.heatmap(conf_matrix_knn, \n",
        "            annot=True, fmt='d', \n",
        "            cmap='Blues', \n",
        "            xticklabels=onehot_encoder.categories_[0], \n",
        "            yticklabels=onehot_encoder.categories_[0])\n",
        "plt.title('Matriz de Confusión')\n",
        "plt.xlabel('Predicted')\n",
        "plt.ylabel('Actual')\n",
        "plt.show()"
      ]
    },
    {
      "cell_type": "markdown",
      "id": "64c8de66",
      "metadata": {
        "id": "64c8de66"
      },
      "source": [
        "##### 7.2.3.1. Curva ROC"
      ]
    },
    {
      "cell_type": "code",
      "execution_count": 33,
      "id": "a47deab6",
      "metadata": {
        "colab": {
          "base_uri": "https://localhost:8080/",
          "height": 718
        },
        "id": "a47deab6",
        "outputId": "715bbb9c-6b4c-4ca1-aad1-529eee93e986"
      },
      "outputs": [
        {
          "data": {
            "image/png": "[encoded data removed]",
            "text/plain": [
              "<Figure size 1000x800 with 1 Axes>"
            ]
          },
          "metadata": {},
          "output_type": "display_data"
        }
      ],
      "source": [
        "# Binarizar las etiquetas de salida\n",
        "y_test_binarized = label_binarize(y_test, classes=onehot_encoder.categories_[0])\n",
        "n_classes = y_test_binarized.shape[1]\n",
        "\n",
        "# Entrenar un clasificador OneVsRest con el mejor modelo KNN\n",
        "classifier_knn = OneVsRestClassifier(best_knn_model)\n",
        "y_score_knn = classifier_knn.fit(X_train, label_binarize(y_train, classes=onehot_encoder.categories_[0])).predict_proba(X_test)\n",
        "\n",
        "# Calcular la curva ROC y el área bajo la curva (AUC) para cada clase\n",
        "fpr_knn = dict()\n",
        "tpr_knn = dict()\n",
        "roc_auc_knn = dict()\n",
        "for i in range(n_classes):\n",
        "    fpr_knn[i], tpr_knn[i], _ = roc_curve(y_test_binarized[:, i], y_score_knn[:, i])\n",
        "    roc_auc_knn[i] = auc(fpr_knn[i], tpr_knn[i])\n",
        "\n",
        "# Graficar todas las curvas ROC\n",
        "plt.figure(figsize=(10, 8))\n",
        "colors = cycle(['aqua', 'darkorange', 'cornflowerblue', 'green'])\n",
        "for i, color in zip(range(n_classes), colors):\n",
        "    plt.plot(fpr_knn[i], tpr_knn[i], color=color, lw=2,\n",
        "             label=f'ROC curve for class {onehot_encoder.categories_[0][i]} (area = {roc_auc_knn[i]:.2f})')\n",
        "\n",
        "plt.plot([0, 1], [0, 1], 'k--', lw=2)\n",
        "plt.xlim([0.0, 1.0])\n",
        "plt.ylim([0.0, 1.05])\n",
        "plt.xlabel('False Positive Rate')\n",
        "plt.ylabel('True Positive Rate')\n",
        "plt.title('Receiver Operating Characteristic (ROC) Curve - KNN')\n",
        "plt.legend(loc=\"lower right\")\n",
        "plt.show()"
      ]
    },
    {
      "cell_type": "markdown",
      "id": "0d5c6c50",
      "metadata": {
        "id": "0d5c6c50"
      },
      "source": [
        "Almacenamiento del modelo"
      ]
    },
    {
      "cell_type": "code",
      "execution_count": 37,
      "id": "8bc5c9b5",
      "metadata": {
        "colab": {
          "base_uri": "https://localhost:8080/"
        },
        "id": "8bc5c9b5",
        "outputId": "bc4905e8-3992-4940-edc4-c8391bca325f"
      },
      "outputs": [
        {
          "name": "stdout",
          "output_type": "stream",
          "text": [
            "Modelo KNN guardado en: ./local/models/classification/knn_wl_model_1_23.pkl\n"
          ]
        }
      ],
      "source": [
        "# Guardar el modelo KNN\n",
        "knn_model_path = os.path.join(CLASSIFICARION_MODELS_DIR, 'knn_wl_model_1_23.pkl')\n",
        "joblib.dump(best_knn_model, knn_model_path)\n",
        "\n",
        "print(f\"Modelo KNN guardado en: {knn_model_path}\")"
      ]
    },
    {
      "cell_type": "markdown",
      "id": "5db411f9",
      "metadata": {
        "id": "5db411f9"
      },
      "source": [
        "#### 7.2.3. Conclusiones\n",
        "\n",
        "To Do..."
      ]
    },
    {
      "cell_type": "markdown",
      "id": "1062c262",
      "metadata": {
        "id": "1062c262"
      },
      "source": [
        "### 7.3. Modelo RF"
      ]
    },
    {
      "cell_type": "markdown",
      "id": "f255fd68",
      "metadata": {
        "id": "f255fd68"
      },
      "source": [
        "#### 7.3.1. Entrenamiento"
      ]
    },
    {
      "cell_type": "code",
      "execution_count": 34,
      "id": "431c97d5",
      "metadata": {
        "colab": {
          "base_uri": "https://localhost:8080/"
        },
        "id": "431c97d5",
        "outputId": "c6414cdb-04fc-4226-ba4b-3abb45c2fe16"
      },
      "outputs": [
        {
          "name": "stdout",
          "output_type": "stream",
          "text": [
            "Entrenando modelo RF...\n",
            "Fitting 5 folds for each of 81 candidates, totalling 405 fits\n"
          ]
        },
        {
          "name": "stdout",
          "output_type": "stream",
          "text": [
            "\n",
            "Mejores hiperparámetros para RF: {'max_depth': None, 'min_samples_leaf': 1, 'min_samples_split': 2, 'n_estimators': 200}\n",
            "Precisión del mejor modelo RF en el conjunto de prueba: 0.85\n",
            "Reporte de Clasificación para el mejor modelo RF:\n",
            "              precision    recall  f1-score   support\n",
            "\n",
            "         0.0       0.92      0.88      0.90       885\n",
            "         1.0       0.85      0.80      0.82       885\n",
            "        23.0       0.80      0.88      0.84       885\n",
            "\n",
            "    accuracy                           0.85      2655\n",
            "   macro avg       0.86      0.85      0.85      2655\n",
            "weighted avg       0.86      0.85      0.85      2655\n",
            "\n"
          ]
        }
      ],
      "source": [
        "best_rf_model = train_and_select_model(\n",
        "    X_train,\n",
        "    y_train,\n",
        "    X_test,\n",
        "    y_test,\n",
        "    modelo_tipo='RF'\n",
        ")"
      ]
    },
    {
      "cell_type": "code",
      "execution_count": 36,
      "id": "903728e6",
      "metadata": {
        "colab": {
          "base_uri": "https://localhost:8080/",
          "height": 80
        },
        "id": "903728e6",
        "outputId": "b1841137-392f-47aa-b7e7-7cacecfbee1a"
      },
      "outputs": [
        {
          "data": {
            "text/html": [
              "<style>#sk-container-id-3 {\n",
              "  /* Definition of color scheme common for light and dark mode */\n",
              "  --sklearn-color-text: black;\n",
              "  --sklearn-color-line: gray;\n",
              "  /* Definition of color scheme for unfitted estimators */\n",
              "  --sklearn-color-unfitted-level-0: #fff5e6;\n",
              "  --sklearn-color-unfitted-level-1: #f6e4d2;\n",
              "  --sklearn-color-unfitted-level-2: #ffe0b3;\n",
              "  --sklearn-color-unfitted-level-3: chocolate;\n",
              "  /* Definition of color scheme for fitted estimators */\n",
              "  --sklearn-color-fitted-level-0: #f0f8ff;\n",
              "  --sklearn-color-fitted-level-1: #d4ebff;\n",
              "  --sklearn-color-fitted-level-2: #b3dbfd;\n",
              "  --sklearn-color-fitted-level-3: cornflowerblue;\n",
              "\n",
              "  /* Specific color for light theme */\n",
              "  --sklearn-color-text-on-default-background: var(--sg-text-color, var(--theme-code-foreground, var(--jp-content-font-color1, black)));\n",
              "  --sklearn-color-background: var(--sg-background-color, var(--theme-background, var(--jp-layout-color0, white)));\n",
              "  --sklearn-color-border-box: var(--sg-text-color, var(--theme-code-foreground, var(--jp-content-font-color1, black)));\n",
              "  --sklearn-color-icon: #696969;\n",
              "\n",
              "  @media (prefers-color-scheme: dark) {\n",
              "    /* Redefinition of color scheme for dark theme */\n",
              "    --sklearn-color-text-on-default-background: var(--sg-text-color, var(--theme-code-foreground, var(--jp-content-font-color1, white)));\n",
              "    --sklearn-color-background: var(--sg-background-color, var(--theme-background, var(--jp-layout-color0, #111)));\n",
              "    --sklearn-color-border-box: var(--sg-text-color, var(--theme-code-foreground, var(--jp-content-font-color1, white)));\n",
              "    --sklearn-color-icon: #878787;\n",
              "  }\n",
              "}\n",
              "\n",
              "#sk-container-id-3 {\n",
              "  color: var(--sklearn-color-text);\n",
              "}\n",
              "\n",
              "#sk-container-id-3 pre {\n",
              "  padding: 0;\n",
              "}\n",
              "\n",
              "#sk-container-id-3 input.sk-hidden--visually {\n",
              "  border: 0;\n",
              "  clip: rect(1px 1px 1px 1px);\n",
              "  clip: rect(1px, 1px, 1px, 1px);\n",
              "  height: 1px;\n",
              "  margin: -1px;\n",
              "  overflow: hidden;\n",
              "  padding: 0;\n",
              "  position: absolute;\n",
              "  width: 1px;\n",
              "}\n",
              "\n",
              "#sk-container-id-3 div.sk-dashed-wrapped {\n",
              "  border: 1px dashed var(--sklearn-color-line);\n",
              "  margin: 0 0.4em 0.5em 0.4em;\n",
              "  box-sizing: border-box;\n",
              "  padding-bottom: 0.4em;\n",
              "  background-color: var(--sklearn-color-background);\n",
              "}\n",
              "\n",
              "#sk-container-id-3 div.sk-container {\n",
              "  /* jupyter's `normalize.less` sets `[hidden] { display: none; }`\n",
              "     but bootstrap.min.css set `[hidden] { display: none !important; }`\n",
              "     so we also need the `!important` here to be able to override the\n",
              "     default hidden behavior on the sphinx rendered scikit-learn.org.\n",
              "     See: https://github.com/scikit-learn/scikit-learn/issues/21755 */\n",
              "  display: inline-block !important;\n",
              "  position: relative;\n",
              "}\n",
              "\n",
              "#sk-container-id-3 div.sk-text-repr-fallback {\n",
              "  display: none;\n",
              "}\n",
              "\n",
              "div.sk-parallel-item,\n",
              "div.sk-serial,\n",
              "div.sk-item {\n",
              "  /* draw centered vertical line to link estimators */\n",
              "  background-image: linear-gradient(var(--sklearn-color-text-on-default-background), var(--sklearn-color-text-on-default-background));\n",
              "  background-size: 2px 100%;\n",
              "  background-repeat: no-repeat;\n",
              "  background-position: center center;\n",
              "}\n",
              "\n",
              "/* Parallel-specific style estimator block */\n",
              "\n",
              "#sk-container-id-3 div.sk-parallel-item::after {\n",
              "  content: \"\";\n",
              "  width: 100%;\n",
              "  border-bottom: 2px solid var(--sklearn-color-text-on-default-background);\n",
              "  flex-grow: 1;\n",
              "}\n",
              "\n",
              "#sk-container-id-3 div.sk-parallel {\n",
              "  display: flex;\n",
              "  align-items: stretch;\n",
              "  justify-content: center;\n",
              "  background-color: var(--sklearn-color-background);\n",
              "  position: relative;\n",
              "}\n",
              "\n",
              "#sk-container-id-3 div.sk-parallel-item {\n",
              "  display: flex;\n",
              "  flex-direction: column;\n",
              "}\n",
              "\n",
              "#sk-container-id-3 div.sk-parallel-item:first-child::after {\n",
              "  align-self: flex-end;\n",
              "  width: 50%;\n",
              "}\n",
              "\n",
              "#sk-container-id-3 div.sk-parallel-item:last-child::after {\n",
              "  align-self: flex-start;\n",
              "  width: 50%;\n",
              "}\n",
              "\n",
              "#sk-container-id-3 div.sk-parallel-item:only-child::after {\n",
              "  width: 0;\n",
              "}\n",
              "\n",
              "/* Serial-specific style estimator block */\n",
              "\n",
              "#sk-container-id-3 div.sk-serial {\n",
              "  display: flex;\n",
              "  flex-direction: column;\n",
              "  align-items: center;\n",
              "  background-color: var(--sklearn-color-background);\n",
              "  padding-right: 1em;\n",
              "  padding-left: 1em;\n",
              "}\n",
              "\n",
              "\n",
              "/* Toggleable style: style used for estimator/Pipeline/ColumnTransformer box that is\n",
              "clickable and can be expanded/collapsed.\n",
              "- Pipeline and ColumnTransformer use this feature and define the default style\n",
              "- Estimators will overwrite some part of the style using the `sk-estimator` class\n",
              "*/\n",
              "\n",
              "/* Pipeline and ColumnTransformer style (default) */\n",
              "\n",
              "#sk-container-id-3 div.sk-toggleable {\n",
              "  /* Default theme specific background. It is overwritten whether we have a\n",
              "  specific estimator or a Pipeline/ColumnTransformer */\n",
              "  background-color: var(--sklearn-color-background);\n",
              "}\n",
              "\n",
              "/* Toggleable label */\n",
              "#sk-container-id-3 label.sk-toggleable__label {\n",
              "  cursor: pointer;\n",
              "  display: block;\n",
              "  width: 100%;\n",
              "  margin-bottom: 0;\n",
              "  padding: 0.5em;\n",
              "  box-sizing: border-box;\n",
              "  text-align: center;\n",
              "}\n",
              "\n",
              "#sk-container-id-3 label.sk-toggleable__label-arrow:before {\n",
              "  /* Arrow on the left of the label */\n",
              "  content: \"▸\";\n",
              "  float: left;\n",
              "  margin-right: 0.25em;\n",
              "  color: var(--sklearn-color-icon);\n",
              "}\n",
              "\n",
              "#sk-container-id-3 label.sk-toggleable__label-arrow:hover:before {\n",
              "  color: var(--sklearn-color-text);\n",
              "}\n",
              "\n",
              "/* Toggleable content - dropdown */\n",
              "\n",
              "#sk-container-id-3 div.sk-toggleable__content {\n",
              "  max-height: 0;\n",
              "  max-width: 0;\n",
              "  overflow: hidden;\n",
              "  text-align: left;\n",
              "  /* unfitted */\n",
              "  background-color: var(--sklearn-color-unfitted-level-0);\n",
              "}\n",
              "\n",
              "#sk-container-id-3 div.sk-toggleable__content.fitted {\n",
              "  /* fitted */\n",
              "  background-color: var(--sklearn-color-fitted-level-0);\n",
              "}\n",
              "\n",
              "#sk-container-id-3 div.sk-toggleable__content pre {\n",
              "  margin: 0.2em;\n",
              "  border-radius: 0.25em;\n",
              "  color: var(--sklearn-color-text);\n",
              "  /* unfitted */\n",
              "  background-color: var(--sklearn-color-unfitted-level-0);\n",
              "}\n",
              "\n",
              "#sk-container-id-3 div.sk-toggleable__content.fitted pre {\n",
              "  /* unfitted */\n",
              "  background-color: var(--sklearn-color-fitted-level-0);\n",
              "}\n",
              "\n",
              "#sk-container-id-3 input.sk-toggleable__control:checked~div.sk-toggleable__content {\n",
              "  /* Expand drop-down */\n",
              "  max-height: 200px;\n",
              "  max-width: 100%;\n",
              "  overflow: auto;\n",
              "}\n",
              "\n",
              "#sk-container-id-3 input.sk-toggleable__control:checked~label.sk-toggleable__label-arrow:before {\n",
              "  content: \"▾\";\n",
              "}\n",
              "\n",
              "/* Pipeline/ColumnTransformer-specific style */\n",
              "\n",
              "#sk-container-id-3 div.sk-label input.sk-toggleable__control:checked~label.sk-toggleable__label {\n",
              "  color: var(--sklearn-color-text);\n",
              "  background-color: var(--sklearn-color-unfitted-level-2);\n",
              "}\n",
              "\n",
              "#sk-container-id-3 div.sk-label.fitted input.sk-toggleable__control:checked~label.sk-toggleable__label {\n",
              "  background-color: var(--sklearn-color-fitted-level-2);\n",
              "}\n",
              "\n",
              "/* Estimator-specific style */\n",
              "\n",
              "/* Colorize estimator box */\n",
              "#sk-container-id-3 div.sk-estimator input.sk-toggleable__control:checked~label.sk-toggleable__label {\n",
              "  /* unfitted */\n",
              "  background-color: var(--sklearn-color-unfitted-level-2);\n",
              "}\n",
              "\n",
              "#sk-container-id-3 div.sk-estimator.fitted input.sk-toggleable__control:checked~label.sk-toggleable__label {\n",
              "  /* fitted */\n",
              "  background-color: var(--sklearn-color-fitted-level-2);\n",
              "}\n",
              "\n",
              "#sk-container-id-3 div.sk-label label.sk-toggleable__label,\n",
              "#sk-container-id-3 div.sk-label label {\n",
              "  /* The background is the default theme color */\n",
              "  color: var(--sklearn-color-text-on-default-background);\n",
              "}\n",
              "\n",
              "/* On hover, darken the color of the background */\n",
              "#sk-container-id-3 div.sk-label:hover label.sk-toggleable__label {\n",
              "  color: var(--sklearn-color-text);\n",
              "  background-color: var(--sklearn-color-unfitted-level-2);\n",
              "}\n",
              "\n",
              "/* Label box, darken color on hover, fitted */\n",
              "#sk-container-id-3 div.sk-label.fitted:hover label.sk-toggleable__label.fitted {\n",
              "  color: var(--sklearn-color-text);\n",
              "  background-color: var(--sklearn-color-fitted-level-2);\n",
              "}\n",
              "\n",
              "/* Estimator label */\n",
              "\n",
              "#sk-container-id-3 div.sk-label label {\n",
              "  font-family: monospace;\n",
              "  font-weight: bold;\n",
              "  display: inline-block;\n",
              "  line-height: 1.2em;\n",
              "}\n",
              "\n",
              "#sk-container-id-3 div.sk-label-container {\n",
              "  text-align: center;\n",
              "}\n",
              "\n",
              "/* Estimator-specific */\n",
              "#sk-container-id-3 div.sk-estimator {\n",
              "  font-family: monospace;\n",
              "  border: 1px dotted var(--sklearn-color-border-box);\n",
              "  border-radius: 0.25em;\n",
              "  box-sizing: border-box;\n",
              "  margin-bottom: 0.5em;\n",
              "  /* unfitted */\n",
              "  background-color: var(--sklearn-color-unfitted-level-0);\n",
              "}\n",
              "\n",
              "#sk-container-id-3 div.sk-estimator.fitted {\n",
              "  /* fitted */\n",
              "  background-color: var(--sklearn-color-fitted-level-0);\n",
              "}\n",
              "\n",
              "/* on hover */\n",
              "#sk-container-id-3 div.sk-estimator:hover {\n",
              "  /* unfitted */\n",
              "  background-color: var(--sklearn-color-unfitted-level-2);\n",
              "}\n",
              "\n",
              "#sk-container-id-3 div.sk-estimator.fitted:hover {\n",
              "  /* fitted */\n",
              "  background-color: var(--sklearn-color-fitted-level-2);\n",
              "}\n",
              "\n",
              "/* Specification for estimator info (e.g. \"i\" and \"?\") */\n",
              "\n",
              "/* Common style for \"i\" and \"?\" */\n",
              "\n",
              ".sk-estimator-doc-link,\n",
              "a:link.sk-estimator-doc-link,\n",
              "a:visited.sk-estimator-doc-link {\n",
              "  float: right;\n",
              "  font-size: smaller;\n",
              "  line-height: 1em;\n",
              "  font-family: monospace;\n",
              "  background-color: var(--sklearn-color-background);\n",
              "  border-radius: 1em;\n",
              "  height: 1em;\n",
              "  width: 1em;\n",
              "  text-decoration: none !important;\n",
              "  margin-left: 1ex;\n",
              "  /* unfitted */\n",
              "  border: var(--sklearn-color-unfitted-level-1) 1pt solid;\n",
              "  color: var(--sklearn-color-unfitted-level-1);\n",
              "}\n",
              "\n",
              ".sk-estimator-doc-link.fitted,\n",
              "a:link.sk-estimator-doc-link.fitted,\n",
              "a:visited.sk-estimator-doc-link.fitted {\n",
              "  /* fitted */\n",
              "  border: var(--sklearn-color-fitted-level-1) 1pt solid;\n",
              "  color: var(--sklearn-color-fitted-level-1);\n",
              "}\n",
              "\n",
              "/* On hover */\n",
              "div.sk-estimator:hover .sk-estimator-doc-link:hover,\n",
              ".sk-estimator-doc-link:hover,\n",
              "div.sk-label-container:hover .sk-estimator-doc-link:hover,\n",
              ".sk-estimator-doc-link:hover {\n",
              "  /* unfitted */\n",
              "  background-color: var(--sklearn-color-unfitted-level-3);\n",
              "  color: var(--sklearn-color-background);\n",
              "  text-decoration: none;\n",
              "}\n",
              "\n",
              "div.sk-estimator.fitted:hover .sk-estimator-doc-link.fitted:hover,\n",
              ".sk-estimator-doc-link.fitted:hover,\n",
              "div.sk-label-container:hover .sk-estimator-doc-link.fitted:hover,\n",
              ".sk-estimator-doc-link.fitted:hover {\n",
              "  /* fitted */\n",
              "  background-color: var(--sklearn-color-fitted-level-3);\n",
              "  color: var(--sklearn-color-background);\n",
              "  text-decoration: none;\n",
              "}\n",
              "\n",
              "/* Span, style for the box shown on hovering the info icon */\n",
              ".sk-estimator-doc-link span {\n",
              "  display: none;\n",
              "  z-index: 9999;\n",
              "  position: relative;\n",
              "  font-weight: normal;\n",
              "  right: .2ex;\n",
              "  padding: .5ex;\n",
              "  margin: .5ex;\n",
              "  width: min-content;\n",
              "  min-width: 20ex;\n",
              "  max-width: 50ex;\n",
              "  color: var(--sklearn-color-text);\n",
              "  box-shadow: 2pt 2pt 4pt #999;\n",
              "  /* unfitted */\n",
              "  background: var(--sklearn-color-unfitted-level-0);\n",
              "  border: .5pt solid var(--sklearn-color-unfitted-level-3);\n",
              "}\n",
              "\n",
              ".sk-estimator-doc-link.fitted span {\n",
              "  /* fitted */\n",
              "  background: var(--sklearn-color-fitted-level-0);\n",
              "  border: var(--sklearn-color-fitted-level-3);\n",
              "}\n",
              "\n",
              ".sk-estimator-doc-link:hover span {\n",
              "  display: block;\n",
              "}\n",
              "\n",
              "/* \"?\"-specific style due to the `<a>` HTML tag */\n",
              "\n",
              "#sk-container-id-3 a.estimator_doc_link {\n",
              "  float: right;\n",
              "  font-size: 1rem;\n",
              "  line-height: 1em;\n",
              "  font-family: monospace;\n",
              "  background-color: var(--sklearn-color-background);\n",
              "  border-radius: 1rem;\n",
              "  height: 1rem;\n",
              "  width: 1rem;\n",
              "  text-decoration: none;\n",
              "  /* unfitted */\n",
              "  color: var(--sklearn-color-unfitted-level-1);\n",
              "  border: var(--sklearn-color-unfitted-level-1) 1pt solid;\n",
              "}\n",
              "\n",
              "#sk-container-id-3 a.estimator_doc_link.fitted {\n",
              "  /* fitted */\n",
              "  border: var(--sklearn-color-fitted-level-1) 1pt solid;\n",
              "  color: var(--sklearn-color-fitted-level-1);\n",
              "}\n",
              "\n",
              "/* On hover */\n",
              "#sk-container-id-3 a.estimator_doc_link:hover {\n",
              "  /* unfitted */\n",
              "  background-color: var(--sklearn-color-unfitted-level-3);\n",
              "  color: var(--sklearn-color-background);\n",
              "  text-decoration: none;\n",
              "}\n",
              "\n",
              "#sk-container-id-3 a.estimator_doc_link.fitted:hover {\n",
              "  /* fitted */\n",
              "  background-color: var(--sklearn-color-fitted-level-3);\n",
              "}\n",
              "</style><div id=\"sk-container-id-3\" class=\"sk-top-container\"><div class=\"sk-text-repr-fallback\"><pre>RandomForestClassifier(n_estimators=200, random_state=42)</pre><b>In a Jupyter environment, please rerun this cell to show the HTML representation or trust the notebook. <br />On GitHub, the HTML representation is unable to render, please try loading this page with nbviewer.org.</b></div><div class=\"sk-container\" hidden><div class=\"sk-item\"><div class=\"sk-estimator fitted sk-toggleable\"><input class=\"sk-toggleable__control sk-hidden--visually\" id=\"sk-estimator-id-3\" type=\"checkbox\" checked><label for=\"sk-estimator-id-3\" class=\"sk-toggleable__label fitted sk-toggleable__label-arrow fitted\">&nbsp;&nbsp;RandomForestClassifier<a class=\"sk-estimator-doc-link fitted\" rel=\"noreferrer\" target=\"_blank\" href=\"https://scikit-learn.org/1.5/modules/generated/sklearn.ensemble.RandomForestClassifier.html\">?<span>Documentation for RandomForestClassifier</span></a><span class=\"sk-estimator-doc-link fitted\">i<span>Fitted</span></span></label><div class=\"sk-toggleable__content fitted\"><pre>RandomForestClassifier(n_estimators=200, random_state=42)</pre></div> </div></div></div></div>"
            ],
            "text/plain": [
              "RandomForestClassifier(n_estimators=200, random_state=42)"
            ]
          },
          "execution_count": 36,
          "metadata": {},
          "output_type": "execute_result"
        }
      ],
      "source": [
        "best_rf_model"
      ]
    },
    {
      "cell_type": "markdown",
      "id": "5af05670",
      "metadata": {
        "id": "5af05670"
      },
      "source": [
        "#### 7.3.2. Evaluación del modelo"
      ]
    },
    {
      "cell_type": "code",
      "execution_count": 37,
      "id": "07850072",
      "metadata": {
        "id": "07850072"
      },
      "outputs": [],
      "source": [
        "# Realizar predicciones con el mejor modelo\n",
        "\n",
        "y_pred_rf = best_rf_model.predict(X_test)"
      ]
    },
    {
      "cell_type": "markdown",
      "id": "f1b8dda8",
      "metadata": {
        "id": "f1b8dda8"
      },
      "source": [
        "##### 7.3.2.1. Matriz de confución"
      ]
    },
    {
      "cell_type": "code",
      "execution_count": 38,
      "id": "c09b5937",
      "metadata": {
        "colab": {
          "base_uri": "https://localhost:8080/",
          "height": 564
        },
        "id": "c09b5937",
        "outputId": "5bc97f6a-5462-4e8b-e632-f51a85845da9"
      },
      "outputs": [
        {
          "data": {
            "image/png": "[encoded data removed]",
            "text/plain": [
              "<Figure size 800x600 with 2 Axes>"
            ]
          },
          "metadata": {},
          "output_type": "display_data"
        }
      ],
      "source": [
        "# Generar la matriz de confusión\n",
        "conf_matrix_rf = confusion_matrix(y_test, y_pred_rf)\n",
        "\n",
        "# Visualizar la matriz de confusión como un mapa de calor\n",
        "plt.figure(figsize=(8, 6))\n",
        "sns.heatmap(conf_matrix_rf, \n",
        "            annot=True, \n",
        "            fmt='d', \n",
        "            cmap='Blues', \n",
        "            xticklabels=onehot_encoder.categories_[0], \n",
        "            yticklabels=onehot_encoder.categories_[0])\n",
        "plt.title('Matriz de Confusión')\n",
        "plt.xlabel('Predicted')\n",
        "plt.ylabel('Actual')\n",
        "plt.show()"
      ]
    },
    {
      "cell_type": "markdown",
      "id": "c7580dbe",
      "metadata": {
        "id": "c7580dbe"
      },
      "source": [
        "##### 7.3.2.2. Curva ROC"
      ]
    },
    {
      "cell_type": "code",
      "execution_count": 39,
      "id": "194224f8",
      "metadata": {
        "colab": {
          "base_uri": "https://localhost:8080/",
          "height": 718
        },
        "id": "194224f8",
        "outputId": "8b24380f-6ee7-4cac-a301-6401944d82d9"
      },
      "outputs": [
        {
          "data": {
            "image/png": "[encoded data removed]",
            "text/plain": [
              "<Figure size 1000x800 with 1 Axes>"
            ]
          },
          "metadata": {},
          "output_type": "display_data"
        }
      ],
      "source": [
        "# Binarize the output labels\n",
        "y_test_binarized = label_binarize(y_test, classes=onehot_encoder.categories_[0])\n",
        "n_classes = y_test_binarized.shape[1]\n",
        "\n",
        "# Train a OneVsRestClassifier with the best RF model\n",
        "classifier_rf = OneVsRestClassifier(best_rf_model)\n",
        "y_score_rf = classifier_rf.fit(X_train, label_binarize(y_train, classes=onehot_encoder.categories_[0])).predict_proba(X_test)\n",
        "\n",
        "# Compute ROC curve and ROC area for each class\n",
        "fpr_rf = dict()\n",
        "tpr_rf = dict()\n",
        "roc_auc_rf = dict()\n",
        "for i in range(n_classes):\n",
        "    fpr_rf[i], tpr_rf[i], _ = roc_curve(y_test_binarized[:, i], y_score_rf[:, i])\n",
        "    roc_auc_rf[i] = auc(fpr_rf[i], tpr_rf[i])\n",
        "\n",
        "# Plot all ROC curves\n",
        "plt.figure(figsize=(10, 8))\n",
        "colors = cycle(['aqua', 'darkorange', 'cornflowerblue', 'green'])\n",
        "for i, color in zip(range(n_classes), colors):\n",
        "    plt.plot(fpr_rf[i], tpr_rf[i], color=color, lw=2,\n",
        "             label=f'ROC curve for class {onehot_encoder.categories_[0][i]} (area = {roc_auc_rf[i]:.2f})')\n",
        "\n",
        "plt.plot([0, 1], [0, 1], 'k--', lw=2)\n",
        "plt.xlim([0.0, 1.0])\n",
        "plt.ylim([0.0, 1.05])\n",
        "plt.xlabel('False Positive Rate')\n",
        "plt.ylabel('True Positive Rate')\n",
        "plt.title('Receiver Operating Characteristic (ROC) Curve')\n",
        "plt.legend(loc=\"lower right\")\n",
        "plt.show()"
      ]
    },
    {
      "cell_type": "markdown",
      "id": "9da985e5",
      "metadata": {
        "id": "9da985e5"
      },
      "source": [
        "Almacenamiento del modelo"
      ]
    },
    {
      "cell_type": "code",
      "execution_count": 40,
      "id": "20c8fe29",
      "metadata": {
        "colab": {
          "base_uri": "https://localhost:8080/"
        },
        "id": "20c8fe29",
        "outputId": "13462eb7-fd05-4c0a-a290-cecdf12b38da"
      },
      "outputs": [
        {
          "name": "stdout",
          "output_type": "stream",
          "text": [
            "Modelo RF guardado en: ./local/models/classification\\rf_wl_model_1_23.pkl\n"
          ]
        }
      ],
      "source": [
        "# Guardar el modelo RF\n",
        "rf_model_path = os.path.join(CLASSIFICARION_MODELS_DIR, 'rf_wl_model_1_23.pkl')\n",
        "joblib.dump(best_rf_model, rf_model_path)\n",
        "\n",
        "print(f\"Modelo RF guardado en: {rf_model_path}\")"
      ]
    },
    {
      "cell_type": "markdown",
      "id": "59d170aa",
      "metadata": {
        "id": "59d170aa"
      },
      "source": [
        "#### 7.3.3. Conclusiones del modelo\n",
        "\n",
        "To Do..."
      ]
    },
    {
      "cell_type": "code",
      "execution_count": null,
      "id": "a559e5e9",
      "metadata": {
        "id": "a559e5e9"
      },
      "outputs": [],
      "source": []
    }
  ],
  "metadata": {
    "colab": {
      "provenance": []
    },
    "kernelspec": {
      "display_name": "base",
      "language": "python",
      "name": "python3"
    },
    "language_info": {
      "codemirror_mode": {
        "name": "ipython",
        "version": 3
      },
      "file_extension": ".py",
      "mimetype": "text/x-python",
      "name": "python",
      "nbconvert_exporter": "python",
      "pygments_lexer": "ipython3",
      "version": "3.12.7"
    }
  },
  "nbformat": 4,
  "nbformat_minor": 5
}
