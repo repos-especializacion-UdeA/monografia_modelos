{
 "cells": [
  {
   "cell_type": "markdown",
   "id": "ba874dd2",
   "metadata": {},
   "source": [
    "[![Open in Colab](https://colab.research.google.com/assets/colab-badge.svg)](https://colab.research.google.com/github/repos-especializacion-UdeA/monografia_modelos/blob/main/05_models_CNN.ipynb)"
   ]
  },
  {
   "cell_type": "markdown",
   "id": "d751c1ff",
   "metadata": {},
   "source": [
    "# Intento de usar CNN"
   ]
  },
  {
   "cell_type": "code",
   "execution_count": 328,
   "id": "9b5fa07f",
   "metadata": {},
   "outputs": [
    {
     "name": "stdout",
     "output_type": "stream",
     "text": [
      "Ejecucion del notebook en entorno local\n"
     ]
    }
   ],
   "source": [
    "try:\n",
    "    import google.colab \n",
    "    !wget --no-cache -O init.py -q https://raw.githubusercontent.com/repos-especializacion-UdeA/monografia_modelos/refs/heads/main/init.py\n",
    "    from init import init; init(force_download=False)\n",
    "except ImportError:\n",
    "    print(\"Ejecucion del notebook en entorno local\")"
   ]
  },
  {
   "cell_type": "markdown",
   "id": "1d5b990b",
   "metadata": {},
   "source": [
    "## Objetivo a desarrollar\n",
    "\n",
    "* Obtener diferentes modelos usando la caracteristica RMS"
   ]
  },
  {
   "cell_type": "markdown",
   "id": "6bef7fd3",
   "metadata": {},
   "source": [
    "## Actividades\n",
    "\n",
    "To Do..."
   ]
  },
  {
   "cell_type": "markdown",
   "id": "cb068b48",
   "metadata": {},
   "source": [
    "## 1. Librerias y configuraciones previas"
   ]
  },
  {
   "cell_type": "code",
   "execution_count": 329,
   "id": "3b383ccd",
   "metadata": {},
   "outputs": [
    {
     "name": "stdout",
     "output_type": "stream",
     "text": [
      "La librería 'scipy' está instalada y se ha importado correctamente.\n",
      "La librería 'libEMG' está instalada y se ha importado correctamente.\n",
      "La librería 'imblearn' está instalada y se ha importado correctamente.\n",
      "La librería 'umap-learn' está instalada y se ha importado correctamente.\n",
      "La librería 'tensorflow' 2.18.0 está instalada y se ha importado correctamente.\n"
     ]
    }
   ],
   "source": [
    "# Verificacion de librerias necesarias antes de empezar\n",
    "try:\n",
    "    import scipy.io\n",
    "    print(\"La librería 'scipy' está instalada y se ha importado correctamente.\")\n",
    "except ImportError:\n",
    "    print(\"La librería 'scipy' no está instalada.\")\n",
    "    print(\"Instalando 'scipy'...\")\n",
    "    !pip install scipy\n",
    "\n",
    "try:\n",
    "    import libemg\n",
    "    print(\"La librería 'libEMG' está instalada y se ha importado correctamente.\")\n",
    "except ImportError:\n",
    "    print(\"La librería 'libEMG' no está instalada.\")\n",
    "    print(\"Instalando 'libEMG'...\")\n",
    "    !pip install libemg\n",
    "\n",
    "try:\n",
    "    import imblearn\n",
    "    print(\"La librería 'imblearn' está instalada y se ha importado correctamente.\")\n",
    "except ImportError:\n",
    "    print(\"La librería 'imblearn' no está instalada.\")\n",
    "    print(\"Instalando 'imblearn'...\")\n",
    "    !pip install imblearn\n",
    "\n",
    "try:\n",
    "    import umap\n",
    "    print(\"La librería 'umap-learn' está instalada y se ha importado correctamente.\")\n",
    "except ImportError:\n",
    "    print(\"La librería 'umap-learn' no está instalada.\")\n",
    "    print(\"Instalando 'umap-learn'...\")\n",
    "    !pip install umap-learn\n",
    "\n",
    "try:\n",
    "    import tensorflow as tf\n",
    "    print(f\"La librería 'tensorflow' {tf.__version__} está instalada y se ha importado correctamente.\")\n",
    "except ImportError:\n",
    "    print(\"La librería 'tensorflow' no está instalada.\")\n",
    "    print(\"Instalando 'tensorflow'...\")\n",
    "    !pip install tensorflow"
   ]
  },
  {
   "cell_type": "code",
   "execution_count": 330,
   "id": "fa14c883",
   "metadata": {},
   "outputs": [],
   "source": [
    "# Tratamiento de datos\n",
    "# ==============================================================================\n",
    "import pandas as pd\n",
    "import numpy as np\n",
    "\n",
    "# Almacenar en caché los resultados de funciones en el disco\n",
    "# ==============================================================================\n",
    "import joblib\n",
    "\n",
    "\n",
    "# Gestion de librerias\n",
    "# ==============================================================================\n",
    "from importlib import reload\n",
    "\n",
    "# Matemáticas y estadísticas\n",
    "# ==============================================================================\n",
    "import math\n",
    "\n",
    "# Preparación de datos\n",
    "# ==============================================================================\n",
    "from imblearn.over_sampling import RandomOverSampler\n",
    "from sklearn.neighbors import LocalOutlierFactor\n",
    "from imblearn.under_sampling import RandomUnderSampler\n",
    "from sklearn.preprocessing import LabelEncoder\n",
    "from sklearn.preprocessing import StandardScaler\n",
    "\n",
    "# Gráficos\n",
    "# ==============================================================================\n",
    "import matplotlib.pyplot as plt\n",
    "from matplotlib import style\n",
    "import seaborn as sns\n",
    "\n",
    "\n",
    "# Configuración warnings\n",
    "# ==============================================================================\n",
    "import warnings\n",
    "warnings.filterwarnings('ignore')\n",
    "\n",
    "# Formateo y estilo\n",
    "# ==============================================================================\n",
    "from IPython.display import Markdown, display\n",
    "\n",
    "# Biblioteca scipy y componentes\n",
    "# ==============================================================================\n",
    "import scipy.io\n",
    "from scipy import signal\n",
    "\n",
    "# Bliblioteca de archivos\n",
    "# ==============================================================================\n",
    "import requests\n",
    "from tqdm import tqdm\n",
    "import os\n",
    "import zipfile\n",
    "import sys\n",
    "import copy\n",
    "import re\n",
    "\n",
    "# Biblioteca libemg\n",
    "# ==============================================================================\n",
    "from libemg.data_handler import OfflineDataHandler, RegexFilter\n",
    "from libemg.utils import get_windows\n",
    "from libemg.feature_extractor import FeatureExtractor\n",
    "from libemg import filtering\n",
    "\n",
    "# Asumo que estas importaciones ya están en tu código:\n",
    "from sklearn.svm import SVC\n",
    "from sklearn.ensemble import RandomForestClassifier\n",
    "from sklearn.neighbors import KNeighborsClassifier\n",
    "from sklearn.model_selection import GridSearchCV\n",
    "from sklearn.metrics import accuracy_score, classification_report\n",
    "from sklearn.model_selection import train_test_split\n",
    "from sklearn.metrics import confusion_matrix\n",
    "from sklearn.metrics import pairwise_distances\n",
    "from sklearn.metrics import silhouette_score\n",
    "from sklearn.metrics import adjusted_rand_score\n",
    "\n",
    "from sklearn.metrics import roc_curve, auc\n",
    "from sklearn.preprocessing import label_binarize\n",
    "from sklearn.multiclass import OneVsRestClassifier\n",
    "from sklearn.svm import SVC\n",
    "from sklearn.cluster import KMeans\n",
    "from itertools import cycle\n",
    "from sklearn.decomposition import PCA, KernelPCA\n",
    "import umap\n",
    "\n",
    "import tensorflow as tf\n",
    "from tensorflow.keras.layers import (Input, LSTM, Conv1D, BatchNormalization,\n",
    "                                     PReLU, Dropout, Flatten, Dense, GlobalAveragePooling1D)\n",
    "from tensorflow.keras.models import Model\n",
    "from sklearn.preprocessing import LabelEncoder\n",
    "from sklearn.utils import class_weight\n",
    "from sklearn.metrics import classification_report, balanced_accuracy_score"
   ]
  },
  {
   "cell_type": "markdown",
   "id": "ad08445c",
   "metadata": {},
   "source": [
    "# 2. Funciones"
   ]
  },
  {
   "cell_type": "code",
   "execution_count": 331,
   "id": "4b27b820",
   "metadata": {},
   "outputs": [],
   "source": [
    "def load_data_to_model_csv(directory_path):\n",
    "    \"\"\"\n",
    "    Carga todos los archivos CSV de un directorio, identifica si son conjuntos balanceados o desbalanceados\n",
    "    según el nombre del archivo, y agrupa los datos en dos diccionarios.\n",
    "\n",
    "    Args:\n",
    "        directory_path (str): Ruta al directorio que contiene archivos CSV.\n",
    "\n",
    "    Returns:\n",
    "        tuple: (dict_imbalanced, dict_balanced) donde cada diccionario contiene DataFrames indexados por un identificador extraído del nombre del archivo.\n",
    "    \"\"\"\n",
    "    all_files = [f for f in os.listdir(directory_path) if f.endswith('.csv')]\n",
    "    print(f\"Archivos encontrados: {all_files}\")\n",
    "\n",
    "    dict_imbalanced = {}\n",
    "    dict_balanced = {}\n",
    "\n",
    "    for file in all_files:\n",
    "        file_path = os.path.join(directory_path, file)\n",
    "        try:\n",
    "            df = pd.read_csv(file_path)\n",
    "        except Exception as e:\n",
    "            print(f\"Error leyendo el archivo {file}: {e}\")\n",
    "            continue\n",
    "\n",
    "        print(f\"Archivo: {file}\")\n",
    "\n",
    "        # Se asume que el identificador está antes del primer guion bajo\n",
    "        feature = file.split('_')[0]\n",
    "        feature = feature.split('.')[0]  # Elimina la extensión del archivo\n",
    "\n",
    "        # Clasifica en el diccionario correspondiente\n",
    "        if 'imbalanced' in file.lower():\n",
    "            dict_imbalanced[feature] = df\n",
    "        else:\n",
    "            dict_balanced[feature] = df\n",
    "\n",
    "        print(f\"Datos cargados para '{feature}': {df.shape[0]} filas, {df.shape[1]} columnas\")\n",
    "\n",
    "    return dict_imbalanced, dict_balanced"
   ]
  },
  {
   "cell_type": "markdown",
   "id": "23166b26",
   "metadata": {},
   "source": [
    "El codigo del modelo CNN que se usará en el siguiente notebook lo genero skynet a partir del articulo **Hand Gesture Recognition Using Compact CNN via Surface Electromyography Signals** ([link](https://pmc.ncbi.nlm.nih.gov/articles/PMC7039218/)). La imagen base tomada el desarrollo del modelo fue la siguiente (tomada del articulo citado):\n",
    "\n",
    "![imagen](https://cdn.ncbi.nlm.nih.gov/pmc/blobs/27cb/7039218/9dc477431943/sensors-20-00672-g002.jpg)\n",
    "\n",
    "A continuación se muestra el codigo generado:"
   ]
  },
  {
   "cell_type": "code",
   "execution_count": 332,
   "id": "1b3680aa",
   "metadata": {},
   "outputs": [],
   "source": [
    "def build_lstm_cnn_model(input_shape, num_classes, lstm_units_1=64, lstm_units_2=64, fc_units=32):\n",
    "    \"\"\"\n",
    "    Construye un modelo de Keras basado en el diagrama de arquitectura proporcionado.\n",
    "    Args:\n",
    "        input_shape (tuple): Forma de los datos de entrada (sequence_length, num_features).\n",
    "        num_classes (int): Número de clases para la capa de salida Softmax.\n",
    "        lstm_units_1 (int): Número de unidades en la primera capa LSTM.\n",
    "        lstm_units_2 (int): Número de unidades en la segunda capa LSTM.\n",
    "        fc_units (int): Número de unidades en la capa densa (\"Fully Connected\") antes de la PReLU.\n",
    "    Returns:\n",
    "        tensorflow.keras.models.Model: El modelo de Keras.\n",
    "    \"\"\"\n",
    "\n",
    "    # Capa de Entrada\n",
    "    inputs = Input(shape=input_shape, name=\"input_signals\")\n",
    "\n",
    "    # Capas LSTM\n",
    "    # Dos capas LSTM apiladas. Ambas retornan secuencias completas.\n",
    "    x = LSTM(units=lstm_units_1, return_sequences=True, name=\"lstm_1\")(inputs)\n",
    "    x = LSTM(units=lstm_units_2, return_sequences=True, name=\"lstm_2\")(x)\n",
    "    # Salida de LSTM: (batch_size, sequence_length, lstm_units_2)\n",
    "\n",
    "    # Bloque 1DCNN\n",
    "    # Primera sub-capa convolucional dentro del bloque 1DCNN\n",
    "    cnn_output = Conv1D(filters=64, kernel_size=3, strides=1, padding='same', name=\"conv1d_1\")(x)\n",
    "    cnn_output = BatchNormalization(name=\"batchnorm_1\")(cnn_output)\n",
    "    cnn_output = PReLU(name=\"prelu_1\")(cnn_output)\n",
    "\n",
    "    # Capa Dropout\n",
    "    cnn_output = Dropout(0.3, name=\"dropout_1\")(cnn_output)\n",
    "\n",
    "    # Segunda sub-capa convolucional dentro del bloque 1DCNN\n",
    "    cnn_output = Conv1D(filters=32, kernel_size=3, strides=1, padding='same', name=\"conv1d_2\")(cnn_output)\n",
    "    cnn_output = BatchNormalization(name=\"batchnorm_2\")(cnn_output)\n",
    "    cnn_output = PReLU(name=\"prelu_2\")(cnn_output)\n",
    "    # Salida del bloque 1DCNN: (batch_size, sequence_length, 32)\n",
    "\n",
    "    # Pooling\n",
    "    pooled_output = GlobalAveragePooling1D(name=\"global_avg_pooling\")(cnn_output)\n",
    "    # Salida de Pooling: (batch_size, 32)\n",
    "\n",
    "    # Capa \"Fully Connected\"\n",
    "    fc_output = Dense(units=fc_units, name=\"fully_connected_dense\")(pooled_output)\n",
    "    fc_output = PReLU(name=\"prelu_fc\")(fc_output)\n",
    "    # Salida de FC: (batch_size, fc_units)\n",
    "\n",
    "    # Capa de Salida Softmax\n",
    "    outputs = Dense(units=num_classes, activation='softmax', name=\"output_softmax\")(fc_output)\n",
    "    # Salida final: (batch_size, num_classes)\n",
    "\n",
    "    # Crear el modelo\n",
    "    model = Model(inputs=inputs, outputs=outputs, name=\"SequentialSignalClassifier_Adapted\")\n",
    "\n",
    "    return model"
   ]
  },
  {
   "cell_type": "markdown",
   "id": "a7d9551b",
   "metadata": {},
   "source": [
    "## 3. Variables del entorno"
   ]
  },
  {
   "cell_type": "code",
   "execution_count": 333,
   "id": "7c1bd22b",
   "metadata": {},
   "outputs": [
    {
     "name": "stdout",
     "output_type": "stream",
     "text": [
      "Directorio de trabajo: ./\n",
      "Directorio de datos: ./local/data/\n",
      "Directorio de datos crudos: ./local/data/raw\n",
      "Directorio de datos crudos (numpy): ./local/data/raw_numpy\n",
      "Directorio de datos crudos (subconjunto): ./local/data/raw_subset\n",
      "Directorio de datos filtrados (subconjunto): ./local/data/filtered_subset\n",
      "Directorio de datos de características (subconjunto): ./local/data/features_subset\n",
      "Directorio de datos de características (subconjunto balanceado): ./local/data/features_subset_balanced\n"
     ]
    }
   ],
   "source": [
    "ROOT_DIR =  './'\n",
    "DATA_DIR =  ROOT_DIR + 'local/data/'\n",
    "if not os.path.exists(ROOT_DIR):\n",
    "    os.makedirs(ROOT_DIR)    \n",
    "RAW_DATA_DIR = DATA_DIR + 'raw'\n",
    "if not os.path.exists(RAW_DATA_DIR):\n",
    "    os.makedirs(RAW_DATA_DIR)\n",
    "RAW_DATA_DIR_NPY = DATA_DIR + 'raw_numpy'\n",
    "if not os.path.exists(RAW_DATA_DIR_NPY):\n",
    "    os.makedirs(RAW_DATA_DIR_NPY)\n",
    "RAW_SUBSET_DATA_DIR = DATA_DIR + 'raw_subset'\n",
    "if not os.path.exists(RAW_SUBSET_DATA_DIR):\n",
    "    os.makedirs(RAW_SUBSET_DATA_DIR)\n",
    "FILTERED_SUBSET_DATA_DIR = DATA_DIR + 'filtered_subset'\n",
    "if not os.path.exists(FILTERED_SUBSET_DATA_DIR):\n",
    "    os.makedirs(FILTERED_SUBSET_DATA_DIR)\n",
    "FEATURES_SUBSET_DATA_DIR = DATA_DIR + 'features_subset'\n",
    "if not os.path.exists(FEATURES_SUBSET_DATA_DIR):\n",
    "    os.makedirs(FEATURES_SUBSET_DATA_DIR)\n",
    "FEATURES_SUBSET_BALANCED_DATA = DATA_DIR + 'features_subset_balanced'\n",
    "if not os.path.exists(FEATURES_SUBSET_BALANCED_DATA):\n",
    "    os.makedirs(FEATURES_SUBSET_BALANCED_DATA)\n",
    "\n",
    "print(\"Directorio de trabajo:\", ROOT_DIR)\n",
    "print(\"Directorio de datos:\", DATA_DIR)\n",
    "print(\"Directorio de datos crudos:\", RAW_DATA_DIR)\n",
    "print(\"Directorio de datos crudos (numpy):\", RAW_DATA_DIR_NPY)\n",
    "print(\"Directorio de datos crudos (subconjunto):\", RAW_SUBSET_DATA_DIR)\n",
    "print(\"Directorio de datos filtrados (subconjunto):\", FILTERED_SUBSET_DATA_DIR)\n",
    "print(\"Directorio de datos de características (subconjunto):\", FEATURES_SUBSET_DATA_DIR)\n",
    "print(\"Directorio de datos de características (subconjunto balanceado):\", FEATURES_SUBSET_BALANCED_DATA)"
   ]
  },
  {
   "cell_type": "code",
   "execution_count": 334,
   "id": "8cf552cd",
   "metadata": {},
   "outputs": [
    {
     "name": "stdout",
     "output_type": "stream",
     "text": [
      "Directorio de modelos: ./local/models\n",
      "Directorio de modelos de clasificación: ./local/models/classification\n",
      "Directorio de escaladores: ./local/models/scalers\n"
     ]
    }
   ],
   "source": [
    "MODELS_DIR = ROOT_DIR + 'local/models'\n",
    "if not os.path.exists(MODELS_DIR):\n",
    "    os.makedirs(MODELS_DIR)\n",
    "\n",
    "CLASSIFICARION_MODELS_DIR = MODELS_DIR + '/classification'\n",
    "if not os.path.exists(CLASSIFICARION_MODELS_DIR):\n",
    "    os.makedirs(CLASSIFICARION_MODELS_DIR)\n",
    "\n",
    "SCALERS_DIR = MODELS_DIR + '/scalers'\n",
    "if not os.path.exists(SCALERS_DIR):\n",
    "    os.makedirs(SCALERS_DIR)\n",
    "\n",
    "print(\"Directorio de modelos:\", MODELS_DIR)\n",
    "print(\"Directorio de modelos de clasificación:\", CLASSIFICARION_MODELS_DIR)\n",
    "print(\"Directorio de escaladores:\", SCALERS_DIR)"
   ]
  },
  {
   "cell_type": "markdown",
   "id": "61b2acf7",
   "metadata": {},
   "source": [
    "## 4. Carga del dataset de las caracteristicas"
   ]
  },
  {
   "cell_type": "markdown",
   "id": "e7fc3bc6",
   "metadata": {},
   "source": [
    "Carga y combinación de los datos en un solo dataframe"
   ]
  },
  {
   "cell_type": "code",
   "execution_count": 335,
   "id": "4a11bee2",
   "metadata": {},
   "outputs": [
    {
     "data": {
      "text/plain": [
       "'./local/data/features_subset_balanced'"
      ]
     },
     "execution_count": 335,
     "metadata": {},
     "output_type": "execute_result"
    }
   ],
   "source": [
    "FEATURES_SUBSET_BALANCED_DATA"
   ]
  },
  {
   "cell_type": "markdown",
   "id": "9dfcd569",
   "metadata": {},
   "source": [
    "El dataframe en el que se combinaron los datos fue: `merged_df` "
   ]
  },
  {
   "cell_type": "code",
   "execution_count": 336,
   "id": "265112c7",
   "metadata": {},
   "outputs": [
    {
     "name": "stdout",
     "output_type": "stream",
     "text": [
      "Archivos encontrados: ['IAV_balanced.csv', 'IAV_imbalanced.csv', 'RMS_balanced.csv', 'RMS_imbalanced.csv', 'WL_balanced.csv', 'WL_imbalanced.csv']\n",
      "Archivo: IAV_balanced.csv\n",
      "Datos cargados para 'IAV': 13272 filas, 11 columnas\n",
      "Archivo: IAV_imbalanced.csv\n",
      "Datos cargados para 'IAV': 21594 filas, 14 columnas\n",
      "Archivo: RMS_balanced.csv\n",
      "Datos cargados para 'RMS': 13272 filas, 11 columnas\n",
      "Archivo: RMS_imbalanced.csv\n",
      "Datos cargados para 'RMS': 21594 filas, 14 columnas\n",
      "Archivo: WL_balanced.csv\n",
      "Datos cargados para 'WL': 13272 filas, 11 columnas\n",
      "Archivo: WL_imbalanced.csv\n",
      "Datos cargados para 'WL': 21594 filas, 14 columnas\n"
     ]
    }
   ],
   "source": [
    "# Load and merge CSV files\n",
    "dict_imbalanced, dict_balanced = load_data_to_model_csv(FEATURES_SUBSET_BALANCED_DATA)"
   ]
  },
  {
   "cell_type": "markdown",
   "id": "966a272e",
   "metadata": {},
   "source": [
    "En los diccionarios `dict_imbalanced`, `dict_balanced` estan las caracteristicas de las señales capturadas para cada usuario. El diccionario `dict_imbalanced` se usara luego para realizar un clustering para clasificación usando kmeans."
   ]
  },
  {
   "cell_type": "code",
   "execution_count": 337,
   "id": "16e01a09",
   "metadata": {},
   "outputs": [
    {
     "data": {
      "text/plain": [
       "dict_keys(['IAV', 'RMS', 'WL'])"
      ]
     },
     "execution_count": 337,
     "metadata": {},
     "output_type": "execute_result"
    }
   ],
   "source": [
    "dict_imbalanced.keys()"
   ]
  },
  {
   "cell_type": "code",
   "execution_count": 338,
   "id": "d457d3a1",
   "metadata": {},
   "outputs": [
    {
     "name": "stdout",
     "output_type": "stream",
     "text": [
      "IAV: (21594, 14)\n",
      "RMS: (21594, 14)\n",
      "WL: (21594, 14)\n"
     ]
    }
   ],
   "source": [
    "for feature_name, df in dict_imbalanced.items():\n",
    "    print(f\"{feature_name}: {df.shape}\")"
   ]
  },
  {
   "cell_type": "code",
   "execution_count": 339,
   "id": "b673c319",
   "metadata": {},
   "outputs": [
    {
     "name": "stdout",
     "output_type": "stream",
     "text": [
      "IAV: (13272, 11)\n",
      "RMS: (13272, 11)\n",
      "WL: (13272, 11)\n"
     ]
    }
   ],
   "source": [
    "for feature_name, df in dict_balanced.items():\n",
    "    print(f\"{feature_name}: {df.shape}\")"
   ]
  },
  {
   "cell_type": "markdown",
   "id": "c348f983",
   "metadata": {},
   "source": [
    "### 4.1. RMS"
   ]
  },
  {
   "cell_type": "code",
   "execution_count": 340,
   "id": "5dab912e",
   "metadata": {},
   "outputs": [
    {
     "data": {
      "text/html": [
       "<div>\n",
       "<style scoped>\n",
       "    .dataframe tbody tr th:only-of-type {\n",
       "        vertical-align: middle;\n",
       "    }\n",
       "\n",
       "    .dataframe tbody tr th {\n",
       "        vertical-align: top;\n",
       "    }\n",
       "\n",
       "    .dataframe thead th {\n",
       "        text-align: right;\n",
       "    }\n",
       "</style>\n",
       "<table border=\"1\" class=\"dataframe\">\n",
       "  <thead>\n",
       "    <tr style=\"text-align: right;\">\n",
       "      <th></th>\n",
       "      <th>RMS_ch1</th>\n",
       "      <th>RMS_ch2</th>\n",
       "      <th>RMS_ch3</th>\n",
       "      <th>RMS_ch4</th>\n",
       "      <th>RMS_ch5</th>\n",
       "      <th>RMS_ch6</th>\n",
       "      <th>RMS_ch7</th>\n",
       "      <th>RMS_ch8</th>\n",
       "      <th>RMS_ch9</th>\n",
       "      <th>RMS_ch10</th>\n",
       "      <th>restimulus</th>\n",
       "      <th>subject</th>\n",
       "      <th>restimulus_cat</th>\n",
       "      <th>subject_cat</th>\n",
       "    </tr>\n",
       "  </thead>\n",
       "  <tbody>\n",
       "    <tr>\n",
       "      <th>0</th>\n",
       "      <td>0.186650</td>\n",
       "      <td>0.064954</td>\n",
       "      <td>0.007956</td>\n",
       "      <td>0.002370</td>\n",
       "      <td>0.002316</td>\n",
       "      <td>0.002340</td>\n",
       "      <td>0.011819</td>\n",
       "      <td>0.025321</td>\n",
       "      <td>0.002160</td>\n",
       "      <td>0.021807</td>\n",
       "      <td>0.0</td>\n",
       "      <td>10</td>\n",
       "      <td>0.0</td>\n",
       "      <td>10</td>\n",
       "    </tr>\n",
       "    <tr>\n",
       "      <th>1</th>\n",
       "      <td>0.147451</td>\n",
       "      <td>0.024014</td>\n",
       "      <td>0.010991</td>\n",
       "      <td>0.002311</td>\n",
       "      <td>0.002293</td>\n",
       "      <td>0.003349</td>\n",
       "      <td>0.061164</td>\n",
       "      <td>0.166142</td>\n",
       "      <td>0.001954</td>\n",
       "      <td>0.076644</td>\n",
       "      <td>0.0</td>\n",
       "      <td>10</td>\n",
       "      <td>0.0</td>\n",
       "      <td>10</td>\n",
       "    </tr>\n",
       "    <tr>\n",
       "      <th>2</th>\n",
       "      <td>0.214203</td>\n",
       "      <td>0.027382</td>\n",
       "      <td>0.070140</td>\n",
       "      <td>0.002309</td>\n",
       "      <td>0.002581</td>\n",
       "      <td>0.005600</td>\n",
       "      <td>0.146619</td>\n",
       "      <td>0.526502</td>\n",
       "      <td>0.002533</td>\n",
       "      <td>0.311813</td>\n",
       "      <td>-1.0</td>\n",
       "      <td>10</td>\n",
       "      <td>-1.0</td>\n",
       "      <td>10</td>\n",
       "    </tr>\n",
       "    <tr>\n",
       "      <th>3</th>\n",
       "      <td>0.399017</td>\n",
       "      <td>0.076350</td>\n",
       "      <td>0.197038</td>\n",
       "      <td>0.002660</td>\n",
       "      <td>0.003711</td>\n",
       "      <td>0.007535</td>\n",
       "      <td>0.219384</td>\n",
       "      <td>0.941561</td>\n",
       "      <td>0.005587</td>\n",
       "      <td>0.659597</td>\n",
       "      <td>1.0</td>\n",
       "      <td>10</td>\n",
       "      <td>1.0</td>\n",
       "      <td>10</td>\n",
       "    </tr>\n",
       "    <tr>\n",
       "      <th>4</th>\n",
       "      <td>0.664900</td>\n",
       "      <td>0.140433</td>\n",
       "      <td>0.336471</td>\n",
       "      <td>0.003742</td>\n",
       "      <td>0.006055</td>\n",
       "      <td>0.008054</td>\n",
       "      <td>0.247355</td>\n",
       "      <td>1.144152</td>\n",
       "      <td>0.011067</td>\n",
       "      <td>0.949690</td>\n",
       "      <td>1.0</td>\n",
       "      <td>10</td>\n",
       "      <td>1.0</td>\n",
       "      <td>10</td>\n",
       "    </tr>\n",
       "  </tbody>\n",
       "</table>\n",
       "</div>"
      ],
      "text/plain": [
       "    RMS_ch1   RMS_ch2   RMS_ch3   RMS_ch4   RMS_ch5   RMS_ch6   RMS_ch7  \\\n",
       "0  0.186650  0.064954  0.007956  0.002370  0.002316  0.002340  0.011819   \n",
       "1  0.147451  0.024014  0.010991  0.002311  0.002293  0.003349  0.061164   \n",
       "2  0.214203  0.027382  0.070140  0.002309  0.002581  0.005600  0.146619   \n",
       "3  0.399017  0.076350  0.197038  0.002660  0.003711  0.007535  0.219384   \n",
       "4  0.664900  0.140433  0.336471  0.003742  0.006055  0.008054  0.247355   \n",
       "\n",
       "    RMS_ch8   RMS_ch9  RMS_ch10  restimulus  subject  restimulus_cat  \\\n",
       "0  0.025321  0.002160  0.021807         0.0       10             0.0   \n",
       "1  0.166142  0.001954  0.076644         0.0       10             0.0   \n",
       "2  0.526502  0.002533  0.311813        -1.0       10            -1.0   \n",
       "3  0.941561  0.005587  0.659597         1.0       10             1.0   \n",
       "4  1.144152  0.011067  0.949690         1.0       10             1.0   \n",
       "\n",
       "   subject_cat  \n",
       "0           10  \n",
       "1           10  \n",
       "2           10  \n",
       "3           10  \n",
       "4           10  "
      ]
     },
     "execution_count": 340,
     "metadata": {},
     "output_type": "execute_result"
    }
   ],
   "source": [
    "# Display the first few rows of the first DataFrame\n",
    "df_rms_imbalanced = dict_imbalanced['RMS'].copy()\n",
    "df_rms_imbalanced.head()"
   ]
  },
  {
   "cell_type": "code",
   "execution_count": 341,
   "id": "a2ccf319",
   "metadata": {},
   "outputs": [
    {
     "name": "stdout",
     "output_type": "stream",
     "text": [
      "<class 'pandas.core.frame.DataFrame'>\n",
      "RangeIndex: 21594 entries, 0 to 21593\n",
      "Data columns (total 14 columns):\n",
      " #   Column          Non-Null Count  Dtype  \n",
      "---  ------          --------------  -----  \n",
      " 0   RMS_ch1         21594 non-null  float64\n",
      " 1   RMS_ch2         21594 non-null  float64\n",
      " 2   RMS_ch3         21594 non-null  float64\n",
      " 3   RMS_ch4         21594 non-null  float64\n",
      " 4   RMS_ch5         21594 non-null  float64\n",
      " 5   RMS_ch6         21594 non-null  float64\n",
      " 6   RMS_ch7         21594 non-null  float64\n",
      " 7   RMS_ch8         21594 non-null  float64\n",
      " 8   RMS_ch9         21594 non-null  float64\n",
      " 9   RMS_ch10        21594 non-null  float64\n",
      " 10  restimulus      21594 non-null  float64\n",
      " 11  subject         21594 non-null  int64  \n",
      " 12  restimulus_cat  21594 non-null  float64\n",
      " 13  subject_cat     21594 non-null  int64  \n",
      "dtypes: float64(12), int64(2)\n",
      "memory usage: 2.3 MB\n"
     ]
    }
   ],
   "source": [
    "df_rms_imbalanced.info()"
   ]
  },
  {
   "cell_type": "code",
   "execution_count": 342,
   "id": "8ee7093e",
   "metadata": {},
   "outputs": [
    {
     "name": "stdout",
     "output_type": "stream",
     "text": [
      "<class 'pandas.core.frame.DataFrame'>\n",
      "RangeIndex: 21594 entries, 0 to 21593\n",
      "Data columns (total 14 columns):\n",
      " #   Column          Non-Null Count  Dtype   \n",
      "---  ------          --------------  -----   \n",
      " 0   RMS_ch1         21594 non-null  float64 \n",
      " 1   RMS_ch2         21594 non-null  float64 \n",
      " 2   RMS_ch3         21594 non-null  float64 \n",
      " 3   RMS_ch4         21594 non-null  float64 \n",
      " 4   RMS_ch5         21594 non-null  float64 \n",
      " 5   RMS_ch6         21594 non-null  float64 \n",
      " 6   RMS_ch7         21594 non-null  float64 \n",
      " 7   RMS_ch8         21594 non-null  float64 \n",
      " 8   RMS_ch9         21594 non-null  float64 \n",
      " 9   RMS_ch10        21594 non-null  float64 \n",
      " 10  restimulus      21594 non-null  float64 \n",
      " 11  subject         21594 non-null  int64   \n",
      " 12  restimulus_cat  21594 non-null  category\n",
      " 13  subject_cat     21594 non-null  category\n",
      "dtypes: category(2), float64(11), int64(1)\n",
      "memory usage: 2.0 MB\n"
     ]
    }
   ],
   "source": [
    "df_rms_imbalanced['restimulus_cat'] = df_rms_imbalanced['restimulus_cat'].astype('category')\n",
    "df_rms_imbalanced['subject_cat'] = df_rms_imbalanced['subject_cat'].astype('category')\n",
    "df_rms_imbalanced.info()"
   ]
  },
  {
   "cell_type": "code",
   "execution_count": 343,
   "id": "5dcdac9b",
   "metadata": {},
   "outputs": [
    {
     "data": {
      "image/png": "[encoded data removed]",
      "text/plain": [
       "<Figure size 1000x600 with 1 Axes>"
      ]
     },
     "metadata": {},
     "output_type": "display_data"
    }
   ],
   "source": [
    "plt.figure(figsize=(10, 6)) # Tamaño mediano\n",
    "sns.countplot(data=df_rms_imbalanced, x='restimulus', palette='viridis')\n",
    "plt.title('Distribución de Categorías de Estímulos', fontsize=14) # Título resaltado\n",
    "plt.xlabel('Categoría de Estímulo')\n",
    "plt.ylabel('Frecuencia')\n",
    "plt.xticks(rotation=45, ha='right')\n",
    "plt.tight_layout()\n",
    "plt.show()"
   ]
  },
  {
   "cell_type": "markdown",
   "id": "a6d82ac8",
   "metadata": {},
   "source": [
    "Se eliminan todos los registros asociados a las ventanas cuya etiqueta se asocia a una transición"
   ]
  },
  {
   "cell_type": "code",
   "execution_count": 344,
   "id": "5e78c1e5",
   "metadata": {},
   "outputs": [
    {
     "name": "stdout",
     "output_type": "stream",
     "text": [
      "<class 'pandas.core.frame.DataFrame'>\n",
      "RangeIndex: 20043 entries, 0 to 20042\n",
      "Data columns (total 14 columns):\n",
      " #   Column          Non-Null Count  Dtype   \n",
      "---  ------          --------------  -----   \n",
      " 0   RMS_ch1         20043 non-null  float64 \n",
      " 1   RMS_ch2         20043 non-null  float64 \n",
      " 2   RMS_ch3         20043 non-null  float64 \n",
      " 3   RMS_ch4         20043 non-null  float64 \n",
      " 4   RMS_ch5         20043 non-null  float64 \n",
      " 5   RMS_ch6         20043 non-null  float64 \n",
      " 6   RMS_ch7         20043 non-null  float64 \n",
      " 7   RMS_ch8         20043 non-null  float64 \n",
      " 8   RMS_ch9         20043 non-null  float64 \n",
      " 9   RMS_ch10        20043 non-null  float64 \n",
      " 10  restimulus      20043 non-null  float64 \n",
      " 11  subject         20043 non-null  int64   \n",
      " 12  restimulus_cat  20043 non-null  category\n",
      " 13  subject_cat     20043 non-null  category\n",
      "dtypes: category(2), float64(11), int64(1)\n",
      "memory usage: 1.9 MB\n"
     ]
    }
   ],
   "source": [
    "# Eliminar todas las filas donde restimulus_cat == -1 en fd_rms_imbalanced\n",
    "df_rms_imbalanced = df_rms_imbalanced[df_rms_imbalanced['restimulus_cat'] != -1]\n",
    "df_rms_imbalanced = df_rms_imbalanced.reset_index(drop=True)\n",
    "df_rms_imbalanced.info()"
   ]
  },
  {
   "cell_type": "markdown",
   "id": "2e92addc",
   "metadata": {},
   "source": [
    "En la siguiente grafica se verifica el procedimiento previo."
   ]
  },
  {
   "cell_type": "code",
   "execution_count": 345,
   "id": "6a27a42b",
   "metadata": {},
   "outputs": [
    {
     "data": {
      "image/png": "[encoded data removed]",
      "text/plain": [
       "<Figure size 1000x600 with 1 Axes>"
      ]
     },
     "metadata": {},
     "output_type": "display_data"
    }
   ],
   "source": [
    "plt.figure(figsize=(10, 6)) # Tamaño mediano\n",
    "sns.countplot(data=df_rms_imbalanced, x='restimulus', palette='viridis')\n",
    "plt.title('Distribución de Categorías de Estímulos', fontsize=14) # Título resaltado\n",
    "plt.xlabel('Categoría de Estímulo')\n",
    "plt.ylabel('Frecuencia')\n",
    "plt.xticks(rotation=45, ha='right')\n",
    "plt.tight_layout()\n",
    "plt.show()"
   ]
  },
  {
   "cell_type": "code",
   "execution_count": 346,
   "id": "e7e61d1f",
   "metadata": {},
   "outputs": [
    {
     "data": {
      "text/html": [
       "<div>\n",
       "<style scoped>\n",
       "    .dataframe tbody tr th:only-of-type {\n",
       "        vertical-align: middle;\n",
       "    }\n",
       "\n",
       "    .dataframe tbody tr th {\n",
       "        vertical-align: top;\n",
       "    }\n",
       "\n",
       "    .dataframe thead th {\n",
       "        text-align: right;\n",
       "    }\n",
       "</style>\n",
       "<table border=\"1\" class=\"dataframe\">\n",
       "  <thead>\n",
       "    <tr style=\"text-align: right;\">\n",
       "      <th></th>\n",
       "      <th>RMS_ch1</th>\n",
       "      <th>RMS_ch2</th>\n",
       "      <th>RMS_ch3</th>\n",
       "      <th>RMS_ch4</th>\n",
       "      <th>RMS_ch5</th>\n",
       "      <th>RMS_ch6</th>\n",
       "      <th>RMS_ch7</th>\n",
       "      <th>RMS_ch8</th>\n",
       "      <th>RMS_ch9</th>\n",
       "      <th>RMS_ch10</th>\n",
       "      <th>restimulus</th>\n",
       "      <th>subject</th>\n",
       "      <th>restimulus_cat</th>\n",
       "      <th>subject_cat</th>\n",
       "    </tr>\n",
       "  </thead>\n",
       "  <tbody>\n",
       "    <tr>\n",
       "      <th>0</th>\n",
       "      <td>0.186650</td>\n",
       "      <td>0.064954</td>\n",
       "      <td>0.007956</td>\n",
       "      <td>0.002370</td>\n",
       "      <td>0.002316</td>\n",
       "      <td>0.002340</td>\n",
       "      <td>0.011819</td>\n",
       "      <td>0.025321</td>\n",
       "      <td>0.002160</td>\n",
       "      <td>0.021807</td>\n",
       "      <td>0.0</td>\n",
       "      <td>10</td>\n",
       "      <td>0.0</td>\n",
       "      <td>10</td>\n",
       "    </tr>\n",
       "    <tr>\n",
       "      <th>1</th>\n",
       "      <td>0.147451</td>\n",
       "      <td>0.024014</td>\n",
       "      <td>0.010991</td>\n",
       "      <td>0.002311</td>\n",
       "      <td>0.002293</td>\n",
       "      <td>0.003349</td>\n",
       "      <td>0.061164</td>\n",
       "      <td>0.166142</td>\n",
       "      <td>0.001954</td>\n",
       "      <td>0.076644</td>\n",
       "      <td>0.0</td>\n",
       "      <td>10</td>\n",
       "      <td>0.0</td>\n",
       "      <td>10</td>\n",
       "    </tr>\n",
       "    <tr>\n",
       "      <th>2</th>\n",
       "      <td>0.399017</td>\n",
       "      <td>0.076350</td>\n",
       "      <td>0.197038</td>\n",
       "      <td>0.002660</td>\n",
       "      <td>0.003711</td>\n",
       "      <td>0.007535</td>\n",
       "      <td>0.219384</td>\n",
       "      <td>0.941561</td>\n",
       "      <td>0.005587</td>\n",
       "      <td>0.659597</td>\n",
       "      <td>1.0</td>\n",
       "      <td>10</td>\n",
       "      <td>1.0</td>\n",
       "      <td>10</td>\n",
       "    </tr>\n",
       "    <tr>\n",
       "      <th>3</th>\n",
       "      <td>0.664900</td>\n",
       "      <td>0.140433</td>\n",
       "      <td>0.336471</td>\n",
       "      <td>0.003742</td>\n",
       "      <td>0.006055</td>\n",
       "      <td>0.008054</td>\n",
       "      <td>0.247355</td>\n",
       "      <td>1.144152</td>\n",
       "      <td>0.011067</td>\n",
       "      <td>0.949690</td>\n",
       "      <td>1.0</td>\n",
       "      <td>10</td>\n",
       "      <td>1.0</td>\n",
       "      <td>10</td>\n",
       "    </tr>\n",
       "    <tr>\n",
       "      <th>4</th>\n",
       "      <td>0.955840</td>\n",
       "      <td>0.202396</td>\n",
       "      <td>0.380185</td>\n",
       "      <td>0.005046</td>\n",
       "      <td>0.008593</td>\n",
       "      <td>0.007723</td>\n",
       "      <td>0.239447</td>\n",
       "      <td>1.084849</td>\n",
       "      <td>0.013835</td>\n",
       "      <td>1.068361</td>\n",
       "      <td>1.0</td>\n",
       "      <td>10</td>\n",
       "      <td>1.0</td>\n",
       "      <td>10</td>\n",
       "    </tr>\n",
       "  </tbody>\n",
       "</table>\n",
       "</div>"
      ],
      "text/plain": [
       "    RMS_ch1   RMS_ch2   RMS_ch3   RMS_ch4   RMS_ch5   RMS_ch6   RMS_ch7  \\\n",
       "0  0.186650  0.064954  0.007956  0.002370  0.002316  0.002340  0.011819   \n",
       "1  0.147451  0.024014  0.010991  0.002311  0.002293  0.003349  0.061164   \n",
       "2  0.399017  0.076350  0.197038  0.002660  0.003711  0.007535  0.219384   \n",
       "3  0.664900  0.140433  0.336471  0.003742  0.006055  0.008054  0.247355   \n",
       "4  0.955840  0.202396  0.380185  0.005046  0.008593  0.007723  0.239447   \n",
       "\n",
       "    RMS_ch8   RMS_ch9  RMS_ch10  restimulus  subject restimulus_cat  \\\n",
       "0  0.025321  0.002160  0.021807         0.0       10            0.0   \n",
       "1  0.166142  0.001954  0.076644         0.0       10            0.0   \n",
       "2  0.941561  0.005587  0.659597         1.0       10            1.0   \n",
       "3  1.144152  0.011067  0.949690         1.0       10            1.0   \n",
       "4  1.084849  0.013835  1.068361         1.0       10            1.0   \n",
       "\n",
       "  subject_cat  \n",
       "0          10  \n",
       "1          10  \n",
       "2          10  \n",
       "3          10  \n",
       "4          10  "
      ]
     },
     "execution_count": 346,
     "metadata": {},
     "output_type": "execute_result"
    }
   ],
   "source": [
    "df_rms_imbalanced.head()"
   ]
  },
  {
   "cell_type": "code",
   "execution_count": 347,
   "id": "395c88cf",
   "metadata": {},
   "outputs": [
    {
     "name": "stdout",
     "output_type": "stream",
     "text": [
      "Cantidad de datos únicos en 'restimulus':\n",
      "restimulus\n",
      "0.0     9809\n",
      "23.0    5810\n",
      "1.0     4424\n",
      "Name: count, dtype: int64\n"
     ]
    }
   ],
   "source": [
    "# Contar los valores únicos en la columna 'restimulus'\n",
    "unique_counts = df_rms_imbalanced['restimulus'].value_counts()\n",
    "\n",
    "# Mostrar los resultados\n",
    "print(\"Cantidad de datos únicos en 'restimulus':\")\n",
    "print(unique_counts)"
   ]
  },
  {
   "cell_type": "markdown",
   "id": "a39f3ea8",
   "metadata": {},
   "source": [
    "A continuación se muestran la forma de los datos que seran empleados para entrenar el modelo."
   ]
  },
  {
   "cell_type": "code",
   "execution_count": 348,
   "id": "abf465ac",
   "metadata": {},
   "outputs": [
    {
     "data": {
      "text/html": [
       "<div>\n",
       "<style scoped>\n",
       "    .dataframe tbody tr th:only-of-type {\n",
       "        vertical-align: middle;\n",
       "    }\n",
       "\n",
       "    .dataframe tbody tr th {\n",
       "        vertical-align: top;\n",
       "    }\n",
       "\n",
       "    .dataframe thead th {\n",
       "        text-align: right;\n",
       "    }\n",
       "</style>\n",
       "<table border=\"1\" class=\"dataframe\">\n",
       "  <thead>\n",
       "    <tr style=\"text-align: right;\">\n",
       "      <th></th>\n",
       "      <th>RMS_ch1</th>\n",
       "      <th>RMS_ch2</th>\n",
       "      <th>RMS_ch3</th>\n",
       "      <th>RMS_ch4</th>\n",
       "      <th>RMS_ch5</th>\n",
       "      <th>RMS_ch6</th>\n",
       "      <th>RMS_ch7</th>\n",
       "      <th>RMS_ch8</th>\n",
       "      <th>RMS_ch9</th>\n",
       "      <th>RMS_ch10</th>\n",
       "      <th>restimulus_cat</th>\n",
       "    </tr>\n",
       "  </thead>\n",
       "  <tbody>\n",
       "    <tr>\n",
       "      <th>0</th>\n",
       "      <td>0.186650</td>\n",
       "      <td>0.064954</td>\n",
       "      <td>0.007956</td>\n",
       "      <td>0.002370</td>\n",
       "      <td>0.002316</td>\n",
       "      <td>0.002340</td>\n",
       "      <td>0.011819</td>\n",
       "      <td>0.025321</td>\n",
       "      <td>0.002160</td>\n",
       "      <td>0.021807</td>\n",
       "      <td>0.0</td>\n",
       "    </tr>\n",
       "    <tr>\n",
       "      <th>1</th>\n",
       "      <td>0.147451</td>\n",
       "      <td>0.024014</td>\n",
       "      <td>0.010991</td>\n",
       "      <td>0.002311</td>\n",
       "      <td>0.002293</td>\n",
       "      <td>0.003349</td>\n",
       "      <td>0.061164</td>\n",
       "      <td>0.166142</td>\n",
       "      <td>0.001954</td>\n",
       "      <td>0.076644</td>\n",
       "      <td>0.0</td>\n",
       "    </tr>\n",
       "    <tr>\n",
       "      <th>2</th>\n",
       "      <td>0.399017</td>\n",
       "      <td>0.076350</td>\n",
       "      <td>0.197038</td>\n",
       "      <td>0.002660</td>\n",
       "      <td>0.003711</td>\n",
       "      <td>0.007535</td>\n",
       "      <td>0.219384</td>\n",
       "      <td>0.941561</td>\n",
       "      <td>0.005587</td>\n",
       "      <td>0.659597</td>\n",
       "      <td>1.0</td>\n",
       "    </tr>\n",
       "    <tr>\n",
       "      <th>3</th>\n",
       "      <td>0.664900</td>\n",
       "      <td>0.140433</td>\n",
       "      <td>0.336471</td>\n",
       "      <td>0.003742</td>\n",
       "      <td>0.006055</td>\n",
       "      <td>0.008054</td>\n",
       "      <td>0.247355</td>\n",
       "      <td>1.144152</td>\n",
       "      <td>0.011067</td>\n",
       "      <td>0.949690</td>\n",
       "      <td>1.0</td>\n",
       "    </tr>\n",
       "    <tr>\n",
       "      <th>4</th>\n",
       "      <td>0.955840</td>\n",
       "      <td>0.202396</td>\n",
       "      <td>0.380185</td>\n",
       "      <td>0.005046</td>\n",
       "      <td>0.008593</td>\n",
       "      <td>0.007723</td>\n",
       "      <td>0.239447</td>\n",
       "      <td>1.084849</td>\n",
       "      <td>0.013835</td>\n",
       "      <td>1.068361</td>\n",
       "      <td>1.0</td>\n",
       "    </tr>\n",
       "  </tbody>\n",
       "</table>\n",
       "</div>"
      ],
      "text/plain": [
       "    RMS_ch1   RMS_ch2   RMS_ch3   RMS_ch4   RMS_ch5   RMS_ch6   RMS_ch7  \\\n",
       "0  0.186650  0.064954  0.007956  0.002370  0.002316  0.002340  0.011819   \n",
       "1  0.147451  0.024014  0.010991  0.002311  0.002293  0.003349  0.061164   \n",
       "2  0.399017  0.076350  0.197038  0.002660  0.003711  0.007535  0.219384   \n",
       "3  0.664900  0.140433  0.336471  0.003742  0.006055  0.008054  0.247355   \n",
       "4  0.955840  0.202396  0.380185  0.005046  0.008593  0.007723  0.239447   \n",
       "\n",
       "    RMS_ch8   RMS_ch9  RMS_ch10 restimulus_cat  \n",
       "0  0.025321  0.002160  0.021807            0.0  \n",
       "1  0.166142  0.001954  0.076644            0.0  \n",
       "2  0.941561  0.005587  0.659597            1.0  \n",
       "3  1.144152  0.011067  0.949690            1.0  \n",
       "4  1.084849  0.013835  1.068361            1.0  "
      ]
     },
     "execution_count": 348,
     "metadata": {},
     "output_type": "execute_result"
    }
   ],
   "source": [
    "df_rms_imbalanced = df_rms_imbalanced.drop(columns=['restimulus', 'subject', 'subject_cat'])\n",
    "df_rms_imbalanced.head()"
   ]
  },
  {
   "cell_type": "markdown",
   "id": "fa6eeee5",
   "metadata": {},
   "source": [
    "### 4.2. WL"
   ]
  },
  {
   "cell_type": "markdown",
   "id": "38ee953a",
   "metadata": {},
   "source": [
    "A continuación, se aplican los mismos pasos anteriores sin ahondar en tanto detalle como se hizo para la caracteristica RMS."
   ]
  },
  {
   "cell_type": "code",
   "execution_count": 349,
   "id": "e01c27db",
   "metadata": {},
   "outputs": [
    {
     "data": {
      "text/html": [
       "<div>\n",
       "<style scoped>\n",
       "    .dataframe tbody tr th:only-of-type {\n",
       "        vertical-align: middle;\n",
       "    }\n",
       "\n",
       "    .dataframe tbody tr th {\n",
       "        vertical-align: top;\n",
       "    }\n",
       "\n",
       "    .dataframe thead th {\n",
       "        text-align: right;\n",
       "    }\n",
       "</style>\n",
       "<table border=\"1\" class=\"dataframe\">\n",
       "  <thead>\n",
       "    <tr style=\"text-align: right;\">\n",
       "      <th></th>\n",
       "      <th>WL_ch1</th>\n",
       "      <th>WL_ch2</th>\n",
       "      <th>WL_ch3</th>\n",
       "      <th>WL_ch4</th>\n",
       "      <th>WL_ch5</th>\n",
       "      <th>WL_ch6</th>\n",
       "      <th>WL_ch7</th>\n",
       "      <th>WL_ch8</th>\n",
       "      <th>WL_ch9</th>\n",
       "      <th>WL_ch10</th>\n",
       "      <th>restimulus_cat</th>\n",
       "    </tr>\n",
       "  </thead>\n",
       "  <tbody>\n",
       "    <tr>\n",
       "      <th>0</th>\n",
       "      <td>0.106641</td>\n",
       "      <td>0.076213</td>\n",
       "      <td>0.007215</td>\n",
       "      <td>0.000068</td>\n",
       "      <td>0.000094</td>\n",
       "      <td>0.000581</td>\n",
       "      <td>0.034643</td>\n",
       "      <td>0.079613</td>\n",
       "      <td>0.000366</td>\n",
       "      <td>0.035208</td>\n",
       "      <td>0.0</td>\n",
       "    </tr>\n",
       "    <tr>\n",
       "      <th>1</th>\n",
       "      <td>0.049349</td>\n",
       "      <td>0.033643</td>\n",
       "      <td>0.036538</td>\n",
       "      <td>0.000085</td>\n",
       "      <td>0.000141</td>\n",
       "      <td>0.002311</td>\n",
       "      <td>0.103924</td>\n",
       "      <td>0.354562</td>\n",
       "      <td>0.000337</td>\n",
       "      <td>0.197743</td>\n",
       "      <td>0.0</td>\n",
       "    </tr>\n",
       "    <tr>\n",
       "      <th>2</th>\n",
       "      <td>0.335438</td>\n",
       "      <td>0.090400</td>\n",
       "      <td>0.224078</td>\n",
       "      <td>0.000936</td>\n",
       "      <td>0.002410</td>\n",
       "      <td>0.001777</td>\n",
       "      <td>0.078484</td>\n",
       "      <td>0.537102</td>\n",
       "      <td>0.006376</td>\n",
       "      <td>0.533252</td>\n",
       "      <td>1.0</td>\n",
       "    </tr>\n",
       "    <tr>\n",
       "      <th>3</th>\n",
       "      <td>0.426215</td>\n",
       "      <td>0.096118</td>\n",
       "      <td>0.172328</td>\n",
       "      <td>0.002034</td>\n",
       "      <td>0.004095</td>\n",
       "      <td>0.000169</td>\n",
       "      <td>0.019049</td>\n",
       "      <td>0.166585</td>\n",
       "      <td>0.008314</td>\n",
       "      <td>0.326229</td>\n",
       "      <td>1.0</td>\n",
       "    </tr>\n",
       "    <tr>\n",
       "      <th>4</th>\n",
       "      <td>0.405999</td>\n",
       "      <td>0.088054</td>\n",
       "      <td>0.099541</td>\n",
       "      <td>0.001454</td>\n",
       "      <td>0.002867</td>\n",
       "      <td>0.001647</td>\n",
       "      <td>0.030598</td>\n",
       "      <td>0.213179</td>\n",
       "      <td>0.005069</td>\n",
       "      <td>0.130264</td>\n",
       "      <td>1.0</td>\n",
       "    </tr>\n",
       "  </tbody>\n",
       "</table>\n",
       "</div>"
      ],
      "text/plain": [
       "     WL_ch1    WL_ch2    WL_ch3    WL_ch4    WL_ch5    WL_ch6    WL_ch7  \\\n",
       "0  0.106641  0.076213  0.007215  0.000068  0.000094  0.000581  0.034643   \n",
       "1  0.049349  0.033643  0.036538  0.000085  0.000141  0.002311  0.103924   \n",
       "2  0.335438  0.090400  0.224078  0.000936  0.002410  0.001777  0.078484   \n",
       "3  0.426215  0.096118  0.172328  0.002034  0.004095  0.000169  0.019049   \n",
       "4  0.405999  0.088054  0.099541  0.001454  0.002867  0.001647  0.030598   \n",
       "\n",
       "     WL_ch8    WL_ch9   WL_ch10 restimulus_cat  \n",
       "0  0.079613  0.000366  0.035208            0.0  \n",
       "1  0.354562  0.000337  0.197743            0.0  \n",
       "2  0.537102  0.006376  0.533252            1.0  \n",
       "3  0.166585  0.008314  0.326229            1.0  \n",
       "4  0.213179  0.005069  0.130264            1.0  "
      ]
     },
     "execution_count": 349,
     "metadata": {},
     "output_type": "execute_result"
    }
   ],
   "source": [
    "# Display the first few rows of the first DataFrame\n",
    "df_wl_imbalanced = dict_imbalanced['WL'].copy()\n",
    "df_wl_imbalanced['restimulus_cat'] = df_wl_imbalanced['restimulus_cat'].astype('category')\n",
    "df_wl_imbalanced['subject_cat'] = df_wl_imbalanced['subject_cat'].astype('category')\n",
    "\n",
    "df_wl_imbalanced = df_wl_imbalanced[df_wl_imbalanced['restimulus_cat'] != -1]\n",
    "df_wl_imbalanced = df_wl_imbalanced.reset_index(drop=True)\n",
    "\n",
    "df_wl_imbalanced = df_wl_imbalanced.drop(columns=['restimulus', 'subject', 'subject_cat'])\n",
    "df_wl_imbalanced.head()"
   ]
  },
  {
   "cell_type": "code",
   "execution_count": 350,
   "id": "4fa8b9a2",
   "metadata": {},
   "outputs": [
    {
     "name": "stdout",
     "output_type": "stream",
     "text": [
      "Cantidad de datos únicos en 'restimulus':\n",
      "restimulus_cat\n",
      " 0.0     9809\n",
      " 23.0    5810\n",
      " 1.0     4424\n",
      "-1.0        0\n",
      "Name: count, dtype: int64\n"
     ]
    }
   ],
   "source": [
    "# Contar los valores únicos en la columna 'restimulus'\n",
    "unique_counts = df_wl_imbalanced['restimulus_cat'].value_counts()\n",
    "\n",
    "# Mostrar los resultados\n",
    "print(\"Cantidad de datos únicos en 'restimulus':\")\n",
    "print(unique_counts)"
   ]
  },
  {
   "cell_type": "markdown",
   "id": "7635a169",
   "metadata": {},
   "source": [
    "### 4.3. IAV"
   ]
  },
  {
   "cell_type": "markdown",
   "id": "60ba9df7",
   "metadata": {},
   "source": [
    "Se repite el procedimiento anterior, pero esta vez, para las caracteristicas IAV."
   ]
  },
  {
   "cell_type": "code",
   "execution_count": 351,
   "id": "a8a720d5",
   "metadata": {},
   "outputs": [
    {
     "data": {
      "text/html": [
       "<div>\n",
       "<style scoped>\n",
       "    .dataframe tbody tr th:only-of-type {\n",
       "        vertical-align: middle;\n",
       "    }\n",
       "\n",
       "    .dataframe tbody tr th {\n",
       "        vertical-align: top;\n",
       "    }\n",
       "\n",
       "    .dataframe thead th {\n",
       "        text-align: right;\n",
       "    }\n",
       "</style>\n",
       "<table border=\"1\" class=\"dataframe\">\n",
       "  <thead>\n",
       "    <tr style=\"text-align: right;\">\n",
       "      <th></th>\n",
       "      <th>IAV_ch1</th>\n",
       "      <th>IAV_ch2</th>\n",
       "      <th>IAV_ch3</th>\n",
       "      <th>IAV_ch4</th>\n",
       "      <th>IAV_ch5</th>\n",
       "      <th>IAV_ch6</th>\n",
       "      <th>IAV_ch7</th>\n",
       "      <th>IAV_ch8</th>\n",
       "      <th>IAV_ch9</th>\n",
       "      <th>IAV_ch10</th>\n",
       "      <th>restimulus_cat</th>\n",
       "    </tr>\n",
       "  </thead>\n",
       "  <tbody>\n",
       "    <tr>\n",
       "      <th>0</th>\n",
       "      <td>5.510804</td>\n",
       "      <td>1.818598</td>\n",
       "      <td>0.232948</td>\n",
       "      <td>0.071085</td>\n",
       "      <td>0.069483</td>\n",
       "      <td>0.069999</td>\n",
       "      <td>0.258277</td>\n",
       "      <td>0.694282</td>\n",
       "      <td>0.064724</td>\n",
       "      <td>0.612147</td>\n",
       "      <td>0.0</td>\n",
       "    </tr>\n",
       "    <tr>\n",
       "      <th>1</th>\n",
       "      <td>4.416803</td>\n",
       "      <td>0.655907</td>\n",
       "      <td>0.272982</td>\n",
       "      <td>0.069339</td>\n",
       "      <td>0.068797</td>\n",
       "      <td>0.098256</td>\n",
       "      <td>1.571479</td>\n",
       "      <td>3.832499</td>\n",
       "      <td>0.058596</td>\n",
       "      <td>1.669581</td>\n",
       "      <td>0.0</td>\n",
       "    </tr>\n",
       "    <tr>\n",
       "      <th>2</th>\n",
       "      <td>11.577850</td>\n",
       "      <td>2.134840</td>\n",
       "      <td>5.545176</td>\n",
       "      <td>0.079337</td>\n",
       "      <td>0.109198</td>\n",
       "      <td>0.225469</td>\n",
       "      <td>6.542571</td>\n",
       "      <td>27.803968</td>\n",
       "      <td>0.157240</td>\n",
       "      <td>19.179181</td>\n",
       "      <td>1.0</td>\n",
       "    </tr>\n",
       "    <tr>\n",
       "      <th>3</th>\n",
       "      <td>19.574575</td>\n",
       "      <td>4.123925</td>\n",
       "      <td>9.960689</td>\n",
       "      <td>0.110684</td>\n",
       "      <td>0.177791</td>\n",
       "      <td>0.241623</td>\n",
       "      <td>7.419627</td>\n",
       "      <td>34.309421</td>\n",
       "      <td>0.322391</td>\n",
       "      <td>28.336134</td>\n",
       "      <td>1.0</td>\n",
       "    </tr>\n",
       "    <tr>\n",
       "      <th>4</th>\n",
       "      <td>28.436077</td>\n",
       "      <td>6.020924</td>\n",
       "      <td>11.387799</td>\n",
       "      <td>0.150732</td>\n",
       "      <td>0.256353</td>\n",
       "      <td>0.231217</td>\n",
       "      <td>7.177501</td>\n",
       "      <td>32.483251</td>\n",
       "      <td>0.414262</td>\n",
       "      <td>32.044191</td>\n",
       "      <td>1.0</td>\n",
       "    </tr>\n",
       "  </tbody>\n",
       "</table>\n",
       "</div>"
      ],
      "text/plain": [
       "     IAV_ch1   IAV_ch2    IAV_ch3   IAV_ch4   IAV_ch5   IAV_ch6   IAV_ch7  \\\n",
       "0   5.510804  1.818598   0.232948  0.071085  0.069483  0.069999  0.258277   \n",
       "1   4.416803  0.655907   0.272982  0.069339  0.068797  0.098256  1.571479   \n",
       "2  11.577850  2.134840   5.545176  0.079337  0.109198  0.225469  6.542571   \n",
       "3  19.574575  4.123925   9.960689  0.110684  0.177791  0.241623  7.419627   \n",
       "4  28.436077  6.020924  11.387799  0.150732  0.256353  0.231217  7.177501   \n",
       "\n",
       "     IAV_ch8   IAV_ch9   IAV_ch10 restimulus_cat  \n",
       "0   0.694282  0.064724   0.612147            0.0  \n",
       "1   3.832499  0.058596   1.669581            0.0  \n",
       "2  27.803968  0.157240  19.179181            1.0  \n",
       "3  34.309421  0.322391  28.336134            1.0  \n",
       "4  32.483251  0.414262  32.044191            1.0  "
      ]
     },
     "execution_count": 351,
     "metadata": {},
     "output_type": "execute_result"
    }
   ],
   "source": [
    "# Display the first few rows of the first DataFrame\n",
    "df_iav_imbalanced = dict_imbalanced['IAV'].copy()\n",
    "df_iav_imbalanced['restimulus_cat'] = df_iav_imbalanced['restimulus_cat'].astype('category')\n",
    "df_iav_imbalanced['subject_cat'] = df_iav_imbalanced['subject_cat'].astype('category')\n",
    "\n",
    "df_iav_imbalanced = df_iav_imbalanced[df_iav_imbalanced['restimulus_cat'] != -1]\n",
    "df_iav_imbalanced = df_iav_imbalanced.reset_index(drop=True)\n",
    "\n",
    "df_iav_imbalanced = df_iav_imbalanced.drop(columns=['restimulus', 'subject', 'subject_cat'])\n",
    "df_iav_imbalanced.head()"
   ]
  },
  {
   "cell_type": "code",
   "execution_count": 352,
   "id": "fb7c69a6",
   "metadata": {},
   "outputs": [
    {
     "name": "stdout",
     "output_type": "stream",
     "text": [
      "Cantidad de datos únicos en 'restimulus':\n",
      "restimulus_cat\n",
      " 0.0     9809\n",
      " 23.0    5810\n",
      " 1.0     4424\n",
      "-1.0        0\n",
      "Name: count, dtype: int64\n"
     ]
    }
   ],
   "source": [
    "# Contar los valores únicos en la columna 'restimulus'\n",
    "unique_counts = df_iav_imbalanced['restimulus_cat'].value_counts()\n",
    "\n",
    "# Mostrar los resultados\n",
    "print(\"Cantidad de datos únicos en 'restimulus':\")\n",
    "print(unique_counts)"
   ]
  },
  {
   "cell_type": "markdown",
   "id": "5087138a",
   "metadata": {},
   "source": [
    "## 5. Modelos"
   ]
  },
  {
   "cell_type": "markdown",
   "id": "8a6560a2",
   "metadata": {},
   "source": [
    "### 5.1. CNN + RMS"
   ]
  },
  {
   "cell_type": "markdown",
   "id": "8b9838ab",
   "metadata": {},
   "source": [
    "#### 5.1.1. Preparación de los datos"
   ]
  },
  {
   "cell_type": "code",
   "execution_count": 353,
   "id": "2a1e1ef3",
   "metadata": {},
   "outputs": [
    {
     "name": "stdout",
     "output_type": "stream",
     "text": [
      "Dimensiones de X (entradas): (20043, 10)\n",
      "Dimensiones de y (salida): (20043,)\n"
     ]
    }
   ],
   "source": [
    "# Separar las entradas (features) y la salida (target)\n",
    "X_rms = df_rms_imbalanced.drop(columns=['restimulus_cat'])  # Entradas\n",
    "y_original = df_rms_imbalanced['restimulus_cat']  # Salida\n",
    "\n",
    "# Mostrar las dimensiones de las entradas y la salida\n",
    "print(f\"Dimensiones de X (entradas): {X_rms.shape}\")\n",
    "print(f\"Dimensiones de y (salida): {y_original.shape}\")"
   ]
  },
  {
   "cell_type": "markdown",
   "id": "04dd3e22",
   "metadata": {},
   "source": [
    "Remapeo de las etiquetas"
   ]
  },
  {
   "cell_type": "code",
   "execution_count": 354,
   "id": "e6baaa8c",
   "metadata": {},
   "outputs": [],
   "source": [
    "# Mapeo de etiquetas a 0, 1, 2\n",
    "label_mapping = {0.0: 0, 1.0: 1, 23.0: 2}\n",
    "y = y_original.map(label_mapping)"
   ]
  },
  {
   "cell_type": "markdown",
   "id": "d0756c76",
   "metadata": {},
   "source": [
    "Como las clases estan desbalanceadas, para asegurar que la proporción de clases en `y` se mantenga en el train y test se emplea el parametro `stratify`.\n"
   ]
  },
  {
   "cell_type": "code",
   "execution_count": 355,
   "id": "427782a9",
   "metadata": {},
   "outputs": [],
   "source": [
    "X_rms_train, X_rms_test, y_train, y_test = train_test_split(X_rms, y, test_size=0.2, random_state=42, stratify=y)"
   ]
  },
  {
   "cell_type": "markdown",
   "id": "fd7a35f5",
   "metadata": {},
   "source": [
    "Escalado de datos"
   ]
  },
  {
   "cell_type": "code",
   "execution_count": 356,
   "id": "199ecfc1",
   "metadata": {},
   "outputs": [
    {
     "name": "stdout",
     "output_type": "stream",
     "text": [
      "Datos recargados y procesados.\n"
     ]
    }
   ],
   "source": [
    "scaler = StandardScaler()\n",
    "X_rms_train_scaled = scaler.fit_transform(X_rms_train)\n",
    "X_rms_test_scaled = scaler.transform(X_rms_test)\n",
    "print(\"Datos recargados y procesados.\")"
   ]
  },
  {
   "cell_type": "markdown",
   "id": "ca7756ac",
   "metadata": {},
   "source": [
    "Remodelar X para la entrada del LSTM:\n",
    "* `(n_muestras, 10) -> (n_muestras, 1, 10)` \n",
    "* `sequence_length = 1` \n",
    "* `num_features = 10`"
   ]
  },
  {
   "cell_type": "code",
   "execution_count": 357,
   "id": "c3359b94",
   "metadata": {},
   "outputs": [
    {
     "name": "stdout",
     "output_type": "stream",
     "text": [
      "Forma original de X_train_scaled: (16034, 10)\n",
      "Nueva forma de X_train_reshaped para LSTM: (16034, 1, 10)\n"
     ]
    }
   ],
   "source": [
    "X_rms_train_reshaped = X_rms_train_scaled.reshape((X_rms_train_scaled.shape[0], 1, X_rms_train_scaled.shape[1]))\n",
    "X_rms_test_reshaped = X_rms_test_scaled.reshape((X_rms_test_scaled.shape[0], 1, X_rms_test_scaled.shape[1]))\n",
    "print(f\"Forma original de X_train_scaled: {X_rms_train_scaled.shape}\")\n",
    "print(f\"Nueva forma de X_train_reshaped para LSTM: {X_rms_train_reshaped.shape}\")"
   ]
  },
  {
   "cell_type": "markdown",
   "id": "b2f0471f",
   "metadata": {},
   "source": [
    "Es necesario asegurar que los labels sean enteros."
   ]
  },
  {
   "cell_type": "code",
   "execution_count": 358,
   "id": "8f013005",
   "metadata": {},
   "outputs": [],
   "source": [
    "if not np.array_equal(np.unique(y_train), np.array([0,1,2])):\n",
    "    print(\"Mapeando etiquetas y_train, y_test a 0, 1, 2...\")\n",
    "    y_original_train_labels = y_train.copy() # Suponiendo que y_train es un pd.Series o np.array\n",
    "    y_original_test_labels = y_test.copy()\n",
    "        \n",
    "    label_mapping = {0.0: 0, 1.0: 1, 23.0: 2} # Asegúrate que estos sean los valores en y_train/y_test\n",
    "        \n",
    "    if isinstance(y_train, pd.Series):\n",
    "        y_train = y_train.map(label_mapping)\n",
    "        y_test = y_test.map(label_mapping)\n",
    "    else: # Suponiendo np.array\n",
    "        # Es más robusto hacerlo si y_train es pd.Series con .map, o con un bucle si es np.array\n",
    "        y_train = np.vectorize(label_mapping.get)(y_train)\n",
    "        y_test = np.vectorize(label_mapping.get)(y_test)\n",
    "            \n",
    "    # Verificar si hay NaNs después del mapeo (si alguna etiqueta original no estaba en el mapping)\n",
    "    if pd.Series(y_train).isnull().any() or pd.Series(y_test).isnull().any():\n",
    "        print(\"¡Advertencia! Se encontraron NaNs después del mapeo de etiquetas. Verifica el label_mapping y los valores originales.\")\n",
    "    else:\n",
    "        print(\"Etiquetas y_train, y_test mapeadas a 0, 1, 2.\")\n",
    "        print(f\"Valores únicos en y_train después del mapeo: {np.unique(y_train)}\")"
   ]
  },
  {
   "cell_type": "markdown",
   "id": "92c45ce9",
   "metadata": {},
   "source": [
    "Nos aseguramos que `y_train` contenga etiquetas enteras 0, 1, 2"
   ]
  },
  {
   "cell_type": "code",
   "execution_count": 359,
   "id": "44e95446",
   "metadata": {},
   "outputs": [
    {
     "name": "stdout",
     "output_type": "stream",
     "text": [
      "Clases únicas para class_weight: [0. 1. 2.]\n"
     ]
    }
   ],
   "source": [
    "unique_classes = np.unique(y_train)\n",
    "print(f\"Clases únicas para class_weight: {unique_classes}\")"
   ]
  },
  {
   "cell_type": "markdown",
   "id": "565e0bfa",
   "metadata": {},
   "source": [
    "#### 5.1.2. Entrenamiento del modelo"
   ]
  },
  {
   "cell_type": "markdown",
   "id": "7624f091",
   "metadata": {},
   "source": [
    "##### Creación del Modelo"
   ]
  },
  {
   "cell_type": "code",
   "execution_count": 360,
   "id": "3354a68e",
   "metadata": {},
   "outputs": [
    {
     "data": {
      "text/html": [
       "<pre style=\"white-space:pre;overflow-x:auto;line-height:normal;font-family:Menlo,'DejaVu Sans Mono',consolas,'Courier New',monospace\"><span style=\"font-weight: bold\">Model: \"SequentialSignalClassifier_Adapted\"</span>\n",
       "</pre>\n"
      ],
      "text/plain": [
       "\u001b[1mModel: \"SequentialSignalClassifier_Adapted\"\u001b[0m\n"
      ]
     },
     "metadata": {},
     "output_type": "display_data"
    },
    {
     "data": {
      "text/html": [
       "<pre style=\"white-space:pre;overflow-x:auto;line-height:normal;font-family:Menlo,'DejaVu Sans Mono',consolas,'Courier New',monospace\">┏━━━━━━━━━━━━━━━━━━━━━━━━━━━━━━━━━┳━━━━━━━━━━━━━━━━━━━━━━━━┳━━━━━━━━━━━━━━━┓\n",
       "┃<span style=\"font-weight: bold\"> Layer (type)                    </span>┃<span style=\"font-weight: bold\"> Output Shape           </span>┃<span style=\"font-weight: bold\">       Param # </span>┃\n",
       "┡━━━━━━━━━━━━━━━━━━━━━━━━━━━━━━━━━╇━━━━━━━━━━━━━━━━━━━━━━━━╇━━━━━━━━━━━━━━━┩\n",
       "│ input_signals (<span style=\"color: #0087ff; text-decoration-color: #0087ff\">InputLayer</span>)      │ (<span style=\"color: #00d7ff; text-decoration-color: #00d7ff\">None</span>, <span style=\"color: #00af00; text-decoration-color: #00af00\">1</span>, <span style=\"color: #00af00; text-decoration-color: #00af00\">10</span>)          │             <span style=\"color: #00af00; text-decoration-color: #00af00\">0</span> │\n",
       "├─────────────────────────────────┼────────────────────────┼───────────────┤\n",
       "│ lstm_1 (<span style=\"color: #0087ff; text-decoration-color: #0087ff\">LSTM</span>)                   │ (<span style=\"color: #00d7ff; text-decoration-color: #00d7ff\">None</span>, <span style=\"color: #00af00; text-decoration-color: #00af00\">1</span>, <span style=\"color: #00af00; text-decoration-color: #00af00\">64</span>)          │        <span style=\"color: #00af00; text-decoration-color: #00af00\">19,200</span> │\n",
       "├─────────────────────────────────┼────────────────────────┼───────────────┤\n",
       "│ lstm_2 (<span style=\"color: #0087ff; text-decoration-color: #0087ff\">LSTM</span>)                   │ (<span style=\"color: #00d7ff; text-decoration-color: #00d7ff\">None</span>, <span style=\"color: #00af00; text-decoration-color: #00af00\">1</span>, <span style=\"color: #00af00; text-decoration-color: #00af00\">64</span>)          │        <span style=\"color: #00af00; text-decoration-color: #00af00\">33,024</span> │\n",
       "├─────────────────────────────────┼────────────────────────┼───────────────┤\n",
       "│ conv1d_1 (<span style=\"color: #0087ff; text-decoration-color: #0087ff\">Conv1D</span>)               │ (<span style=\"color: #00d7ff; text-decoration-color: #00d7ff\">None</span>, <span style=\"color: #00af00; text-decoration-color: #00af00\">1</span>, <span style=\"color: #00af00; text-decoration-color: #00af00\">64</span>)          │        <span style=\"color: #00af00; text-decoration-color: #00af00\">12,352</span> │\n",
       "├─────────────────────────────────┼────────────────────────┼───────────────┤\n",
       "│ batchnorm_1                     │ (<span style=\"color: #00d7ff; text-decoration-color: #00d7ff\">None</span>, <span style=\"color: #00af00; text-decoration-color: #00af00\">1</span>, <span style=\"color: #00af00; text-decoration-color: #00af00\">64</span>)          │           <span style=\"color: #00af00; text-decoration-color: #00af00\">256</span> │\n",
       "│ (<span style=\"color: #0087ff; text-decoration-color: #0087ff\">BatchNormalization</span>)            │                        │               │\n",
       "├─────────────────────────────────┼────────────────────────┼───────────────┤\n",
       "│ prelu_1 (<span style=\"color: #0087ff; text-decoration-color: #0087ff\">PReLU</span>)                 │ (<span style=\"color: #00d7ff; text-decoration-color: #00d7ff\">None</span>, <span style=\"color: #00af00; text-decoration-color: #00af00\">1</span>, <span style=\"color: #00af00; text-decoration-color: #00af00\">64</span>)          │            <span style=\"color: #00af00; text-decoration-color: #00af00\">64</span> │\n",
       "├─────────────────────────────────┼────────────────────────┼───────────────┤\n",
       "│ dropout_1 (<span style=\"color: #0087ff; text-decoration-color: #0087ff\">Dropout</span>)             │ (<span style=\"color: #00d7ff; text-decoration-color: #00d7ff\">None</span>, <span style=\"color: #00af00; text-decoration-color: #00af00\">1</span>, <span style=\"color: #00af00; text-decoration-color: #00af00\">64</span>)          │             <span style=\"color: #00af00; text-decoration-color: #00af00\">0</span> │\n",
       "├─────────────────────────────────┼────────────────────────┼───────────────┤\n",
       "│ conv1d_2 (<span style=\"color: #0087ff; text-decoration-color: #0087ff\">Conv1D</span>)               │ (<span style=\"color: #00d7ff; text-decoration-color: #00d7ff\">None</span>, <span style=\"color: #00af00; text-decoration-color: #00af00\">1</span>, <span style=\"color: #00af00; text-decoration-color: #00af00\">32</span>)          │         <span style=\"color: #00af00; text-decoration-color: #00af00\">6,176</span> │\n",
       "├─────────────────────────────────┼────────────────────────┼───────────────┤\n",
       "│ batchnorm_2                     │ (<span style=\"color: #00d7ff; text-decoration-color: #00d7ff\">None</span>, <span style=\"color: #00af00; text-decoration-color: #00af00\">1</span>, <span style=\"color: #00af00; text-decoration-color: #00af00\">32</span>)          │           <span style=\"color: #00af00; text-decoration-color: #00af00\">128</span> │\n",
       "│ (<span style=\"color: #0087ff; text-decoration-color: #0087ff\">BatchNormalization</span>)            │                        │               │\n",
       "├─────────────────────────────────┼────────────────────────┼───────────────┤\n",
       "│ prelu_2 (<span style=\"color: #0087ff; text-decoration-color: #0087ff\">PReLU</span>)                 │ (<span style=\"color: #00d7ff; text-decoration-color: #00d7ff\">None</span>, <span style=\"color: #00af00; text-decoration-color: #00af00\">1</span>, <span style=\"color: #00af00; text-decoration-color: #00af00\">32</span>)          │            <span style=\"color: #00af00; text-decoration-color: #00af00\">32</span> │\n",
       "├─────────────────────────────────┼────────────────────────┼───────────────┤\n",
       "│ global_avg_pooling              │ (<span style=\"color: #00d7ff; text-decoration-color: #00d7ff\">None</span>, <span style=\"color: #00af00; text-decoration-color: #00af00\">32</span>)             │             <span style=\"color: #00af00; text-decoration-color: #00af00\">0</span> │\n",
       "│ (<span style=\"color: #0087ff; text-decoration-color: #0087ff\">GlobalAveragePooling1D</span>)        │                        │               │\n",
       "├─────────────────────────────────┼────────────────────────┼───────────────┤\n",
       "│ fully_connected_dense (<span style=\"color: #0087ff; text-decoration-color: #0087ff\">Dense</span>)   │ (<span style=\"color: #00d7ff; text-decoration-color: #00d7ff\">None</span>, <span style=\"color: #00af00; text-decoration-color: #00af00\">32</span>)             │         <span style=\"color: #00af00; text-decoration-color: #00af00\">1,056</span> │\n",
       "├─────────────────────────────────┼────────────────────────┼───────────────┤\n",
       "│ prelu_fc (<span style=\"color: #0087ff; text-decoration-color: #0087ff\">PReLU</span>)                │ (<span style=\"color: #00d7ff; text-decoration-color: #00d7ff\">None</span>, <span style=\"color: #00af00; text-decoration-color: #00af00\">32</span>)             │            <span style=\"color: #00af00; text-decoration-color: #00af00\">32</span> │\n",
       "├─────────────────────────────────┼────────────────────────┼───────────────┤\n",
       "│ output_softmax (<span style=\"color: #0087ff; text-decoration-color: #0087ff\">Dense</span>)          │ (<span style=\"color: #00d7ff; text-decoration-color: #00d7ff\">None</span>, <span style=\"color: #00af00; text-decoration-color: #00af00\">3</span>)              │            <span style=\"color: #00af00; text-decoration-color: #00af00\">99</span> │\n",
       "└─────────────────────────────────┴────────────────────────┴───────────────┘\n",
       "</pre>\n"
      ],
      "text/plain": [
       "┏━━━━━━━━━━━━━━━━━━━━━━━━━━━━━━━━━┳━━━━━━━━━━━━━━━━━━━━━━━━┳━━━━━━━━━━━━━━━┓\n",
       "┃\u001b[1m \u001b[0m\u001b[1mLayer (type)                   \u001b[0m\u001b[1m \u001b[0m┃\u001b[1m \u001b[0m\u001b[1mOutput Shape          \u001b[0m\u001b[1m \u001b[0m┃\u001b[1m \u001b[0m\u001b[1m      Param #\u001b[0m\u001b[1m \u001b[0m┃\n",
       "┡━━━━━━━━━━━━━━━━━━━━━━━━━━━━━━━━━╇━━━━━━━━━━━━━━━━━━━━━━━━╇━━━━━━━━━━━━━━━┩\n",
       "│ input_signals (\u001b[38;5;33mInputLayer\u001b[0m)      │ (\u001b[38;5;45mNone\u001b[0m, \u001b[38;5;34m1\u001b[0m, \u001b[38;5;34m10\u001b[0m)          │             \u001b[38;5;34m0\u001b[0m │\n",
       "├─────────────────────────────────┼────────────────────────┼───────────────┤\n",
       "│ lstm_1 (\u001b[38;5;33mLSTM\u001b[0m)                   │ (\u001b[38;5;45mNone\u001b[0m, \u001b[38;5;34m1\u001b[0m, \u001b[38;5;34m64\u001b[0m)          │        \u001b[38;5;34m19,200\u001b[0m │\n",
       "├─────────────────────────────────┼────────────────────────┼───────────────┤\n",
       "│ lstm_2 (\u001b[38;5;33mLSTM\u001b[0m)                   │ (\u001b[38;5;45mNone\u001b[0m, \u001b[38;5;34m1\u001b[0m, \u001b[38;5;34m64\u001b[0m)          │        \u001b[38;5;34m33,024\u001b[0m │\n",
       "├─────────────────────────────────┼────────────────────────┼───────────────┤\n",
       "│ conv1d_1 (\u001b[38;5;33mConv1D\u001b[0m)               │ (\u001b[38;5;45mNone\u001b[0m, \u001b[38;5;34m1\u001b[0m, \u001b[38;5;34m64\u001b[0m)          │        \u001b[38;5;34m12,352\u001b[0m │\n",
       "├─────────────────────────────────┼────────────────────────┼───────────────┤\n",
       "│ batchnorm_1                     │ (\u001b[38;5;45mNone\u001b[0m, \u001b[38;5;34m1\u001b[0m, \u001b[38;5;34m64\u001b[0m)          │           \u001b[38;5;34m256\u001b[0m │\n",
       "│ (\u001b[38;5;33mBatchNormalization\u001b[0m)            │                        │               │\n",
       "├─────────────────────────────────┼────────────────────────┼───────────────┤\n",
       "│ prelu_1 (\u001b[38;5;33mPReLU\u001b[0m)                 │ (\u001b[38;5;45mNone\u001b[0m, \u001b[38;5;34m1\u001b[0m, \u001b[38;5;34m64\u001b[0m)          │            \u001b[38;5;34m64\u001b[0m │\n",
       "├─────────────────────────────────┼────────────────────────┼───────────────┤\n",
       "│ dropout_1 (\u001b[38;5;33mDropout\u001b[0m)             │ (\u001b[38;5;45mNone\u001b[0m, \u001b[38;5;34m1\u001b[0m, \u001b[38;5;34m64\u001b[0m)          │             \u001b[38;5;34m0\u001b[0m │\n",
       "├─────────────────────────────────┼────────────────────────┼───────────────┤\n",
       "│ conv1d_2 (\u001b[38;5;33mConv1D\u001b[0m)               │ (\u001b[38;5;45mNone\u001b[0m, \u001b[38;5;34m1\u001b[0m, \u001b[38;5;34m32\u001b[0m)          │         \u001b[38;5;34m6,176\u001b[0m │\n",
       "├─────────────────────────────────┼────────────────────────┼───────────────┤\n",
       "│ batchnorm_2                     │ (\u001b[38;5;45mNone\u001b[0m, \u001b[38;5;34m1\u001b[0m, \u001b[38;5;34m32\u001b[0m)          │           \u001b[38;5;34m128\u001b[0m │\n",
       "│ (\u001b[38;5;33mBatchNormalization\u001b[0m)            │                        │               │\n",
       "├─────────────────────────────────┼────────────────────────┼───────────────┤\n",
       "│ prelu_2 (\u001b[38;5;33mPReLU\u001b[0m)                 │ (\u001b[38;5;45mNone\u001b[0m, \u001b[38;5;34m1\u001b[0m, \u001b[38;5;34m32\u001b[0m)          │            \u001b[38;5;34m32\u001b[0m │\n",
       "├─────────────────────────────────┼────────────────────────┼───────────────┤\n",
       "│ global_avg_pooling              │ (\u001b[38;5;45mNone\u001b[0m, \u001b[38;5;34m32\u001b[0m)             │             \u001b[38;5;34m0\u001b[0m │\n",
       "│ (\u001b[38;5;33mGlobalAveragePooling1D\u001b[0m)        │                        │               │\n",
       "├─────────────────────────────────┼────────────────────────┼───────────────┤\n",
       "│ fully_connected_dense (\u001b[38;5;33mDense\u001b[0m)   │ (\u001b[38;5;45mNone\u001b[0m, \u001b[38;5;34m32\u001b[0m)             │         \u001b[38;5;34m1,056\u001b[0m │\n",
       "├─────────────────────────────────┼────────────────────────┼───────────────┤\n",
       "│ prelu_fc (\u001b[38;5;33mPReLU\u001b[0m)                │ (\u001b[38;5;45mNone\u001b[0m, \u001b[38;5;34m32\u001b[0m)             │            \u001b[38;5;34m32\u001b[0m │\n",
       "├─────────────────────────────────┼────────────────────────┼───────────────┤\n",
       "│ output_softmax (\u001b[38;5;33mDense\u001b[0m)          │ (\u001b[38;5;45mNone\u001b[0m, \u001b[38;5;34m3\u001b[0m)              │            \u001b[38;5;34m99\u001b[0m │\n",
       "└─────────────────────────────────┴────────────────────────┴───────────────┘\n"
      ]
     },
     "metadata": {},
     "output_type": "display_data"
    },
    {
     "data": {
      "text/html": [
       "<pre style=\"white-space:pre;overflow-x:auto;line-height:normal;font-family:Menlo,'DejaVu Sans Mono',consolas,'Courier New',monospace\"><span style=\"font-weight: bold\"> Total params: </span><span style=\"color: #00af00; text-decoration-color: #00af00\">72,419</span> (282.89 KB)\n",
       "</pre>\n"
      ],
      "text/plain": [
       "\u001b[1m Total params: \u001b[0m\u001b[38;5;34m72,419\u001b[0m (282.89 KB)\n"
      ]
     },
     "metadata": {},
     "output_type": "display_data"
    },
    {
     "data": {
      "text/html": [
       "<pre style=\"white-space:pre;overflow-x:auto;line-height:normal;font-family:Menlo,'DejaVu Sans Mono',consolas,'Courier New',monospace\"><span style=\"font-weight: bold\"> Trainable params: </span><span style=\"color: #00af00; text-decoration-color: #00af00\">72,227</span> (282.14 KB)\n",
       "</pre>\n"
      ],
      "text/plain": [
       "\u001b[1m Trainable params: \u001b[0m\u001b[38;5;34m72,227\u001b[0m (282.14 KB)\n"
      ]
     },
     "metadata": {},
     "output_type": "display_data"
    },
    {
     "data": {
      "text/html": [
       "<pre style=\"white-space:pre;overflow-x:auto;line-height:normal;font-family:Menlo,'DejaVu Sans Mono',consolas,'Courier New',monospace\"><span style=\"font-weight: bold\"> Non-trainable params: </span><span style=\"color: #00af00; text-decoration-color: #00af00\">192</span> (768.00 B)\n",
       "</pre>\n"
      ],
      "text/plain": [
       "\u001b[1m Non-trainable params: \u001b[0m\u001b[38;5;34m192\u001b[0m (768.00 B)\n"
      ]
     },
     "metadata": {},
     "output_type": "display_data"
    }
   ],
   "source": [
    "input_shape_for_model = (X_rms_train_reshaped.shape[1], X_rms_train_reshaped.shape[2]) # (1, 10)\n",
    "num_classes = len(unique_classes) # Debería ser 3\n",
    "\n",
    "model_lstm_cnn_rms = build_lstm_cnn_model(\n",
    "    input_shape=input_shape_for_model,\n",
    "    num_classes=num_classes,\n",
    "    lstm_units_1=64, # Se puede ajustar\n",
    "    lstm_units_2=64,\n",
    "    fc_units=32\n",
    ")\n",
    "\n",
    "model_lstm_cnn_rms.compile(\n",
    "    optimizer=tf.keras.optimizers.Adam(learning_rate=0.001),\n",
    "    loss='sparse_categorical_crossentropy', # Usamos sparse porque y_train son enteros (0,1,2)\n",
    "    metrics=['accuracy'] # Podrías añadir tf.keras.metrics.Recall, etc.\n",
    ")\n",
    "\n",
    "model_lstm_cnn_rms.summary()"
   ]
  },
  {
   "cell_type": "markdown",
   "id": "dbbd32a0",
   "metadata": {},
   "source": [
    "##### Entrenamiento del modelo"
   ]
  },
  {
   "cell_type": "code",
   "execution_count": 361,
   "id": "2402ccce",
   "metadata": {},
   "outputs": [
    {
     "name": "stdout",
     "output_type": "stream",
     "text": [
      "\n",
      "Entrenando el modelo (generado por skynet)...\n",
      "Epoch 1/10\n",
      "\u001b[1m502/502\u001b[0m \u001b[32m━━━━━━━━━━━━━━━━━━━━\u001b[0m\u001b[37m\u001b[0m \u001b[1m13s\u001b[0m 10ms/step - accuracy: 0.8254 - loss: 0.4789 - val_accuracy: 0.7815 - val_loss: 0.6492\n",
      "Epoch 2/10\n",
      "\u001b[1m502/502\u001b[0m \u001b[32m━━━━━━━━━━━━━━━━━━━━\u001b[0m\u001b[37m\u001b[0m \u001b[1m4s\u001b[0m 8ms/step - accuracy: 0.8875 - loss: 0.3275 - val_accuracy: 0.9114 - val_loss: 0.2573\n",
      "Epoch 3/10\n",
      "\u001b[1m502/502\u001b[0m \u001b[32m━━━━━━━━━━━━━━━━━━━━\u001b[0m\u001b[37m\u001b[0m \u001b[1m4s\u001b[0m 8ms/step - accuracy: 0.8890 - loss: 0.3057 - val_accuracy: 0.9172 - val_loss: 0.2407\n",
      "Epoch 4/10\n",
      "\u001b[1m502/502\u001b[0m \u001b[32m━━━━━━━━━━━━━━━━━━━━\u001b[0m\u001b[37m\u001b[0m \u001b[1m4s\u001b[0m 8ms/step - accuracy: 0.9024 - loss: 0.2815 - val_accuracy: 0.9139 - val_loss: 0.2436\n",
      "Epoch 5/10\n",
      "\u001b[1m502/502\u001b[0m \u001b[32m━━━━━━━━━━━━━━━━━━━━\u001b[0m\u001b[37m\u001b[0m \u001b[1m4s\u001b[0m 8ms/step - accuracy: 0.9079 - loss: 0.2705 - val_accuracy: 0.9192 - val_loss: 0.2425\n",
      "Epoch 6/10\n",
      "\u001b[1m502/502\u001b[0m \u001b[32m━━━━━━━━━━━━━━━━━━━━\u001b[0m\u001b[37m\u001b[0m \u001b[1m5s\u001b[0m 9ms/step - accuracy: 0.9074 - loss: 0.2681 - val_accuracy: 0.9224 - val_loss: 0.2137\n",
      "Epoch 7/10\n",
      "\u001b[1m502/502\u001b[0m \u001b[32m━━━━━━━━━━━━━━━━━━━━\u001b[0m\u001b[37m\u001b[0m \u001b[1m4s\u001b[0m 8ms/step - accuracy: 0.9108 - loss: 0.2556 - val_accuracy: 0.9259 - val_loss: 0.2169\n",
      "Epoch 8/10\n",
      "\u001b[1m502/502\u001b[0m \u001b[32m━━━━━━━━━━━━━━━━━━━━\u001b[0m\u001b[37m\u001b[0m \u001b[1m4s\u001b[0m 8ms/step - accuracy: 0.9128 - loss: 0.2553 - val_accuracy: 0.9289 - val_loss: 0.2078\n",
      "Epoch 9/10\n",
      "\u001b[1m502/502\u001b[0m \u001b[32m━━━━━━━━━━━━━━━━━━━━\u001b[0m\u001b[37m\u001b[0m \u001b[1m4s\u001b[0m 8ms/step - accuracy: 0.9168 - loss: 0.2459 - val_accuracy: 0.9244 - val_loss: 0.2120\n",
      "Epoch 10/10\n",
      "\u001b[1m502/502\u001b[0m \u001b[32m━━━━━━━━━━━━━━━━━━━━\u001b[0m\u001b[37m\u001b[0m \u001b[1m4s\u001b[0m 8ms/step - accuracy: 0.9131 - loss: 0.2557 - val_accuracy: 0.9379 - val_loss: 0.1900\n",
      "Entrenamiento completado.\n"
     ]
    }
   ],
   "source": [
    "print(\"\\nEntrenando el modelo (generado por skynet)...\")\n",
    "# Es buena idea usar un subconjunto para pruebas rápidas\n",
    "epochs = 10 # Para una prueba rápida\n",
    "batch_size = 32\n",
    "history = model_lstm_cnn_rms.fit(\n",
    "                X_rms_train_reshaped, y_train,\n",
    "                validation_data=(X_rms_test_reshaped, y_test),\n",
    "                epochs=epochs,\n",
    "                batch_size=batch_size,\n",
    "                verbose=1\n",
    "        )\n",
    "print(\"Entrenamiento completado.\")"
   ]
  },
  {
   "cell_type": "markdown",
   "id": "da865d57",
   "metadata": {},
   "source": [
    "#### 5.1.3. Evaluación del modelo"
   ]
  },
  {
   "cell_type": "markdown",
   "id": "70b9b4d5",
   "metadata": {},
   "source": [
    "##### Exactitud del modelo"
   ]
  },
  {
   "cell_type": "code",
   "execution_count": 362,
   "id": "09886245",
   "metadata": {},
   "outputs": [
    {
     "name": "stdout",
     "output_type": "stream",
     "text": [
      "\n",
      "Evaluando el modelo...\n",
      "\u001b[1m126/126\u001b[0m \u001b[32m━━━━━━━━━━━━━━━━━━━━\u001b[0m\u001b[37m\u001b[0m \u001b[1m1s\u001b[0m 4ms/step - accuracy: 0.9355 - loss: 0.1906\n",
      "Pérdida en Test: 0.2014\n",
      "Exactitud en Test: 0.9332\n"
     ]
    }
   ],
   "source": [
    "print(\"\\nEvaluando el modelo...\")\n",
    "loss, accuracy = model_lstm_cnn.evaluate(X_rms_test_reshaped, y_test, verbose=1)\n",
    "print(f\"Pérdida en Test: {loss:.4f}\")\n",
    "print(f\"Exactitud en Test: {accuracy:.4f}\")"
   ]
  },
  {
   "cell_type": "markdown",
   "id": "cbbe0bde",
   "metadata": {},
   "source": [
    "##### Matriz de confusión del modelo"
   ]
  },
  {
   "cell_type": "code",
   "execution_count": 363,
   "id": "e56254db",
   "metadata": {},
   "outputs": [
    {
     "name": "stdout",
     "output_type": "stream",
     "text": [
      "\u001b[1m126/126\u001b[0m \u001b[32m━━━━━━━━━━━━━━━━━━━━\u001b[0m\u001b[37m\u001b[0m \u001b[1m1s\u001b[0m 4ms/step\n"
     ]
    },
    {
     "data": {
      "image/png": "[encoded data removed]",
      "text/plain": [
       "<Figure size 640x480 with 2 Axes>"
      ]
     },
     "metadata": {},
     "output_type": "display_data"
    }
   ],
   "source": [
    "from sklearn.metrics import confusion_matrix, ConfusionMatrixDisplay\n",
    "\n",
    "# Obtener las predicciones del modelo\n",
    "y_pred = model_lstm_cnn.predict(X_rms_test_reshaped)\n",
    "y_pred_classes = np.argmax(y_pred, axis=1)\n",
    "\n",
    "# Calcular la matriz de confusión\n",
    "cm_rms = confusion_matrix(y_test, y_pred_classes)\n",
    "\n",
    "# Mostrar la matriz de confusión\n",
    "disp = ConfusionMatrixDisplay(confusion_matrix=cm_rms, display_labels=unique_classes)\n",
    "disp.plot(cmap='Blues')\n",
    "plt.title(\"Matriz de Confusión - CNN+LSTM\")\n",
    "plt.show()"
   ]
  },
  {
   "cell_type": "markdown",
   "id": "68a9d637",
   "metadata": {},
   "source": [
    "##### Reporte de desempeño del modelo"
   ]
  },
  {
   "cell_type": "code",
   "execution_count": 364,
   "id": "08b05632",
   "metadata": {},
   "outputs": [
    {
     "name": "stdout",
     "output_type": "stream",
     "text": [
      "              precision    recall  f1-score   support\n",
      "\n",
      "         0.0       0.93      0.97      0.95      1962\n",
      "         1.0       0.94      0.83      0.88       885\n",
      "         2.0       0.94      0.95      0.94      1162\n",
      "\n",
      "    accuracy                           0.93      4009\n",
      "   macro avg       0.94      0.92      0.92      4009\n",
      "weighted avg       0.93      0.93      0.93      4009\n",
      "\n"
     ]
    }
   ],
   "source": [
    "from sklearn.metrics import classification_report\n",
    "\n",
    "# Calcular precision, recall, f1-score y support\n",
    "report = classification_report(y_test, y_pred_classes, target_names=[str(cls) for cls in unique_classes])\n",
    "print(report)"
   ]
  },
  {
   "cell_type": "markdown",
   "id": "c31a4c7f",
   "metadata": {},
   "source": [
    "##### Curva ROC"
   ]
  },
  {
   "cell_type": "code",
   "execution_count": 365,
   "id": "b7e49cbd",
   "metadata": {},
   "outputs": [
    {
     "data": {
      "image/png": "[encoded data removed]",
      "text/plain": [
       "<Figure size 800x600 with 1 Axes>"
      ]
     },
     "metadata": {},
     "output_type": "display_data"
    }
   ],
   "source": [
    "from sklearn.metrics import roc_curve, auc\n",
    "from sklearn.preprocessing import label_binarize\n",
    "\n",
    "# Binarizar las etiquetas para ROC multicategoría\n",
    "y_test_bin = label_binarize(y_test, classes=unique_classes)\n",
    "# y_pred ya es la probabilidad de cada clase (salida softmax)\n",
    "\n",
    "fpr = dict()\n",
    "tpr = dict()\n",
    "roc_auc = dict()\n",
    "for i in range(num_classes):\n",
    "    fpr[i], tpr[i], _ = roc_curve(y_test_bin[:, i], y_pred[:, i])\n",
    "    roc_auc[i] = auc(fpr[i], tpr[i])\n",
    "\n",
    "# Plot ROC curve for each class\n",
    "plt.figure(figsize=(8, 6))\n",
    "colors = ['blue', 'red', 'green']\n",
    "for i, color in zip(range(num_classes), colors):\n",
    "    plt.plot(fpr[i], tpr[i], color=color, lw=2,\n",
    "             label=f'Clase {unique_classes[i]} (AUC = {roc_auc[i]:.2f})')\n",
    "\n",
    "plt.plot([0, 1], [0, 1], 'k--', lw=2)\n",
    "plt.xlim([0.0, 1.0])\n",
    "plt.ylim([0.0, 1.05])\n",
    "plt.xlabel('Tasa de Falsos Positivos')\n",
    "plt.ylabel('Tasa de Verdaderos Positivos')\n",
    "plt.title('Curva ROC Multiclase')\n",
    "plt.legend(loc=\"lower right\")\n",
    "plt.grid()\n",
    "plt.show()"
   ]
  },
  {
   "cell_type": "code",
   "execution_count": 366,
   "id": "909ee329",
   "metadata": {},
   "outputs": [
    {
     "name": "stdout",
     "output_type": "stream",
     "text": [
      "Modelo guardado en: ./local/models/classification/model_lstm_cnn_rms.keras\n"
     ]
    }
   ],
   "source": [
    "# Guardar el modelo entrenado en formato HDF5\n",
    "model_path = f\"{CLASSIFICARION_MODELS_DIR}/model_lstm_cnn_rms.keras\"\n",
    "model_lstm_cnn.save(model_path)\n",
    "print(f\"Modelo guardado en: {model_path}\")"
   ]
  },
  {
   "cell_type": "markdown",
   "id": "8bfa1f65",
   "metadata": {},
   "source": [
    "### 5.2. CNN + WL"
   ]
  },
  {
   "cell_type": "markdown",
   "id": "2a236216",
   "metadata": {},
   "source": [
    "#### 5.2.1. Preparación de los datos"
   ]
  },
  {
   "cell_type": "code",
   "execution_count": 367,
   "id": "d0722095",
   "metadata": {},
   "outputs": [
    {
     "name": "stdout",
     "output_type": "stream",
     "text": [
      "Dimensiones de X (entradas): (20043, 10)\n",
      "Dimensiones de y (salida): (20043,)\n",
      "Datos recargados y procesados.\n"
     ]
    }
   ],
   "source": [
    "# Separar las entradas (features) y la salida (target)\n",
    "X_wl = df_wl_imbalanced.drop(columns=['restimulus_cat'])  # Entradas\n",
    "y_original = df_wl_imbalanced['restimulus_cat']  # Salida\n",
    "\n",
    "# Mostrar las dimensiones de las entradas y la salida\n",
    "print(f\"Dimensiones de X (entradas): {X_wl.shape}\")\n",
    "print(f\"Dimensiones de y (salida): {y_original.shape}\")\n",
    "\n",
    "# Mapeo de etiquetas a 0, 1, 2\n",
    "label_mapping = {0.0: 0, 1.0: 1, 23.0: 2}\n",
    "y = y_original.map(label_mapping)\n",
    "\n",
    "# Dividir los datos en conjuntos de entrenamiento y prueba\n",
    "X_wl_train, X_wl_test, y_train, y_test = train_test_split(X_wl, y, test_size=0.2, random_state=42, stratify=y)\n",
    "\n",
    "# Escalar los datos\n",
    "scaler = StandardScaler()\n",
    "X_wl_train_scaled = scaler.fit_transform(X_wl_train)\n",
    "X_wl_test_scaled = scaler.transform(X_wl_test)\n",
    "print(\"Datos recargados y procesados.\")"
   ]
  },
  {
   "cell_type": "code",
   "execution_count": 368,
   "id": "26bd3f80",
   "metadata": {},
   "outputs": [
    {
     "name": "stdout",
     "output_type": "stream",
     "text": [
      "Forma original de X_wl_train_scaled: (16034, 10)\n",
      "Nueva forma de X_wl_train_reshaped para LSTM: (16034, 1, 10)\n"
     ]
    }
   ],
   "source": [
    "# Redimensionar los datos para LSTM\n",
    "X_wl_train_reshaped = X_wl_train_scaled.reshape((X_wl_train_scaled.shape[0], 1, X_wl_train_scaled.shape[1]))\n",
    "X_wl_test_reshaped = X_wl_test_scaled.reshape((X_wl_test_scaled.shape[0], 1, X_wl_test_scaled.shape[1]))\n",
    "print(f\"Forma original de X_wl_train_scaled: {X_wl_train_scaled.shape}\")\n",
    "print(f\"Nueva forma de X_wl_train_reshaped para LSTM: {X_wl_train_reshaped.shape}\")"
   ]
  },
  {
   "cell_type": "code",
   "execution_count": 369,
   "id": "8569266a",
   "metadata": {},
   "outputs": [
    {
     "name": "stdout",
     "output_type": "stream",
     "text": [
      "Clases únicas para class_weight: [0. 1. 2.]\n"
     ]
    }
   ],
   "source": [
    "unique_classes = np.unique(y_train)\n",
    "print(f\"Clases únicas para class_weight: {unique_classes}\")"
   ]
  },
  {
   "cell_type": "markdown",
   "id": "092dd0c6",
   "metadata": {},
   "source": [
    "#### 5.2.2. Entrenamiento del modelo"
   ]
  },
  {
   "cell_type": "markdown",
   "id": "44f8f2a3",
   "metadata": {},
   "source": [
    "##### Instanciación y compilación del modelo"
   ]
  },
  {
   "cell_type": "code",
   "execution_count": 370,
   "id": "a19b11b0",
   "metadata": {},
   "outputs": [
    {
     "data": {
      "text/html": [
       "<pre style=\"white-space:pre;overflow-x:auto;line-height:normal;font-family:Menlo,'DejaVu Sans Mono',consolas,'Courier New',monospace\"><span style=\"font-weight: bold\">Model: \"SequentialSignalClassifier_Adapted\"</span>\n",
       "</pre>\n"
      ],
      "text/plain": [
       "\u001b[1mModel: \"SequentialSignalClassifier_Adapted\"\u001b[0m\n"
      ]
     },
     "metadata": {},
     "output_type": "display_data"
    },
    {
     "data": {
      "text/html": [
       "<pre style=\"white-space:pre;overflow-x:auto;line-height:normal;font-family:Menlo,'DejaVu Sans Mono',consolas,'Courier New',monospace\">┏━━━━━━━━━━━━━━━━━━━━━━━━━━━━━━━━━┳━━━━━━━━━━━━━━━━━━━━━━━━┳━━━━━━━━━━━━━━━┓\n",
       "┃<span style=\"font-weight: bold\"> Layer (type)                    </span>┃<span style=\"font-weight: bold\"> Output Shape           </span>┃<span style=\"font-weight: bold\">       Param # </span>┃\n",
       "┡━━━━━━━━━━━━━━━━━━━━━━━━━━━━━━━━━╇━━━━━━━━━━━━━━━━━━━━━━━━╇━━━━━━━━━━━━━━━┩\n",
       "│ input_signals (<span style=\"color: #0087ff; text-decoration-color: #0087ff\">InputLayer</span>)      │ (<span style=\"color: #00d7ff; text-decoration-color: #00d7ff\">None</span>, <span style=\"color: #00af00; text-decoration-color: #00af00\">1</span>, <span style=\"color: #00af00; text-decoration-color: #00af00\">10</span>)          │             <span style=\"color: #00af00; text-decoration-color: #00af00\">0</span> │\n",
       "├─────────────────────────────────┼────────────────────────┼───────────────┤\n",
       "│ lstm_1 (<span style=\"color: #0087ff; text-decoration-color: #0087ff\">LSTM</span>)                   │ (<span style=\"color: #00d7ff; text-decoration-color: #00d7ff\">None</span>, <span style=\"color: #00af00; text-decoration-color: #00af00\">1</span>, <span style=\"color: #00af00; text-decoration-color: #00af00\">64</span>)          │        <span style=\"color: #00af00; text-decoration-color: #00af00\">19,200</span> │\n",
       "├─────────────────────────────────┼────────────────────────┼───────────────┤\n",
       "│ lstm_2 (<span style=\"color: #0087ff; text-decoration-color: #0087ff\">LSTM</span>)                   │ (<span style=\"color: #00d7ff; text-decoration-color: #00d7ff\">None</span>, <span style=\"color: #00af00; text-decoration-color: #00af00\">1</span>, <span style=\"color: #00af00; text-decoration-color: #00af00\">64</span>)          │        <span style=\"color: #00af00; text-decoration-color: #00af00\">33,024</span> │\n",
       "├─────────────────────────────────┼────────────────────────┼───────────────┤\n",
       "│ conv1d_1 (<span style=\"color: #0087ff; text-decoration-color: #0087ff\">Conv1D</span>)               │ (<span style=\"color: #00d7ff; text-decoration-color: #00d7ff\">None</span>, <span style=\"color: #00af00; text-decoration-color: #00af00\">1</span>, <span style=\"color: #00af00; text-decoration-color: #00af00\">64</span>)          │        <span style=\"color: #00af00; text-decoration-color: #00af00\">12,352</span> │\n",
       "├─────────────────────────────────┼────────────────────────┼───────────────┤\n",
       "│ batchnorm_1                     │ (<span style=\"color: #00d7ff; text-decoration-color: #00d7ff\">None</span>, <span style=\"color: #00af00; text-decoration-color: #00af00\">1</span>, <span style=\"color: #00af00; text-decoration-color: #00af00\">64</span>)          │           <span style=\"color: #00af00; text-decoration-color: #00af00\">256</span> │\n",
       "│ (<span style=\"color: #0087ff; text-decoration-color: #0087ff\">BatchNormalization</span>)            │                        │               │\n",
       "├─────────────────────────────────┼────────────────────────┼───────────────┤\n",
       "│ prelu_1 (<span style=\"color: #0087ff; text-decoration-color: #0087ff\">PReLU</span>)                 │ (<span style=\"color: #00d7ff; text-decoration-color: #00d7ff\">None</span>, <span style=\"color: #00af00; text-decoration-color: #00af00\">1</span>, <span style=\"color: #00af00; text-decoration-color: #00af00\">64</span>)          │            <span style=\"color: #00af00; text-decoration-color: #00af00\">64</span> │\n",
       "├─────────────────────────────────┼────────────────────────┼───────────────┤\n",
       "│ dropout_1 (<span style=\"color: #0087ff; text-decoration-color: #0087ff\">Dropout</span>)             │ (<span style=\"color: #00d7ff; text-decoration-color: #00d7ff\">None</span>, <span style=\"color: #00af00; text-decoration-color: #00af00\">1</span>, <span style=\"color: #00af00; text-decoration-color: #00af00\">64</span>)          │             <span style=\"color: #00af00; text-decoration-color: #00af00\">0</span> │\n",
       "├─────────────────────────────────┼────────────────────────┼───────────────┤\n",
       "│ conv1d_2 (<span style=\"color: #0087ff; text-decoration-color: #0087ff\">Conv1D</span>)               │ (<span style=\"color: #00d7ff; text-decoration-color: #00d7ff\">None</span>, <span style=\"color: #00af00; text-decoration-color: #00af00\">1</span>, <span style=\"color: #00af00; text-decoration-color: #00af00\">32</span>)          │         <span style=\"color: #00af00; text-decoration-color: #00af00\">6,176</span> │\n",
       "├─────────────────────────────────┼────────────────────────┼───────────────┤\n",
       "│ batchnorm_2                     │ (<span style=\"color: #00d7ff; text-decoration-color: #00d7ff\">None</span>, <span style=\"color: #00af00; text-decoration-color: #00af00\">1</span>, <span style=\"color: #00af00; text-decoration-color: #00af00\">32</span>)          │           <span style=\"color: #00af00; text-decoration-color: #00af00\">128</span> │\n",
       "│ (<span style=\"color: #0087ff; text-decoration-color: #0087ff\">BatchNormalization</span>)            │                        │               │\n",
       "├─────────────────────────────────┼────────────────────────┼───────────────┤\n",
       "│ prelu_2 (<span style=\"color: #0087ff; text-decoration-color: #0087ff\">PReLU</span>)                 │ (<span style=\"color: #00d7ff; text-decoration-color: #00d7ff\">None</span>, <span style=\"color: #00af00; text-decoration-color: #00af00\">1</span>, <span style=\"color: #00af00; text-decoration-color: #00af00\">32</span>)          │            <span style=\"color: #00af00; text-decoration-color: #00af00\">32</span> │\n",
       "├─────────────────────────────────┼────────────────────────┼───────────────┤\n",
       "│ global_avg_pooling              │ (<span style=\"color: #00d7ff; text-decoration-color: #00d7ff\">None</span>, <span style=\"color: #00af00; text-decoration-color: #00af00\">32</span>)             │             <span style=\"color: #00af00; text-decoration-color: #00af00\">0</span> │\n",
       "│ (<span style=\"color: #0087ff; text-decoration-color: #0087ff\">GlobalAveragePooling1D</span>)        │                        │               │\n",
       "├─────────────────────────────────┼────────────────────────┼───────────────┤\n",
       "│ fully_connected_dense (<span style=\"color: #0087ff; text-decoration-color: #0087ff\">Dense</span>)   │ (<span style=\"color: #00d7ff; text-decoration-color: #00d7ff\">None</span>, <span style=\"color: #00af00; text-decoration-color: #00af00\">32</span>)             │         <span style=\"color: #00af00; text-decoration-color: #00af00\">1,056</span> │\n",
       "├─────────────────────────────────┼────────────────────────┼───────────────┤\n",
       "│ prelu_fc (<span style=\"color: #0087ff; text-decoration-color: #0087ff\">PReLU</span>)                │ (<span style=\"color: #00d7ff; text-decoration-color: #00d7ff\">None</span>, <span style=\"color: #00af00; text-decoration-color: #00af00\">32</span>)             │            <span style=\"color: #00af00; text-decoration-color: #00af00\">32</span> │\n",
       "├─────────────────────────────────┼────────────────────────┼───────────────┤\n",
       "│ output_softmax (<span style=\"color: #0087ff; text-decoration-color: #0087ff\">Dense</span>)          │ (<span style=\"color: #00d7ff; text-decoration-color: #00d7ff\">None</span>, <span style=\"color: #00af00; text-decoration-color: #00af00\">3</span>)              │            <span style=\"color: #00af00; text-decoration-color: #00af00\">99</span> │\n",
       "└─────────────────────────────────┴────────────────────────┴───────────────┘\n",
       "</pre>\n"
      ],
      "text/plain": [
       "┏━━━━━━━━━━━━━━━━━━━━━━━━━━━━━━━━━┳━━━━━━━━━━━━━━━━━━━━━━━━┳━━━━━━━━━━━━━━━┓\n",
       "┃\u001b[1m \u001b[0m\u001b[1mLayer (type)                   \u001b[0m\u001b[1m \u001b[0m┃\u001b[1m \u001b[0m\u001b[1mOutput Shape          \u001b[0m\u001b[1m \u001b[0m┃\u001b[1m \u001b[0m\u001b[1m      Param #\u001b[0m\u001b[1m \u001b[0m┃\n",
       "┡━━━━━━━━━━━━━━━━━━━━━━━━━━━━━━━━━╇━━━━━━━━━━━━━━━━━━━━━━━━╇━━━━━━━━━━━━━━━┩\n",
       "│ input_signals (\u001b[38;5;33mInputLayer\u001b[0m)      │ (\u001b[38;5;45mNone\u001b[0m, \u001b[38;5;34m1\u001b[0m, \u001b[38;5;34m10\u001b[0m)          │             \u001b[38;5;34m0\u001b[0m │\n",
       "├─────────────────────────────────┼────────────────────────┼───────────────┤\n",
       "│ lstm_1 (\u001b[38;5;33mLSTM\u001b[0m)                   │ (\u001b[38;5;45mNone\u001b[0m, \u001b[38;5;34m1\u001b[0m, \u001b[38;5;34m64\u001b[0m)          │        \u001b[38;5;34m19,200\u001b[0m │\n",
       "├─────────────────────────────────┼────────────────────────┼───────────────┤\n",
       "│ lstm_2 (\u001b[38;5;33mLSTM\u001b[0m)                   │ (\u001b[38;5;45mNone\u001b[0m, \u001b[38;5;34m1\u001b[0m, \u001b[38;5;34m64\u001b[0m)          │        \u001b[38;5;34m33,024\u001b[0m │\n",
       "├─────────────────────────────────┼────────────────────────┼───────────────┤\n",
       "│ conv1d_1 (\u001b[38;5;33mConv1D\u001b[0m)               │ (\u001b[38;5;45mNone\u001b[0m, \u001b[38;5;34m1\u001b[0m, \u001b[38;5;34m64\u001b[0m)          │        \u001b[38;5;34m12,352\u001b[0m │\n",
       "├─────────────────────────────────┼────────────────────────┼───────────────┤\n",
       "│ batchnorm_1                     │ (\u001b[38;5;45mNone\u001b[0m, \u001b[38;5;34m1\u001b[0m, \u001b[38;5;34m64\u001b[0m)          │           \u001b[38;5;34m256\u001b[0m │\n",
       "│ (\u001b[38;5;33mBatchNormalization\u001b[0m)            │                        │               │\n",
       "├─────────────────────────────────┼────────────────────────┼───────────────┤\n",
       "│ prelu_1 (\u001b[38;5;33mPReLU\u001b[0m)                 │ (\u001b[38;5;45mNone\u001b[0m, \u001b[38;5;34m1\u001b[0m, \u001b[38;5;34m64\u001b[0m)          │            \u001b[38;5;34m64\u001b[0m │\n",
       "├─────────────────────────────────┼────────────────────────┼───────────────┤\n",
       "│ dropout_1 (\u001b[38;5;33mDropout\u001b[0m)             │ (\u001b[38;5;45mNone\u001b[0m, \u001b[38;5;34m1\u001b[0m, \u001b[38;5;34m64\u001b[0m)          │             \u001b[38;5;34m0\u001b[0m │\n",
       "├─────────────────────────────────┼────────────────────────┼───────────────┤\n",
       "│ conv1d_2 (\u001b[38;5;33mConv1D\u001b[0m)               │ (\u001b[38;5;45mNone\u001b[0m, \u001b[38;5;34m1\u001b[0m, \u001b[38;5;34m32\u001b[0m)          │         \u001b[38;5;34m6,176\u001b[0m │\n",
       "├─────────────────────────────────┼────────────────────────┼───────────────┤\n",
       "│ batchnorm_2                     │ (\u001b[38;5;45mNone\u001b[0m, \u001b[38;5;34m1\u001b[0m, \u001b[38;5;34m32\u001b[0m)          │           \u001b[38;5;34m128\u001b[0m │\n",
       "│ (\u001b[38;5;33mBatchNormalization\u001b[0m)            │                        │               │\n",
       "├─────────────────────────────────┼────────────────────────┼───────────────┤\n",
       "│ prelu_2 (\u001b[38;5;33mPReLU\u001b[0m)                 │ (\u001b[38;5;45mNone\u001b[0m, \u001b[38;5;34m1\u001b[0m, \u001b[38;5;34m32\u001b[0m)          │            \u001b[38;5;34m32\u001b[0m │\n",
       "├─────────────────────────────────┼────────────────────────┼───────────────┤\n",
       "│ global_avg_pooling              │ (\u001b[38;5;45mNone\u001b[0m, \u001b[38;5;34m32\u001b[0m)             │             \u001b[38;5;34m0\u001b[0m │\n",
       "│ (\u001b[38;5;33mGlobalAveragePooling1D\u001b[0m)        │                        │               │\n",
       "├─────────────────────────────────┼────────────────────────┼───────────────┤\n",
       "│ fully_connected_dense (\u001b[38;5;33mDense\u001b[0m)   │ (\u001b[38;5;45mNone\u001b[0m, \u001b[38;5;34m32\u001b[0m)             │         \u001b[38;5;34m1,056\u001b[0m │\n",
       "├─────────────────────────────────┼────────────────────────┼───────────────┤\n",
       "│ prelu_fc (\u001b[38;5;33mPReLU\u001b[0m)                │ (\u001b[38;5;45mNone\u001b[0m, \u001b[38;5;34m32\u001b[0m)             │            \u001b[38;5;34m32\u001b[0m │\n",
       "├─────────────────────────────────┼────────────────────────┼───────────────┤\n",
       "│ output_softmax (\u001b[38;5;33mDense\u001b[0m)          │ (\u001b[38;5;45mNone\u001b[0m, \u001b[38;5;34m3\u001b[0m)              │            \u001b[38;5;34m99\u001b[0m │\n",
       "└─────────────────────────────────┴────────────────────────┴───────────────┘\n"
      ]
     },
     "metadata": {},
     "output_type": "display_data"
    },
    {
     "data": {
      "text/html": [
       "<pre style=\"white-space:pre;overflow-x:auto;line-height:normal;font-family:Menlo,'DejaVu Sans Mono',consolas,'Courier New',monospace\"><span style=\"font-weight: bold\"> Total params: </span><span style=\"color: #00af00; text-decoration-color: #00af00\">72,419</span> (282.89 KB)\n",
       "</pre>\n"
      ],
      "text/plain": [
       "\u001b[1m Total params: \u001b[0m\u001b[38;5;34m72,419\u001b[0m (282.89 KB)\n"
      ]
     },
     "metadata": {},
     "output_type": "display_data"
    },
    {
     "data": {
      "text/html": [
       "<pre style=\"white-space:pre;overflow-x:auto;line-height:normal;font-family:Menlo,'DejaVu Sans Mono',consolas,'Courier New',monospace\"><span style=\"font-weight: bold\"> Trainable params: </span><span style=\"color: #00af00; text-decoration-color: #00af00\">72,227</span> (282.14 KB)\n",
       "</pre>\n"
      ],
      "text/plain": [
       "\u001b[1m Trainable params: \u001b[0m\u001b[38;5;34m72,227\u001b[0m (282.14 KB)\n"
      ]
     },
     "metadata": {},
     "output_type": "display_data"
    },
    {
     "data": {
      "text/html": [
       "<pre style=\"white-space:pre;overflow-x:auto;line-height:normal;font-family:Menlo,'DejaVu Sans Mono',consolas,'Courier New',monospace\"><span style=\"font-weight: bold\"> Non-trainable params: </span><span style=\"color: #00af00; text-decoration-color: #00af00\">192</span> (768.00 B)\n",
       "</pre>\n"
      ],
      "text/plain": [
       "\u001b[1m Non-trainable params: \u001b[0m\u001b[38;5;34m192\u001b[0m (768.00 B)\n"
      ]
     },
     "metadata": {},
     "output_type": "display_data"
    }
   ],
   "source": [
    "input_shape_for_model = (X_wl_train_reshaped.shape[1], X_wl_train_reshaped.shape[2]) # (1, 10)\n",
    "num_classes = len(unique_classes) # Debería ser 3\n",
    "\n",
    "model_lstm_cnn_wl = build_lstm_cnn_model(\n",
    "    input_shape=input_shape_for_model,\n",
    "    num_classes=num_classes,\n",
    "    lstm_units_1=64, # Se puede ajustar\n",
    "    lstm_units_2=64,\n",
    "    fc_units=32\n",
    ")\n",
    "model_lstm_cnn_wl.compile(\n",
    "    optimizer=tf.keras.optimizers.Adam(learning_rate=0.001),\n",
    "    loss='sparse_categorical_crossentropy', # Usamos sparse porque y_train son enteros (0,1,2)\n",
    "    metrics=['accuracy'] # Podrías añadir tf.keras.metrics.Recall, etc.\n",
    ")\n",
    "model_lstm_cnn_wl.summary()"
   ]
  },
  {
   "cell_type": "markdown",
   "id": "cf1f1ee7",
   "metadata": {},
   "source": [
    "##### Entrenamiento del modelo"
   ]
  },
  {
   "cell_type": "code",
   "execution_count": 371,
   "id": "48bb91c1",
   "metadata": {},
   "outputs": [
    {
     "name": "stdout",
     "output_type": "stream",
     "text": [
      "\n",
      "Entrenando el modelo (generado por skynet)...\n",
      "Epoch 1/10\n",
      "\u001b[1m502/502\u001b[0m \u001b[32m━━━━━━━━━━━━━━━━━━━━\u001b[0m\u001b[37m\u001b[0m \u001b[1m13s\u001b[0m 10ms/step - accuracy: 0.7424 - loss: 0.6359 - val_accuracy: 0.7032 - val_loss: 0.7849\n",
      "Epoch 2/10\n",
      "\u001b[1m502/502\u001b[0m \u001b[32m━━━━━━━━━━━━━━━━━━━━\u001b[0m\u001b[37m\u001b[0m \u001b[1m4s\u001b[0m 8ms/step - accuracy: 0.7957 - loss: 0.5031 - val_accuracy: 0.8134 - val_loss: 0.4814\n",
      "Epoch 3/10\n",
      "\u001b[1m502/502\u001b[0m \u001b[32m━━━━━━━━━━━━━━━━━━━━\u001b[0m\u001b[37m\u001b[0m \u001b[1m4s\u001b[0m 8ms/step - accuracy: 0.8019 - loss: 0.4880 - val_accuracy: 0.8157 - val_loss: 0.4697\n",
      "Epoch 4/10\n",
      "\u001b[1m502/502\u001b[0m \u001b[32m━━━━━━━━━━━━━━━━━━━━\u001b[0m\u001b[37m\u001b[0m \u001b[1m4s\u001b[0m 8ms/step - accuracy: 0.8109 - loss: 0.4697 - val_accuracy: 0.8226 - val_loss: 0.4445\n",
      "Epoch 5/10\n",
      "\u001b[1m502/502\u001b[0m \u001b[32m━━━━━━━━━━━━━━━━━━━━\u001b[0m\u001b[37m\u001b[0m \u001b[1m4s\u001b[0m 8ms/step - accuracy: 0.8108 - loss: 0.4600 - val_accuracy: 0.8296 - val_loss: 0.4325\n",
      "Epoch 6/10\n",
      "\u001b[1m502/502\u001b[0m \u001b[32m━━━━━━━━━━━━━━━━━━━━\u001b[0m\u001b[37m\u001b[0m \u001b[1m4s\u001b[0m 8ms/step - accuracy: 0.8242 - loss: 0.4426 - val_accuracy: 0.8229 - val_loss: 0.4421\n",
      "Epoch 7/10\n",
      "\u001b[1m502/502\u001b[0m \u001b[32m━━━━━━━━━━━━━━━━━━━━\u001b[0m\u001b[37m\u001b[0m \u001b[1m4s\u001b[0m 9ms/step - accuracy: 0.8244 - loss: 0.4341 - val_accuracy: 0.8152 - val_loss: 0.4524\n",
      "Epoch 8/10\n",
      "\u001b[1m502/502\u001b[0m \u001b[32m━━━━━━━━━━━━━━━━━━━━\u001b[0m\u001b[37m\u001b[0m \u001b[1m4s\u001b[0m 8ms/step - accuracy: 0.8283 - loss: 0.4238 - val_accuracy: 0.8339 - val_loss: 0.4196\n",
      "Epoch 9/10\n",
      "\u001b[1m502/502\u001b[0m \u001b[32m━━━━━━━━━━━━━━━━━━━━\u001b[0m\u001b[37m\u001b[0m \u001b[1m4s\u001b[0m 8ms/step - accuracy: 0.8369 - loss: 0.4136 - val_accuracy: 0.8386 - val_loss: 0.4110\n",
      "Epoch 10/10\n",
      "\u001b[1m502/502\u001b[0m \u001b[32m━━━━━━━━━━━━━━━━━━━━\u001b[0m\u001b[37m\u001b[0m \u001b[1m4s\u001b[0m 9ms/step - accuracy: 0.8332 - loss: 0.4210 - val_accuracy: 0.8379 - val_loss: 0.4059\n",
      "Entrenamiento completado.\n"
     ]
    }
   ],
   "source": [
    "print(\"\\nEntrenando el modelo (generado por skynet)...\")\n",
    "# Es buena idea usar un subconjunto para pruebas rápidas\n",
    "epochs = 10 # Para una prueba rápida\n",
    "batch_size = 32\n",
    "history = model_lstm_cnn_wl.fit(\n",
    "                X_wl_train_reshaped, y_train,\n",
    "                validation_data=(X_wl_test_reshaped, y_test),\n",
    "                epochs=epochs,\n",
    "                batch_size=batch_size,\n",
    "                verbose=1\n",
    "        )\n",
    "print(\"Entrenamiento completado.\")"
   ]
  },
  {
   "cell_type": "markdown",
   "id": "65f9ae21",
   "metadata": {},
   "source": [
    "#### 5.2.3. Evaluación del modelo"
   ]
  },
  {
   "cell_type": "markdown",
   "id": "8982d1c0",
   "metadata": {},
   "source": [
    "##### Exactitud"
   ]
  },
  {
   "cell_type": "code",
   "execution_count": 372,
   "id": "ba2948ab",
   "metadata": {},
   "outputs": [
    {
     "name": "stdout",
     "output_type": "stream",
     "text": [
      "\n",
      "Evaluando el modelo...\n",
      "\u001b[1m126/126\u001b[0m \u001b[32m━━━━━━━━━━━━━━━━━━━━\u001b[0m\u001b[37m\u001b[0m \u001b[1m0s\u001b[0m 4ms/step - accuracy: 0.8369 - loss: 0.3964\n",
      "Pérdida en Test: 0.4059\n",
      "Exactitud en Test: 0.8379\n"
     ]
    }
   ],
   "source": [
    "print(\"\\nEvaluando el modelo...\")\n",
    "loss, accuracy = model_lstm_cnn_wl.evaluate(X_wl_test_reshaped, y_test, verbose=1)\n",
    "print(f\"Pérdida en Test: {loss:.4f}\")\n",
    "print(f\"Exactitud en Test: {accuracy:.4f}\")"
   ]
  },
  {
   "cell_type": "markdown",
   "id": "5f4e9bb7",
   "metadata": {},
   "source": [
    "##### Matriz de confusión"
   ]
  },
  {
   "cell_type": "code",
   "execution_count": 373,
   "id": "50f0df5f",
   "metadata": {},
   "outputs": [
    {
     "name": "stdout",
     "output_type": "stream",
     "text": [
      "\u001b[1m126/126\u001b[0m \u001b[32m━━━━━━━━━━━━━━━━━━━━\u001b[0m\u001b[37m\u001b[0m \u001b[1m2s\u001b[0m 9ms/step\n"
     ]
    },
    {
     "data": {
      "image/png": "[encoded data removed]",
      "text/plain": [
       "<Figure size 640x480 with 2 Axes>"
      ]
     },
     "metadata": {},
     "output_type": "display_data"
    }
   ],
   "source": [
    "from sklearn.metrics import confusion_matrix, ConfusionMatrixDisplay\n",
    "\n",
    "# Obtener las predicciones del modelo\n",
    "y_pred = model_lstm_cnn_wl.predict(X_wl_test_reshaped)\n",
    "y_pred_classes = np.argmax(y_pred, axis=1)\n",
    "\n",
    "# Calcular la matriz de confusión\n",
    "cm_wl = confusion_matrix(y_test, y_pred_classes)\n",
    "\n",
    "# Mostrar la matriz de confusión\n",
    "disp = ConfusionMatrixDisplay(confusion_matrix=cm_wl, display_labels=unique_classes)\n",
    "disp.plot(cmap='Blues')\n",
    "plt.title(\"Matriz de Confusión - CNN+LSTM\")\n",
    "plt.show()"
   ]
  },
  {
   "cell_type": "markdown",
   "id": "b99042a6",
   "metadata": {},
   "source": [
    "##### Reporte de desempeño"
   ]
  },
  {
   "cell_type": "code",
   "execution_count": 374,
   "id": "61ed87d0",
   "metadata": {},
   "outputs": [
    {
     "name": "stdout",
     "output_type": "stream",
     "text": [
      "              precision    recall  f1-score   support\n",
      "\n",
      "         0.0       0.89      0.90      0.90      1962\n",
      "         1.0       0.81      0.72      0.76       885\n",
      "         2.0       0.77      0.83      0.80      1162\n",
      "\n",
      "    accuracy                           0.84      4009\n",
      "   macro avg       0.82      0.81      0.82      4009\n",
      "weighted avg       0.84      0.84      0.84      4009\n",
      "\n"
     ]
    }
   ],
   "source": [
    "# Calcular precision, recall, f1-score y support\n",
    "report = classification_report(y_test, y_pred_classes, target_names=[str(cls) for cls in unique_classes])\n",
    "print(report)\n"
   ]
  },
  {
   "cell_type": "markdown",
   "id": "98c40362",
   "metadata": {},
   "source": [
    "##### Curva ROC"
   ]
  },
  {
   "cell_type": "code",
   "execution_count": 375,
   "id": "ff577225",
   "metadata": {},
   "outputs": [
    {
     "data": {
      "image/png": "[encoded data removed]",
      "text/plain": [
       "<Figure size 800x600 with 1 Axes>"
      ]
     },
     "metadata": {},
     "output_type": "display_data"
    }
   ],
   "source": [
    "# Binarizar las etiquetas para ROC multicategoría\n",
    "y_test_bin = label_binarize(y_test, classes=unique_classes)\n",
    "# y_pred ya es la probabilidad de cada clase (salida softmax)\n",
    "\n",
    "fpr = dict()\n",
    "tpr = dict()\n",
    "roc_auc = dict()\n",
    "for i in range(num_classes):\n",
    "    fpr[i], tpr[i], _ = roc_curve(y_test_bin[:, i], y_pred[:, i])\n",
    "    roc_auc[i] = auc(fpr[i], tpr[i])\n",
    "\n",
    "# Plot ROC curve for each class\n",
    "plt.figure(figsize=(8, 6))\n",
    "colors = ['blue', 'red', 'green']\n",
    "for i, color in zip(range(num_classes), colors):\n",
    "    plt.plot(fpr[i], tpr[i], color=color, lw=2,\n",
    "             label=f'Clase {unique_classes[i]} (AUC = {roc_auc[i]:.2f})')\n",
    "\n",
    "plt.plot([0, 1], [0, 1], 'k--', lw=2)\n",
    "plt.xlim([0.0, 1.0])\n",
    "plt.ylim([0.0, 1.05])\n",
    "plt.xlabel('Tasa de Falsos Positivos')\n",
    "plt.ylabel('Tasa de Verdaderos Positivos')\n",
    "plt.title('Curva ROC Multiclase')\n",
    "plt.legend(loc=\"lower right\")\n",
    "plt.grid()\n",
    "plt.show()\n",
    "\n"
   ]
  },
  {
   "cell_type": "code",
   "execution_count": 376,
   "id": "0f2ba527",
   "metadata": {},
   "outputs": [
    {
     "name": "stdout",
     "output_type": "stream",
     "text": [
      "Modelo guardado en: ./local/models/classification/model_lstm_cnn_wl.keras\n"
     ]
    }
   ],
   "source": [
    "# Guardar el modelo entrenado en formato HDF5\n",
    "model_path = f\"{CLASSIFICARION_MODELS_DIR}/model_lstm_cnn_wl.keras\"\n",
    "model_lstm_cnn_wl.save(model_path)\n",
    "print(f\"Modelo guardado en: {model_path}\")"
   ]
  },
  {
   "cell_type": "markdown",
   "id": "af93ba8e",
   "metadata": {},
   "source": [
    "### 5.3. CNN + IAV"
   ]
  },
  {
   "cell_type": "markdown",
   "id": "4bfbc21e",
   "metadata": {},
   "source": [
    "#### 5.3.1. Preparación de los datos"
   ]
  },
  {
   "cell_type": "code",
   "execution_count": 377,
   "id": "f379c78d",
   "metadata": {},
   "outputs": [
    {
     "name": "stdout",
     "output_type": "stream",
     "text": [
      "Dimensiones de X (entradas): (20043, 10)\n",
      "Dimensiones de y (salida): (20043,)\n",
      "Datos recargados y procesados.\n"
     ]
    }
   ],
   "source": [
    "# Separar las entradas (features) y la salida (target)\n",
    "X_iav = df_iav_imbalanced.drop(columns=['restimulus_cat'])  # Entradas\n",
    "y_original = df_iav_imbalanced['restimulus_cat']  # Salida\n",
    "\n",
    "# Mostrar las dimensiones de las entradas y la salida\n",
    "print(f\"Dimensiones de X (entradas): {X_iav.shape}\")\n",
    "print(f\"Dimensiones de y (salida): {y_original.shape}\")\n",
    "\n",
    "# Mapeo de etiquetas a 0, 1, 2\n",
    "label_mapping = {0.0: 0, 1.0: 1, 23.0: 2}\n",
    "y = y_original.map(label_mapping)\n",
    "\n",
    "# Dividir los datos en conjuntos de entrenamiento y prueba\n",
    "X_iav_train, X_iav_test, y_train, y_test = train_test_split(X_iav, y, test_size=0.2, random_state=42, stratify=y)\n",
    "\n",
    "# Escalar los datos\n",
    "scaler = StandardScaler()\n",
    "X_iav_train_scaled = scaler.fit_transform(X_iav_train)\n",
    "X_iav_test_scaled = scaler.transform(X_iav_test)\n",
    "print(\"Datos recargados y procesados.\")"
   ]
  },
  {
   "cell_type": "code",
   "execution_count": 378,
   "id": "2de32714",
   "metadata": {},
   "outputs": [
    {
     "name": "stdout",
     "output_type": "stream",
     "text": [
      "Forma original de X_iav_train_scaled: (16034, 10)\n",
      "Nueva forma de X_iav_train_reshaped para LSTM: (16034, 1, 10)\n"
     ]
    }
   ],
   "source": [
    "# Redimensionar los datos para LSTM\n",
    "X_iav_train_reshaped = X_iav_train_scaled.reshape((X_iav_train_scaled.shape[0], 1, X_iav_train_scaled.shape[1]))\n",
    "X_iav_test_reshaped = X_iav_test_scaled.reshape((X_iav_test_scaled.shape[0], 1, X_iav_test_scaled.shape[1]))\n",
    "print(f\"Forma original de X_iav_train_scaled: {X_iav_train_scaled.shape}\")\n",
    "print(f\"Nueva forma de X_iav_train_reshaped para LSTM: {X_iav_train_reshaped.shape}\")"
   ]
  },
  {
   "cell_type": "code",
   "execution_count": 379,
   "id": "d4a4da90",
   "metadata": {},
   "outputs": [
    {
     "name": "stdout",
     "output_type": "stream",
     "text": [
      "Clases únicas para class_weight: [0. 1. 2.]\n"
     ]
    }
   ],
   "source": [
    "unique_classes = np.unique(y_train)\n",
    "print(f\"Clases únicas para class_weight: {unique_classes}\")"
   ]
  },
  {
   "cell_type": "markdown",
   "id": "b9d556ea",
   "metadata": {},
   "source": [
    "#### 5.3.2. Entrenamiento del modelo"
   ]
  },
  {
   "cell_type": "markdown",
   "id": "ea35e163",
   "metadata": {},
   "source": [
    "##### Creación del modelo"
   ]
  },
  {
   "cell_type": "code",
   "execution_count": 380,
   "id": "8d5fdad3",
   "metadata": {},
   "outputs": [
    {
     "data": {
      "text/html": [
       "<pre style=\"white-space:pre;overflow-x:auto;line-height:normal;font-family:Menlo,'DejaVu Sans Mono',consolas,'Courier New',monospace\"><span style=\"font-weight: bold\">Model: \"SequentialSignalClassifier_Adapted\"</span>\n",
       "</pre>\n"
      ],
      "text/plain": [
       "\u001b[1mModel: \"SequentialSignalClassifier_Adapted\"\u001b[0m\n"
      ]
     },
     "metadata": {},
     "output_type": "display_data"
    },
    {
     "data": {
      "text/html": [
       "<pre style=\"white-space:pre;overflow-x:auto;line-height:normal;font-family:Menlo,'DejaVu Sans Mono',consolas,'Courier New',monospace\">┏━━━━━━━━━━━━━━━━━━━━━━━━━━━━━━━━━┳━━━━━━━━━━━━━━━━━━━━━━━━┳━━━━━━━━━━━━━━━┓\n",
       "┃<span style=\"font-weight: bold\"> Layer (type)                    </span>┃<span style=\"font-weight: bold\"> Output Shape           </span>┃<span style=\"font-weight: bold\">       Param # </span>┃\n",
       "┡━━━━━━━━━━━━━━━━━━━━━━━━━━━━━━━━━╇━━━━━━━━━━━━━━━━━━━━━━━━╇━━━━━━━━━━━━━━━┩\n",
       "│ input_signals (<span style=\"color: #0087ff; text-decoration-color: #0087ff\">InputLayer</span>)      │ (<span style=\"color: #00d7ff; text-decoration-color: #00d7ff\">None</span>, <span style=\"color: #00af00; text-decoration-color: #00af00\">1</span>, <span style=\"color: #00af00; text-decoration-color: #00af00\">10</span>)          │             <span style=\"color: #00af00; text-decoration-color: #00af00\">0</span> │\n",
       "├─────────────────────────────────┼────────────────────────┼───────────────┤\n",
       "│ lstm_1 (<span style=\"color: #0087ff; text-decoration-color: #0087ff\">LSTM</span>)                   │ (<span style=\"color: #00d7ff; text-decoration-color: #00d7ff\">None</span>, <span style=\"color: #00af00; text-decoration-color: #00af00\">1</span>, <span style=\"color: #00af00; text-decoration-color: #00af00\">64</span>)          │        <span style=\"color: #00af00; text-decoration-color: #00af00\">19,200</span> │\n",
       "├─────────────────────────────────┼────────────────────────┼───────────────┤\n",
       "│ lstm_2 (<span style=\"color: #0087ff; text-decoration-color: #0087ff\">LSTM</span>)                   │ (<span style=\"color: #00d7ff; text-decoration-color: #00d7ff\">None</span>, <span style=\"color: #00af00; text-decoration-color: #00af00\">1</span>, <span style=\"color: #00af00; text-decoration-color: #00af00\">64</span>)          │        <span style=\"color: #00af00; text-decoration-color: #00af00\">33,024</span> │\n",
       "├─────────────────────────────────┼────────────────────────┼───────────────┤\n",
       "│ conv1d_1 (<span style=\"color: #0087ff; text-decoration-color: #0087ff\">Conv1D</span>)               │ (<span style=\"color: #00d7ff; text-decoration-color: #00d7ff\">None</span>, <span style=\"color: #00af00; text-decoration-color: #00af00\">1</span>, <span style=\"color: #00af00; text-decoration-color: #00af00\">64</span>)          │        <span style=\"color: #00af00; text-decoration-color: #00af00\">12,352</span> │\n",
       "├─────────────────────────────────┼────────────────────────┼───────────────┤\n",
       "│ batchnorm_1                     │ (<span style=\"color: #00d7ff; text-decoration-color: #00d7ff\">None</span>, <span style=\"color: #00af00; text-decoration-color: #00af00\">1</span>, <span style=\"color: #00af00; text-decoration-color: #00af00\">64</span>)          │           <span style=\"color: #00af00; text-decoration-color: #00af00\">256</span> │\n",
       "│ (<span style=\"color: #0087ff; text-decoration-color: #0087ff\">BatchNormalization</span>)            │                        │               │\n",
       "├─────────────────────────────────┼────────────────────────┼───────────────┤\n",
       "│ prelu_1 (<span style=\"color: #0087ff; text-decoration-color: #0087ff\">PReLU</span>)                 │ (<span style=\"color: #00d7ff; text-decoration-color: #00d7ff\">None</span>, <span style=\"color: #00af00; text-decoration-color: #00af00\">1</span>, <span style=\"color: #00af00; text-decoration-color: #00af00\">64</span>)          │            <span style=\"color: #00af00; text-decoration-color: #00af00\">64</span> │\n",
       "├─────────────────────────────────┼────────────────────────┼───────────────┤\n",
       "│ dropout_1 (<span style=\"color: #0087ff; text-decoration-color: #0087ff\">Dropout</span>)             │ (<span style=\"color: #00d7ff; text-decoration-color: #00d7ff\">None</span>, <span style=\"color: #00af00; text-decoration-color: #00af00\">1</span>, <span style=\"color: #00af00; text-decoration-color: #00af00\">64</span>)          │             <span style=\"color: #00af00; text-decoration-color: #00af00\">0</span> │\n",
       "├─────────────────────────────────┼────────────────────────┼───────────────┤\n",
       "│ conv1d_2 (<span style=\"color: #0087ff; text-decoration-color: #0087ff\">Conv1D</span>)               │ (<span style=\"color: #00d7ff; text-decoration-color: #00d7ff\">None</span>, <span style=\"color: #00af00; text-decoration-color: #00af00\">1</span>, <span style=\"color: #00af00; text-decoration-color: #00af00\">32</span>)          │         <span style=\"color: #00af00; text-decoration-color: #00af00\">6,176</span> │\n",
       "├─────────────────────────────────┼────────────────────────┼───────────────┤\n",
       "│ batchnorm_2                     │ (<span style=\"color: #00d7ff; text-decoration-color: #00d7ff\">None</span>, <span style=\"color: #00af00; text-decoration-color: #00af00\">1</span>, <span style=\"color: #00af00; text-decoration-color: #00af00\">32</span>)          │           <span style=\"color: #00af00; text-decoration-color: #00af00\">128</span> │\n",
       "│ (<span style=\"color: #0087ff; text-decoration-color: #0087ff\">BatchNormalization</span>)            │                        │               │\n",
       "├─────────────────────────────────┼────────────────────────┼───────────────┤\n",
       "│ prelu_2 (<span style=\"color: #0087ff; text-decoration-color: #0087ff\">PReLU</span>)                 │ (<span style=\"color: #00d7ff; text-decoration-color: #00d7ff\">None</span>, <span style=\"color: #00af00; text-decoration-color: #00af00\">1</span>, <span style=\"color: #00af00; text-decoration-color: #00af00\">32</span>)          │            <span style=\"color: #00af00; text-decoration-color: #00af00\">32</span> │\n",
       "├─────────────────────────────────┼────────────────────────┼───────────────┤\n",
       "│ global_avg_pooling              │ (<span style=\"color: #00d7ff; text-decoration-color: #00d7ff\">None</span>, <span style=\"color: #00af00; text-decoration-color: #00af00\">32</span>)             │             <span style=\"color: #00af00; text-decoration-color: #00af00\">0</span> │\n",
       "│ (<span style=\"color: #0087ff; text-decoration-color: #0087ff\">GlobalAveragePooling1D</span>)        │                        │               │\n",
       "├─────────────────────────────────┼────────────────────────┼───────────────┤\n",
       "│ fully_connected_dense (<span style=\"color: #0087ff; text-decoration-color: #0087ff\">Dense</span>)   │ (<span style=\"color: #00d7ff; text-decoration-color: #00d7ff\">None</span>, <span style=\"color: #00af00; text-decoration-color: #00af00\">32</span>)             │         <span style=\"color: #00af00; text-decoration-color: #00af00\">1,056</span> │\n",
       "├─────────────────────────────────┼────────────────────────┼───────────────┤\n",
       "│ prelu_fc (<span style=\"color: #0087ff; text-decoration-color: #0087ff\">PReLU</span>)                │ (<span style=\"color: #00d7ff; text-decoration-color: #00d7ff\">None</span>, <span style=\"color: #00af00; text-decoration-color: #00af00\">32</span>)             │            <span style=\"color: #00af00; text-decoration-color: #00af00\">32</span> │\n",
       "├─────────────────────────────────┼────────────────────────┼───────────────┤\n",
       "│ output_softmax (<span style=\"color: #0087ff; text-decoration-color: #0087ff\">Dense</span>)          │ (<span style=\"color: #00d7ff; text-decoration-color: #00d7ff\">None</span>, <span style=\"color: #00af00; text-decoration-color: #00af00\">3</span>)              │            <span style=\"color: #00af00; text-decoration-color: #00af00\">99</span> │\n",
       "└─────────────────────────────────┴────────────────────────┴───────────────┘\n",
       "</pre>\n"
      ],
      "text/plain": [
       "┏━━━━━━━━━━━━━━━━━━━━━━━━━━━━━━━━━┳━━━━━━━━━━━━━━━━━━━━━━━━┳━━━━━━━━━━━━━━━┓\n",
       "┃\u001b[1m \u001b[0m\u001b[1mLayer (type)                   \u001b[0m\u001b[1m \u001b[0m┃\u001b[1m \u001b[0m\u001b[1mOutput Shape          \u001b[0m\u001b[1m \u001b[0m┃\u001b[1m \u001b[0m\u001b[1m      Param #\u001b[0m\u001b[1m \u001b[0m┃\n",
       "┡━━━━━━━━━━━━━━━━━━━━━━━━━━━━━━━━━╇━━━━━━━━━━━━━━━━━━━━━━━━╇━━━━━━━━━━━━━━━┩\n",
       "│ input_signals (\u001b[38;5;33mInputLayer\u001b[0m)      │ (\u001b[38;5;45mNone\u001b[0m, \u001b[38;5;34m1\u001b[0m, \u001b[38;5;34m10\u001b[0m)          │             \u001b[38;5;34m0\u001b[0m │\n",
       "├─────────────────────────────────┼────────────────────────┼───────────────┤\n",
       "│ lstm_1 (\u001b[38;5;33mLSTM\u001b[0m)                   │ (\u001b[38;5;45mNone\u001b[0m, \u001b[38;5;34m1\u001b[0m, \u001b[38;5;34m64\u001b[0m)          │        \u001b[38;5;34m19,200\u001b[0m │\n",
       "├─────────────────────────────────┼────────────────────────┼───────────────┤\n",
       "│ lstm_2 (\u001b[38;5;33mLSTM\u001b[0m)                   │ (\u001b[38;5;45mNone\u001b[0m, \u001b[38;5;34m1\u001b[0m, \u001b[38;5;34m64\u001b[0m)          │        \u001b[38;5;34m33,024\u001b[0m │\n",
       "├─────────────────────────────────┼────────────────────────┼───────────────┤\n",
       "│ conv1d_1 (\u001b[38;5;33mConv1D\u001b[0m)               │ (\u001b[38;5;45mNone\u001b[0m, \u001b[38;5;34m1\u001b[0m, \u001b[38;5;34m64\u001b[0m)          │        \u001b[38;5;34m12,352\u001b[0m │\n",
       "├─────────────────────────────────┼────────────────────────┼───────────────┤\n",
       "│ batchnorm_1                     │ (\u001b[38;5;45mNone\u001b[0m, \u001b[38;5;34m1\u001b[0m, \u001b[38;5;34m64\u001b[0m)          │           \u001b[38;5;34m256\u001b[0m │\n",
       "│ (\u001b[38;5;33mBatchNormalization\u001b[0m)            │                        │               │\n",
       "├─────────────────────────────────┼────────────────────────┼───────────────┤\n",
       "│ prelu_1 (\u001b[38;5;33mPReLU\u001b[0m)                 │ (\u001b[38;5;45mNone\u001b[0m, \u001b[38;5;34m1\u001b[0m, \u001b[38;5;34m64\u001b[0m)          │            \u001b[38;5;34m64\u001b[0m │\n",
       "├─────────────────────────────────┼────────────────────────┼───────────────┤\n",
       "│ dropout_1 (\u001b[38;5;33mDropout\u001b[0m)             │ (\u001b[38;5;45mNone\u001b[0m, \u001b[38;5;34m1\u001b[0m, \u001b[38;5;34m64\u001b[0m)          │             \u001b[38;5;34m0\u001b[0m │\n",
       "├─────────────────────────────────┼────────────────────────┼───────────────┤\n",
       "│ conv1d_2 (\u001b[38;5;33mConv1D\u001b[0m)               │ (\u001b[38;5;45mNone\u001b[0m, \u001b[38;5;34m1\u001b[0m, \u001b[38;5;34m32\u001b[0m)          │         \u001b[38;5;34m6,176\u001b[0m │\n",
       "├─────────────────────────────────┼────────────────────────┼───────────────┤\n",
       "│ batchnorm_2                     │ (\u001b[38;5;45mNone\u001b[0m, \u001b[38;5;34m1\u001b[0m, \u001b[38;5;34m32\u001b[0m)          │           \u001b[38;5;34m128\u001b[0m │\n",
       "│ (\u001b[38;5;33mBatchNormalization\u001b[0m)            │                        │               │\n",
       "├─────────────────────────────────┼────────────────────────┼───────────────┤\n",
       "│ prelu_2 (\u001b[38;5;33mPReLU\u001b[0m)                 │ (\u001b[38;5;45mNone\u001b[0m, \u001b[38;5;34m1\u001b[0m, \u001b[38;5;34m32\u001b[0m)          │            \u001b[38;5;34m32\u001b[0m │\n",
       "├─────────────────────────────────┼────────────────────────┼───────────────┤\n",
       "│ global_avg_pooling              │ (\u001b[38;5;45mNone\u001b[0m, \u001b[38;5;34m32\u001b[0m)             │             \u001b[38;5;34m0\u001b[0m │\n",
       "│ (\u001b[38;5;33mGlobalAveragePooling1D\u001b[0m)        │                        │               │\n",
       "├─────────────────────────────────┼────────────────────────┼───────────────┤\n",
       "│ fully_connected_dense (\u001b[38;5;33mDense\u001b[0m)   │ (\u001b[38;5;45mNone\u001b[0m, \u001b[38;5;34m32\u001b[0m)             │         \u001b[38;5;34m1,056\u001b[0m │\n",
       "├─────────────────────────────────┼────────────────────────┼───────────────┤\n",
       "│ prelu_fc (\u001b[38;5;33mPReLU\u001b[0m)                │ (\u001b[38;5;45mNone\u001b[0m, \u001b[38;5;34m32\u001b[0m)             │            \u001b[38;5;34m32\u001b[0m │\n",
       "├─────────────────────────────────┼────────────────────────┼───────────────┤\n",
       "│ output_softmax (\u001b[38;5;33mDense\u001b[0m)          │ (\u001b[38;5;45mNone\u001b[0m, \u001b[38;5;34m3\u001b[0m)              │            \u001b[38;5;34m99\u001b[0m │\n",
       "└─────────────────────────────────┴────────────────────────┴───────────────┘\n"
      ]
     },
     "metadata": {},
     "output_type": "display_data"
    },
    {
     "data": {
      "text/html": [
       "<pre style=\"white-space:pre;overflow-x:auto;line-height:normal;font-family:Menlo,'DejaVu Sans Mono',consolas,'Courier New',monospace\"><span style=\"font-weight: bold\"> Total params: </span><span style=\"color: #00af00; text-decoration-color: #00af00\">72,419</span> (282.89 KB)\n",
       "</pre>\n"
      ],
      "text/plain": [
       "\u001b[1m Total params: \u001b[0m\u001b[38;5;34m72,419\u001b[0m (282.89 KB)\n"
      ]
     },
     "metadata": {},
     "output_type": "display_data"
    },
    {
     "data": {
      "text/html": [
       "<pre style=\"white-space:pre;overflow-x:auto;line-height:normal;font-family:Menlo,'DejaVu Sans Mono',consolas,'Courier New',monospace\"><span style=\"font-weight: bold\"> Trainable params: </span><span style=\"color: #00af00; text-decoration-color: #00af00\">72,227</span> (282.14 KB)\n",
       "</pre>\n"
      ],
      "text/plain": [
       "\u001b[1m Trainable params: \u001b[0m\u001b[38;5;34m72,227\u001b[0m (282.14 KB)\n"
      ]
     },
     "metadata": {},
     "output_type": "display_data"
    },
    {
     "data": {
      "text/html": [
       "<pre style=\"white-space:pre;overflow-x:auto;line-height:normal;font-family:Menlo,'DejaVu Sans Mono',consolas,'Courier New',monospace\"><span style=\"font-weight: bold\"> Non-trainable params: </span><span style=\"color: #00af00; text-decoration-color: #00af00\">192</span> (768.00 B)\n",
       "</pre>\n"
      ],
      "text/plain": [
       "\u001b[1m Non-trainable params: \u001b[0m\u001b[38;5;34m192\u001b[0m (768.00 B)\n"
      ]
     },
     "metadata": {},
     "output_type": "display_data"
    }
   ],
   "source": [
    "input_shape_for_model = (X_wl_train_reshaped.shape[1], X_wl_train_reshaped.shape[2]) # (1, 10)\n",
    "num_classes = len(unique_classes) # Debería ser 3\n",
    "\n",
    "model_lstm_cnn_iav = build_lstm_cnn_model(\n",
    "    input_shape=input_shape_for_model,\n",
    "    num_classes=num_classes,\n",
    "    lstm_units_1=64, # Se puede ajustar\n",
    "    lstm_units_2=64,\n",
    "    fc_units=32\n",
    ")\n",
    "model_lstm_cnn_iav.compile(\n",
    "    optimizer=tf.keras.optimizers.Adam(learning_rate=0.001),\n",
    "    loss='sparse_categorical_crossentropy', # Usamos sparse porque y_train son enteros (0,1,2)\n",
    "    metrics=['accuracy'] # Podrías añadir tf.keras.metrics.Recall, etc.\n",
    ")\n",
    "model_lstm_cnn_iav.summary()"
   ]
  },
  {
   "cell_type": "markdown",
   "id": "639bcb64",
   "metadata": {},
   "source": [
    "##### Entrenamiento del modelo"
   ]
  },
  {
   "cell_type": "code",
   "execution_count": 381,
   "id": "072a2024",
   "metadata": {},
   "outputs": [
    {
     "name": "stdout",
     "output_type": "stream",
     "text": [
      "\n",
      "Entrenando el modelo (generado por skynet)...\n",
      "Epoch 1/10\n",
      "\u001b[1m502/502\u001b[0m \u001b[32m━━━━━━━━━━━━━━━━━━━━\u001b[0m\u001b[37m\u001b[0m \u001b[1m15s\u001b[0m 11ms/step - accuracy: 0.8156 - loss: 0.5160 - val_accuracy: 0.8591 - val_loss: 0.4660\n",
      "Epoch 2/10\n",
      "\u001b[1m502/502\u001b[0m \u001b[32m━━━━━━━━━━━━━━━━━━━━\u001b[0m\u001b[37m\u001b[0m \u001b[1m4s\u001b[0m 9ms/step - accuracy: 0.8815 - loss: 0.3425 - val_accuracy: 0.9114 - val_loss: 0.2925\n",
      "Epoch 3/10\n",
      "\u001b[1m502/502\u001b[0m \u001b[32m━━━━━━━━━━━━━━━━━━━━\u001b[0m\u001b[37m\u001b[0m \u001b[1m5s\u001b[0m 9ms/step - accuracy: 0.8912 - loss: 0.3120 - val_accuracy: 0.9167 - val_loss: 0.2465\n",
      "Epoch 4/10\n",
      "\u001b[1m502/502\u001b[0m \u001b[32m━━━━━━━━━━━━━━━━━━━━\u001b[0m\u001b[37m\u001b[0m \u001b[1m5s\u001b[0m 9ms/step - accuracy: 0.9019 - loss: 0.2856 - val_accuracy: 0.9169 - val_loss: 0.2381\n",
      "Epoch 5/10\n",
      "\u001b[1m502/502\u001b[0m \u001b[32m━━━━━━━━━━━━━━━━━━━━\u001b[0m\u001b[37m\u001b[0m \u001b[1m5s\u001b[0m 10ms/step - accuracy: 0.9101 - loss: 0.2692 - val_accuracy: 0.9269 - val_loss: 0.2212\n",
      "Epoch 6/10\n",
      "\u001b[1m502/502\u001b[0m \u001b[32m━━━━━━━━━━━━━━━━━━━━\u001b[0m\u001b[37m\u001b[0m \u001b[1m6s\u001b[0m 11ms/step - accuracy: 0.9103 - loss: 0.2561 - val_accuracy: 0.9244 - val_loss: 0.2253\n",
      "Epoch 7/10\n",
      "\u001b[1m502/502\u001b[0m \u001b[32m━━━━━━━━━━━━━━━━━━━━\u001b[0m\u001b[37m\u001b[0m \u001b[1m5s\u001b[0m 11ms/step - accuracy: 0.9116 - loss: 0.2519 - val_accuracy: 0.9252 - val_loss: 0.2148\n",
      "Epoch 8/10\n",
      "\u001b[1m502/502\u001b[0m \u001b[32m━━━━━━━━━━━━━━━━━━━━\u001b[0m\u001b[37m\u001b[0m \u001b[1m5s\u001b[0m 9ms/step - accuracy: 0.9155 - loss: 0.2432 - val_accuracy: 0.9314 - val_loss: 0.2010\n",
      "Epoch 9/10\n",
      "\u001b[1m502/502\u001b[0m \u001b[32m━━━━━━━━━━━━━━━━━━━━\u001b[0m\u001b[37m\u001b[0m \u001b[1m5s\u001b[0m 9ms/step - accuracy: 0.9217 - loss: 0.2303 - val_accuracy: 0.9304 - val_loss: 0.2076\n",
      "Epoch 10/10\n",
      "\u001b[1m502/502\u001b[0m \u001b[32m━━━━━━━━━━━━━━━━━━━━\u001b[0m\u001b[37m\u001b[0m \u001b[1m5s\u001b[0m 10ms/step - accuracy: 0.9230 - loss: 0.2255 - val_accuracy: 0.9314 - val_loss: 0.2000\n",
      "Entrenamiento completado.\n"
     ]
    }
   ],
   "source": [
    "print(\"\\nEntrenando el modelo (generado por skynet)...\")\n",
    "# Es buena idea usar un subconjunto para pruebas rápidas\n",
    "epochs = 10 # Para una prueba rápida\n",
    "batch_size = 32\n",
    "history = model_lstm_cnn_iav.fit(\n",
    "                X_iav_train_reshaped, y_train,\n",
    "                validation_data=(X_iav_test_reshaped, y_test),\n",
    "                epochs=epochs,\n",
    "                batch_size=batch_size,\n",
    "                verbose=1\n",
    "        )\n",
    "print(\"Entrenamiento completado.\")"
   ]
  },
  {
   "cell_type": "markdown",
   "id": "0ba1b371",
   "metadata": {},
   "source": [
    "#### 5.3.3. Evaluación del modelo"
   ]
  },
  {
   "cell_type": "markdown",
   "id": "54bf202c",
   "metadata": {},
   "source": [
    "##### Exactitud del modelo"
   ]
  },
  {
   "cell_type": "code",
   "execution_count": 382,
   "id": "6fbf13ab",
   "metadata": {},
   "outputs": [
    {
     "name": "stdout",
     "output_type": "stream",
     "text": [
      "\n",
      "Evaluando el modelo...\n",
      "\u001b[1m126/126\u001b[0m \u001b[32m━━━━━━━━━━━━━━━━━━━━\u001b[0m\u001b[37m\u001b[0m \u001b[1m1s\u001b[0m 4ms/step - accuracy: 0.9312 - loss: 0.1976\n",
      "Pérdida en Test: 0.2000\n",
      "Exactitud en Test: 0.9314\n"
     ]
    }
   ],
   "source": [
    "print(\"\\nEvaluando el modelo...\")\n",
    "loss, accuracy = model_lstm_cnn_iav.evaluate(X_iav_test_reshaped, y_test, verbose=1)\n",
    "print(f\"Pérdida en Test: {loss:.4f}\")\n",
    "print(f\"Exactitud en Test: {accuracy:.4f}\")"
   ]
  },
  {
   "cell_type": "markdown",
   "id": "3496932c",
   "metadata": {},
   "source": [
    "##### Matriz de confusión"
   ]
  },
  {
   "cell_type": "code",
   "execution_count": 383,
   "id": "8db65e9c",
   "metadata": {},
   "outputs": [
    {
     "name": "stdout",
     "output_type": "stream",
     "text": [
      "\u001b[1m126/126\u001b[0m \u001b[32m━━━━━━━━━━━━━━━━━━━━\u001b[0m\u001b[37m\u001b[0m \u001b[1m2s\u001b[0m 11ms/step\n"
     ]
    },
    {
     "data": {
      "image/png": "[encoded data removed]",
      "text/plain": [
       "<Figure size 640x480 with 2 Axes>"
      ]
     },
     "metadata": {},
     "output_type": "display_data"
    }
   ],
   "source": [
    "from sklearn.metrics import confusion_matrix, ConfusionMatrixDisplay\n",
    "\n",
    "# Obtener las predicciones del modelo\n",
    "y_pred = model_lstm_cnn_iav.predict(X_iav_test_reshaped)\n",
    "y_pred_classes = np.argmax(y_pred, axis=1)\n",
    "\n",
    "# Calcular la matriz de confusión\n",
    "cm_iav = confusion_matrix(y_test, y_pred_classes)\n",
    "\n",
    "# Mostrar la matriz de confusión\n",
    "disp = ConfusionMatrixDisplay(confusion_matrix=cm_iav, display_labels=unique_classes)\n",
    "disp.plot(cmap='Blues')\n",
    "plt.title(\"Matriz de Confusión - CNN+LSTM\")\n",
    "plt.show()"
   ]
  },
  {
   "cell_type": "markdown",
   "id": "996b31c7",
   "metadata": {},
   "source": [
    "##### Reporte de desempeño"
   ]
  },
  {
   "cell_type": "code",
   "execution_count": 384,
   "id": "31245ddc",
   "metadata": {},
   "outputs": [
    {
     "name": "stdout",
     "output_type": "stream",
     "text": [
      "              precision    recall  f1-score   support\n",
      "\n",
      "         0.0       0.94      0.97      0.95      1962\n",
      "         1.0       0.94      0.82      0.87       885\n",
      "         2.0       0.92      0.96      0.94      1162\n",
      "\n",
      "    accuracy                           0.93      4009\n",
      "   macro avg       0.93      0.91      0.92      4009\n",
      "weighted avg       0.93      0.93      0.93      4009\n",
      "\n"
     ]
    }
   ],
   "source": [
    "# Calcular precision, recall, f1-score y support\n",
    "report = classification_report(y_test, y_pred_classes, target_names=[str(cls) for cls in unique_classes])\n",
    "print(report)"
   ]
  },
  {
   "cell_type": "markdown",
   "id": "73f4c87d",
   "metadata": {},
   "source": [
    "##### Curva ROC"
   ]
  },
  {
   "cell_type": "code",
   "execution_count": 385,
   "id": "7392bd92",
   "metadata": {},
   "outputs": [
    {
     "data": {
      "image/png": "[encoded data removed]",
      "text/plain": [
       "<Figure size 800x600 with 1 Axes>"
      ]
     },
     "metadata": {},
     "output_type": "display_data"
    }
   ],
   "source": [
    "# Binarizar las etiquetas para ROC multicategoría\n",
    "y_test_bin = label_binarize(y_test, classes=unique_classes)\n",
    "# y_pred ya es la probabilidad de cada clase (salida softmax)\n",
    "\n",
    "fpr = dict()\n",
    "tpr = dict()\n",
    "roc_auc = dict()\n",
    "for i in range(num_classes):\n",
    "    fpr[i], tpr[i], _ = roc_curve(y_test_bin[:, i], y_pred[:, i])\n",
    "    roc_auc[i] = auc(fpr[i], tpr[i])\n",
    "\n",
    "# Plot ROC curve for each class\n",
    "plt.figure(figsize=(8, 6))\n",
    "colors = ['blue', 'red', 'green']\n",
    "for i, color in zip(range(num_classes), colors):\n",
    "    plt.plot(fpr[i], tpr[i], color=color, lw=2,\n",
    "             label=f'Clase {unique_classes[i]} (AUC = {roc_auc[i]:.2f})')\n",
    "\n",
    "plt.plot([0, 1], [0, 1], 'k--', lw=2)\n",
    "plt.xlim([0.0, 1.0])\n",
    "plt.ylim([0.0, 1.05])\n",
    "plt.xlabel('Tasa de Falsos Positivos')\n",
    "plt.ylabel('Tasa de Verdaderos Positivos')\n",
    "plt.title('Curva ROC Multiclase')\n",
    "plt.legend(loc=\"lower right\")\n",
    "plt.grid()\n",
    "plt.show()"
   ]
  },
  {
   "cell_type": "code",
   "execution_count": 386,
   "id": "2c9c3d9c",
   "metadata": {},
   "outputs": [
    {
     "name": "stdout",
     "output_type": "stream",
     "text": [
      "Modelo guardado en: ./local/models/classification/model_lstm_cnn_iav.keras\n"
     ]
    }
   ],
   "source": [
    "# Guardar el modelo entrenado en formato HDF5\n",
    "model_path = f\"{CLASSIFICARION_MODELS_DIR}/model_lstm_cnn_iav.keras\"\n",
    "model_lstm_cnn_iav.save(model_path)\n",
    "print(f\"Modelo guardado en: {model_path}\")"
   ]
  }
 ],
 "metadata": {
  "kernelspec": {
   "display_name": "base",
   "language": "python",
   "name": "python3"
  },
  "language_info": {
   "codemirror_mode": {
    "name": "ipython",
    "version": 3
   },
   "file_extension": ".py",
   "mimetype": "text/x-python",
   "name": "python",
   "nbconvert_exporter": "python",
   "pygments_lexer": "ipython3",
   "version": "3.12.7"
  }
 },
 "nbformat": 4,
 "nbformat_minor": 5
}
